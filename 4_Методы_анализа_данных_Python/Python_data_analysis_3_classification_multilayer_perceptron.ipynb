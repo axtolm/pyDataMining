{
 "cells": [
  {
   "cell_type": "markdown",
   "metadata": {},
   "source": [
    "#### @author: Александр Владимирович Толмачев | axtolm@gmail.com\n",
    "<hr>"
   ]
  },
  {
   "cell_type": "markdown",
   "metadata": {},
   "source": [
    "## 4. Методы анализа данных на Python"
   ]
  },
  {
   "cell_type": "markdown",
   "metadata": {},
   "source": [
    "## Часть 3. Классификация с помощью многослойного персептрона"
   ]
  },
  {
   "cell_type": "markdown",
   "metadata": {},
   "source": [
    "### На этом занятии мы планируем научиться:\n",
    "- Готовить исходные данные для анализа с помощью нейронных сетей.\n",
    "- Использовать многослойный персептрон в задаче классификации.\n",
    "- Получать и интерпретировать показатели эффективности моделей классификации."
   ]
  },
  {
   "cell_type": "markdown",
   "metadata": {},
   "source": [
    "### 1. Набор данных для анализа"
   ]
  },
  {
   "cell_type": "markdown",
   "metadata": {},
   "source": [
    "**Для примера возьмем датасет с открытыми экономическими данными для регионов России, включающими:**<br>\n",
    "- индекс производства, \n",
    "- коэффициент рождаемости организаций,\n",
    "- коэффициент официальной ликвидации организаций,\n",
    "- класс региона в зависимости от величины индекса производства (А или В).\n",
    "\n",
    "**Задача - классифицировать регионы к A или B по величине коэффициентов рождаемости и ликвидации организаций.**"
   ]
  },
  {
   "cell_type": "markdown",
   "metadata": {},
   "source": [
    "> Файл с данными в формате xlsx прилагается к материалами лекции.<br> "
   ]
  },
  {
   "cell_type": "markdown",
   "metadata": {},
   "source": [
    "Загрузим данные из xlsx файла в таблицу `pandas.DataFrame`<br> \n",
    "\n",
    "Воспользуемся методом `pandas.read_excel`<br>\n",
    "https://pandas.pydata.org/pandas-docs/stable/reference/api/pandas.read_excel.html\n",
    "<br>Далее ссылки на описание используемых методов будут приведены по ходу лекции.\n",
    "\n",
    "\n",
    "Если файл находится в той же папке, что документ .ipynb, то путь к нему \"С:/DIR/SUBDIR/.../filename.ext\" можно не прописывать.<br> "
   ]
  },
  {
   "cell_type": "code",
   "execution_count": 1,
   "metadata": {},
   "outputs": [],
   "source": [
    "import pandas as pd                            # импорт библиотеки\n",
    "in_file_name = \"dataset_3_kb_kd_prom_index_2021.xlsx\"    # имя файла данных\n",
    "# загрузка данных в таблицы \n",
    "df_in_train = pd.read_excel(in_file_name, sheet_name = \"train_01_06_2021\", header = 0, index_col = 0)    # для обучения\n",
    "df_in_test = pd.read_excel(in_file_name, sheet_name = \"test_07_2021\", header = 0, index_col = 0)         # для тестов"
   ]
  },
  {
   "cell_type": "markdown",
   "metadata": {},
   "source": [
    "Исходные данные сразу разделены на выборки для обучения и тестирования.<br>\n",
    "Выборка для обучения - усредненные за период с января по июнь 2021 года. ВЫборка для тестирования - июль 2021 года.<br>"
   ]
  },
  {
   "cell_type": "markdown",
   "metadata": {},
   "source": [
    "Оценим полученные данные по размеру выборки и первым строкам таблиц"
   ]
  },
  {
   "cell_type": "code",
   "execution_count": 2,
   "metadata": {},
   "outputs": [
    {
     "name": "stdout",
     "output_type": "stream",
     "text": [
      "len(df_in_train) = 85, len(df_in_test) = 85\n"
     ]
    }
   ],
   "source": [
    "# размеры выборки для обучения и тестирования = кол-ву регионов\n",
    "print(\"len(df_in_train) = %s, len(df_in_test) = %s\" % (len(df_in_train),len(df_in_test))) "
   ]
  },
  {
   "cell_type": "code",
   "execution_count": 3,
   "metadata": {},
   "outputs": [
    {
     "data": {
      "text/html": [
       "<div>\n",
       "<style scoped>\n",
       "    .dataframe tbody tr th:only-of-type {\n",
       "        vertical-align: middle;\n",
       "    }\n",
       "\n",
       "    .dataframe tbody tr th {\n",
       "        vertical-align: top;\n",
       "    }\n",
       "\n",
       "    .dataframe thead th {\n",
       "        text-align: right;\n",
       "    }\n",
       "</style>\n",
       "<table border=\"1\" class=\"dataframe\">\n",
       "  <thead>\n",
       "    <tr style=\"text-align: right;\">\n",
       "      <th></th>\n",
       "      <th>kb</th>\n",
       "      <th>kd</th>\n",
       "      <th>prom_index</th>\n",
       "      <th>class</th>\n",
       "    </tr>\n",
       "    <tr>\n",
       "      <th>region</th>\n",
       "      <th></th>\n",
       "      <th></th>\n",
       "      <th></th>\n",
       "      <th></th>\n",
       "    </tr>\n",
       "  </thead>\n",
       "  <tbody>\n",
       "    <tr>\n",
       "      <th>Белгородская область</th>\n",
       "      <td>5.783333</td>\n",
       "      <td>13.983333</td>\n",
       "      <td>101.766667</td>\n",
       "      <td>A</td>\n",
       "    </tr>\n",
       "    <tr>\n",
       "      <th>Брянская область</th>\n",
       "      <td>3.383333</td>\n",
       "      <td>5.316667</td>\n",
       "      <td>102.300000</td>\n",
       "      <td>A</td>\n",
       "    </tr>\n",
       "    <tr>\n",
       "      <th>Владимирская область</th>\n",
       "      <td>3.783333</td>\n",
       "      <td>7.233333</td>\n",
       "      <td>110.616667</td>\n",
       "      <td>A</td>\n",
       "    </tr>\n",
       "  </tbody>\n",
       "</table>\n",
       "</div>"
      ],
      "text/plain": [
       "                            kb         kd  prom_index class\n",
       "region                                                     \n",
       "Белгородская область  5.783333  13.983333  101.766667     A\n",
       "Брянская область      3.383333   5.316667  102.300000     A\n",
       "Владимирская область  3.783333   7.233333  110.616667     A"
      ]
     },
     "execution_count": 3,
     "metadata": {},
     "output_type": "execute_result"
    }
   ],
   "source": [
    "df_in_train.head(3)    # первые три строки таблицы с данными для обучения"
   ]
  },
  {
   "cell_type": "code",
   "execution_count": 4,
   "metadata": {},
   "outputs": [
    {
     "data": {
      "text/html": [
       "<div>\n",
       "<style scoped>\n",
       "    .dataframe tbody tr th:only-of-type {\n",
       "        vertical-align: middle;\n",
       "    }\n",
       "\n",
       "    .dataframe tbody tr th {\n",
       "        vertical-align: top;\n",
       "    }\n",
       "\n",
       "    .dataframe thead th {\n",
       "        text-align: right;\n",
       "    }\n",
       "</style>\n",
       "<table border=\"1\" class=\"dataframe\">\n",
       "  <thead>\n",
       "    <tr style=\"text-align: right;\">\n",
       "      <th></th>\n",
       "      <th>kb</th>\n",
       "      <th>kd</th>\n",
       "      <th>prom_index</th>\n",
       "      <th>class</th>\n",
       "    </tr>\n",
       "    <tr>\n",
       "      <th>region</th>\n",
       "      <th></th>\n",
       "      <th></th>\n",
       "      <th></th>\n",
       "      <th></th>\n",
       "    </tr>\n",
       "  </thead>\n",
       "  <tbody>\n",
       "    <tr>\n",
       "      <th>Белгородская область</th>\n",
       "      <td>4.0</td>\n",
       "      <td>14.7</td>\n",
       "      <td>102.5</td>\n",
       "      <td>A</td>\n",
       "    </tr>\n",
       "    <tr>\n",
       "      <th>Брянская область</th>\n",
       "      <td>2.2</td>\n",
       "      <td>21.2</td>\n",
       "      <td>108.0</td>\n",
       "      <td>A</td>\n",
       "    </tr>\n",
       "    <tr>\n",
       "      <th>Владимирская область</th>\n",
       "      <td>3.6</td>\n",
       "      <td>14.8</td>\n",
       "      <td>109.1</td>\n",
       "      <td>A</td>\n",
       "    </tr>\n",
       "  </tbody>\n",
       "</table>\n",
       "</div>"
      ],
      "text/plain": [
       "                       kb    kd  prom_index class\n",
       "region                                           \n",
       "Белгородская область  4.0  14.7       102.5     A\n",
       "Брянская область      2.2  21.2       108.0     A\n",
       "Владимирская область  3.6  14.8       109.1     A"
      ]
     },
     "execution_count": 4,
     "metadata": {},
     "output_type": "execute_result"
    }
   ],
   "source": [
    "df_in_test.head(3)    # первые три строки таблицы с данными для тестирования"
   ]
  },
  {
   "cell_type": "markdown",
   "metadata": {},
   "source": [
    "**Поля (столбцы) таблиц**<br>\n",
    "- \"region\" - название региона,\n",
    "- \"kb\" - коэффициент рождаемости организаций (на 1000 организаций),\n",
    "- \"kd\" - коэффициент официальной ликвидации организаций (на 1000 организаций),\n",
    "- \"prom_index\" - индекс производства, в % к соответствующему периоду прошлого года (период = месяц),\n",
    "- \"class\" - class = \"A\", если prom_index > 100%; class = \"B\", если prom_index <= 100%. "
   ]
  },
  {
   "cell_type": "markdown",
   "metadata": {},
   "source": [
    "### 2. Подготовка данных для анализа"
   ]
  },
  {
   "cell_type": "markdown",
   "metadata": {},
   "source": [
    "**Сформируем независимую переменную Х из коэффициентов kb и kd**"
   ]
  },
  {
   "cell_type": "code",
   "execution_count": 5,
   "metadata": {},
   "outputs": [],
   "source": [
    "X_train = df_in_train[['kb','kd']]    # для обучения\n",
    "X_test = df_in_test[['kb','kd']]      # для тестов"
   ]
  },
  {
   "cell_type": "code",
   "execution_count": 6,
   "metadata": {},
   "outputs": [
    {
     "data": {
      "text/html": [
       "<div>\n",
       "<style scoped>\n",
       "    .dataframe tbody tr th:only-of-type {\n",
       "        vertical-align: middle;\n",
       "    }\n",
       "\n",
       "    .dataframe tbody tr th {\n",
       "        vertical-align: top;\n",
       "    }\n",
       "\n",
       "    .dataframe thead th {\n",
       "        text-align: right;\n",
       "    }\n",
       "</style>\n",
       "<table border=\"1\" class=\"dataframe\">\n",
       "  <thead>\n",
       "    <tr style=\"text-align: right;\">\n",
       "      <th></th>\n",
       "      <th>kb</th>\n",
       "      <th>kd</th>\n",
       "    </tr>\n",
       "    <tr>\n",
       "      <th>region</th>\n",
       "      <th></th>\n",
       "      <th></th>\n",
       "    </tr>\n",
       "  </thead>\n",
       "  <tbody>\n",
       "    <tr>\n",
       "      <th>Белгородская область</th>\n",
       "      <td>5.783333</td>\n",
       "      <td>13.983333</td>\n",
       "    </tr>\n",
       "    <tr>\n",
       "      <th>Брянская область</th>\n",
       "      <td>3.383333</td>\n",
       "      <td>5.316667</td>\n",
       "    </tr>\n",
       "    <tr>\n",
       "      <th>Владимирская область</th>\n",
       "      <td>3.783333</td>\n",
       "      <td>7.233333</td>\n",
       "    </tr>\n",
       "  </tbody>\n",
       "</table>\n",
       "</div>"
      ],
      "text/plain": [
       "                            kb         kd\n",
       "region                                   \n",
       "Белгородская область  5.783333  13.983333\n",
       "Брянская область      3.383333   5.316667\n",
       "Владимирская область  3.783333   7.233333"
      ]
     },
     "execution_count": 6,
     "metadata": {},
     "output_type": "execute_result"
    }
   ],
   "source": [
    "X_train.head(3)    # выведем первые 3 строки таблицы для обучения"
   ]
  },
  {
   "cell_type": "markdown",
   "metadata": {},
   "source": [
    "**Сформируем зависимую переменную Y из метки class<br>**"
   ]
  },
  {
   "cell_type": "code",
   "execution_count": 7,
   "metadata": {},
   "outputs": [],
   "source": [
    "Y_train = df_in_train[['class']]    # для обучения\n",
    "Y_test = df_in_test[['class']]      # для тестов"
   ]
  },
  {
   "cell_type": "code",
   "execution_count": 8,
   "metadata": {},
   "outputs": [
    {
     "data": {
      "text/html": [
       "<div>\n",
       "<style scoped>\n",
       "    .dataframe tbody tr th:only-of-type {\n",
       "        vertical-align: middle;\n",
       "    }\n",
       "\n",
       "    .dataframe tbody tr th {\n",
       "        vertical-align: top;\n",
       "    }\n",
       "\n",
       "    .dataframe thead th {\n",
       "        text-align: right;\n",
       "    }\n",
       "</style>\n",
       "<table border=\"1\" class=\"dataframe\">\n",
       "  <thead>\n",
       "    <tr style=\"text-align: right;\">\n",
       "      <th></th>\n",
       "      <th>class</th>\n",
       "    </tr>\n",
       "    <tr>\n",
       "      <th>region</th>\n",
       "      <th></th>\n",
       "    </tr>\n",
       "  </thead>\n",
       "  <tbody>\n",
       "    <tr>\n",
       "      <th>Белгородская область</th>\n",
       "      <td>A</td>\n",
       "    </tr>\n",
       "    <tr>\n",
       "      <th>Брянская область</th>\n",
       "      <td>A</td>\n",
       "    </tr>\n",
       "    <tr>\n",
       "      <th>Владимирская область</th>\n",
       "      <td>A</td>\n",
       "    </tr>\n",
       "  </tbody>\n",
       "</table>\n",
       "</div>"
      ],
      "text/plain": [
       "                     class\n",
       "region                    \n",
       "Белгородская область     A\n",
       "Брянская область         A\n",
       "Владимирская область     A"
      ]
     },
     "execution_count": 8,
     "metadata": {},
     "output_type": "execute_result"
    }
   ],
   "source": [
    "Y_train.head(3)    # выведем первые 3 строки таблицы для обучения"
   ]
  },
  {
   "cell_type": "code",
   "execution_count": 9,
   "metadata": {},
   "outputs": [
    {
     "data": {
      "text/plain": [
       "{'A', 'B'}"
      ]
     },
     "execution_count": 9,
     "metadata": {},
     "output_type": "execute_result"
    }
   ],
   "source": [
    "set(Y_train['class'])    # уникальные значения Y"
   ]
  },
  {
   "cell_type": "markdown",
   "metadata": {},
   "source": [
    "**Преобразуем категориальные переменные Y_train и Y_test из строк в числа.**<br>"
   ]
  },
  {
   "cell_type": "markdown",
   "metadata": {},
   "source": [
    "Воспользуемся библиотекой `sklearn` и модулем `preprocessing` из нее:<br>\n",
    "https://scikit-learn.org/stable/modules/preprocessing.html<br>\n",
    "https://scikit-learn.org/stable/modules/generated/sklearn.preprocessing.LabelEncoder.html"
   ]
  },
  {
   "cell_type": "code",
   "execution_count": 10,
   "metadata": {},
   "outputs": [],
   "source": [
    "from sklearn import preprocessing    # импорт модуля из библиотеки\n",
    "lab_encoder = preprocessing.LabelEncoder()    # создадим объект lab_encoder как экземпляр класса preprocessing.LabelEncoder()   \n",
    "Y_train = Y_train.apply(lab_encoder.fit_transform)    # преобразуем категориальные переменные {A,B} в числа {0,1}\n",
    "Y_test = Y_test.apply(lab_encoder.fit_transform)"
   ]
  },
  {
   "cell_type": "code",
   "execution_count": 11,
   "metadata": {},
   "outputs": [
    {
     "data": {
      "text/plain": [
       "{0, 1}"
      ]
     },
     "execution_count": 11,
     "metadata": {},
     "output_type": "execute_result"
    }
   ],
   "source": [
    "set(Y_train['class'])    # новые уникальные значения Y"
   ]
  },
  {
   "cell_type": "markdown",
   "metadata": {},
   "source": [
    "**Стандартизуем (масштабируем) значения X_train и X_test**<br>"
   ]
  },
  {
   "cell_type": "markdown",
   "metadata": {},
   "source": [
    "Воспользуемся библиотекой `sklearn` и классом `StandardScaler` из нее:<br>\n",
    "```python\n",
    "class sklearn.preprocessing.StandardScaler(*, copy=True, with_mean=True, with_std=True)\n",
    "```\n",
    "https://scikit-learn.org/stable/modules/generated/sklearn.preprocessing.StandardScaler.html\n",
    "\n",
    "> Standardize features by removing the mean and scaling to unit variance.<br>\n",
    "> The standard score of a sample x is calculated as: `z = (x - u) / s`<br>\n",
    "> where `u` is the mean of the training samples or zero if `with_mean=False`,<br>\n",
    "> and `s` is the standard deviation of the training samples or one if `with_std=False`."
   ]
  },
  {
   "cell_type": "code",
   "execution_count": 12,
   "metadata": {},
   "outputs": [],
   "source": [
    "from sklearn.preprocessing import StandardScaler    # импорт класса"
   ]
  },
  {
   "cell_type": "code",
   "execution_count": 13,
   "metadata": {},
   "outputs": [],
   "source": [
    "scaler = StandardScaler(with_mean=True, with_std=True)    # создадим объект scaler как экземпляр класса"
   ]
  },
  {
   "cell_type": "code",
   "execution_count": 14,
   "metadata": {},
   "outputs": [],
   "source": [
    "scaler.fit(X_train)    # вычисляем mean и std для масштабирования - X_train\n",
    "X_train = scaler.transform(X_train)    # масштабирование X_train"
   ]
  },
  {
   "cell_type": "code",
   "execution_count": 15,
   "metadata": {},
   "outputs": [],
   "source": [
    "scaler.fit(X_test)    # вычисляем mean и std для масштабирования - X_test\n",
    "X_test = scaler.transform(X_test)    # масштабирование X_test"
   ]
  },
  {
   "cell_type": "markdown",
   "metadata": {},
   "source": [
    "**Визуализируем исходные данные для обучения и оценим перспективы классификации**"
   ]
  },
  {
   "cell_type": "markdown",
   "metadata": {},
   "source": [
    "**Построим диаграмму рассеяния в осях \"kb-kd\", выделив цветом принадлежность к классу А или В**<br>\n",
    "Воспользуемся библиотекой seaborn и методом seaborn.pairplot<br>\n",
    "https://seaborn.pydata.org/generated/seaborn.pairplot.html"
   ]
  },
  {
   "cell_type": "code",
   "execution_count": 16,
   "metadata": {},
   "outputs": [
    {
     "data": {
      "text/plain": [
       "<seaborn.axisgrid.PairGrid at 0x10fd3fee940>"
      ]
     },
     "execution_count": 16,
     "metadata": {},
     "output_type": "execute_result"
    },
    {
     "data": {
      "image/png": "[encoded data removed]",
      "text/plain": [
       "<Figure size 402.875x360 with 6 Axes>"
      ]
     },
     "metadata": {
      "needs_background": "light"
     },
     "output_type": "display_data"
    }
   ],
   "source": [
    "import seaborn as sns\n",
    "sns.pairplot(df_in_train[['kb','kd','class']], hue = 'class')"
   ]
  },
  {
   "cell_type": "markdown",
   "metadata": {},
   "source": [
    "**Какие можем сделать выводы?**<br>\n",
    "Выбранное пространство признаков (рождаемость - ликвидация) **неудачно** для разделения по классам на основе индекса производства.<br> Ожидать выдающихся результатов от нейронной сети в данном случае не стоит.<br>Чем хорош пример? - Тем, что в реальной жизни бывает чаще всего так, а не как в учебных задачах типа ирисов Фишера."
   ]
  },
  {
   "cell_type": "markdown",
   "metadata": {},
   "source": [
    "### 3. Многослойный персептрон и задача классификации экономических данных из выборки"
   ]
  },
  {
   "cell_type": "markdown",
   "metadata": {},
   "source": [
    "Воспользуемся библиотекой:<br>\n",
    "https://scikit-learn.org/stable/modules/generated/sklearn.neural_network.MLPClassifier.html"
   ]
  },
  {
   "cell_type": "code",
   "execution_count": 17,
   "metadata": {},
   "outputs": [],
   "source": [
    "from sklearn.neural_network import MLPClassifier    # импорт класса MLPClassifier"
   ]
  },
  {
   "cell_type": "code",
   "execution_count": 18,
   "metadata": {},
   "outputs": [],
   "source": [
    "mlp = MLPClassifier(hidden_layer_sizes=(50,50), max_iter=10000, random_state = 11)    # создаем объект mlp как экземпляр класса "
   ]
  },
  {
   "cell_type": "markdown",
   "metadata": {},
   "source": [
    "Класс `MLPClassifier` имеет много параметров по умолчанию:<br>  \n",
    "```python\n",
    "class sklearn.neural_network.MLPClassifier(hidden_layer_sizes=(100,), activation='relu', *, solver='adam', alpha=0.0001, batch_size='auto', learning_rate='constant', learning_rate_init=0.001, power_t=0.5, max_iter=200, shuffle=True, random_state=None, tol=0.0001, verbose=False, warm_start=False, momentum=0.9, nesterovs_momentum=True, early_stopping=False, validation_fraction=0.1, beta_1=0.9, beta_2=0.999, epsilon=1e-08, n_iter_no_change=10, max_fun=15000)\n",
    "```\n",
    "Рассмотрим некоторые:\n",
    "- **hidden_layer_sizes**: tuple, length = n_layers - 2, default=(100,) - количество нейронов в скрытых слоях, \n",
    "- **activation** {‘identity’, ‘logistic’, ‘tanh’, ‘relu’} - функция активации для скрытых слоев, default=’relu’ (the rectified linear unit function) f(x) = max(0, x)\n",
    "- **solver** {‘lbfgs’, ‘sgd’, ‘adam’} - метод оптимизации весов, default=’adam’ (a stochastic gradient-based optimizer proposed by Kingma, Diederik, ...)\n",
    "- **max_iter** - максимальное кол-во итераций, default=200\n",
    "- **random_state**: int, RandomState instance - инициализация генератора случайных чисел, default=None"
   ]
  },
  {
   "cell_type": "markdown",
   "metadata": {},
   "source": [
    "Мы изменили при создании модели параметры `hidden_layer_sizes`, `max_iter`, `random_state`"
   ]
  },
  {
   "cell_type": "markdown",
   "metadata": {},
   "source": [
    "**Обучение модели**<br>\n",
    "Х_train был преобразован в numpy array при масштабировании,<br>\n",
    "Y_train пока еще DataFrame - преобразуем его прямо тут с помощью методов `to_numpy()` и `ravel()`:<br>\n",
    "https://pandas.pydata.org/docs/reference/api/pandas.DataFrame.to_numpy.html#pandas.DataFrame.to_numpy\n",
    "https://numpy.org/doc/stable/reference/generated/numpy.ravel.html"
   ]
  },
  {
   "cell_type": "code",
   "execution_count": 19,
   "metadata": {},
   "outputs": [
    {
     "data": {
      "text/plain": [
       "MLPClassifier(hidden_layer_sizes=(50, 50), max_iter=10000, random_state=11)"
      ]
     },
     "execution_count": 19,
     "metadata": {},
     "output_type": "execute_result"
    }
   ],
   "source": [
    "mlp.fit(X_train, Y_train.to_numpy().ravel())    # обучение персептрона"
   ]
  },
  {
   "cell_type": "markdown",
   "metadata": {},
   "source": [
    "Проанализируем, как работает обученная сеть на выборке для обучения. Воспользуемся методом predict."
   ]
  },
  {
   "cell_type": "code",
   "execution_count": 20,
   "metadata": {},
   "outputs": [
    {
     "data": {
      "text/plain": [
       "array([0, 0, 0, 0, 0, 0, 0, 0, 1, 0, 0, 0, 0, 0, 0, 0, 0, 0, 1, 1, 1, 1,\n",
       "       0, 0, 0, 0, 0, 0, 0, 0, 1, 0, 0, 1, 1, 0, 0, 0, 1, 1, 1, 0, 0, 0,\n",
       "       1, 0, 0, 0, 1, 1, 0, 0, 0, 1, 0, 0, 0, 0, 0, 1, 1, 0, 0, 0, 0, 1,\n",
       "       0, 0, 1, 1, 0, 0, 1, 1, 0, 0, 1, 1, 0, 1, 1, 0, 1, 1, 1])"
      ]
     },
     "execution_count": 20,
     "metadata": {},
     "output_type": "execute_result"
    }
   ],
   "source": [
    "Y_pred_train = mlp.predict(X_train)    # получим классификацию с помощью нейросети на выборке для обучения\n",
    "Y_pred_train    # выведем на экран"
   ]
  },
  {
   "cell_type": "markdown",
   "metadata": {},
   "source": [
    "**Как оценить полученный результат?**<br>\n",
    "Воспользуемся библиотекой `sklearn` и модулем `metrics`, с помощью которого выведем **матрицу ошибок** и **отчет о классификации**.<br>\n",
    "https://scikit-learn.org/stable/modules/generated/sklearn.metrics.confusion_matrix.html\n",
    "https://scikit-learn.org/stable/modules/generated/sklearn.metrics.classification_report.html"
   ]
  },
  {
   "cell_type": "code",
   "execution_count": 21,
   "metadata": {},
   "outputs": [
    {
     "name": "stdout",
     "output_type": "stream",
     "text": [
      "[[56  0]\n",
      " [ 0 29]]\n",
      "              precision    recall  f1-score   support\n",
      "\n",
      "           0       1.00      1.00      1.00        56\n",
      "           1       1.00      1.00      1.00        29\n",
      "\n",
      "    accuracy                           1.00        85\n",
      "   macro avg       1.00      1.00      1.00        85\n",
      "weighted avg       1.00      1.00      1.00        85\n",
      "\n"
     ]
    }
   ],
   "source": [
    "from sklearn import metrics    # импорт модуля   \n",
    "print(metrics.confusion_matrix(Y_train.to_numpy().ravel(), Y_pred_train))    # выведем на экран матрицу ошибок\n",
    "print(metrics.classification_report(Y_train.to_numpy().ravel(), Y_pred_train))     # выведем отчет о классификации"
   ]
  },
  {
   "cell_type": "markdown",
   "metadata": {},
   "source": [
    "**Что мы видим? Как интерпретировать отчеты?**<br>    \n",
    "Сначала немного теории, как оценивать результаты классификации<br>    \n",
    "**I. Confusion Matrix (матрица ошибок)**<br>"
   ]
  },
  {
   "cell_type": "markdown",
   "metadata": {},
   "source": [
    "|                 |Y actual = 1       |Y actual = 0       |\n",
    "|-----------------|-------------------|-------------------|  \n",
    "|Y prediction = 1 |True Positive (TP) |False Positive (FP)|  \n",
    "|Y prediction = 0 |False Negative (FN)|True Negative (TN) |  \n",
    "\n",
    "TP — истино-положительное решение,<br>\n",
    "TN — истино-отрицательное решение,<br>\n",
    "FP — ложно-положительное решение (ошибка первого рода),<br>\n",
    "FN — ложно-отрицательное решение (ошибка второго рода).<br>\n",
    "\n",
    "Чем больше значения на главной диагонали - тем лучше работает модель. Наличие элементов на побочной диагонали говорит об ошибках."
   ]
  },
  {
   "cell_type": "markdown",
   "metadata": {},
   "source": [
    "**II. Показатели в metrics.classification_report**<br>   \n",
    "**Accuracy** — доля правильных ответов: **(TP+TN)/(TP+TN+FP+FN)**<br>   \n",
    "**Precision (точность)** — **TP/(TP+FP)** и **TN/(TN+FN)**<br>\n",
    "Эта метрика показывает, насколько мы можем доверять модели, или другими словами, какое у нас количество «ложных срабатываний».<br>Значение метрики равно отношению числа ответов, которые модель считает правильными, и они действительно были правильными (TP) к сумме TP и FP - числа объектов которые модель посчитала правильными, а на самом деле они были неправильные.<br>     \n",
    "**Recall (полнота)** — **TP/(TP+FN)** и **TN/(TN+FP)**<br>\n",
    "Эта метрика показывает насколько модель может в принципе обнаруживать правильные ответы, или другими словами, какое у нас количество «ложных пропусков». Ее численное значение равно отношению ответов, которые модель считает правильными, \n",
    "и они действительно были правильными (TP) к числу всех правильных ответов в выборке (TP+FN).<br>      \n",
    "**f1-score (f-мера)** — это объединеный показатель из precision и recall (гармоническое среднее точности и полноты).<br>     \n",
    "$f_1 = 2\\bullet\\frac{Precision \\bullet Recall}{Precision + Recall}$, если $Precision = 1$ и $Recall = 1$, то $F_1 = 1$<br>     \n",
    "**support** — число найденных объектов в классе.<br>    "
   ]
  },
  {
   "cell_type": "markdown",
   "metadata": {},
   "source": [
    "**macro avg** — усредненное значение показателя без учета весов найденных в классах объектов.<br>     \n",
    "$macro-avg = \\frac{1}{2} \\bullet score_{class-0} + \\frac{1}{2} \\bullet score_{class-1}$<br> "
   ]
  },
  {
   "cell_type": "markdown",
   "metadata": {},
   "source": [
    "**weighted avg** — усредненное значение показателя с учетом весов найденных в классах объектов.<br>     \n",
    "$weighted-avg = weight_{class-0} \\bullet score_{class-0} +  weight_{class-1} \\bullet score_{class-1}$  "
   ]
  },
  {
   "cell_type": "markdown",
   "metadata": {},
   "source": [
    "Для примера вес класса 0 вычисляется так:\n",
    "$weight_{class-0} = \\frac{support_{class-0}}{support_{class-0} + support_{class-1}}$"
   ]
  },
  {
   "cell_type": "markdown",
   "metadata": {},
   "source": [
    "### У нас везде 1.0 - значит ли это, что мы получили идеальный результат?"
   ]
  },
  {
   "cell_type": "markdown",
   "metadata": {},
   "source": [
    "Применим обученную модель к тестовым данным и выведем матрицу ошибок и метрики оценки"
   ]
  },
  {
   "cell_type": "code",
   "execution_count": 22,
   "metadata": {},
   "outputs": [],
   "source": [
    "Y_pred_test = mlp.predict(X_test)    # получим классификацию с помощью нейросети на выборке для тестирования"
   ]
  },
  {
   "cell_type": "code",
   "execution_count": 23,
   "metadata": {},
   "outputs": [
    {
     "name": "stdout",
     "output_type": "stream",
     "text": [
      "[[42 25]\n",
      " [11  7]]\n",
      "              precision    recall  f1-score   support\n",
      "\n",
      "           0       0.79      0.63      0.70        67\n",
      "           1       0.22      0.39      0.28        18\n",
      "\n",
      "    accuracy                           0.58        85\n",
      "   macro avg       0.51      0.51      0.49        85\n",
      "weighted avg       0.67      0.58      0.61        85\n",
      "\n"
     ]
    }
   ],
   "source": [
    "print(metrics.confusion_matrix(Y_test.values.ravel(), Y_pred_test))    # выведем на экран матрицу ошибок\n",
    "print(metrics.classification_report(Y_test.values.ravel(), Y_pred_test))     # выведем отчет о классификации "
   ]
  },
  {
   "cell_type": "markdown",
   "metadata": {},
   "source": [
    "confusion_matrix показывает матрицу в отличном от вида выше в теории:<br>\n",
    ">TN FP<br>\n",
    ">FN TP<br>\n",
    "\n",
    "precision(class 0) = TN/(TN+FN) = 42/(42+11) = 0.79<br>\n",
    "recall(class 0) = TN/(TN+FP) = 42/(42+25) = 0.63<br>"
   ]
  },
  {
   "cell_type": "markdown",
   "metadata": {},
   "source": [
    "### На тестовой выборке результаты далеко не идеальны. Что произошло?"
   ]
  },
  {
   "cell_type": "markdown",
   "metadata": {},
   "source": [
    "### Overfitting или переобученность сети! "
   ]
  },
  {
   "cell_type": "markdown",
   "metadata": {},
   "source": [
    "Сеть с 2-мя входами и 2-мя скрытыми слоями по 50 нейронов в каждом научилась определять все элементы обучающей выборки (а их немного - 85), но сбоит на тестовой, т.к. в этом пространстве признаков классы разделяются плохо."
   ]
  },
  {
   "cell_type": "markdown",
   "metadata": {},
   "source": [
    "### 4. Многослойный персептрон и задача классификации ирисов Фишера"
   ]
  },
  {
   "cell_type": "markdown",
   "metadata": {},
   "source": [
    "**Описание датасета**<br>\n",
    "Поставляется в составе библиотеки `sklearn` в модуле `datasets`.<br><br>\n",
    "Ирисы Фишера состоят из данных о 150 экземплярах ириса, по 50 экземпляров из трёх видов:\n",
    "- Ирис щетинистый (Iris setosa), target = 0\n",
    "- Ирис разноцветный (Iris versicolor), target = 1  \n",
    "- Ирис виргинский (Iris virginica), target = 2\n",
    "\n",
    "\n",
    "Для каждого экземпляра измерялись четыре характеристики (в сантиметрах):\n",
    "- Длина наружной доли околоцветника (англ. sepal length);\n",
    "- Ширина наружной доли околоцветника (англ. sepal width);\n",
    "- Длина внутренней доли околоцветника (англ. petal length);\n",
    "- Ширина внутренней доли околоцветника (англ. petal width).\n",
    "\n",
    "На основании этого набора данных требуется построить правило классификации, определяющее вид растения по данным измерений.<br> \n",
    "Это задача многоклассовой классификации, так как имеется три класса — три вида ириса. "
   ]
  },
  {
   "cell_type": "code",
   "execution_count": 24,
   "metadata": {},
   "outputs": [],
   "source": [
    "from sklearn import datasets    # импорт модуля с данными\n",
    "import pandas as pd     # импорт библиотеки pandas"
   ]
  },
  {
   "cell_type": "markdown",
   "metadata": {},
   "source": [
    "Загрузим данные в таблицу `pandas.DataFrame`"
   ]
  },
  {
   "cell_type": "code",
   "execution_count": 25,
   "metadata": {},
   "outputs": [
    {
     "data": {
      "text/html": [
       "<div>\n",
       "<style scoped>\n",
       "    .dataframe tbody tr th:only-of-type {\n",
       "        vertical-align: middle;\n",
       "    }\n",
       "\n",
       "    .dataframe tbody tr th {\n",
       "        vertical-align: top;\n",
       "    }\n",
       "\n",
       "    .dataframe thead th {\n",
       "        text-align: right;\n",
       "    }\n",
       "</style>\n",
       "<table border=\"1\" class=\"dataframe\">\n",
       "  <thead>\n",
       "    <tr style=\"text-align: right;\">\n",
       "      <th></th>\n",
       "      <th>sepal length (cm)</th>\n",
       "      <th>sepal width (cm)</th>\n",
       "      <th>petal length (cm)</th>\n",
       "      <th>petal width (cm)</th>\n",
       "      <th>target</th>\n",
       "      <th>name</th>\n",
       "    </tr>\n",
       "  </thead>\n",
       "  <tbody>\n",
       "    <tr>\n",
       "      <th>0</th>\n",
       "      <td>5.1</td>\n",
       "      <td>3.5</td>\n",
       "      <td>1.4</td>\n",
       "      <td>0.2</td>\n",
       "      <td>0</td>\n",
       "      <td>setosa</td>\n",
       "    </tr>\n",
       "    <tr>\n",
       "      <th>1</th>\n",
       "      <td>4.9</td>\n",
       "      <td>3.0</td>\n",
       "      <td>1.4</td>\n",
       "      <td>0.2</td>\n",
       "      <td>0</td>\n",
       "      <td>setosa</td>\n",
       "    </tr>\n",
       "    <tr>\n",
       "      <th>2</th>\n",
       "      <td>4.7</td>\n",
       "      <td>3.2</td>\n",
       "      <td>1.3</td>\n",
       "      <td>0.2</td>\n",
       "      <td>0</td>\n",
       "      <td>setosa</td>\n",
       "    </tr>\n",
       "    <tr>\n",
       "      <th>3</th>\n",
       "      <td>4.6</td>\n",
       "      <td>3.1</td>\n",
       "      <td>1.5</td>\n",
       "      <td>0.2</td>\n",
       "      <td>0</td>\n",
       "      <td>setosa</td>\n",
       "    </tr>\n",
       "    <tr>\n",
       "      <th>4</th>\n",
       "      <td>5.0</td>\n",
       "      <td>3.6</td>\n",
       "      <td>1.4</td>\n",
       "      <td>0.2</td>\n",
       "      <td>0</td>\n",
       "      <td>setosa</td>\n",
       "    </tr>\n",
       "    <tr>\n",
       "      <th>...</th>\n",
       "      <td>...</td>\n",
       "      <td>...</td>\n",
       "      <td>...</td>\n",
       "      <td>...</td>\n",
       "      <td>...</td>\n",
       "      <td>...</td>\n",
       "    </tr>\n",
       "    <tr>\n",
       "      <th>145</th>\n",
       "      <td>6.7</td>\n",
       "      <td>3.0</td>\n",
       "      <td>5.2</td>\n",
       "      <td>2.3</td>\n",
       "      <td>2</td>\n",
       "      <td>virginica</td>\n",
       "    </tr>\n",
       "    <tr>\n",
       "      <th>146</th>\n",
       "      <td>6.3</td>\n",
       "      <td>2.5</td>\n",
       "      <td>5.0</td>\n",
       "      <td>1.9</td>\n",
       "      <td>2</td>\n",
       "      <td>virginica</td>\n",
       "    </tr>\n",
       "    <tr>\n",
       "      <th>147</th>\n",
       "      <td>6.5</td>\n",
       "      <td>3.0</td>\n",
       "      <td>5.2</td>\n",
       "      <td>2.0</td>\n",
       "      <td>2</td>\n",
       "      <td>virginica</td>\n",
       "    </tr>\n",
       "    <tr>\n",
       "      <th>148</th>\n",
       "      <td>6.2</td>\n",
       "      <td>3.4</td>\n",
       "      <td>5.4</td>\n",
       "      <td>2.3</td>\n",
       "      <td>2</td>\n",
       "      <td>virginica</td>\n",
       "    </tr>\n",
       "    <tr>\n",
       "      <th>149</th>\n",
       "      <td>5.9</td>\n",
       "      <td>3.0</td>\n",
       "      <td>5.1</td>\n",
       "      <td>1.8</td>\n",
       "      <td>2</td>\n",
       "      <td>virginica</td>\n",
       "    </tr>\n",
       "  </tbody>\n",
       "</table>\n",
       "<p>150 rows × 6 columns</p>\n",
       "</div>"
      ],
      "text/plain": [
       "     sepal length (cm)  sepal width (cm)  petal length (cm)  petal width (cm)  \\\n",
       "0                  5.1               3.5                1.4               0.2   \n",
       "1                  4.9               3.0                1.4               0.2   \n",
       "2                  4.7               3.2                1.3               0.2   \n",
       "3                  4.6               3.1                1.5               0.2   \n",
       "4                  5.0               3.6                1.4               0.2   \n",
       "..                 ...               ...                ...               ...   \n",
       "145                6.7               3.0                5.2               2.3   \n",
       "146                6.3               2.5                5.0               1.9   \n",
       "147                6.5               3.0                5.2               2.0   \n",
       "148                6.2               3.4                5.4               2.3   \n",
       "149                5.9               3.0                5.1               1.8   \n",
       "\n",
       "     target       name  \n",
       "0         0     setosa  \n",
       "1         0     setosa  \n",
       "2         0     setosa  \n",
       "3         0     setosa  \n",
       "4         0     setosa  \n",
       "..      ...        ...  \n",
       "145       2  virginica  \n",
       "146       2  virginica  \n",
       "147       2  virginica  \n",
       "148       2  virginica  \n",
       "149       2  virginica  \n",
       "\n",
       "[150 rows x 6 columns]"
      ]
     },
     "execution_count": 25,
     "metadata": {},
     "output_type": "execute_result"
    }
   ],
   "source": [
    "iris = datasets.load_iris()     # загрузка данных (массив numpy)\n",
    "df_iris = pd.DataFrame(iris.data)  # преобразуем в DataFrame, alias pd импортировали в начале\n",
    "df_iris.columns = iris.feature_names    # делаем имена столбцов такие же, как имена переменных из датасета\n",
    "df_iris['target'] = iris.target    # добавляем столбец с целевой переменной (класс ириса 0-1-2) \n",
    "df_iris['name'] = df_iris.target.apply(lambda x: iris.target_names[x])    # для наглядности добавляем столбец с сортами\n",
    "df_iris    # выводим начало и конец таблицы"
   ]
  },
  {
   "cell_type": "markdown",
   "metadata": {},
   "source": [
    "**Построим диаграмму рассеяния в осях пар признаков, выделив цветом принадлежность к тому или иному сорту ирисов.**<br>"
   ]
  },
  {
   "cell_type": "markdown",
   "metadata": {},
   "source": [
    "Воспользуемся библиотекой seaborn и методом seaborn.pairplot<br>\n",
    "https://seaborn.pydata.org/generated/seaborn.pairplot.html"
   ]
  },
  {
   "cell_type": "code",
   "execution_count": 26,
   "metadata": {},
   "outputs": [
    {
     "data": {
      "text/plain": [
       "<seaborn.axisgrid.PairGrid at 0x10fd649eca0>"
      ]
     },
     "execution_count": 26,
     "metadata": {},
     "output_type": "execute_result"
    },
    {
     "data": {
      "image/png": "[encoded data removed]",
      "text/plain": [
       "<Figure size 804.75x720 with 20 Axes>"
      ]
     },
     "metadata": {
      "needs_background": "light"
     },
     "output_type": "display_data"
    }
   ],
   "source": [
    "import seaborn as sns\n",
    "sns.pairplot(df_iris[['sepal length (cm)','sepal width (cm)','petal length (cm)','petal width (cm)','name']], hue = 'name')"
   ]
  },
  {
   "cell_type": "markdown",
   "metadata": {},
   "source": [
    "**Что видим?**<br>\n",
    "**petal width (cm) - petal length (cm)** — точки вытянуты вдоль одной линии, по этим признакам можно строить классификацию.<br>\n",
    "**sepal width (cm) - sepal length (cm)** — точки Versicolor и Virginica перемешаны между собой, с классификацией проблема.<br>"
   ]
  },
  {
   "cell_type": "markdown",
   "metadata": {},
   "source": [
    "**Подготовим данные для обучения и тестирования многослойного персептрона**"
   ]
  },
  {
   "cell_type": "markdown",
   "metadata": {},
   "source": [
    "Выделим выборки для обучения и тестирования из исходного датасета случайным образом в соотношении 70/30.<br>\n",
    "Воспользуемся библиотекой `sklearn`, модулем `model_selection`, методом `train_test_split`:<br>\n",
    "https://scikit-learn.org/stable/modules/generated/sklearn.model_selection.train_test_split.html"
   ]
  },
  {
   "cell_type": "code",
   "execution_count": 27,
   "metadata": {},
   "outputs": [],
   "source": [
    "from sklearn.model_selection import train_test_split    # импорт метода\n",
    "# выборки для обучения и тестирования в соотношении 70/30\n",
    "train_data, test_data, train_labels, test_labels = train_test_split(\n",
    "    df_iris[['sepal length (cm)','sepal width (cm)','petal length (cm)','petal width (cm)']], \n",
    "    df_iris['target'], test_size = 0.3, random_state = 10)"
   ]
  },
  {
   "cell_type": "markdown",
   "metadata": {},
   "source": [
    "Оценим полученные данные"
   ]
  },
  {
   "cell_type": "code",
   "execution_count": 28,
   "metadata": {},
   "outputs": [
    {
     "data": {
      "text/html": [
       "<div>\n",
       "<style scoped>\n",
       "    .dataframe tbody tr th:only-of-type {\n",
       "        vertical-align: middle;\n",
       "    }\n",
       "\n",
       "    .dataframe tbody tr th {\n",
       "        vertical-align: top;\n",
       "    }\n",
       "\n",
       "    .dataframe thead th {\n",
       "        text-align: right;\n",
       "    }\n",
       "</style>\n",
       "<table border=\"1\" class=\"dataframe\">\n",
       "  <thead>\n",
       "    <tr style=\"text-align: right;\">\n",
       "      <th></th>\n",
       "      <th>sepal length (cm)</th>\n",
       "      <th>sepal width (cm)</th>\n",
       "      <th>petal length (cm)</th>\n",
       "      <th>petal width (cm)</th>\n",
       "    </tr>\n",
       "  </thead>\n",
       "  <tbody>\n",
       "    <tr>\n",
       "      <th>32</th>\n",
       "      <td>5.2</td>\n",
       "      <td>4.1</td>\n",
       "      <td>1.5</td>\n",
       "      <td>0.1</td>\n",
       "    </tr>\n",
       "    <tr>\n",
       "      <th>52</th>\n",
       "      <td>6.9</td>\n",
       "      <td>3.1</td>\n",
       "      <td>4.9</td>\n",
       "      <td>1.5</td>\n",
       "    </tr>\n",
       "    <tr>\n",
       "      <th>70</th>\n",
       "      <td>5.9</td>\n",
       "      <td>3.2</td>\n",
       "      <td>4.8</td>\n",
       "      <td>1.8</td>\n",
       "    </tr>\n",
       "  </tbody>\n",
       "</table>\n",
       "</div>"
      ],
      "text/plain": [
       "    sepal length (cm)  sepal width (cm)  petal length (cm)  petal width (cm)\n",
       "32                5.2               4.1                1.5               0.1\n",
       "52                6.9               3.1                4.9               1.5\n",
       "70                5.9               3.2                4.8               1.8"
      ]
     },
     "execution_count": 28,
     "metadata": {},
     "output_type": "execute_result"
    }
   ],
   "source": [
    "train_data.head(3)    # независимая переменная X - вектор признаков, по которым делаем классификацию"
   ]
  },
  {
   "cell_type": "code",
   "execution_count": 29,
   "metadata": {},
   "outputs": [
    {
     "data": {
      "text/plain": [
       "32    0\n",
       "52    1\n",
       "70    1\n",
       "Name: target, dtype: int32"
      ]
     },
     "execution_count": 29,
     "metadata": {},
     "output_type": "execute_result"
    }
   ],
   "source": [
    "train_labels.head(3)    # метки классов - зависимая переменная Y"
   ]
  },
  {
   "cell_type": "code",
   "execution_count": 30,
   "metadata": {},
   "outputs": [
    {
     "name": "stdout",
     "output_type": "stream",
     "text": [
      "105 45\n"
     ]
    }
   ],
   "source": [
    "print(len(train_data),len(test_data))    # размеры выборок для обучения и тестирования"
   ]
  },
  {
   "cell_type": "markdown",
   "metadata": {},
   "source": [
    "**Стандартизуем (масшабируем) значения X для обучения и тестирования так, как делали выше**"
   ]
  },
  {
   "cell_type": "code",
   "execution_count": 31,
   "metadata": {},
   "outputs": [],
   "source": [
    "from sklearn.preprocessing import StandardScaler    # импорт класса\n",
    "scaler = StandardScaler(with_mean=True, with_std=True)    # создадим объект как экземпляр импортированнного класса"
   ]
  },
  {
   "cell_type": "code",
   "execution_count": 32,
   "metadata": {},
   "outputs": [],
   "source": [
    "scaler.fit(train_data)    # вычисляем mean и std для масштабирования - train_data\n",
    "train_data = scaler.transform(train_data)    # масштабирование train_data"
   ]
  },
  {
   "cell_type": "code",
   "execution_count": 33,
   "metadata": {},
   "outputs": [],
   "source": [
    "scaler.fit(test_data)    # вычисляем mean и std для масштабирования - test_data\n",
    "test_data = scaler.transform(test_data)    # масштабирование test_data"
   ]
  },
  {
   "cell_type": "markdown",
   "metadata": {},
   "source": [
    "**Построим модель многослойного персептрона**"
   ]
  },
  {
   "cell_type": "code",
   "execution_count": 34,
   "metadata": {},
   "outputs": [
    {
     "data": {
      "text/plain": [
       "MLPClassifier(hidden_layer_sizes=(50, 50), max_iter=10000, random_state=11)"
      ]
     },
     "execution_count": 34,
     "metadata": {},
     "output_type": "execute_result"
    }
   ],
   "source": [
    "from sklearn.neural_network import MLPClassifier     # импорт класса\n",
    "mlp = MLPClassifier(hidden_layer_sizes=(50,50), max_iter=10000, random_state = 11)    # создаем объект как экземпляр класса\n",
    "mlp.fit(train_data, train_labels)    # обучаем его"
   ]
  },
  {
   "cell_type": "markdown",
   "metadata": {},
   "source": [
    "**Выполним классификацию тестовых данных (они не использовались при обучении)**"
   ]
  },
  {
   "cell_type": "code",
   "execution_count": 35,
   "metadata": {},
   "outputs": [],
   "source": [
    "pred_test_labels = mlp.predict(test_data)    # используем для классификации тестовой выборки"
   ]
  },
  {
   "cell_type": "code",
   "execution_count": 36,
   "metadata": {},
   "outputs": [
    {
     "name": "stdout",
     "output_type": "stream",
     "text": [
      "[[13  1  0]\n",
      " [ 0 17  0]\n",
      " [ 0  0 14]]\n",
      "              precision    recall  f1-score   support\n",
      "\n",
      "           0       1.00      0.93      0.96        14\n",
      "           1       0.94      1.00      0.97        17\n",
      "           2       1.00      1.00      1.00        14\n",
      "\n",
      "    accuracy                           0.98        45\n",
      "   macro avg       0.98      0.98      0.98        45\n",
      "weighted avg       0.98      0.98      0.98        45\n",
      "\n"
     ]
    }
   ],
   "source": [
    "# Выведем матрицу ошибок и метрики оценки\n",
    "from sklearn import metrics \n",
    "print(metrics.confusion_matrix(test_labels, pred_test_labels))\n",
    "print(metrics.classification_report(test_labels, pred_test_labels))"
   ]
  },
  {
   "cell_type": "markdown",
   "metadata": {},
   "source": [
    "### Как результаты? В учебном примере все хорошо!"
   ]
  },
  {
   "cell_type": "markdown",
   "metadata": {},
   "source": [
    "### Подведем итоги. На этом занятии мы научились:\n",
    "- Готовить исходные данные для анализа с помощью нейронных сетей.\n",
    "- Использовать многослойный персептрон в задаче классификации.\n",
    "- Получать и интерпретировать показатели эффективности моделей классификации."
   ]
  }
 ],
 "metadata": {
  "kernelspec": {
   "display_name": "Python 3",
   "language": "python",
   "name": "python3"
  },
  "language_info": {
   "codemirror_mode": {
    "name": "ipython",
    "version": 3
   },
   "file_extension": ".py",
   "mimetype": "text/x-python",
   "name": "python",
   "nbconvert_exporter": "python",
   "pygments_lexer": "ipython3",
   "version": "3.8.5"
  }
 },
 "nbformat": 4,
 "nbformat_minor": 2
}
