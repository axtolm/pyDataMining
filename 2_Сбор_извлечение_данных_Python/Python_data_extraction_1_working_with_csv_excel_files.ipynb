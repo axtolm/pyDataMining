{
 "cells": [
  {
   "cell_type": "markdown",
   "metadata": {},
   "source": [
    "#### @author: Александр Владимирович Толмачев | axtolm@gmail.com\n",
    "<hr>"
   ]
  },
  {
   "cell_type": "markdown",
   "metadata": {},
   "source": [
    "## 2. Сбор и извлечение данных на Python"
   ]
  },
  {
   "cell_type": "markdown",
   "metadata": {},
   "source": [
    "## Часть 1. Работа с данными в csv и excel формате"
   ]
  },
  {
   "cell_type": "markdown",
   "metadata": {},
   "source": [
    "### На этом занятии мы планируем научиться:\n",
    "- Загружать данные из csv и excel файлов в таблицу pandas DataFrame.\n",
    "- Записывать данные из таблиц pandas DataFrame в файлы csv и excel."
   ]
  },
  {
   "cell_type": "markdown",
   "metadata": {},
   "source": [
    "### 1. Вводная информация\n",
    "На практике достаточно часто возникает ситуация, когда из какого-либо внешнего источника на локальный компьютер получен файл с данными в формате csv или excel и их надо обработать.<br>"
   ]
  },
  {
   "cell_type": "markdown",
   "metadata": {},
   "source": [
    "**CSV** (Comma-Separated Values) — текстовый формат представления табличных данных. Его спецификация:\n",
    "- В одном `.csv` файле — одна таблица.\n",
    "- Каждая строка файла — это одна строка таблицы. Первая строка может содержать заголовки таблицы.\n",
    "- Разделителями колонок могут быть: `,`, `;`, `|`.\n",
    "- Значения, содержащие зарезервированные символы (двойная кавычка, запятая, точка с запятой, новая строка) обрамляются двойными кавычками (\"). Если в значении встречаются кавычки — они представляются в файле в виде двух кавычек подряд."
   ]
  },
  {
   "cell_type": "markdown",
   "metadata": {},
   "source": [
    "Открыть и редактировать `.csv` файл можно в текстовом редакторе, например, в Блокноте Windows.<br>"
   ]
  },
  {
   "cell_type": "markdown",
   "metadata": {},
   "source": [
    "Пример данных (котировки акций Лукойл) в CSV формате:\n",
    "\n",
    "```\n",
    "<TICKER>;<PER>;<DATE>;<TIME>;<CLOSE>;<VOL>\n",
    "LKOH;D;20171019;000000;2985.0000000;417461\n",
    "LKOH;D;20171020;000000;2994.0000000;424104\n",
    "LKOH;D;20171023;000000;2997.0000000;394534\n",
    "LKOH;D;20171024;000000;3018.0000000;338596\n",
    "...\n",
    "```"
   ]
  },
  {
   "cell_type": "markdown",
   "metadata": {},
   "source": [
    "**EXCEL** — формат представления табличных данных, получаемых с использованием электронных таблиц MS Excel:\n",
    "- Файл `.xlsx` может содержать несколько таблиц на разных вкладках (у каждой вкладки свое имя).\n",
    "- Каждая вкладка - это таблица ячейками данных. Максимальный размер таблицы - 1048576 строк и 16384 столбцов.\n",
    "- Разделители, как в csv формате, не используются."
   ]
  },
  {
   "cell_type": "markdown",
   "metadata": {},
   "source": [
    "Открыть и редактировать `.xlsx` файл можно в электронных таблицах MS Excel.<br>"
   ]
  },
  {
   "cell_type": "markdown",
   "metadata": {},
   "source": [
    "### 2. Загрузка данных из файла в csv формате в таблицу pandas DataFrame"
   ]
  },
  {
   "cell_type": "markdown",
   "metadata": {},
   "source": [
    "Для загрузки воспользуемся методом `pandas.read_csv`<br>\n",
    "https://pandas.pydata.org/pandas-docs/stable/reference/api/pandas.read_csv.html<br>   \n",
    "Метод имеет множество параметров, с помощью которых можно кастомизировать процесс загрузки данных, например, указать отличные от значений по умолчанию разделитель, кодировку данных, строку заголовков, колонку индексов и т.д.<br>  \n",
    "По минимуму нужно указать имя файла в формате строки, например, `'учебный_датасет.csv'` или с указанием полного пути к файлу `C:/my_py_file/учебный_датасет.csv'`, если без указания пути Python не сможет найти файл."
   ]
  },
  {
   "cell_type": "code",
   "execution_count": 1,
   "metadata": {},
   "outputs": [],
   "source": [
    "# зададим имена файлов (лежат в той же папке)\n",
    "file_LKOH_csv_utf8 = 'dataset_1_LKOH_csv_utf8.csv'\n",
    "file_SBER_csv_zip_utf8 = 'dataset_1_SBER_csv_utf8.zip'\n",
    "file_SBERP_csv_ru_cp1251 = 'dataset_1_SBERP_csv_ru_cp1251.csv'"
   ]
  },
  {
   "cell_type": "code",
   "execution_count": 2,
   "metadata": {},
   "outputs": [],
   "source": [
    "import pandas as pd    # импорт библиотеки"
   ]
  },
  {
   "cell_type": "markdown",
   "metadata": {},
   "source": [
    "Загрузим в DataFrame первый файл `file_LKOH_csv_utf8.csv`. В нем котировки обыкновенных акций Лукойла.<br>\n",
    "Формат `csv`, разделитель `,`, кодировка `UTF8`, кирилицы нет - это аргументы по умолчанию.<br>\n",
    "Отличных от аргументов по умолчанию нет, поэтому достаточно указать только имя файла.<br>\n",
    "Т.к. файл лежит там же, где и `.ipynb`, то полный путь можно не указывать. "
   ]
  },
  {
   "cell_type": "code",
   "execution_count": 3,
   "metadata": {},
   "outputs": [],
   "source": [
    "df_LKOH = pd.read_csv(file_LKOH_csv_utf8)"
   ]
  },
  {
   "cell_type": "code",
   "execution_count": 4,
   "metadata": {},
   "outputs": [
    {
     "data": {
      "text/html": [
       "<div>\n",
       "<style scoped>\n",
       "    .dataframe tbody tr th:only-of-type {\n",
       "        vertical-align: middle;\n",
       "    }\n",
       "\n",
       "    .dataframe tbody tr th {\n",
       "        vertical-align: top;\n",
       "    }\n",
       "\n",
       "    .dataframe thead th {\n",
       "        text-align: right;\n",
       "    }\n",
       "</style>\n",
       "<table border=\"1\" class=\"dataframe\">\n",
       "  <thead>\n",
       "    <tr style=\"text-align: right;\">\n",
       "      <th></th>\n",
       "      <th>&lt;TICKER&gt;</th>\n",
       "      <th>&lt;PER&gt;</th>\n",
       "      <th>&lt;DATE&gt;</th>\n",
       "      <th>&lt;TIME&gt;</th>\n",
       "      <th>&lt;CLOSE&gt;</th>\n",
       "      <th>&lt;VOL&gt;</th>\n",
       "    </tr>\n",
       "  </thead>\n",
       "  <tbody>\n",
       "    <tr>\n",
       "      <th>0</th>\n",
       "      <td>LKOH</td>\n",
       "      <td>D</td>\n",
       "      <td>20171019</td>\n",
       "      <td>0</td>\n",
       "      <td>2985.0</td>\n",
       "      <td>417461</td>\n",
       "    </tr>\n",
       "    <tr>\n",
       "      <th>1</th>\n",
       "      <td>LKOH</td>\n",
       "      <td>D</td>\n",
       "      <td>20171020</td>\n",
       "      <td>0</td>\n",
       "      <td>2994.0</td>\n",
       "      <td>424104</td>\n",
       "    </tr>\n",
       "    <tr>\n",
       "      <th>2</th>\n",
       "      <td>LKOH</td>\n",
       "      <td>D</td>\n",
       "      <td>20171023</td>\n",
       "      <td>0</td>\n",
       "      <td>2997.0</td>\n",
       "      <td>394534</td>\n",
       "    </tr>\n",
       "    <tr>\n",
       "      <th>3</th>\n",
       "      <td>LKOH</td>\n",
       "      <td>D</td>\n",
       "      <td>20171024</td>\n",
       "      <td>0</td>\n",
       "      <td>3018.0</td>\n",
       "      <td>338596</td>\n",
       "    </tr>\n",
       "    <tr>\n",
       "      <th>4</th>\n",
       "      <td>LKOH</td>\n",
       "      <td>D</td>\n",
       "      <td>20171025</td>\n",
       "      <td>0</td>\n",
       "      <td>3005.0</td>\n",
       "      <td>620960</td>\n",
       "    </tr>\n",
       "    <tr>\n",
       "      <th>...</th>\n",
       "      <td>...</td>\n",
       "      <td>...</td>\n",
       "      <td>...</td>\n",
       "      <td>...</td>\n",
       "      <td>...</td>\n",
       "      <td>...</td>\n",
       "    </tr>\n",
       "    <tr>\n",
       "      <th>1006</th>\n",
       "      <td>LKOH</td>\n",
       "      <td>D</td>\n",
       "      <td>20211013</td>\n",
       "      <td>0</td>\n",
       "      <td>7252.0</td>\n",
       "      <td>1257240</td>\n",
       "    </tr>\n",
       "    <tr>\n",
       "      <th>1007</th>\n",
       "      <td>LKOH</td>\n",
       "      <td>D</td>\n",
       "      <td>20211014</td>\n",
       "      <td>0</td>\n",
       "      <td>7215.0</td>\n",
       "      <td>804831</td>\n",
       "    </tr>\n",
       "    <tr>\n",
       "      <th>1008</th>\n",
       "      <td>LKOH</td>\n",
       "      <td>D</td>\n",
       "      <td>20211015</td>\n",
       "      <td>0</td>\n",
       "      <td>7306.5</td>\n",
       "      <td>950893</td>\n",
       "    </tr>\n",
       "    <tr>\n",
       "      <th>1009</th>\n",
       "      <td>LKOH</td>\n",
       "      <td>D</td>\n",
       "      <td>20211018</td>\n",
       "      <td>0</td>\n",
       "      <td>7319.0</td>\n",
       "      <td>711222</td>\n",
       "    </tr>\n",
       "    <tr>\n",
       "      <th>1010</th>\n",
       "      <td>LKOH</td>\n",
       "      <td>D</td>\n",
       "      <td>20211019</td>\n",
       "      <td>0</td>\n",
       "      <td>7333.0</td>\n",
       "      <td>358781</td>\n",
       "    </tr>\n",
       "  </tbody>\n",
       "</table>\n",
       "<p>1011 rows × 6 columns</p>\n",
       "</div>"
      ],
      "text/plain": [
       "     <TICKER> <PER>    <DATE>  <TIME>  <CLOSE>    <VOL>\n",
       "0        LKOH     D  20171019       0   2985.0   417461\n",
       "1        LKOH     D  20171020       0   2994.0   424104\n",
       "2        LKOH     D  20171023       0   2997.0   394534\n",
       "3        LKOH     D  20171024       0   3018.0   338596\n",
       "4        LKOH     D  20171025       0   3005.0   620960\n",
       "...       ...   ...       ...     ...      ...      ...\n",
       "1006     LKOH     D  20211013       0   7252.0  1257240\n",
       "1007     LKOH     D  20211014       0   7215.0   804831\n",
       "1008     LKOH     D  20211015       0   7306.5   950893\n",
       "1009     LKOH     D  20211018       0   7319.0   711222\n",
       "1010     LKOH     D  20211019       0   7333.0   358781\n",
       "\n",
       "[1011 rows x 6 columns]"
      ]
     },
     "execution_count": 4,
     "metadata": {},
     "output_type": "execute_result"
    }
   ],
   "source": [
    "df_LKOH    # проверим, что получилось"
   ]
  },
  {
   "cell_type": "markdown",
   "metadata": {},
   "source": [
    "Загрузим в DataFrame второй файл `file_SBER_csv_zip_utf8.zip`. В нем котировки обыкновенных акций Сбербанка.<br>\n",
    "Формат `csv`, кодировка `UTF8`, кирилицы нет - это все аргументы по умолчанию.<br> \n",
    "**Надо указать в явном виде** - `sep = ';'` - разделитель не запятая, а точка с запятой, `compression = 'zip'`  - файл `.csv` упакован в `.zip`.<br> \n",
    "Т.к. лежит он там же, где и `.ipynb`, то полный путь можно не указывать.<br>\n",
    "Из zip-архива тоже можем загружать данные сразу в pandas DataFrame!"
   ]
  },
  {
   "cell_type": "code",
   "execution_count": 5,
   "metadata": {},
   "outputs": [],
   "source": [
    "df_SBER = pd.read_csv(file_SBER_csv_zip_utf8, sep = ';', compression = 'zip')   "
   ]
  },
  {
   "cell_type": "code",
   "execution_count": 6,
   "metadata": {},
   "outputs": [
    {
     "data": {
      "text/html": [
       "<div>\n",
       "<style scoped>\n",
       "    .dataframe tbody tr th:only-of-type {\n",
       "        vertical-align: middle;\n",
       "    }\n",
       "\n",
       "    .dataframe tbody tr th {\n",
       "        vertical-align: top;\n",
       "    }\n",
       "\n",
       "    .dataframe thead th {\n",
       "        text-align: right;\n",
       "    }\n",
       "</style>\n",
       "<table border=\"1\" class=\"dataframe\">\n",
       "  <thead>\n",
       "    <tr style=\"text-align: right;\">\n",
       "      <th></th>\n",
       "      <th>&lt;TICKER&gt;</th>\n",
       "      <th>&lt;PER&gt;</th>\n",
       "      <th>&lt;DATE&gt;</th>\n",
       "      <th>&lt;TIME&gt;</th>\n",
       "      <th>&lt;CLOSE&gt;</th>\n",
       "      <th>&lt;VOL&gt;</th>\n",
       "    </tr>\n",
       "  </thead>\n",
       "  <tbody>\n",
       "    <tr>\n",
       "      <th>0</th>\n",
       "      <td>SBER</td>\n",
       "      <td>D</td>\n",
       "      <td>20171019</td>\n",
       "      <td>0</td>\n",
       "      <td>192.20</td>\n",
       "      <td>40301270</td>\n",
       "    </tr>\n",
       "    <tr>\n",
       "      <th>1</th>\n",
       "      <td>SBER</td>\n",
       "      <td>D</td>\n",
       "      <td>20171020</td>\n",
       "      <td>0</td>\n",
       "      <td>192.97</td>\n",
       "      <td>28740370</td>\n",
       "    </tr>\n",
       "    <tr>\n",
       "      <th>2</th>\n",
       "      <td>SBER</td>\n",
       "      <td>D</td>\n",
       "      <td>20171023</td>\n",
       "      <td>0</td>\n",
       "      <td>192.34</td>\n",
       "      <td>26923870</td>\n",
       "    </tr>\n",
       "    <tr>\n",
       "      <th>3</th>\n",
       "      <td>SBER</td>\n",
       "      <td>D</td>\n",
       "      <td>20171024</td>\n",
       "      <td>0</td>\n",
       "      <td>192.50</td>\n",
       "      <td>28240990</td>\n",
       "    </tr>\n",
       "    <tr>\n",
       "      <th>4</th>\n",
       "      <td>SBER</td>\n",
       "      <td>D</td>\n",
       "      <td>20171025</td>\n",
       "      <td>0</td>\n",
       "      <td>192.04</td>\n",
       "      <td>32243310</td>\n",
       "    </tr>\n",
       "    <tr>\n",
       "      <th>...</th>\n",
       "      <td>...</td>\n",
       "      <td>...</td>\n",
       "      <td>...</td>\n",
       "      <td>...</td>\n",
       "      <td>...</td>\n",
       "      <td>...</td>\n",
       "    </tr>\n",
       "    <tr>\n",
       "      <th>1006</th>\n",
       "      <td>SBER</td>\n",
       "      <td>D</td>\n",
       "      <td>20211013</td>\n",
       "      <td>0</td>\n",
       "      <td>378.80</td>\n",
       "      <td>54668150</td>\n",
       "    </tr>\n",
       "    <tr>\n",
       "      <th>1007</th>\n",
       "      <td>SBER</td>\n",
       "      <td>D</td>\n",
       "      <td>20211014</td>\n",
       "      <td>0</td>\n",
       "      <td>376.09</td>\n",
       "      <td>36290870</td>\n",
       "    </tr>\n",
       "    <tr>\n",
       "      <th>1008</th>\n",
       "      <td>SBER</td>\n",
       "      <td>D</td>\n",
       "      <td>20211015</td>\n",
       "      <td>0</td>\n",
       "      <td>371.82</td>\n",
       "      <td>37276570</td>\n",
       "    </tr>\n",
       "    <tr>\n",
       "      <th>1009</th>\n",
       "      <td>SBER</td>\n",
       "      <td>D</td>\n",
       "      <td>20211018</td>\n",
       "      <td>0</td>\n",
       "      <td>364.60</td>\n",
       "      <td>38112280</td>\n",
       "    </tr>\n",
       "    <tr>\n",
       "      <th>1010</th>\n",
       "      <td>SBER</td>\n",
       "      <td>D</td>\n",
       "      <td>20211019</td>\n",
       "      <td>0</td>\n",
       "      <td>365.52</td>\n",
       "      <td>17940820</td>\n",
       "    </tr>\n",
       "  </tbody>\n",
       "</table>\n",
       "<p>1011 rows × 6 columns</p>\n",
       "</div>"
      ],
      "text/plain": [
       "     <TICKER> <PER>    <DATE>  <TIME>  <CLOSE>     <VOL>\n",
       "0        SBER     D  20171019       0   192.20  40301270\n",
       "1        SBER     D  20171020       0   192.97  28740370\n",
       "2        SBER     D  20171023       0   192.34  26923870\n",
       "3        SBER     D  20171024       0   192.50  28240990\n",
       "4        SBER     D  20171025       0   192.04  32243310\n",
       "...       ...   ...       ...     ...      ...       ...\n",
       "1006     SBER     D  20211013       0   378.80  54668150\n",
       "1007     SBER     D  20211014       0   376.09  36290870\n",
       "1008     SBER     D  20211015       0   371.82  37276570\n",
       "1009     SBER     D  20211018       0   364.60  38112280\n",
       "1010     SBER     D  20211019       0   365.52  17940820\n",
       "\n",
       "[1011 rows x 6 columns]"
      ]
     },
     "execution_count": 6,
     "metadata": {},
     "output_type": "execute_result"
    }
   ],
   "source": [
    "df_SBER    # проверим, что получилось"
   ]
  },
  {
   "cell_type": "markdown",
   "metadata": {},
   "source": [
    "Загрузим в DataFrame третий файл `file_csv_ru_cp1251`. В нем котировки привилегированных акций Сбербанка.<br>\n",
    "**Надо указать в явном виде** - `sep = ';'` - разделитель не запятая, а точка с запятой, `encoding = 'cp1251'` - кодировка кодировка `cp1251`, а не `UTF8` (плюс есть кирилица).<br> \n",
    "Т.к. лежит он там же, где и `.ipynb`, то полный путь можно не указывать."
   ]
  },
  {
   "cell_type": "code",
   "execution_count": 7,
   "metadata": {},
   "outputs": [],
   "source": [
    "df_SBERP = pd.read_csv(file_SBERP_csv_ru_cp1251, sep = ';', encoding = 'cp1251')"
   ]
  },
  {
   "cell_type": "code",
   "execution_count": 8,
   "metadata": {},
   "outputs": [
    {
     "data": {
      "text/html": [
       "<div>\n",
       "<style scoped>\n",
       "    .dataframe tbody tr th:only-of-type {\n",
       "        vertical-align: middle;\n",
       "    }\n",
       "\n",
       "    .dataframe tbody tr th {\n",
       "        vertical-align: top;\n",
       "    }\n",
       "\n",
       "    .dataframe thead th {\n",
       "        text-align: right;\n",
       "    }\n",
       "</style>\n",
       "<table border=\"1\" class=\"dataframe\">\n",
       "  <thead>\n",
       "    <tr style=\"text-align: right;\">\n",
       "      <th></th>\n",
       "      <th>&lt;ТИКЕР&gt;</th>\n",
       "      <th>&lt;ПЕРИОД&gt;</th>\n",
       "      <th>&lt;ДАТА&gt;</th>\n",
       "      <th>&lt;ВРЕМЯ&gt;</th>\n",
       "      <th>&lt;ЦЕНА_CLOSE&gt;</th>\n",
       "      <th>&lt;ОБЪЕМ&gt;</th>\n",
       "    </tr>\n",
       "  </thead>\n",
       "  <tbody>\n",
       "    <tr>\n",
       "      <th>0</th>\n",
       "      <td>SBERP</td>\n",
       "      <td>D</td>\n",
       "      <td>20171019</td>\n",
       "      <td>0</td>\n",
       "      <td>159.01</td>\n",
       "      <td>2925500</td>\n",
       "    </tr>\n",
       "    <tr>\n",
       "      <th>1</th>\n",
       "      <td>SBERP</td>\n",
       "      <td>D</td>\n",
       "      <td>20171020</td>\n",
       "      <td>0</td>\n",
       "      <td>160.87</td>\n",
       "      <td>2301800</td>\n",
       "    </tr>\n",
       "    <tr>\n",
       "      <th>2</th>\n",
       "      <td>SBERP</td>\n",
       "      <td>D</td>\n",
       "      <td>20171023</td>\n",
       "      <td>0</td>\n",
       "      <td>159.89</td>\n",
       "      <td>2089900</td>\n",
       "    </tr>\n",
       "    <tr>\n",
       "      <th>3</th>\n",
       "      <td>SBERP</td>\n",
       "      <td>D</td>\n",
       "      <td>20171024</td>\n",
       "      <td>0</td>\n",
       "      <td>160.00</td>\n",
       "      <td>1927500</td>\n",
       "    </tr>\n",
       "    <tr>\n",
       "      <th>4</th>\n",
       "      <td>SBERP</td>\n",
       "      <td>D</td>\n",
       "      <td>20171025</td>\n",
       "      <td>0</td>\n",
       "      <td>158.79</td>\n",
       "      <td>2205200</td>\n",
       "    </tr>\n",
       "    <tr>\n",
       "      <th>...</th>\n",
       "      <td>...</td>\n",
       "      <td>...</td>\n",
       "      <td>...</td>\n",
       "      <td>...</td>\n",
       "      <td>...</td>\n",
       "      <td>...</td>\n",
       "    </tr>\n",
       "    <tr>\n",
       "      <th>1006</th>\n",
       "      <td>SBERP</td>\n",
       "      <td>D</td>\n",
       "      <td>20211013</td>\n",
       "      <td>0</td>\n",
       "      <td>346.45</td>\n",
       "      <td>9156050</td>\n",
       "    </tr>\n",
       "    <tr>\n",
       "      <th>1007</th>\n",
       "      <td>SBERP</td>\n",
       "      <td>D</td>\n",
       "      <td>20211014</td>\n",
       "      <td>0</td>\n",
       "      <td>345.30</td>\n",
       "      <td>7297000</td>\n",
       "    </tr>\n",
       "    <tr>\n",
       "      <th>1008</th>\n",
       "      <td>SBERP</td>\n",
       "      <td>D</td>\n",
       "      <td>20211015</td>\n",
       "      <td>0</td>\n",
       "      <td>341.50</td>\n",
       "      <td>4339600</td>\n",
       "    </tr>\n",
       "    <tr>\n",
       "      <th>1009</th>\n",
       "      <td>SBERP</td>\n",
       "      <td>D</td>\n",
       "      <td>20211018</td>\n",
       "      <td>0</td>\n",
       "      <td>333.03</td>\n",
       "      <td>7329220</td>\n",
       "    </tr>\n",
       "    <tr>\n",
       "      <th>1010</th>\n",
       "      <td>SBERP</td>\n",
       "      <td>D</td>\n",
       "      <td>20211019</td>\n",
       "      <td>0</td>\n",
       "      <td>333.47</td>\n",
       "      <td>2357610</td>\n",
       "    </tr>\n",
       "  </tbody>\n",
       "</table>\n",
       "<p>1011 rows × 6 columns</p>\n",
       "</div>"
      ],
      "text/plain": [
       "     <ТИКЕР> <ПЕРИОД>    <ДАТА>  <ВРЕМЯ>  <ЦЕНА_CLOSE>  <ОБЪЕМ>\n",
       "0      SBERP        D  20171019        0        159.01  2925500\n",
       "1      SBERP        D  20171020        0        160.87  2301800\n",
       "2      SBERP        D  20171023        0        159.89  2089900\n",
       "3      SBERP        D  20171024        0        160.00  1927500\n",
       "4      SBERP        D  20171025        0        158.79  2205200\n",
       "...      ...      ...       ...      ...           ...      ...\n",
       "1006   SBERP        D  20211013        0        346.45  9156050\n",
       "1007   SBERP        D  20211014        0        345.30  7297000\n",
       "1008   SBERP        D  20211015        0        341.50  4339600\n",
       "1009   SBERP        D  20211018        0        333.03  7329220\n",
       "1010   SBERP        D  20211019        0        333.47  2357610\n",
       "\n",
       "[1011 rows x 6 columns]"
      ]
     },
     "execution_count": 8,
     "metadata": {},
     "output_type": "execute_result"
    }
   ],
   "source": [
    "df_SBERP    # проверим, что получилось"
   ]
  },
  {
   "cell_type": "markdown",
   "metadata": {},
   "source": [
    "**А что будет, если не указать правильный разделитель и корректную кодировку, отличные от аргументов по умолчанию?**"
   ]
  },
  {
   "cell_type": "code",
   "execution_count": 9,
   "metadata": {},
   "outputs": [
    {
     "ename": "UnicodeDecodeError",
     "evalue": "'utf-8' codec can't decode byte 0xd2 in position 1: invalid continuation byte",
     "output_type": "error",
     "traceback": [
      "\u001b[1;31m---------------------------------------------------------------------------\u001b[0m",
      "\u001b[1;31mUnicodeDecodeError\u001b[0m                        Traceback (most recent call last)",
      "\u001b[1;32m<ipython-input-9-382bd18fe6a6>\u001b[0m in \u001b[0;36m<module>\u001b[1;34m\u001b[0m\n\u001b[1;32m----> 1\u001b[1;33m \u001b[0mdf_SBERP_incorrect_1\u001b[0m \u001b[1;33m=\u001b[0m \u001b[0mpd\u001b[0m\u001b[1;33m.\u001b[0m\u001b[0mread_csv\u001b[0m\u001b[1;33m(\u001b[0m\u001b[0mfile_SBERP_csv_ru_cp1251\u001b[0m\u001b[1;33m)\u001b[0m\u001b[1;33m\u001b[0m\u001b[1;33m\u001b[0m\u001b[0m\n\u001b[0m",
      "\u001b[1;32mC:\\anaconda3\\lib\\site-packages\\pandas\\io\\parsers.py\u001b[0m in \u001b[0;36mread_csv\u001b[1;34m(filepath_or_buffer, sep, delimiter, header, names, index_col, usecols, squeeze, prefix, mangle_dupe_cols, dtype, engine, converters, true_values, false_values, skipinitialspace, skiprows, skipfooter, nrows, na_values, keep_default_na, na_filter, verbose, skip_blank_lines, parse_dates, infer_datetime_format, keep_date_col, date_parser, dayfirst, cache_dates, iterator, chunksize, compression, thousands, decimal, lineterminator, quotechar, quoting, doublequote, escapechar, comment, encoding, dialect, error_bad_lines, warn_bad_lines, delim_whitespace, low_memory, memory_map, float_precision)\u001b[0m\n\u001b[0;32m    684\u001b[0m     )\n\u001b[0;32m    685\u001b[0m \u001b[1;33m\u001b[0m\u001b[0m\n\u001b[1;32m--> 686\u001b[1;33m     \u001b[1;32mreturn\u001b[0m \u001b[0m_read\u001b[0m\u001b[1;33m(\u001b[0m\u001b[0mfilepath_or_buffer\u001b[0m\u001b[1;33m,\u001b[0m \u001b[0mkwds\u001b[0m\u001b[1;33m)\u001b[0m\u001b[1;33m\u001b[0m\u001b[1;33m\u001b[0m\u001b[0m\n\u001b[0m\u001b[0;32m    687\u001b[0m \u001b[1;33m\u001b[0m\u001b[0m\n\u001b[0;32m    688\u001b[0m \u001b[1;33m\u001b[0m\u001b[0m\n",
      "\u001b[1;32mC:\\anaconda3\\lib\\site-packages\\pandas\\io\\parsers.py\u001b[0m in \u001b[0;36m_read\u001b[1;34m(filepath_or_buffer, kwds)\u001b[0m\n\u001b[0;32m    450\u001b[0m \u001b[1;33m\u001b[0m\u001b[0m\n\u001b[0;32m    451\u001b[0m     \u001b[1;31m# Create the parser.\u001b[0m\u001b[1;33m\u001b[0m\u001b[1;33m\u001b[0m\u001b[1;33m\u001b[0m\u001b[0m\n\u001b[1;32m--> 452\u001b[1;33m     \u001b[0mparser\u001b[0m \u001b[1;33m=\u001b[0m \u001b[0mTextFileReader\u001b[0m\u001b[1;33m(\u001b[0m\u001b[0mfp_or_buf\u001b[0m\u001b[1;33m,\u001b[0m \u001b[1;33m**\u001b[0m\u001b[0mkwds\u001b[0m\u001b[1;33m)\u001b[0m\u001b[1;33m\u001b[0m\u001b[1;33m\u001b[0m\u001b[0m\n\u001b[0m\u001b[0;32m    453\u001b[0m \u001b[1;33m\u001b[0m\u001b[0m\n\u001b[0;32m    454\u001b[0m     \u001b[1;32mif\u001b[0m \u001b[0mchunksize\u001b[0m \u001b[1;32mor\u001b[0m \u001b[0miterator\u001b[0m\u001b[1;33m:\u001b[0m\u001b[1;33m\u001b[0m\u001b[1;33m\u001b[0m\u001b[0m\n",
      "\u001b[1;32mC:\\anaconda3\\lib\\site-packages\\pandas\\io\\parsers.py\u001b[0m in \u001b[0;36m__init__\u001b[1;34m(self, f, engine, **kwds)\u001b[0m\n\u001b[0;32m    944\u001b[0m             \u001b[0mself\u001b[0m\u001b[1;33m.\u001b[0m\u001b[0moptions\u001b[0m\u001b[1;33m[\u001b[0m\u001b[1;34m\"has_index_names\"\u001b[0m\u001b[1;33m]\u001b[0m \u001b[1;33m=\u001b[0m \u001b[0mkwds\u001b[0m\u001b[1;33m[\u001b[0m\u001b[1;34m\"has_index_names\"\u001b[0m\u001b[1;33m]\u001b[0m\u001b[1;33m\u001b[0m\u001b[1;33m\u001b[0m\u001b[0m\n\u001b[0;32m    945\u001b[0m \u001b[1;33m\u001b[0m\u001b[0m\n\u001b[1;32m--> 946\u001b[1;33m         \u001b[0mself\u001b[0m\u001b[1;33m.\u001b[0m\u001b[0m_make_engine\u001b[0m\u001b[1;33m(\u001b[0m\u001b[0mself\u001b[0m\u001b[1;33m.\u001b[0m\u001b[0mengine\u001b[0m\u001b[1;33m)\u001b[0m\u001b[1;33m\u001b[0m\u001b[1;33m\u001b[0m\u001b[0m\n\u001b[0m\u001b[0;32m    947\u001b[0m \u001b[1;33m\u001b[0m\u001b[0m\n\u001b[0;32m    948\u001b[0m     \u001b[1;32mdef\u001b[0m \u001b[0mclose\u001b[0m\u001b[1;33m(\u001b[0m\u001b[0mself\u001b[0m\u001b[1;33m)\u001b[0m\u001b[1;33m:\u001b[0m\u001b[1;33m\u001b[0m\u001b[1;33m\u001b[0m\u001b[0m\n",
      "\u001b[1;32mC:\\anaconda3\\lib\\site-packages\\pandas\\io\\parsers.py\u001b[0m in \u001b[0;36m_make_engine\u001b[1;34m(self, engine)\u001b[0m\n\u001b[0;32m   1176\u001b[0m     \u001b[1;32mdef\u001b[0m \u001b[0m_make_engine\u001b[0m\u001b[1;33m(\u001b[0m\u001b[0mself\u001b[0m\u001b[1;33m,\u001b[0m \u001b[0mengine\u001b[0m\u001b[1;33m=\u001b[0m\u001b[1;34m\"c\"\u001b[0m\u001b[1;33m)\u001b[0m\u001b[1;33m:\u001b[0m\u001b[1;33m\u001b[0m\u001b[1;33m\u001b[0m\u001b[0m\n\u001b[0;32m   1177\u001b[0m         \u001b[1;32mif\u001b[0m \u001b[0mengine\u001b[0m \u001b[1;33m==\u001b[0m \u001b[1;34m\"c\"\u001b[0m\u001b[1;33m:\u001b[0m\u001b[1;33m\u001b[0m\u001b[1;33m\u001b[0m\u001b[0m\n\u001b[1;32m-> 1178\u001b[1;33m             \u001b[0mself\u001b[0m\u001b[1;33m.\u001b[0m\u001b[0m_engine\u001b[0m \u001b[1;33m=\u001b[0m \u001b[0mCParserWrapper\u001b[0m\u001b[1;33m(\u001b[0m\u001b[0mself\u001b[0m\u001b[1;33m.\u001b[0m\u001b[0mf\u001b[0m\u001b[1;33m,\u001b[0m \u001b[1;33m**\u001b[0m\u001b[0mself\u001b[0m\u001b[1;33m.\u001b[0m\u001b[0moptions\u001b[0m\u001b[1;33m)\u001b[0m\u001b[1;33m\u001b[0m\u001b[1;33m\u001b[0m\u001b[0m\n\u001b[0m\u001b[0;32m   1179\u001b[0m         \u001b[1;32melse\u001b[0m\u001b[1;33m:\u001b[0m\u001b[1;33m\u001b[0m\u001b[1;33m\u001b[0m\u001b[0m\n\u001b[0;32m   1180\u001b[0m             \u001b[1;32mif\u001b[0m \u001b[0mengine\u001b[0m \u001b[1;33m==\u001b[0m \u001b[1;34m\"python\"\u001b[0m\u001b[1;33m:\u001b[0m\u001b[1;33m\u001b[0m\u001b[1;33m\u001b[0m\u001b[0m\n",
      "\u001b[1;32mC:\\anaconda3\\lib\\site-packages\\pandas\\io\\parsers.py\u001b[0m in \u001b[0;36m__init__\u001b[1;34m(self, src, **kwds)\u001b[0m\n\u001b[0;32m   2006\u001b[0m         \u001b[0mkwds\u001b[0m\u001b[1;33m[\u001b[0m\u001b[1;34m\"usecols\"\u001b[0m\u001b[1;33m]\u001b[0m \u001b[1;33m=\u001b[0m \u001b[0mself\u001b[0m\u001b[1;33m.\u001b[0m\u001b[0musecols\u001b[0m\u001b[1;33m\u001b[0m\u001b[1;33m\u001b[0m\u001b[0m\n\u001b[0;32m   2007\u001b[0m \u001b[1;33m\u001b[0m\u001b[0m\n\u001b[1;32m-> 2008\u001b[1;33m         \u001b[0mself\u001b[0m\u001b[1;33m.\u001b[0m\u001b[0m_reader\u001b[0m \u001b[1;33m=\u001b[0m \u001b[0mparsers\u001b[0m\u001b[1;33m.\u001b[0m\u001b[0mTextReader\u001b[0m\u001b[1;33m(\u001b[0m\u001b[0msrc\u001b[0m\u001b[1;33m,\u001b[0m \u001b[1;33m**\u001b[0m\u001b[0mkwds\u001b[0m\u001b[1;33m)\u001b[0m\u001b[1;33m\u001b[0m\u001b[1;33m\u001b[0m\u001b[0m\n\u001b[0m\u001b[0;32m   2009\u001b[0m         \u001b[0mself\u001b[0m\u001b[1;33m.\u001b[0m\u001b[0munnamed_cols\u001b[0m \u001b[1;33m=\u001b[0m \u001b[0mself\u001b[0m\u001b[1;33m.\u001b[0m\u001b[0m_reader\u001b[0m\u001b[1;33m.\u001b[0m\u001b[0munnamed_cols\u001b[0m\u001b[1;33m\u001b[0m\u001b[1;33m\u001b[0m\u001b[0m\n\u001b[0;32m   2010\u001b[0m \u001b[1;33m\u001b[0m\u001b[0m\n",
      "\u001b[1;32mpandas\\_libs\\parsers.pyx\u001b[0m in \u001b[0;36mpandas._libs.parsers.TextReader.__cinit__\u001b[1;34m()\u001b[0m\n",
      "\u001b[1;32mpandas\\_libs\\parsers.pyx\u001b[0m in \u001b[0;36mpandas._libs.parsers.TextReader._get_header\u001b[1;34m()\u001b[0m\n",
      "\u001b[1;31mUnicodeDecodeError\u001b[0m: 'utf-8' codec can't decode byte 0xd2 in position 1: invalid continuation byte"
     ]
    }
   ],
   "source": [
    "df_SBERP_incorrect_1 = pd.read_csv(file_SBERP_csv_ru_cp1251)"
   ]
  },
  {
   "cell_type": "code",
   "execution_count": 10,
   "metadata": {},
   "outputs": [
    {
     "ename": "NameError",
     "evalue": "name 'df_SBERP_incorrect_1' is not defined",
     "output_type": "error",
     "traceback": [
      "\u001b[1;31m---------------------------------------------------------------------------\u001b[0m",
      "\u001b[1;31mNameError\u001b[0m                                 Traceback (most recent call last)",
      "\u001b[1;32m<ipython-input-10-0efb83e234d4>\u001b[0m in \u001b[0;36m<module>\u001b[1;34m\u001b[0m\n\u001b[1;32m----> 1\u001b[1;33m \u001b[0mdf_SBERP_incorrect_1\u001b[0m    \u001b[1;31m# проверим, что получилось\u001b[0m\u001b[1;33m\u001b[0m\u001b[1;33m\u001b[0m\u001b[0m\n\u001b[0m",
      "\u001b[1;31mNameError\u001b[0m: name 'df_SBERP_incorrect_1' is not defined"
     ]
    }
   ],
   "source": [
    "df_SBERP_incorrect_1    # проверим, что получилось"
   ]
  },
  {
   "cell_type": "markdown",
   "metadata": {},
   "source": [
    "**Что видим: ошибку из-за кодировки.**<br>"
   ]
  },
  {
   "cell_type": "markdown",
   "metadata": {},
   "source": [
    "Если укажем только кодировку, но не укажем разделитель:"
   ]
  },
  {
   "cell_type": "code",
   "execution_count": 11,
   "metadata": {},
   "outputs": [],
   "source": [
    "df_SBERP_incorrect_2 = pd.read_csv(file_SBERP_csv_ru_cp1251, encoding = 'cp1251')"
   ]
  },
  {
   "cell_type": "code",
   "execution_count": 12,
   "metadata": {},
   "outputs": [
    {
     "data": {
      "text/html": [
       "<div>\n",
       "<style scoped>\n",
       "    .dataframe tbody tr th:only-of-type {\n",
       "        vertical-align: middle;\n",
       "    }\n",
       "\n",
       "    .dataframe tbody tr th {\n",
       "        vertical-align: top;\n",
       "    }\n",
       "\n",
       "    .dataframe thead th {\n",
       "        text-align: right;\n",
       "    }\n",
       "</style>\n",
       "<table border=\"1\" class=\"dataframe\">\n",
       "  <thead>\n",
       "    <tr style=\"text-align: right;\">\n",
       "      <th></th>\n",
       "      <th>&lt;ТИКЕР&gt;;&lt;ПЕРИОД&gt;;&lt;ДАТА&gt;;&lt;ВРЕМЯ&gt;;&lt;ЦЕНА_CLOSE&gt;;&lt;ОБЪЕМ&gt;</th>\n",
       "    </tr>\n",
       "  </thead>\n",
       "  <tbody>\n",
       "    <tr>\n",
       "      <th>0</th>\n",
       "      <td>SBERP;D;20171019;0;159.01;2925500</td>\n",
       "    </tr>\n",
       "    <tr>\n",
       "      <th>1</th>\n",
       "      <td>SBERP;D;20171020;0;160.87;2301800</td>\n",
       "    </tr>\n",
       "    <tr>\n",
       "      <th>2</th>\n",
       "      <td>SBERP;D;20171023;0;159.89;2089900</td>\n",
       "    </tr>\n",
       "    <tr>\n",
       "      <th>3</th>\n",
       "      <td>SBERP;D;20171024;0;160;1927500</td>\n",
       "    </tr>\n",
       "    <tr>\n",
       "      <th>4</th>\n",
       "      <td>SBERP;D;20171025;0;158.79;2205200</td>\n",
       "    </tr>\n",
       "    <tr>\n",
       "      <th>...</th>\n",
       "      <td>...</td>\n",
       "    </tr>\n",
       "    <tr>\n",
       "      <th>1006</th>\n",
       "      <td>SBERP;D;20211013;0;346.45;9156050</td>\n",
       "    </tr>\n",
       "    <tr>\n",
       "      <th>1007</th>\n",
       "      <td>SBERP;D;20211014;0;345.3;7297000</td>\n",
       "    </tr>\n",
       "    <tr>\n",
       "      <th>1008</th>\n",
       "      <td>SBERP;D;20211015;0;341.5;4339600</td>\n",
       "    </tr>\n",
       "    <tr>\n",
       "      <th>1009</th>\n",
       "      <td>SBERP;D;20211018;0;333.03;7329220</td>\n",
       "    </tr>\n",
       "    <tr>\n",
       "      <th>1010</th>\n",
       "      <td>SBERP;D;20211019;0;333.47;2357610</td>\n",
       "    </tr>\n",
       "  </tbody>\n",
       "</table>\n",
       "<p>1011 rows × 1 columns</p>\n",
       "</div>"
      ],
      "text/plain": [
       "     <ТИКЕР>;<ПЕРИОД>;<ДАТА>;<ВРЕМЯ>;<ЦЕНА_CLOSE>;<ОБЪЕМ>\n",
       "0                     SBERP;D;20171019;0;159.01;2925500  \n",
       "1                     SBERP;D;20171020;0;160.87;2301800  \n",
       "2                     SBERP;D;20171023;0;159.89;2089900  \n",
       "3                        SBERP;D;20171024;0;160;1927500  \n",
       "4                     SBERP;D;20171025;0;158.79;2205200  \n",
       "...                                                 ...  \n",
       "1006                  SBERP;D;20211013;0;346.45;9156050  \n",
       "1007                   SBERP;D;20211014;0;345.3;7297000  \n",
       "1008                   SBERP;D;20211015;0;341.5;4339600  \n",
       "1009                  SBERP;D;20211018;0;333.03;7329220  \n",
       "1010                  SBERP;D;20211019;0;333.47;2357610  \n",
       "\n",
       "[1011 rows x 1 columns]"
      ]
     },
     "execution_count": 12,
     "metadata": {},
     "output_type": "execute_result"
    }
   ],
   "source": [
    "df_SBERP_incorrect_2    # проверим, что получилось"
   ]
  },
  {
   "cell_type": "markdown",
   "metadata": {},
   "source": [
    "**Что видим: ошибки нет (мы указали кодировку), но все в одной колонке (это из-за sep = ';').**<br>"
   ]
  },
  {
   "cell_type": "markdown",
   "metadata": {},
   "source": [
    "### 3. Запись данных из таблицы pandas DataFrame в файл csv формата"
   ]
  },
  {
   "cell_type": "markdown",
   "metadata": {},
   "source": [
    "Для записи данных в файл csv формата воспользуемся методом `pandas.DataFrame.to_csv`<br>\n",
    "https://pandas.pydata.org/docs/reference/api/pandas.DataFrame.to_csv.html<br>    \n",
    "Метод имеет множество параметров, с помощью которых можно кастомизировать процесс записи данных в файл. Набор параметров во многом аналогичен тем, что используются при загрузке данных - кодировка, разделитель, записывать или нет колонку индекса и т.д.<br>  \n",
    "По минимуму нужно указать имя файла в формате строки, например, `'out_учебный_датасет.csv'` или с указанием полного пути к файлу `C:/my_py_file/out_учебный_датасет.csv'`."
   ]
  },
  {
   "cell_type": "code",
   "execution_count": 13,
   "metadata": {},
   "outputs": [
    {
     "data": {
      "text/plain": [
       "'out_dataset_1_SBERP_csv_ru_cp1251.csv'"
      ]
     },
     "execution_count": 13,
     "metadata": {},
     "output_type": "execute_result"
    }
   ],
   "source": [
    "# зададим имя файла для данных SBERP путем добавления префикса 'out_' к имени исходного файла\n",
    "file_out_SBERP_csv_ru_cp1251 = 'out_' + file_SBERP_csv_ru_cp1251\n",
    "file_out_SBERP_csv_ru_cp1251    # выведем на экран"
   ]
  },
  {
   "cell_type": "markdown",
   "metadata": {},
   "source": [
    "Запишем DataFrame `df_SBERP` с котировками привилегированных акций Сбербанка в файл csv формата:\n",
    "- с разделителем в виде `;` (надо указать в явном виде `sep = ';'`, если хотим `,` - это по умолчанию),\n",
    "- с кодировкой cp1251 для работы с данными в MS Excel (надо указать `encoding = 'cp1251'`),\n",
    "- c игнорированием индексного столбца с номерами по порядку (надо указать `index = False`).\n",
    "\n",
    "Полный путь можно не указывать - файл запишется в ту же папку, где и .ipynb."
   ]
  },
  {
   "cell_type": "code",
   "execution_count": 14,
   "metadata": {},
   "outputs": [],
   "source": [
    "df_SBERP.to_csv(file_out_SBERP_csv_ru_cp1251, sep = ';', encoding = 'cp1251', index = False)"
   ]
  },
  {
   "cell_type": "markdown",
   "metadata": {},
   "source": [
    "Откроем полученный файл `out_dataset_1_SBERP_csv_ru_cp1251.csv` с помощью MS Excel и посмотрим, что получилось:\n",
    "- MS Excel смог разбить данные на ячейки и разделитель `;` не виден (его можно увидеть, если открыть файл в Блокнот Windows),\n",
    "- кириллица читаема,\n",
    "- индексной колонки с 0,1,... нет"
   ]
  },
  {
   "cell_type": "markdown",
   "metadata": {},
   "source": [
    "Проделаем все то же самое, но запишем DataFrame `df_SBERP` в файл csv формата без указания дополнительных параметров."
   ]
  },
  {
   "cell_type": "code",
   "execution_count": 15,
   "metadata": {},
   "outputs": [],
   "source": [
    "df_SBERP.to_csv(file_out_SBERP_csv_ru_cp1251)"
   ]
  },
  {
   "cell_type": "markdown",
   "metadata": {},
   "source": [
    "Откроем полученный файл `out_dataset_1_SBERP_csv_ru_cp1251.csv` с помощью MS Excel и посмотрим, что получилось:\n",
    "- MS Excel не смог разбить на ячейки и виден разделитель `,` (по умолчанию MS Excel понимает `;`),\n",
    "- кириллица не читаема (если не указать явно, файл запишется в кодировке UTF8, а MS Excel по умолчанию понимает cp1251),\n",
    "- индексная колонка с 0,1,... без имени - присутствует."
   ]
  },
  {
   "cell_type": "markdown",
   "metadata": {},
   "source": [
    "### 4. Загрузка данных из файла в excel формате в таблицу pandas DataFrame"
   ]
  },
  {
   "cell_type": "markdown",
   "metadata": {},
   "source": [
    "Для загрузки воспользуемся методом `pandas.read_excel`<br>\n",
    "https://pandas.pydata.org/pandas-docs/stable/reference/api/pandas.read_excel.html<br>   \n",
    "Метод имеет множество параметров, с помощью которых можно кастомизировать процесс загрузки данных, указав нужную вкладку, строку с именами колонок и колонку с индексами строк и т.д.<br>  \n",
    "По минимуму нужно указать имя файла в формате строки, например, `'учебный_датасет.xlsx'` или с указанием полного пути к файлу `C:/my_py_file/учебный_датасет.xlsx'`, если без указания пути Python не сможет найти файл."
   ]
  },
  {
   "cell_type": "code",
   "execution_count": 16,
   "metadata": {},
   "outputs": [],
   "source": [
    "# зададим имя файла (лежит в той же папке)\n",
    "file_SNGS_excel = 'dataset_1_SNGS_excel.xlsx'"
   ]
  },
  {
   "cell_type": "markdown",
   "metadata": {},
   "source": [
    "Загрузим в два DataFrame данные с двух вкладок excel файла `file_SNGS_excel`.<br>\n",
    "В нем котировки обыкновенных и привилегированных акций Сургутнефтегаза (вкладки `SNGS` и `SNGSP`).<br>\n",
    "**Надо указать в явном виде** - `sheet_name = \"SNGS\"` - название вкладки, `header = 0` - в какой строке заголовки, `index_col = 2` - в какой колонке индексы (у нас это будет дата из 2-й колонки - напомню, нумерация с нуля).<br> \n",
    "Т.к. лежит он там же, где и `.ipynb`, то полный путь можно не указывать. "
   ]
  },
  {
   "cell_type": "code",
   "execution_count": 17,
   "metadata": {},
   "outputs": [],
   "source": [
    "# выкачиваем данные c двух вкладок (листов) xlsx файла в две таблицы DataFrame \n",
    "df_SNGS = pd.read_excel(file_SNGS_excel,sheet_name = \"SNGS\", header = 0, index_col = 2)\n",
    "df_SNGSP = pd.read_excel(file_SNGS_excel,sheet_name = \"SNGSP\", header = 0, index_col = 2)"
   ]
  },
  {
   "cell_type": "code",
   "execution_count": 18,
   "metadata": {},
   "outputs": [
    {
     "data": {
      "text/html": [
       "<div>\n",
       "<style scoped>\n",
       "    .dataframe tbody tr th:only-of-type {\n",
       "        vertical-align: middle;\n",
       "    }\n",
       "\n",
       "    .dataframe tbody tr th {\n",
       "        vertical-align: top;\n",
       "    }\n",
       "\n",
       "    .dataframe thead th {\n",
       "        text-align: right;\n",
       "    }\n",
       "</style>\n",
       "<table border=\"1\" class=\"dataframe\">\n",
       "  <thead>\n",
       "    <tr style=\"text-align: right;\">\n",
       "      <th></th>\n",
       "      <th>&lt;TICKER&gt;</th>\n",
       "      <th>&lt;PER&gt;</th>\n",
       "      <th>&lt;TIME&gt;</th>\n",
       "      <th>&lt;CLOSE&gt;</th>\n",
       "      <th>&lt;VOL&gt;</th>\n",
       "    </tr>\n",
       "    <tr>\n",
       "      <th>&lt;DATE&gt;</th>\n",
       "      <th></th>\n",
       "      <th></th>\n",
       "      <th></th>\n",
       "      <th></th>\n",
       "      <th></th>\n",
       "    </tr>\n",
       "  </thead>\n",
       "  <tbody>\n",
       "    <tr>\n",
       "      <th>20171019</th>\n",
       "      <td>SNGS</td>\n",
       "      <td>D</td>\n",
       "      <td>0</td>\n",
       "      <td>29.330</td>\n",
       "      <td>7912200</td>\n",
       "    </tr>\n",
       "    <tr>\n",
       "      <th>20171020</th>\n",
       "      <td>SNGS</td>\n",
       "      <td>D</td>\n",
       "      <td>0</td>\n",
       "      <td>29.520</td>\n",
       "      <td>11010600</td>\n",
       "    </tr>\n",
       "    <tr>\n",
       "      <th>20171023</th>\n",
       "      <td>SNGS</td>\n",
       "      <td>D</td>\n",
       "      <td>0</td>\n",
       "      <td>29.400</td>\n",
       "      <td>4819300</td>\n",
       "    </tr>\n",
       "    <tr>\n",
       "      <th>20171024</th>\n",
       "      <td>SNGS</td>\n",
       "      <td>D</td>\n",
       "      <td>0</td>\n",
       "      <td>29.270</td>\n",
       "      <td>9892000</td>\n",
       "    </tr>\n",
       "    <tr>\n",
       "      <th>20171025</th>\n",
       "      <td>SNGS</td>\n",
       "      <td>D</td>\n",
       "      <td>0</td>\n",
       "      <td>29.110</td>\n",
       "      <td>13120600</td>\n",
       "    </tr>\n",
       "    <tr>\n",
       "      <th>...</th>\n",
       "      <td>...</td>\n",
       "      <td>...</td>\n",
       "      <td>...</td>\n",
       "      <td>...</td>\n",
       "      <td>...</td>\n",
       "    </tr>\n",
       "    <tr>\n",
       "      <th>20211013</th>\n",
       "      <td>SNGS</td>\n",
       "      <td>D</td>\n",
       "      <td>0</td>\n",
       "      <td>36.850</td>\n",
       "      <td>30316400</td>\n",
       "    </tr>\n",
       "    <tr>\n",
       "      <th>20211014</th>\n",
       "      <td>SNGS</td>\n",
       "      <td>D</td>\n",
       "      <td>0</td>\n",
       "      <td>37.040</td>\n",
       "      <td>21989100</td>\n",
       "    </tr>\n",
       "    <tr>\n",
       "      <th>20211015</th>\n",
       "      <td>SNGS</td>\n",
       "      <td>D</td>\n",
       "      <td>0</td>\n",
       "      <td>37.360</td>\n",
       "      <td>30094800</td>\n",
       "    </tr>\n",
       "    <tr>\n",
       "      <th>20211018</th>\n",
       "      <td>SNGS</td>\n",
       "      <td>D</td>\n",
       "      <td>0</td>\n",
       "      <td>36.915</td>\n",
       "      <td>35549900</td>\n",
       "    </tr>\n",
       "    <tr>\n",
       "      <th>20211019</th>\n",
       "      <td>SNGS</td>\n",
       "      <td>D</td>\n",
       "      <td>0</td>\n",
       "      <td>37.220</td>\n",
       "      <td>13439400</td>\n",
       "    </tr>\n",
       "  </tbody>\n",
       "</table>\n",
       "<p>1011 rows × 5 columns</p>\n",
       "</div>"
      ],
      "text/plain": [
       "         <TICKER> <PER>  <TIME>  <CLOSE>     <VOL>\n",
       "<DATE>                                            \n",
       "20171019     SNGS     D       0   29.330   7912200\n",
       "20171020     SNGS     D       0   29.520  11010600\n",
       "20171023     SNGS     D       0   29.400   4819300\n",
       "20171024     SNGS     D       0   29.270   9892000\n",
       "20171025     SNGS     D       0   29.110  13120600\n",
       "...           ...   ...     ...      ...       ...\n",
       "20211013     SNGS     D       0   36.850  30316400\n",
       "20211014     SNGS     D       0   37.040  21989100\n",
       "20211015     SNGS     D       0   37.360  30094800\n",
       "20211018     SNGS     D       0   36.915  35549900\n",
       "20211019     SNGS     D       0   37.220  13439400\n",
       "\n",
       "[1011 rows x 5 columns]"
      ]
     },
     "execution_count": 18,
     "metadata": {},
     "output_type": "execute_result"
    }
   ],
   "source": [
    "df_SNGS    # проверим, что скачалось с вкладки SNGS"
   ]
  },
  {
   "cell_type": "code",
   "execution_count": 19,
   "metadata": {},
   "outputs": [
    {
     "data": {
      "text/html": [
       "<div>\n",
       "<style scoped>\n",
       "    .dataframe tbody tr th:only-of-type {\n",
       "        vertical-align: middle;\n",
       "    }\n",
       "\n",
       "    .dataframe tbody tr th {\n",
       "        vertical-align: top;\n",
       "    }\n",
       "\n",
       "    .dataframe thead th {\n",
       "        text-align: right;\n",
       "    }\n",
       "</style>\n",
       "<table border=\"1\" class=\"dataframe\">\n",
       "  <thead>\n",
       "    <tr style=\"text-align: right;\">\n",
       "      <th></th>\n",
       "      <th>&lt;TICKER&gt;</th>\n",
       "      <th>&lt;PER&gt;</th>\n",
       "      <th>&lt;TIME&gt;</th>\n",
       "      <th>&lt;CLOSE&gt;</th>\n",
       "      <th>&lt;VOL&gt;</th>\n",
       "    </tr>\n",
       "    <tr>\n",
       "      <th>&lt;DATE&gt;</th>\n",
       "      <th></th>\n",
       "      <th></th>\n",
       "      <th></th>\n",
       "      <th></th>\n",
       "      <th></th>\n",
       "    </tr>\n",
       "  </thead>\n",
       "  <tbody>\n",
       "    <tr>\n",
       "      <th>20171019</th>\n",
       "      <td>SNGSP</td>\n",
       "      <td>D</td>\n",
       "      <td>0</td>\n",
       "      <td>29.250</td>\n",
       "      <td>15117300</td>\n",
       "    </tr>\n",
       "    <tr>\n",
       "      <th>20171020</th>\n",
       "      <td>SNGSP</td>\n",
       "      <td>D</td>\n",
       "      <td>0</td>\n",
       "      <td>29.195</td>\n",
       "      <td>11387400</td>\n",
       "    </tr>\n",
       "    <tr>\n",
       "      <th>20171023</th>\n",
       "      <td>SNGSP</td>\n",
       "      <td>D</td>\n",
       "      <td>0</td>\n",
       "      <td>28.725</td>\n",
       "      <td>17589400</td>\n",
       "    </tr>\n",
       "    <tr>\n",
       "      <th>20171024</th>\n",
       "      <td>SNGSP</td>\n",
       "      <td>D</td>\n",
       "      <td>0</td>\n",
       "      <td>28.825</td>\n",
       "      <td>7883000</td>\n",
       "    </tr>\n",
       "    <tr>\n",
       "      <th>20171025</th>\n",
       "      <td>SNGSP</td>\n",
       "      <td>D</td>\n",
       "      <td>0</td>\n",
       "      <td>28.355</td>\n",
       "      <td>15978000</td>\n",
       "    </tr>\n",
       "    <tr>\n",
       "      <th>...</th>\n",
       "      <td>...</td>\n",
       "      <td>...</td>\n",
       "      <td>...</td>\n",
       "      <td>...</td>\n",
       "      <td>...</td>\n",
       "    </tr>\n",
       "    <tr>\n",
       "      <th>20211013</th>\n",
       "      <td>SNGSP</td>\n",
       "      <td>D</td>\n",
       "      <td>0</td>\n",
       "      <td>39.975</td>\n",
       "      <td>36317400</td>\n",
       "    </tr>\n",
       "    <tr>\n",
       "      <th>20211014</th>\n",
       "      <td>SNGSP</td>\n",
       "      <td>D</td>\n",
       "      <td>0</td>\n",
       "      <td>39.790</td>\n",
       "      <td>26511700</td>\n",
       "    </tr>\n",
       "    <tr>\n",
       "      <th>20211015</th>\n",
       "      <td>SNGSP</td>\n",
       "      <td>D</td>\n",
       "      <td>0</td>\n",
       "      <td>39.790</td>\n",
       "      <td>47813200</td>\n",
       "    </tr>\n",
       "    <tr>\n",
       "      <th>20211018</th>\n",
       "      <td>SNGSP</td>\n",
       "      <td>D</td>\n",
       "      <td>0</td>\n",
       "      <td>39.235</td>\n",
       "      <td>55244500</td>\n",
       "    </tr>\n",
       "    <tr>\n",
       "      <th>20211019</th>\n",
       "      <td>SNGSP</td>\n",
       "      <td>D</td>\n",
       "      <td>0</td>\n",
       "      <td>39.875</td>\n",
       "      <td>18275100</td>\n",
       "    </tr>\n",
       "  </tbody>\n",
       "</table>\n",
       "<p>1011 rows × 5 columns</p>\n",
       "</div>"
      ],
      "text/plain": [
       "         <TICKER> <PER>  <TIME>  <CLOSE>     <VOL>\n",
       "<DATE>                                            \n",
       "20171019    SNGSP     D       0   29.250  15117300\n",
       "20171020    SNGSP     D       0   29.195  11387400\n",
       "20171023    SNGSP     D       0   28.725  17589400\n",
       "20171024    SNGSP     D       0   28.825   7883000\n",
       "20171025    SNGSP     D       0   28.355  15978000\n",
       "...           ...   ...     ...      ...       ...\n",
       "20211013    SNGSP     D       0   39.975  36317400\n",
       "20211014    SNGSP     D       0   39.790  26511700\n",
       "20211015    SNGSP     D       0   39.790  47813200\n",
       "20211018    SNGSP     D       0   39.235  55244500\n",
       "20211019    SNGSP     D       0   39.875  18275100\n",
       "\n",
       "[1011 rows x 5 columns]"
      ]
     },
     "execution_count": 19,
     "metadata": {},
     "output_type": "execute_result"
    }
   ],
   "source": [
    "df_SNGSP    # проверим, что скачалось с вкладки SNGSP"
   ]
  },
  {
   "cell_type": "markdown",
   "metadata": {},
   "source": [
    "### 5. Запись данных из таблицы pandas DataFrame в файл excel формата"
   ]
  },
  {
   "cell_type": "markdown",
   "metadata": {},
   "source": [
    "Для записи данных в файл csv формата воспользуемся методом `pandas.DataFrame.to_excel`<br>\n",
    "https://pandas.pydata.org/pandas-docs/stable/reference/api/pandas.DataFrame.to_excel.html#pandas.DataFrame.to_excel<br>    \n",
    "Метод имеет множество параметров, с помощью которых можно кастомизировать процесс записи данных в файл. Набор параметров во многом аналогичен тем, что используются при загрузке данных - вкладк, нужны ли заголовки и индексы и т.д.<br>  \n",
    "По минимуму нужно указать имя файла в формате строки, например, `'out_учебный_датасет.xlsx'` или с указанием полного пути к файлу `C:/my_py_file/out_учебный_датасет.xlsx'`."
   ]
  },
  {
   "cell_type": "code",
   "execution_count": 20,
   "metadata": {},
   "outputs": [
    {
     "data": {
      "text/plain": [
       "'out_dataset_1_SNGS_excel.xlsx'"
      ]
     },
     "execution_count": 20,
     "metadata": {},
     "output_type": "execute_result"
    }
   ],
   "source": [
    "# зададим имя файла для данных SNGS и SNGSP путем добавления префикса 'out_' к имени исходного файла\n",
    "file_out_file_SNGS_excel = 'out_' + file_SNGS_excel\n",
    "file_out_file_SNGS_excel   # выведем на экран"
   ]
  },
  {
   "cell_type": "markdown",
   "metadata": {},
   "source": [
    "Запишем DataFrame `df_SNGS` в файл `out_dataset_1_SNGS_excel.xlsx` без каких либо параметров."
   ]
  },
  {
   "cell_type": "code",
   "execution_count": 21,
   "metadata": {},
   "outputs": [],
   "source": [
    "df_SNGS.to_excel(file_out_file_SNGS_excel)"
   ]
  },
  {
   "cell_type": "markdown",
   "metadata": {},
   "source": [
    "Откроем полученный файл `out_dataset_1_SNGS_excel.xlsx` с помощью MS Excel и посмотрим, что получилось:\n",
    "- таблица записалась на вкладку `Sheet1`,\n",
    "- индексная колонка с датой выделена жирным шрифтом,\n",
    "- заголовки есть."
   ]
  },
  {
   "cell_type": "markdown",
   "metadata": {},
   "source": [
    "Запишем второй DataFrame `df_SNGSP` в этот же файл `out_dataset_1_SNGS_excel.xlsx` без каких либо параметров."
   ]
  },
  {
   "cell_type": "code",
   "execution_count": 22,
   "metadata": {},
   "outputs": [],
   "source": [
    "df_SNGSP.to_excel(file_out_file_SNGS_excel)"
   ]
  },
  {
   "cell_type": "markdown",
   "metadata": {},
   "source": [
    "Откроем полученный файл `out_dataset_1_SNGS_excel.xlsx` с помощью MS Excel и посмотрим, что получилось:\n",
    "- файл записался заново - данные `df_SNGS` не сохранились."
   ]
  },
  {
   "cell_type": "markdown",
   "metadata": {},
   "source": [
    "**Модифицируем код, чтобы можно было записать данные в одну таблицу excel на разные вкладки.**<br>\n",
    "Для этого понадобится объект класса `pd.ExcelWriter`<br>\n",
    "https://pandas.pydata.org/pandas-docs/stable/reference/api/pandas.ExcelWriter.html#pandas.ExcelWriter<br>\n",
    "Вкладки (листы) excel назовем именами таблиц DataFrame `df_SNGS` и `df_SNGSP`"
   ]
  },
  {
   "cell_type": "code",
   "execution_count": 23,
   "metadata": {},
   "outputs": [],
   "source": [
    "with pd.ExcelWriter(file_out_file_SNGS_excel) as writer:  \n",
    "    df_SNGS.to_excel(writer, sheet_name='df_SNGS')\n",
    "    df_SNGSP.to_excel(writer, sheet_name='df_SNGSP')"
   ]
  },
  {
   "cell_type": "markdown",
   "metadata": {},
   "source": [
    "Откроем полученный файл `out_dataset_1_SNGS_excel.xlsx` с помощью MS Excel и посмотрим, что получилось:\n",
    "- файл записался заново - данные `df_SNGS` и `df_SNGSP` теперь на разных вкладках."
   ]
  },
  {
   "cell_type": "markdown",
   "metadata": {},
   "source": [
    "> Не трудно заметить, в разделе Input/Output описания библиотеки pandas есть еще много вариантов, откуда брать данные:  \n",
    "> https://pandas.pydata.org/pandas-docs/stable/reference/io.html\n",
    "> JSON, HTML, SPSS, SQL, ..."
   ]
  },
  {
   "cell_type": "markdown",
   "metadata": {},
   "source": [
    "### Подведем итоги. На этом занятии мы научились:\n",
    "- Загружать данные из csv и excel файлов в таблицу pandas DataFrame.\n",
    "- Записывать данные из таблиц pandas DataFrame в файлы csv и excel."
   ]
  }
 ],
 "metadata": {
  "kernelspec": {
   "display_name": "Python 3",
   "language": "python",
   "name": "python3"
  },
  "language_info": {
   "codemirror_mode": {
    "name": "ipython",
    "version": 3
   },
   "file_extension": ".py",
   "mimetype": "text/x-python",
   "name": "python",
   "nbconvert_exporter": "python",
   "pygments_lexer": "ipython3",
   "version": "3.8.5"
  }
 },
 "nbformat": 4,
 "nbformat_minor": 2
}
