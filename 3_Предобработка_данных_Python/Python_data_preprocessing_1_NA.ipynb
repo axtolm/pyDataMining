{
 "cells": [
  {
   "cell_type": "markdown",
   "metadata": {},
   "source": [
    "#### @author: Александр Владимирович Толмачев | axtolm@gmail.com\n",
    "<hr>"
   ]
  },
  {
   "cell_type": "markdown",
   "metadata": {},
   "source": [
    "## 3. Предобработка данных на Python"
   ]
  },
  {
   "cell_type": "markdown",
   "metadata": {},
   "source": [
    "## Часть 1. Работа с пропусками в данных"
   ]
  },
  {
   "cell_type": "markdown",
   "metadata": {},
   "source": [
    "### На этом занятии мы планируем научиться:\n",
    "- Получать для таблицы pandas DataFrame описательную статистику.\n",
    "- Находить пропуски в данных и исправлять их."
   ]
  },
  {
   "cell_type": "markdown",
   "metadata": {},
   "source": [
    "### 1. Вводная информация\n",
    "На практике может возникнуть ситуация, когда полученные из какого-либо источника данные содержат пропуски.<br>"
   ]
  },
  {
   "cell_type": "markdown",
   "metadata": {},
   "source": [
    "Как выглядят пропуски в исходных данных (котировки акций Лукойл) в CSV формате:\n",
    "\n",
    "```\n",
    "<TICKER>;<PER>;<DATE>;<TIME>;<CLOSE>;<VOL>\n",
    "LKOH;D;20171019;000000;2985.0000000;417461\n",
    "LKOH;D;20171020;000000;2994.0000000;\n",
    "LKOH;D;20171023;000000;;394534\n",
    "LKOH;D;20171024;000000;3018.0000000;338596\n",
    "...\n",
    "```\n",
    "Как отсутствующие элементы - для примера 2-я строка `<VOL>` и 3-я строка `<CLOSE>`"
   ]
  },
  {
   "cell_type": "markdown",
   "metadata": {},
   "source": [
    "Пропуски в Python pandas DataFrame обозначаются `NaN` (как это выглядит - увидим ниже). Нужно уметь их находить и исправлять. "
   ]
  },
  {
   "cell_type": "markdown",
   "metadata": {},
   "source": [
    "### 2. Загрузка данных из файла в csv формате в таблицу pandas DataFrame"
   ]
  },
  {
   "cell_type": "markdown",
   "metadata": {},
   "source": [
    "Для загрузки воспользуемся методом `pandas.read_csv`<br>\n",
    "https://pandas.pydata.org/pandas-docs/stable/reference/api/pandas.read_csv.html<br>"
   ]
  },
  {
   "cell_type": "code",
   "execution_count": 1,
   "metadata": {},
   "outputs": [],
   "source": [
    "# зададим имя файла с пропущенными данными (лежит в той же папке)\n",
    "file_LKOH_NA = 'dataset_1_LKOH_NA.csv'"
   ]
  },
  {
   "cell_type": "code",
   "execution_count": 2,
   "metadata": {},
   "outputs": [],
   "source": [
    "import pandas as pd    # импорт библиотеки"
   ]
  },
  {
   "cell_type": "markdown",
   "metadata": {},
   "source": [
    "Загрузим в DataFrame файл данных в формате csv `file_LKOH_NA`, имеющий пропущенные данные. \n",
    "В нем котировки обыкновенных акций Лукойла.<br>\n",
    "Т.к. файл лежит там же, где и `.ipynb`, то полный путь можно не указывать. "
   ]
  },
  {
   "cell_type": "code",
   "execution_count": 3,
   "metadata": {},
   "outputs": [],
   "source": [
    "df_LKOH_NA = pd.read_csv(file_LKOH_NA)"
   ]
  },
  {
   "cell_type": "markdown",
   "metadata": {},
   "source": [
    "### 3. Обнаружение пропусков"
   ]
  },
  {
   "cell_type": "code",
   "execution_count": 4,
   "metadata": {},
   "outputs": [
    {
     "data": {
      "text/html": [
       "<div>\n",
       "<style scoped>\n",
       "    .dataframe tbody tr th:only-of-type {\n",
       "        vertical-align: middle;\n",
       "    }\n",
       "\n",
       "    .dataframe tbody tr th {\n",
       "        vertical-align: top;\n",
       "    }\n",
       "\n",
       "    .dataframe thead th {\n",
       "        text-align: right;\n",
       "    }\n",
       "</style>\n",
       "<table border=\"1\" class=\"dataframe\">\n",
       "  <thead>\n",
       "    <tr style=\"text-align: right;\">\n",
       "      <th></th>\n",
       "      <th>&lt;TICKER&gt;</th>\n",
       "      <th>&lt;PER&gt;</th>\n",
       "      <th>&lt;DATE&gt;</th>\n",
       "      <th>&lt;TIME&gt;</th>\n",
       "      <th>&lt;CLOSE&gt;</th>\n",
       "      <th>&lt;VOL&gt;</th>\n",
       "    </tr>\n",
       "  </thead>\n",
       "  <tbody>\n",
       "    <tr>\n",
       "      <th>0</th>\n",
       "      <td>LKOH</td>\n",
       "      <td>D</td>\n",
       "      <td>20171019</td>\n",
       "      <td>0</td>\n",
       "      <td>2985.0</td>\n",
       "      <td>417461.0</td>\n",
       "    </tr>\n",
       "    <tr>\n",
       "      <th>1</th>\n",
       "      <td>LKOH</td>\n",
       "      <td>D</td>\n",
       "      <td>20171020</td>\n",
       "      <td>0</td>\n",
       "      <td>2994.0</td>\n",
       "      <td>424104.0</td>\n",
       "    </tr>\n",
       "    <tr>\n",
       "      <th>2</th>\n",
       "      <td>LKOH</td>\n",
       "      <td>D</td>\n",
       "      <td>20171023</td>\n",
       "      <td>0</td>\n",
       "      <td>2997.0</td>\n",
       "      <td>394534.0</td>\n",
       "    </tr>\n",
       "    <tr>\n",
       "      <th>3</th>\n",
       "      <td>LKOH</td>\n",
       "      <td>D</td>\n",
       "      <td>20171024</td>\n",
       "      <td>0</td>\n",
       "      <td>3018.0</td>\n",
       "      <td>338596.0</td>\n",
       "    </tr>\n",
       "    <tr>\n",
       "      <th>4</th>\n",
       "      <td>LKOH</td>\n",
       "      <td>D</td>\n",
       "      <td>20171025</td>\n",
       "      <td>0</td>\n",
       "      <td>3005.0</td>\n",
       "      <td>620960.0</td>\n",
       "    </tr>\n",
       "    <tr>\n",
       "      <th>...</th>\n",
       "      <td>...</td>\n",
       "      <td>...</td>\n",
       "      <td>...</td>\n",
       "      <td>...</td>\n",
       "      <td>...</td>\n",
       "      <td>...</td>\n",
       "    </tr>\n",
       "    <tr>\n",
       "      <th>1006</th>\n",
       "      <td>LKOH</td>\n",
       "      <td>D</td>\n",
       "      <td>20211013</td>\n",
       "      <td>0</td>\n",
       "      <td>7252.0</td>\n",
       "      <td>1257240.0</td>\n",
       "    </tr>\n",
       "    <tr>\n",
       "      <th>1007</th>\n",
       "      <td>LKOH</td>\n",
       "      <td>D</td>\n",
       "      <td>20211014</td>\n",
       "      <td>0</td>\n",
       "      <td>7215.0</td>\n",
       "      <td>804831.0</td>\n",
       "    </tr>\n",
       "    <tr>\n",
       "      <th>1008</th>\n",
       "      <td>LKOH</td>\n",
       "      <td>D</td>\n",
       "      <td>20211015</td>\n",
       "      <td>0</td>\n",
       "      <td>7306.5</td>\n",
       "      <td>950893.0</td>\n",
       "    </tr>\n",
       "    <tr>\n",
       "      <th>1009</th>\n",
       "      <td>LKOH</td>\n",
       "      <td>D</td>\n",
       "      <td>20211018</td>\n",
       "      <td>0</td>\n",
       "      <td>7319.0</td>\n",
       "      <td>711222.0</td>\n",
       "    </tr>\n",
       "    <tr>\n",
       "      <th>1010</th>\n",
       "      <td>LKOH</td>\n",
       "      <td>D</td>\n",
       "      <td>20211019</td>\n",
       "      <td>0</td>\n",
       "      <td>7333.0</td>\n",
       "      <td>358781.0</td>\n",
       "    </tr>\n",
       "  </tbody>\n",
       "</table>\n",
       "<p>1011 rows × 6 columns</p>\n",
       "</div>"
      ],
      "text/plain": [
       "     <TICKER> <PER>    <DATE>  <TIME>  <CLOSE>      <VOL>\n",
       "0        LKOH     D  20171019       0   2985.0   417461.0\n",
       "1        LKOH     D  20171020       0   2994.0   424104.0\n",
       "2        LKOH     D  20171023       0   2997.0   394534.0\n",
       "3        LKOH     D  20171024       0   3018.0   338596.0\n",
       "4        LKOH     D  20171025       0   3005.0   620960.0\n",
       "...       ...   ...       ...     ...      ...        ...\n",
       "1006     LKOH     D  20211013       0   7252.0  1257240.0\n",
       "1007     LKOH     D  20211014       0   7215.0   804831.0\n",
       "1008     LKOH     D  20211015       0   7306.5   950893.0\n",
       "1009     LKOH     D  20211018       0   7319.0   711222.0\n",
       "1010     LKOH     D  20211019       0   7333.0   358781.0\n",
       "\n",
       "[1011 rows x 6 columns]"
      ]
     },
     "execution_count": 4,
     "metadata": {},
     "output_type": "execute_result"
    }
   ],
   "source": [
    "df_LKOH_NA    # проверим, что получилось после загрузки"
   ]
  },
  {
   "cell_type": "markdown",
   "metadata": {},
   "source": [
    "По началу и концу таблицы не видно ничего необычного, но там более 1000 строк.<br>"
   ]
  },
  {
   "cell_type": "markdown",
   "metadata": {},
   "source": [
    "Проверим таблицу с помощью метода `pandas.DataFrame.describe`, который считает описательную статистику.<br>\n",
    "https://pandas.pydata.org/docs/reference/api/pandas.DataFrame.describe.html"
   ]
  },
  {
   "cell_type": "code",
   "execution_count": 5,
   "metadata": {},
   "outputs": [
    {
     "data": {
      "text/html": [
       "<div>\n",
       "<style scoped>\n",
       "    .dataframe tbody tr th:only-of-type {\n",
       "        vertical-align: middle;\n",
       "    }\n",
       "\n",
       "    .dataframe tbody tr th {\n",
       "        vertical-align: top;\n",
       "    }\n",
       "\n",
       "    .dataframe thead th {\n",
       "        text-align: right;\n",
       "    }\n",
       "</style>\n",
       "<table border=\"1\" class=\"dataframe\">\n",
       "  <thead>\n",
       "    <tr style=\"text-align: right;\">\n",
       "      <th></th>\n",
       "      <th>&lt;DATE&gt;</th>\n",
       "      <th>&lt;TIME&gt;</th>\n",
       "      <th>&lt;CLOSE&gt;</th>\n",
       "      <th>&lt;VOL&gt;</th>\n",
       "    </tr>\n",
       "  </thead>\n",
       "  <tbody>\n",
       "    <tr>\n",
       "      <th>count</th>\n",
       "      <td>1.011000e+03</td>\n",
       "      <td>1011.0</td>\n",
       "      <td>1005.000000</td>\n",
       "      <td>1.006000e+03</td>\n",
       "    </tr>\n",
       "    <tr>\n",
       "      <th>mean</th>\n",
       "      <td>2.019366e+07</td>\n",
       "      <td>0.0</td>\n",
       "      <td>5180.651244</td>\n",
       "      <td>1.054897e+06</td>\n",
       "    </tr>\n",
       "    <tr>\n",
       "      <th>std</th>\n",
       "      <td>1.184013e+04</td>\n",
       "      <td>0.0</td>\n",
       "      <td>920.365528</td>\n",
       "      <td>7.358315e+05</td>\n",
       "    </tr>\n",
       "    <tr>\n",
       "      <th>min</th>\n",
       "      <td>2.017102e+07</td>\n",
       "      <td>0.0</td>\n",
       "      <td>2985.000000</td>\n",
       "      <td>5.365800e+04</td>\n",
       "    </tr>\n",
       "    <tr>\n",
       "      <th>25%</th>\n",
       "      <td>2.018102e+07</td>\n",
       "      <td>0.0</td>\n",
       "      <td>4519.500000</td>\n",
       "      <td>6.158762e+05</td>\n",
       "    </tr>\n",
       "    <tr>\n",
       "      <th>50%</th>\n",
       "      <td>2.019102e+07</td>\n",
       "      <td>0.0</td>\n",
       "      <td>5206.000000</td>\n",
       "      <td>8.393800e+05</td>\n",
       "    </tr>\n",
       "    <tr>\n",
       "      <th>75%</th>\n",
       "      <td>2.020102e+07</td>\n",
       "      <td>0.0</td>\n",
       "      <td>5868.500000</td>\n",
       "      <td>1.282734e+06</td>\n",
       "    </tr>\n",
       "    <tr>\n",
       "      <th>max</th>\n",
       "      <td>2.021102e+07</td>\n",
       "      <td>0.0</td>\n",
       "      <td>7346.500000</td>\n",
       "      <td>7.510762e+06</td>\n",
       "    </tr>\n",
       "  </tbody>\n",
       "</table>\n",
       "</div>"
      ],
      "text/plain": [
       "             <DATE>  <TIME>      <CLOSE>         <VOL>\n",
       "count  1.011000e+03  1011.0  1005.000000  1.006000e+03\n",
       "mean   2.019366e+07     0.0  5180.651244  1.054897e+06\n",
       "std    1.184013e+04     0.0   920.365528  7.358315e+05\n",
       "min    2.017102e+07     0.0  2985.000000  5.365800e+04\n",
       "25%    2.018102e+07     0.0  4519.500000  6.158762e+05\n",
       "50%    2.019102e+07     0.0  5206.000000  8.393800e+05\n",
       "75%    2.020102e+07     0.0  5868.500000  1.282734e+06\n",
       "max    2.021102e+07     0.0  7346.500000  7.510762e+06"
      ]
     },
     "execution_count": 5,
     "metadata": {},
     "output_type": "execute_result"
    }
   ],
   "source": [
    "df_LKOH_NA.describe()"
   ]
  },
  {
   "cell_type": "markdown",
   "metadata": {},
   "source": [
    "Что видим? Есть пропуски в данных таблицы (разные значения count в столбцах) - см. колонки `<CLOSE>` и `<VOL>`.<br>\n",
    "Дата воспринимается как число и обрабатывается как число. Данные по объемам представлены в экспоненциальной форме записи."
   ]
  },
  {
   "cell_type": "markdown",
   "metadata": {},
   "source": [
    "Преобразуем дату из числа во временной формат с помощью метода `pandas.to_datetime`(формат `%Y%m%d` укажем явно )<br>\n",
    "https://pandas.pydata.org/docs/reference/api/pandas.to_datetime.html"
   ]
  },
  {
   "cell_type": "code",
   "execution_count": 6,
   "metadata": {},
   "outputs": [],
   "source": [
    "df_LKOH_NA['<DATE>'] = pd.to_datetime(df_LKOH_NA['<DATE>'],format = '%Y%m%d')"
   ]
  },
  {
   "cell_type": "markdown",
   "metadata": {},
   "source": [
    "Объемы будем преобразовывать из экспоненциальной формы в обычную числовую с помощью метода `pandas.round` сразу при выводе на экран с точностью до 2 знаков после запятой<br>\n",
    "https://pandas.pydata.org/docs/reference/api/pandas.DataFrame.round.html"
   ]
  },
  {
   "cell_type": "code",
   "execution_count": 7,
   "metadata": {},
   "outputs": [
    {
     "data": {
      "text/html": [
       "<div>\n",
       "<style scoped>\n",
       "    .dataframe tbody tr th:only-of-type {\n",
       "        vertical-align: middle;\n",
       "    }\n",
       "\n",
       "    .dataframe tbody tr th {\n",
       "        vertical-align: top;\n",
       "    }\n",
       "\n",
       "    .dataframe thead th {\n",
       "        text-align: right;\n",
       "    }\n",
       "</style>\n",
       "<table border=\"1\" class=\"dataframe\">\n",
       "  <thead>\n",
       "    <tr style=\"text-align: right;\">\n",
       "      <th></th>\n",
       "      <th>&lt;TIME&gt;</th>\n",
       "      <th>&lt;CLOSE&gt;</th>\n",
       "      <th>&lt;VOL&gt;</th>\n",
       "    </tr>\n",
       "  </thead>\n",
       "  <tbody>\n",
       "    <tr>\n",
       "      <th>count</th>\n",
       "      <td>1011.0</td>\n",
       "      <td>1005.00</td>\n",
       "      <td>1006.00</td>\n",
       "    </tr>\n",
       "    <tr>\n",
       "      <th>mean</th>\n",
       "      <td>0.0</td>\n",
       "      <td>5180.65</td>\n",
       "      <td>1054896.84</td>\n",
       "    </tr>\n",
       "    <tr>\n",
       "      <th>std</th>\n",
       "      <td>0.0</td>\n",
       "      <td>920.37</td>\n",
       "      <td>735831.54</td>\n",
       "    </tr>\n",
       "    <tr>\n",
       "      <th>min</th>\n",
       "      <td>0.0</td>\n",
       "      <td>2985.00</td>\n",
       "      <td>53658.00</td>\n",
       "    </tr>\n",
       "    <tr>\n",
       "      <th>25%</th>\n",
       "      <td>0.0</td>\n",
       "      <td>4519.50</td>\n",
       "      <td>615876.25</td>\n",
       "    </tr>\n",
       "    <tr>\n",
       "      <th>50%</th>\n",
       "      <td>0.0</td>\n",
       "      <td>5206.00</td>\n",
       "      <td>839380.00</td>\n",
       "    </tr>\n",
       "    <tr>\n",
       "      <th>75%</th>\n",
       "      <td>0.0</td>\n",
       "      <td>5868.50</td>\n",
       "      <td>1282734.50</td>\n",
       "    </tr>\n",
       "    <tr>\n",
       "      <th>max</th>\n",
       "      <td>0.0</td>\n",
       "      <td>7346.50</td>\n",
       "      <td>7510762.00</td>\n",
       "    </tr>\n",
       "  </tbody>\n",
       "</table>\n",
       "</div>"
      ],
      "text/plain": [
       "       <TIME>  <CLOSE>       <VOL>\n",
       "count  1011.0  1005.00     1006.00\n",
       "mean      0.0  5180.65  1054896.84\n",
       "std       0.0   920.37   735831.54\n",
       "min       0.0  2985.00    53658.00\n",
       "25%       0.0  4519.50   615876.25\n",
       "50%       0.0  5206.00   839380.00\n",
       "75%       0.0  5868.50  1282734.50\n",
       "max       0.0  7346.50  7510762.00"
      ]
     },
     "execution_count": 7,
     "metadata": {},
     "output_type": "execute_result"
    }
   ],
   "source": [
    "df_LKOH_NA.describe().round(decimals=2)"
   ]
  },
  {
   "cell_type": "markdown",
   "metadata": {},
   "source": [
    "Чтобы удостовериться в наличии пропусков наверняка, воспользуемся методом `pandas.isna`, который возвращает таблицу pandas DataFrame, аналогичную по размеру исходной, но содержащую True (если есть пропуск) и False (если пропуска нет).<br>\n",
    "https://pandas.pydata.org/pandas-docs/stable/reference/api/pandas.isna.html#pandas.isna"
   ]
  },
  {
   "cell_type": "code",
   "execution_count": 8,
   "metadata": {},
   "outputs": [
    {
     "data": {
      "text/html": [
       "<div>\n",
       "<style scoped>\n",
       "    .dataframe tbody tr th:only-of-type {\n",
       "        vertical-align: middle;\n",
       "    }\n",
       "\n",
       "    .dataframe tbody tr th {\n",
       "        vertical-align: top;\n",
       "    }\n",
       "\n",
       "    .dataframe thead th {\n",
       "        text-align: right;\n",
       "    }\n",
       "</style>\n",
       "<table border=\"1\" class=\"dataframe\">\n",
       "  <thead>\n",
       "    <tr style=\"text-align: right;\">\n",
       "      <th></th>\n",
       "      <th>&lt;TICKER&gt;</th>\n",
       "      <th>&lt;PER&gt;</th>\n",
       "      <th>&lt;DATE&gt;</th>\n",
       "      <th>&lt;TIME&gt;</th>\n",
       "      <th>&lt;CLOSE&gt;</th>\n",
       "      <th>&lt;VOL&gt;</th>\n",
       "    </tr>\n",
       "  </thead>\n",
       "  <tbody>\n",
       "    <tr>\n",
       "      <th>0</th>\n",
       "      <td>False</td>\n",
       "      <td>False</td>\n",
       "      <td>False</td>\n",
       "      <td>False</td>\n",
       "      <td>False</td>\n",
       "      <td>False</td>\n",
       "    </tr>\n",
       "    <tr>\n",
       "      <th>1</th>\n",
       "      <td>False</td>\n",
       "      <td>False</td>\n",
       "      <td>False</td>\n",
       "      <td>False</td>\n",
       "      <td>False</td>\n",
       "      <td>False</td>\n",
       "    </tr>\n",
       "    <tr>\n",
       "      <th>2</th>\n",
       "      <td>False</td>\n",
       "      <td>False</td>\n",
       "      <td>False</td>\n",
       "      <td>False</td>\n",
       "      <td>False</td>\n",
       "      <td>False</td>\n",
       "    </tr>\n",
       "    <tr>\n",
       "      <th>3</th>\n",
       "      <td>False</td>\n",
       "      <td>False</td>\n",
       "      <td>False</td>\n",
       "      <td>False</td>\n",
       "      <td>False</td>\n",
       "      <td>False</td>\n",
       "    </tr>\n",
       "    <tr>\n",
       "      <th>4</th>\n",
       "      <td>False</td>\n",
       "      <td>False</td>\n",
       "      <td>False</td>\n",
       "      <td>False</td>\n",
       "      <td>False</td>\n",
       "      <td>False</td>\n",
       "    </tr>\n",
       "    <tr>\n",
       "      <th>...</th>\n",
       "      <td>...</td>\n",
       "      <td>...</td>\n",
       "      <td>...</td>\n",
       "      <td>...</td>\n",
       "      <td>...</td>\n",
       "      <td>...</td>\n",
       "    </tr>\n",
       "    <tr>\n",
       "      <th>1006</th>\n",
       "      <td>False</td>\n",
       "      <td>False</td>\n",
       "      <td>False</td>\n",
       "      <td>False</td>\n",
       "      <td>False</td>\n",
       "      <td>False</td>\n",
       "    </tr>\n",
       "    <tr>\n",
       "      <th>1007</th>\n",
       "      <td>False</td>\n",
       "      <td>False</td>\n",
       "      <td>False</td>\n",
       "      <td>False</td>\n",
       "      <td>False</td>\n",
       "      <td>False</td>\n",
       "    </tr>\n",
       "    <tr>\n",
       "      <th>1008</th>\n",
       "      <td>False</td>\n",
       "      <td>False</td>\n",
       "      <td>False</td>\n",
       "      <td>False</td>\n",
       "      <td>False</td>\n",
       "      <td>False</td>\n",
       "    </tr>\n",
       "    <tr>\n",
       "      <th>1009</th>\n",
       "      <td>False</td>\n",
       "      <td>False</td>\n",
       "      <td>False</td>\n",
       "      <td>False</td>\n",
       "      <td>False</td>\n",
       "      <td>False</td>\n",
       "    </tr>\n",
       "    <tr>\n",
       "      <th>1010</th>\n",
       "      <td>False</td>\n",
       "      <td>False</td>\n",
       "      <td>False</td>\n",
       "      <td>False</td>\n",
       "      <td>False</td>\n",
       "      <td>False</td>\n",
       "    </tr>\n",
       "  </tbody>\n",
       "</table>\n",
       "<p>1011 rows × 6 columns</p>\n",
       "</div>"
      ],
      "text/plain": [
       "      <TICKER>  <PER>  <DATE>  <TIME>  <CLOSE>  <VOL>\n",
       "0        False  False   False   False    False  False\n",
       "1        False  False   False   False    False  False\n",
       "2        False  False   False   False    False  False\n",
       "3        False  False   False   False    False  False\n",
       "4        False  False   False   False    False  False\n",
       "...        ...    ...     ...     ...      ...    ...\n",
       "1006     False  False   False   False    False  False\n",
       "1007     False  False   False   False    False  False\n",
       "1008     False  False   False   False    False  False\n",
       "1009     False  False   False   False    False  False\n",
       "1010     False  False   False   False    False  False\n",
       "\n",
       "[1011 rows x 6 columns]"
      ]
     },
     "execution_count": 8,
     "metadata": {},
     "output_type": "execute_result"
    }
   ],
   "source": [
    "df_LKOH_NA.isna()"
   ]
  },
  {
   "cell_type": "markdown",
   "metadata": {},
   "source": [
    "Чтобы найти конкретные строки, где есть пропуски (NaN), воспользуемся фильтрацией с использованием методов `isna` и `.isin`<br> \n",
    "https://pandas.pydata.org/docs/reference/api/pandas.DataFrame.isin.html<br> \n",
    "`isna` вернет True, если пропуск есть, False - если нет. `.isin` вернет True, если элемент входит в список в скобках."
   ]
  },
  {
   "cell_type": "code",
   "execution_count": 9,
   "metadata": {},
   "outputs": [
    {
     "data": {
      "text/html": [
       "<div>\n",
       "<style scoped>\n",
       "    .dataframe tbody tr th:only-of-type {\n",
       "        vertical-align: middle;\n",
       "    }\n",
       "\n",
       "    .dataframe tbody tr th {\n",
       "        vertical-align: top;\n",
       "    }\n",
       "\n",
       "    .dataframe thead th {\n",
       "        text-align: right;\n",
       "    }\n",
       "</style>\n",
       "<table border=\"1\" class=\"dataframe\">\n",
       "  <thead>\n",
       "    <tr style=\"text-align: right;\">\n",
       "      <th></th>\n",
       "      <th>&lt;TICKER&gt;</th>\n",
       "      <th>&lt;PER&gt;</th>\n",
       "      <th>&lt;DATE&gt;</th>\n",
       "      <th>&lt;TIME&gt;</th>\n",
       "      <th>&lt;CLOSE&gt;</th>\n",
       "      <th>&lt;VOL&gt;</th>\n",
       "    </tr>\n",
       "  </thead>\n",
       "  <tbody>\n",
       "    <tr>\n",
       "      <th>20</th>\n",
       "      <td>LKOH</td>\n",
       "      <td>D</td>\n",
       "      <td>2017-11-17</td>\n",
       "      <td>0</td>\n",
       "      <td>NaN</td>\n",
       "      <td>330965.0</td>\n",
       "    </tr>\n",
       "    <tr>\n",
       "      <th>63</th>\n",
       "      <td>LKOH</td>\n",
       "      <td>D</td>\n",
       "      <td>2018-01-22</td>\n",
       "      <td>0</td>\n",
       "      <td>NaN</td>\n",
       "      <td>610914.0</td>\n",
       "    </tr>\n",
       "    <tr>\n",
       "      <th>228</th>\n",
       "      <td>LKOH</td>\n",
       "      <td>D</td>\n",
       "      <td>2018-09-13</td>\n",
       "      <td>0</td>\n",
       "      <td>NaN</td>\n",
       "      <td>586466.0</td>\n",
       "    </tr>\n",
       "    <tr>\n",
       "      <th>293</th>\n",
       "      <td>LKOH</td>\n",
       "      <td>D</td>\n",
       "      <td>2018-12-14</td>\n",
       "      <td>0</td>\n",
       "      <td>NaN</td>\n",
       "      <td>733967.0</td>\n",
       "    </tr>\n",
       "    <tr>\n",
       "      <th>789</th>\n",
       "      <td>LKOH</td>\n",
       "      <td>D</td>\n",
       "      <td>2020-12-07</td>\n",
       "      <td>0</td>\n",
       "      <td>NaN</td>\n",
       "      <td>1184748.0</td>\n",
       "    </tr>\n",
       "    <tr>\n",
       "      <th>889</th>\n",
       "      <td>LKOH</td>\n",
       "      <td>D</td>\n",
       "      <td>2021-04-30</td>\n",
       "      <td>0</td>\n",
       "      <td>NaN</td>\n",
       "      <td>NaN</td>\n",
       "    </tr>\n",
       "  </tbody>\n",
       "</table>\n",
       "</div>"
      ],
      "text/plain": [
       "    <TICKER> <PER>     <DATE>  <TIME>  <CLOSE>      <VOL>\n",
       "20      LKOH     D 2017-11-17       0      NaN   330965.0\n",
       "63      LKOH     D 2018-01-22       0      NaN   610914.0\n",
       "228     LKOH     D 2018-09-13       0      NaN   586466.0\n",
       "293     LKOH     D 2018-12-14       0      NaN   733967.0\n",
       "789     LKOH     D 2020-12-07       0      NaN  1184748.0\n",
       "889     LKOH     D 2021-04-30       0      NaN        NaN"
      ]
     },
     "execution_count": 9,
     "metadata": {},
     "output_type": "execute_result"
    }
   ],
   "source": [
    "df_LKOH_NA[df_LKOH_NA.isna()['<CLOSE>'].isin([True])]    # пропуски в колонке <CLOSE>"
   ]
  },
  {
   "cell_type": "code",
   "execution_count": 10,
   "metadata": {},
   "outputs": [
    {
     "data": {
      "text/html": [
       "<div>\n",
       "<style scoped>\n",
       "    .dataframe tbody tr th:only-of-type {\n",
       "        vertical-align: middle;\n",
       "    }\n",
       "\n",
       "    .dataframe tbody tr th {\n",
       "        vertical-align: top;\n",
       "    }\n",
       "\n",
       "    .dataframe thead th {\n",
       "        text-align: right;\n",
       "    }\n",
       "</style>\n",
       "<table border=\"1\" class=\"dataframe\">\n",
       "  <thead>\n",
       "    <tr style=\"text-align: right;\">\n",
       "      <th></th>\n",
       "      <th>&lt;TICKER&gt;</th>\n",
       "      <th>&lt;PER&gt;</th>\n",
       "      <th>&lt;DATE&gt;</th>\n",
       "      <th>&lt;TIME&gt;</th>\n",
       "      <th>&lt;CLOSE&gt;</th>\n",
       "      <th>&lt;VOL&gt;</th>\n",
       "    </tr>\n",
       "  </thead>\n",
       "  <tbody>\n",
       "    <tr>\n",
       "      <th>122</th>\n",
       "      <td>LKOH</td>\n",
       "      <td>D</td>\n",
       "      <td>2018-04-17</td>\n",
       "      <td>0</td>\n",
       "      <td>3940.0</td>\n",
       "      <td>NaN</td>\n",
       "    </tr>\n",
       "    <tr>\n",
       "      <th>169</th>\n",
       "      <td>LKOH</td>\n",
       "      <td>D</td>\n",
       "      <td>2018-06-22</td>\n",
       "      <td>0</td>\n",
       "      <td>4125.0</td>\n",
       "      <td>NaN</td>\n",
       "    </tr>\n",
       "    <tr>\n",
       "      <th>313</th>\n",
       "      <td>LKOH</td>\n",
       "      <td>D</td>\n",
       "      <td>2019-01-16</td>\n",
       "      <td>0</td>\n",
       "      <td>5129.0</td>\n",
       "      <td>NaN</td>\n",
       "    </tr>\n",
       "    <tr>\n",
       "      <th>827</th>\n",
       "      <td>LKOH</td>\n",
       "      <td>D</td>\n",
       "      <td>2021-02-02</td>\n",
       "      <td>0</td>\n",
       "      <td>5516.0</td>\n",
       "      <td>NaN</td>\n",
       "    </tr>\n",
       "    <tr>\n",
       "      <th>889</th>\n",
       "      <td>LKOH</td>\n",
       "      <td>D</td>\n",
       "      <td>2021-04-30</td>\n",
       "      <td>0</td>\n",
       "      <td>NaN</td>\n",
       "      <td>NaN</td>\n",
       "    </tr>\n",
       "  </tbody>\n",
       "</table>\n",
       "</div>"
      ],
      "text/plain": [
       "    <TICKER> <PER>     <DATE>  <TIME>  <CLOSE>  <VOL>\n",
       "122     LKOH     D 2018-04-17       0   3940.0    NaN\n",
       "169     LKOH     D 2018-06-22       0   4125.0    NaN\n",
       "313     LKOH     D 2019-01-16       0   5129.0    NaN\n",
       "827     LKOH     D 2021-02-02       0   5516.0    NaN\n",
       "889     LKOH     D 2021-04-30       0      NaN    NaN"
      ]
     },
     "execution_count": 10,
     "metadata": {},
     "output_type": "execute_result"
    }
   ],
   "source": [
    "df_LKOH_NA[df_LKOH_NA.isna()['<VOL>'].isin([True])]    # пропуски в колонке <VOL>"
   ]
  },
  {
   "cell_type": "markdown",
   "metadata": {},
   "source": [
    "Полученные результаты можно сохранить в таблицу pandas DataFrame. Из нее можно взять индексы строк, где есть пропуски, для их устранения в исходной таблице pandas DataFrame. "
   ]
  },
  {
   "cell_type": "markdown",
   "metadata": {},
   "source": [
    "### 4. Исправление пропусков"
   ]
  },
  {
   "cell_type": "markdown",
   "metadata": {},
   "source": [
    "**Что будем делать с пропусками в данных?**<br><br>\n",
    "**Вариант 1.** Удалить строки где есть пропуски - вариант не очень хорош, т.к. в случае временного ряда промежутки времени станут не одинаковыми и ряд перестанет быть равномерным.<br><br>\n",
    "**Вариант 2.** Заменить пропуски на какие-либо значения. В случае временного ряда это могут быть, например, средние значения показателя по предыдущему и последующему непропущенным элементам, линейная или полиномиальная интерполяция. Если это выборка на один момент времени, усреднять можно по всей выборке и делать замену на такое среднее. Также можно выполнить замену пропусков предыдущими или последующими непропущенными значениями."
   ]
  },
  {
   "cell_type": "markdown",
   "metadata": {},
   "source": [
    "**Как будем исправлять пропуски в данных?**<br><br>\n",
    "**Способ 1.** Написать немного своего кода на Python, который будет отбирать пропуски и выполнять над ними необходимые действия.<br><br>\n",
    "**Способ 2.** Использовать методы `dropna`, `fillna` и другие из библиотеки `pandas`.<br> \n",
    "https://pandas.pydata.org/docs/reference/api/pandas.DataFrame.dropna.html<br>\n",
    "https://pandas.pydata.org/docs/reference/api/pandas.DataFrame.fillna.html<br>"
   ]
  },
  {
   "cell_type": "markdown",
   "metadata": {},
   "source": [
    "**Вариант 1. Удаление пропусков из таблицы pandas DataFrame**"
   ]
  },
  {
   "cell_type": "markdown",
   "metadata": {},
   "source": [
    "**Способ 1. Исключение пропусков путем фильтрации с помощью своего кода.**"
   ]
  },
  {
   "cell_type": "markdown",
   "metadata": {},
   "source": [
    "Для этого воспользуемся логической конструкцией \"И\" = \"&\", объединив два условия.   \n",
    "В качестве аргумента `isin()` возьмем `False`, т.к. нам нужно выбрать строки, в которых нет пропусков."
   ]
  },
  {
   "cell_type": "code",
   "execution_count": 11,
   "metadata": {},
   "outputs": [],
   "source": [
    "df_LKOH_1_1 = df_LKOH_NA[df_LKOH_NA.isna()['<CLOSE>'].isin([False]) & df_LKOH_NA.isna()['<VOL>'].isin([False])]"
   ]
  },
  {
   "cell_type": "code",
   "execution_count": 12,
   "metadata": {},
   "outputs": [
    {
     "data": {
      "text/html": [
       "<div>\n",
       "<style scoped>\n",
       "    .dataframe tbody tr th:only-of-type {\n",
       "        vertical-align: middle;\n",
       "    }\n",
       "\n",
       "    .dataframe tbody tr th {\n",
       "        vertical-align: top;\n",
       "    }\n",
       "\n",
       "    .dataframe thead th {\n",
       "        text-align: right;\n",
       "    }\n",
       "</style>\n",
       "<table border=\"1\" class=\"dataframe\">\n",
       "  <thead>\n",
       "    <tr style=\"text-align: right;\">\n",
       "      <th></th>\n",
       "      <th>&lt;TIME&gt;</th>\n",
       "      <th>&lt;CLOSE&gt;</th>\n",
       "      <th>&lt;VOL&gt;</th>\n",
       "    </tr>\n",
       "  </thead>\n",
       "  <tbody>\n",
       "    <tr>\n",
       "      <th>count</th>\n",
       "      <td>1001.0</td>\n",
       "      <td>1001.00</td>\n",
       "      <td>1001.00</td>\n",
       "    </tr>\n",
       "    <tr>\n",
       "      <th>mean</th>\n",
       "      <td>0.0</td>\n",
       "      <td>5182.66</td>\n",
       "      <td>1056722.44</td>\n",
       "    </tr>\n",
       "    <tr>\n",
       "      <th>std</th>\n",
       "      <td>0.0</td>\n",
       "      <td>920.70</td>\n",
       "      <td>736947.40</td>\n",
       "    </tr>\n",
       "    <tr>\n",
       "      <th>min</th>\n",
       "      <td>0.0</td>\n",
       "      <td>2985.00</td>\n",
       "      <td>53658.00</td>\n",
       "    </tr>\n",
       "    <tr>\n",
       "      <th>25%</th>\n",
       "      <td>0.0</td>\n",
       "      <td>4520.00</td>\n",
       "      <td>618624.00</td>\n",
       "    </tr>\n",
       "    <tr>\n",
       "      <th>50%</th>\n",
       "      <td>0.0</td>\n",
       "      <td>5209.00</td>\n",
       "      <td>840943.00</td>\n",
       "    </tr>\n",
       "    <tr>\n",
       "      <th>75%</th>\n",
       "      <td>0.0</td>\n",
       "      <td>5873.00</td>\n",
       "      <td>1283942.00</td>\n",
       "    </tr>\n",
       "    <tr>\n",
       "      <th>max</th>\n",
       "      <td>0.0</td>\n",
       "      <td>7346.50</td>\n",
       "      <td>7510762.00</td>\n",
       "    </tr>\n",
       "  </tbody>\n",
       "</table>\n",
       "</div>"
      ],
      "text/plain": [
       "       <TIME>  <CLOSE>       <VOL>\n",
       "count  1001.0  1001.00     1001.00\n",
       "mean      0.0  5182.66  1056722.44\n",
       "std       0.0   920.70   736947.40\n",
       "min       0.0  2985.00    53658.00\n",
       "25%       0.0  4520.00   618624.00\n",
       "50%       0.0  5209.00   840943.00\n",
       "75%       0.0  5873.00  1283942.00\n",
       "max       0.0  7346.50  7510762.00"
      ]
     },
     "execution_count": 12,
     "metadata": {},
     "output_type": "execute_result"
    }
   ],
   "source": [
    "df_LKOH_1_1.describe().round(decimals=2)"
   ]
  },
  {
   "cell_type": "markdown",
   "metadata": {},
   "source": [
    "Для проверки аналогичным образом отфильтруем таблицу с пропусками. Вместо \"И\" будет \"ИЛИ\" (\"|\") и вместо `False` будет `True`."
   ]
  },
  {
   "cell_type": "code",
   "execution_count": 13,
   "metadata": {},
   "outputs": [
    {
     "data": {
      "text/html": [
       "<div>\n",
       "<style scoped>\n",
       "    .dataframe tbody tr th:only-of-type {\n",
       "        vertical-align: middle;\n",
       "    }\n",
       "\n",
       "    .dataframe tbody tr th {\n",
       "        vertical-align: top;\n",
       "    }\n",
       "\n",
       "    .dataframe thead th {\n",
       "        text-align: right;\n",
       "    }\n",
       "</style>\n",
       "<table border=\"1\" class=\"dataframe\">\n",
       "  <thead>\n",
       "    <tr style=\"text-align: right;\">\n",
       "      <th></th>\n",
       "      <th>&lt;TICKER&gt;</th>\n",
       "      <th>&lt;PER&gt;</th>\n",
       "      <th>&lt;DATE&gt;</th>\n",
       "      <th>&lt;TIME&gt;</th>\n",
       "      <th>&lt;CLOSE&gt;</th>\n",
       "      <th>&lt;VOL&gt;</th>\n",
       "    </tr>\n",
       "  </thead>\n",
       "  <tbody>\n",
       "    <tr>\n",
       "      <th>20</th>\n",
       "      <td>LKOH</td>\n",
       "      <td>D</td>\n",
       "      <td>2017-11-17</td>\n",
       "      <td>0</td>\n",
       "      <td>NaN</td>\n",
       "      <td>330965.0</td>\n",
       "    </tr>\n",
       "    <tr>\n",
       "      <th>63</th>\n",
       "      <td>LKOH</td>\n",
       "      <td>D</td>\n",
       "      <td>2018-01-22</td>\n",
       "      <td>0</td>\n",
       "      <td>NaN</td>\n",
       "      <td>610914.0</td>\n",
       "    </tr>\n",
       "    <tr>\n",
       "      <th>122</th>\n",
       "      <td>LKOH</td>\n",
       "      <td>D</td>\n",
       "      <td>2018-04-17</td>\n",
       "      <td>0</td>\n",
       "      <td>3940.0</td>\n",
       "      <td>NaN</td>\n",
       "    </tr>\n",
       "    <tr>\n",
       "      <th>169</th>\n",
       "      <td>LKOH</td>\n",
       "      <td>D</td>\n",
       "      <td>2018-06-22</td>\n",
       "      <td>0</td>\n",
       "      <td>4125.0</td>\n",
       "      <td>NaN</td>\n",
       "    </tr>\n",
       "    <tr>\n",
       "      <th>228</th>\n",
       "      <td>LKOH</td>\n",
       "      <td>D</td>\n",
       "      <td>2018-09-13</td>\n",
       "      <td>0</td>\n",
       "      <td>NaN</td>\n",
       "      <td>586466.0</td>\n",
       "    </tr>\n",
       "    <tr>\n",
       "      <th>293</th>\n",
       "      <td>LKOH</td>\n",
       "      <td>D</td>\n",
       "      <td>2018-12-14</td>\n",
       "      <td>0</td>\n",
       "      <td>NaN</td>\n",
       "      <td>733967.0</td>\n",
       "    </tr>\n",
       "    <tr>\n",
       "      <th>313</th>\n",
       "      <td>LKOH</td>\n",
       "      <td>D</td>\n",
       "      <td>2019-01-16</td>\n",
       "      <td>0</td>\n",
       "      <td>5129.0</td>\n",
       "      <td>NaN</td>\n",
       "    </tr>\n",
       "    <tr>\n",
       "      <th>789</th>\n",
       "      <td>LKOH</td>\n",
       "      <td>D</td>\n",
       "      <td>2020-12-07</td>\n",
       "      <td>0</td>\n",
       "      <td>NaN</td>\n",
       "      <td>1184748.0</td>\n",
       "    </tr>\n",
       "    <tr>\n",
       "      <th>827</th>\n",
       "      <td>LKOH</td>\n",
       "      <td>D</td>\n",
       "      <td>2021-02-02</td>\n",
       "      <td>0</td>\n",
       "      <td>5516.0</td>\n",
       "      <td>NaN</td>\n",
       "    </tr>\n",
       "    <tr>\n",
       "      <th>889</th>\n",
       "      <td>LKOH</td>\n",
       "      <td>D</td>\n",
       "      <td>2021-04-30</td>\n",
       "      <td>0</td>\n",
       "      <td>NaN</td>\n",
       "      <td>NaN</td>\n",
       "    </tr>\n",
       "  </tbody>\n",
       "</table>\n",
       "</div>"
      ],
      "text/plain": [
       "    <TICKER> <PER>     <DATE>  <TIME>  <CLOSE>      <VOL>\n",
       "20      LKOH     D 2017-11-17       0      NaN   330965.0\n",
       "63      LKOH     D 2018-01-22       0      NaN   610914.0\n",
       "122     LKOH     D 2018-04-17       0   3940.0        NaN\n",
       "169     LKOH     D 2018-06-22       0   4125.0        NaN\n",
       "228     LKOH     D 2018-09-13       0      NaN   586466.0\n",
       "293     LKOH     D 2018-12-14       0      NaN   733967.0\n",
       "313     LKOH     D 2019-01-16       0   5129.0        NaN\n",
       "789     LKOH     D 2020-12-07       0      NaN  1184748.0\n",
       "827     LKOH     D 2021-02-02       0   5516.0        NaN\n",
       "889     LKOH     D 2021-04-30       0      NaN        NaN"
      ]
     },
     "execution_count": 13,
     "metadata": {},
     "output_type": "execute_result"
    }
   ],
   "source": [
    "df_LKOH_1_1_NA_only = df_LKOH_NA[df_LKOH_NA.isna()['<CLOSE>'].isin([True]) | df_LKOH_NA.isna()['<VOL>'].isin([True])]\n",
    "df_LKOH_1_1_NA_only    # выведем таблицу из строк с пропусками данных на экран"
   ]
  },
  {
   "cell_type": "code",
   "execution_count": 14,
   "metadata": {},
   "outputs": [
    {
     "data": {
      "text/html": [
       "<div>\n",
       "<style scoped>\n",
       "    .dataframe tbody tr th:only-of-type {\n",
       "        vertical-align: middle;\n",
       "    }\n",
       "\n",
       "    .dataframe tbody tr th {\n",
       "        vertical-align: top;\n",
       "    }\n",
       "\n",
       "    .dataframe thead th {\n",
       "        text-align: right;\n",
       "    }\n",
       "</style>\n",
       "<table border=\"1\" class=\"dataframe\">\n",
       "  <thead>\n",
       "    <tr style=\"text-align: right;\">\n",
       "      <th></th>\n",
       "      <th>&lt;TIME&gt;</th>\n",
       "      <th>&lt;CLOSE&gt;</th>\n",
       "      <th>&lt;VOL&gt;</th>\n",
       "    </tr>\n",
       "  </thead>\n",
       "  <tbody>\n",
       "    <tr>\n",
       "      <th>count</th>\n",
       "      <td>10.0</td>\n",
       "      <td>4.00</td>\n",
       "      <td>5.0</td>\n",
       "    </tr>\n",
       "    <tr>\n",
       "      <th>mean</th>\n",
       "      <td>0.0</td>\n",
       "      <td>4677.50</td>\n",
       "      <td>689412.0</td>\n",
       "    </tr>\n",
       "    <tr>\n",
       "      <th>std</th>\n",
       "      <td>0.0</td>\n",
       "      <td>765.09</td>\n",
       "      <td>313283.8</td>\n",
       "    </tr>\n",
       "    <tr>\n",
       "      <th>min</th>\n",
       "      <td>0.0</td>\n",
       "      <td>3940.00</td>\n",
       "      <td>330965.0</td>\n",
       "    </tr>\n",
       "    <tr>\n",
       "      <th>25%</th>\n",
       "      <td>0.0</td>\n",
       "      <td>4078.75</td>\n",
       "      <td>586466.0</td>\n",
       "    </tr>\n",
       "    <tr>\n",
       "      <th>50%</th>\n",
       "      <td>0.0</td>\n",
       "      <td>4627.00</td>\n",
       "      <td>610914.0</td>\n",
       "    </tr>\n",
       "    <tr>\n",
       "      <th>75%</th>\n",
       "      <td>0.0</td>\n",
       "      <td>5225.75</td>\n",
       "      <td>733967.0</td>\n",
       "    </tr>\n",
       "    <tr>\n",
       "      <th>max</th>\n",
       "      <td>0.0</td>\n",
       "      <td>5516.00</td>\n",
       "      <td>1184748.0</td>\n",
       "    </tr>\n",
       "  </tbody>\n",
       "</table>\n",
       "</div>"
      ],
      "text/plain": [
       "       <TIME>  <CLOSE>      <VOL>\n",
       "count    10.0     4.00        5.0\n",
       "mean      0.0  4677.50   689412.0\n",
       "std       0.0   765.09   313283.8\n",
       "min       0.0  3940.00   330965.0\n",
       "25%       0.0  4078.75   586466.0\n",
       "50%       0.0  4627.00   610914.0\n",
       "75%       0.0  5225.75   733967.0\n",
       "max       0.0  5516.00  1184748.0"
      ]
     },
     "execution_count": 14,
     "metadata": {},
     "output_type": "execute_result"
    }
   ],
   "source": [
    "df_LKOH_1_1_NA_only.describe().round(decimals=2)    # покажем описательную статистику"
   ]
  },
  {
   "cell_type": "markdown",
   "metadata": {},
   "source": [
    "У нас было 10 строк с пропусками в одной из колонок `'<CLOSE>'`или `'<VOL>'`или в обеих сразу.<br>\n",
    "В итоговой таблице их не стало и строк стало на 10 меньше."
   ]
  },
  {
   "cell_type": "markdown",
   "metadata": {},
   "source": [
    "**Способ 1. Удаление пропусков с помощью своего кода.**"
   ]
  },
  {
   "cell_type": "code",
   "execution_count": 15,
   "metadata": {},
   "outputs": [],
   "source": [
    "# Сделаем копию, чтобы удалять в ней\n",
    "df_LKOH_1_2 = df_LKOH_NA.copy()"
   ]
  },
  {
   "cell_type": "code",
   "execution_count": 16,
   "metadata": {},
   "outputs": [
    {
     "data": {
      "text/plain": [
       "[20, 63, 122, 169, 228, 293, 313, 789, 827, 889]"
      ]
     },
     "execution_count": 16,
     "metadata": {},
     "output_type": "execute_result"
    }
   ],
   "source": [
    "# получим в виде списка индексы строк, в которых есть пропуски и которые надо удалить\n",
    "# конструкция .index.tolist() выделит индексную колонку в отфильтрованной таблице DataFrame и преобразует ее в список\n",
    "del_list = df_LKOH_NA[df_LKOH_NA.isna()['<CLOSE>'].isin([True]) | df_LKOH_NA.isna()['<VOL>'].isin([True])].index.tolist()\n",
    "del_list    # выведем список на экран"
   ]
  },
  {
   "cell_type": "code",
   "execution_count": 17,
   "metadata": {},
   "outputs": [
    {
     "data": {
      "text/html": [
       "<div>\n",
       "<style scoped>\n",
       "    .dataframe tbody tr th:only-of-type {\n",
       "        vertical-align: middle;\n",
       "    }\n",
       "\n",
       "    .dataframe tbody tr th {\n",
       "        vertical-align: top;\n",
       "    }\n",
       "\n",
       "    .dataframe thead th {\n",
       "        text-align: right;\n",
       "    }\n",
       "</style>\n",
       "<table border=\"1\" class=\"dataframe\">\n",
       "  <thead>\n",
       "    <tr style=\"text-align: right;\">\n",
       "      <th></th>\n",
       "      <th>&lt;TIME&gt;</th>\n",
       "      <th>&lt;CLOSE&gt;</th>\n",
       "      <th>&lt;VOL&gt;</th>\n",
       "    </tr>\n",
       "  </thead>\n",
       "  <tbody>\n",
       "    <tr>\n",
       "      <th>count</th>\n",
       "      <td>1001.0</td>\n",
       "      <td>1001.00</td>\n",
       "      <td>1001.00</td>\n",
       "    </tr>\n",
       "    <tr>\n",
       "      <th>mean</th>\n",
       "      <td>0.0</td>\n",
       "      <td>5182.66</td>\n",
       "      <td>1056722.44</td>\n",
       "    </tr>\n",
       "    <tr>\n",
       "      <th>std</th>\n",
       "      <td>0.0</td>\n",
       "      <td>920.70</td>\n",
       "      <td>736947.40</td>\n",
       "    </tr>\n",
       "    <tr>\n",
       "      <th>min</th>\n",
       "      <td>0.0</td>\n",
       "      <td>2985.00</td>\n",
       "      <td>53658.00</td>\n",
       "    </tr>\n",
       "    <tr>\n",
       "      <th>25%</th>\n",
       "      <td>0.0</td>\n",
       "      <td>4520.00</td>\n",
       "      <td>618624.00</td>\n",
       "    </tr>\n",
       "    <tr>\n",
       "      <th>50%</th>\n",
       "      <td>0.0</td>\n",
       "      <td>5209.00</td>\n",
       "      <td>840943.00</td>\n",
       "    </tr>\n",
       "    <tr>\n",
       "      <th>75%</th>\n",
       "      <td>0.0</td>\n",
       "      <td>5873.00</td>\n",
       "      <td>1283942.00</td>\n",
       "    </tr>\n",
       "    <tr>\n",
       "      <th>max</th>\n",
       "      <td>0.0</td>\n",
       "      <td>7346.50</td>\n",
       "      <td>7510762.00</td>\n",
       "    </tr>\n",
       "  </tbody>\n",
       "</table>\n",
       "</div>"
      ],
      "text/plain": [
       "       <TIME>  <CLOSE>       <VOL>\n",
       "count  1001.0  1001.00     1001.00\n",
       "mean      0.0  5182.66  1056722.44\n",
       "std       0.0   920.70   736947.40\n",
       "min       0.0  2985.00    53658.00\n",
       "25%       0.0  4520.00   618624.00\n",
       "50%       0.0  5209.00   840943.00\n",
       "75%       0.0  5873.00  1283942.00\n",
       "max       0.0  7346.50  7510762.00"
      ]
     },
     "execution_count": 17,
     "metadata": {},
     "output_type": "execute_result"
    }
   ],
   "source": [
    "df_LKOH_1_2 = df_LKOH_1_2.drop(del_list)   # удалим строки с индексами из списка и сохраним результат в ту же таблицу\n",
    "df_LKOH_1_2.describe().round(decimals=2)    # покажем описательную статистку"
   ]
  },
  {
   "cell_type": "markdown",
   "metadata": {},
   "source": [
    "Как и в прошлом способе строк стало на 10 меньше."
   ]
  },
  {
   "cell_type": "markdown",
   "metadata": {},
   "source": [
    "**Способ 2. Удаление пропусков с помощью `pandas.dropna`.**"
   ]
  },
  {
   "cell_type": "code",
   "execution_count": 18,
   "metadata": {},
   "outputs": [],
   "source": [
    "# Сделаем копию, чтобы удалять в ней\n",
    "df_LKOH_1_3 = df_LKOH_NA.copy()"
   ]
  },
  {
   "cell_type": "code",
   "execution_count": 19,
   "metadata": {},
   "outputs": [
    {
     "data": {
      "text/html": [
       "<div>\n",
       "<style scoped>\n",
       "    .dataframe tbody tr th:only-of-type {\n",
       "        vertical-align: middle;\n",
       "    }\n",
       "\n",
       "    .dataframe tbody tr th {\n",
       "        vertical-align: top;\n",
       "    }\n",
       "\n",
       "    .dataframe thead th {\n",
       "        text-align: right;\n",
       "    }\n",
       "</style>\n",
       "<table border=\"1\" class=\"dataframe\">\n",
       "  <thead>\n",
       "    <tr style=\"text-align: right;\">\n",
       "      <th></th>\n",
       "      <th>&lt;TIME&gt;</th>\n",
       "      <th>&lt;CLOSE&gt;</th>\n",
       "      <th>&lt;VOL&gt;</th>\n",
       "    </tr>\n",
       "  </thead>\n",
       "  <tbody>\n",
       "    <tr>\n",
       "      <th>count</th>\n",
       "      <td>1001.0</td>\n",
       "      <td>1001.00</td>\n",
       "      <td>1001.00</td>\n",
       "    </tr>\n",
       "    <tr>\n",
       "      <th>mean</th>\n",
       "      <td>0.0</td>\n",
       "      <td>5182.66</td>\n",
       "      <td>1056722.44</td>\n",
       "    </tr>\n",
       "    <tr>\n",
       "      <th>std</th>\n",
       "      <td>0.0</td>\n",
       "      <td>920.70</td>\n",
       "      <td>736947.40</td>\n",
       "    </tr>\n",
       "    <tr>\n",
       "      <th>min</th>\n",
       "      <td>0.0</td>\n",
       "      <td>2985.00</td>\n",
       "      <td>53658.00</td>\n",
       "    </tr>\n",
       "    <tr>\n",
       "      <th>25%</th>\n",
       "      <td>0.0</td>\n",
       "      <td>4520.00</td>\n",
       "      <td>618624.00</td>\n",
       "    </tr>\n",
       "    <tr>\n",
       "      <th>50%</th>\n",
       "      <td>0.0</td>\n",
       "      <td>5209.00</td>\n",
       "      <td>840943.00</td>\n",
       "    </tr>\n",
       "    <tr>\n",
       "      <th>75%</th>\n",
       "      <td>0.0</td>\n",
       "      <td>5873.00</td>\n",
       "      <td>1283942.00</td>\n",
       "    </tr>\n",
       "    <tr>\n",
       "      <th>max</th>\n",
       "      <td>0.0</td>\n",
       "      <td>7346.50</td>\n",
       "      <td>7510762.00</td>\n",
       "    </tr>\n",
       "  </tbody>\n",
       "</table>\n",
       "</div>"
      ],
      "text/plain": [
       "       <TIME>  <CLOSE>       <VOL>\n",
       "count  1001.0  1001.00     1001.00\n",
       "mean      0.0  5182.66  1056722.44\n",
       "std       0.0   920.70   736947.40\n",
       "min       0.0  2985.00    53658.00\n",
       "25%       0.0  4520.00   618624.00\n",
       "50%       0.0  5209.00   840943.00\n",
       "75%       0.0  5873.00  1283942.00\n",
       "max       0.0  7346.50  7510762.00"
      ]
     },
     "execution_count": 19,
     "metadata": {},
     "output_type": "execute_result"
    }
   ],
   "source": [
    "df_LKOH_1_3 = df_LKOH_1_3.dropna(axis = 'index')   # удалим строки с пропусками, если axis = 'columns' - столбцы\n",
    "df_LKOH_1_3.describe().round(decimals=2)    # покажем описательную статистку"
   ]
  },
  {
   "cell_type": "markdown",
   "metadata": {},
   "source": [
    "Аналогичный вариант был получен нами Способом 1."
   ]
  },
  {
   "cell_type": "markdown",
   "metadata": {},
   "source": [
    "**Вариант 2. Замена пропусков в таблице pandas DataFrame**"
   ]
  },
  {
   "cell_type": "markdown",
   "metadata": {},
   "source": [
    "**Способ 1. Замена пропусков на средние значения по предыдущему и последующему непропущенным элементам с помощью своего кода**"
   ]
  },
  {
   "cell_type": "code",
   "execution_count": 20,
   "metadata": {},
   "outputs": [],
   "source": [
    "# Сделаем копию, чтобы менять в ней\n",
    "df_LKOH_1_4 = df_LKOH_NA.copy()"
   ]
  },
  {
   "cell_type": "markdown",
   "metadata": {},
   "source": [
    "Получим в виде списка индексы строк, в которых есть пропуски и которые надо заменить на средние.<br>\n",
    "Конструкция `.index.tolist` выделит индексную колонку в отфильтрованной таблице DataFrame и преобразует ее в список."
   ]
  },
  {
   "cell_type": "markdown",
   "metadata": {},
   "source": [
    "Начнем с колонки `'<CLOSE>'` и обработаем колонки по отдельности."
   ]
  },
  {
   "cell_type": "code",
   "execution_count": 21,
   "metadata": {},
   "outputs": [
    {
     "data": {
      "text/plain": [
       "[20, 63, 228, 293, 789, 889]"
      ]
     },
     "execution_count": 21,
     "metadata": {},
     "output_type": "execute_result"
    }
   ],
   "source": [
    "change_list_close = df_LKOH_NA[df_LKOH_NA.isna()['<CLOSE>'].isin([True])].index.tolist()\n",
    "change_list_close    # выведем список на экран"
   ]
  },
  {
   "cell_type": "code",
   "execution_count": 22,
   "metadata": {},
   "outputs": [
    {
     "data": {
      "text/html": [
       "<div>\n",
       "<style scoped>\n",
       "    .dataframe tbody tr th:only-of-type {\n",
       "        vertical-align: middle;\n",
       "    }\n",
       "\n",
       "    .dataframe tbody tr th {\n",
       "        vertical-align: top;\n",
       "    }\n",
       "\n",
       "    .dataframe thead th {\n",
       "        text-align: right;\n",
       "    }\n",
       "</style>\n",
       "<table border=\"1\" class=\"dataframe\">\n",
       "  <thead>\n",
       "    <tr style=\"text-align: right;\">\n",
       "      <th></th>\n",
       "      <th>&lt;TICKER&gt;</th>\n",
       "      <th>&lt;PER&gt;</th>\n",
       "      <th>&lt;DATE&gt;</th>\n",
       "      <th>&lt;TIME&gt;</th>\n",
       "      <th>&lt;CLOSE&gt;</th>\n",
       "      <th>&lt;VOL&gt;</th>\n",
       "    </tr>\n",
       "  </thead>\n",
       "  <tbody>\n",
       "    <tr>\n",
       "      <th>20</th>\n",
       "      <td>LKOH</td>\n",
       "      <td>D</td>\n",
       "      <td>2017-11-17</td>\n",
       "      <td>0</td>\n",
       "      <td>NaN</td>\n",
       "      <td>330965.0</td>\n",
       "    </tr>\n",
       "    <tr>\n",
       "      <th>63</th>\n",
       "      <td>LKOH</td>\n",
       "      <td>D</td>\n",
       "      <td>2018-01-22</td>\n",
       "      <td>0</td>\n",
       "      <td>NaN</td>\n",
       "      <td>610914.0</td>\n",
       "    </tr>\n",
       "    <tr>\n",
       "      <th>228</th>\n",
       "      <td>LKOH</td>\n",
       "      <td>D</td>\n",
       "      <td>2018-09-13</td>\n",
       "      <td>0</td>\n",
       "      <td>NaN</td>\n",
       "      <td>586466.0</td>\n",
       "    </tr>\n",
       "    <tr>\n",
       "      <th>293</th>\n",
       "      <td>LKOH</td>\n",
       "      <td>D</td>\n",
       "      <td>2018-12-14</td>\n",
       "      <td>0</td>\n",
       "      <td>NaN</td>\n",
       "      <td>733967.0</td>\n",
       "    </tr>\n",
       "    <tr>\n",
       "      <th>789</th>\n",
       "      <td>LKOH</td>\n",
       "      <td>D</td>\n",
       "      <td>2020-12-07</td>\n",
       "      <td>0</td>\n",
       "      <td>NaN</td>\n",
       "      <td>1184748.0</td>\n",
       "    </tr>\n",
       "    <tr>\n",
       "      <th>889</th>\n",
       "      <td>LKOH</td>\n",
       "      <td>D</td>\n",
       "      <td>2021-04-30</td>\n",
       "      <td>0</td>\n",
       "      <td>NaN</td>\n",
       "      <td>NaN</td>\n",
       "    </tr>\n",
       "  </tbody>\n",
       "</table>\n",
       "</div>"
      ],
      "text/plain": [
       "    <TICKER> <PER>     <DATE>  <TIME>  <CLOSE>      <VOL>\n",
       "20      LKOH     D 2017-11-17       0      NaN   330965.0\n",
       "63      LKOH     D 2018-01-22       0      NaN   610914.0\n",
       "228     LKOH     D 2018-09-13       0      NaN   586466.0\n",
       "293     LKOH     D 2018-12-14       0      NaN   733967.0\n",
       "789     LKOH     D 2020-12-07       0      NaN  1184748.0\n",
       "889     LKOH     D 2021-04-30       0      NaN        NaN"
      ]
     },
     "execution_count": 22,
     "metadata": {},
     "output_type": "execute_result"
    }
   ],
   "source": [
    "df_LKOH_NA[df_LKOH_NA.index.isin(change_list_close)]    # Выведем строки с пропусками на экран"
   ]
  },
  {
   "cell_type": "markdown",
   "metadata": {},
   "source": [
    "Сделаем цикл по всем элементам списка замены.<br>\n",
    "В исходной таблице индексы идут по порядку с 0, но мы для общности будем вычислять порядковый номер `i` с помощью метода `pandas.Index.get_loc`, который по значению индекса возвращает его порядковый номер.<br>\n",
    "https://pandas.pydata.org/docs/reference/api/pandas.Index.get_loc.html<br>\n",
    "Индекс предыдущего будет `i-1`, а последующего `i+1`.<br>\n",
    "Замену пропуска в строке `i` надо делать по формуле: $close_i = \\frac{1}{2}(close_{i-1} + close_{i+1})$.<br>\n",
    "Такая замена является линейной интерполяцией пропущенных данных."
   ]
  },
  {
   "cell_type": "markdown",
   "metadata": {},
   "source": [
    "> В общем случе надо еще проверять, чтобы заменяемый таким образом элемент не был первым и последним в выборке, а также, чтобы не было двух и более пропусков подряд. Для них нужна другая формула. Какая? - предложение подумать слушателям.<br>"
   ]
  },
  {
   "cell_type": "code",
   "execution_count": 23,
   "metadata": {},
   "outputs": [],
   "source": [
    "for i in change_list_close:\n",
    "    i_iloc = df_LKOH_1_4.index.get_loc(i)    # вычисляем порядковый номер по значению индекса\n",
    "    new_value = (df_LKOH_1_4.iloc[i_iloc-1]['<CLOSE>'] + df_LKOH_1_4.iloc[i_iloc+1]['<CLOSE>'])/2    # новое значение для NaN\n",
    "    df_LKOH_1_4.loc[i,'<CLOSE>'] = new_value    # присваиваем новое значение для элемента строки, где был пропуск Nan    "
   ]
  },
  {
   "cell_type": "code",
   "execution_count": 24,
   "metadata": {},
   "outputs": [
    {
     "data": {
      "text/html": [
       "<div>\n",
       "<style scoped>\n",
       "    .dataframe tbody tr th:only-of-type {\n",
       "        vertical-align: middle;\n",
       "    }\n",
       "\n",
       "    .dataframe tbody tr th {\n",
       "        vertical-align: top;\n",
       "    }\n",
       "\n",
       "    .dataframe thead th {\n",
       "        text-align: right;\n",
       "    }\n",
       "</style>\n",
       "<table border=\"1\" class=\"dataframe\">\n",
       "  <thead>\n",
       "    <tr style=\"text-align: right;\">\n",
       "      <th></th>\n",
       "      <th>&lt;TICKER&gt;</th>\n",
       "      <th>&lt;PER&gt;</th>\n",
       "      <th>&lt;DATE&gt;</th>\n",
       "      <th>&lt;TIME&gt;</th>\n",
       "      <th>&lt;CLOSE&gt;</th>\n",
       "      <th>&lt;VOL&gt;</th>\n",
       "    </tr>\n",
       "  </thead>\n",
       "  <tbody>\n",
       "    <tr>\n",
       "      <th>20</th>\n",
       "      <td>LKOH</td>\n",
       "      <td>D</td>\n",
       "      <td>2017-11-17</td>\n",
       "      <td>0</td>\n",
       "      <td>3292.50</td>\n",
       "      <td>330965.0</td>\n",
       "    </tr>\n",
       "    <tr>\n",
       "      <th>63</th>\n",
       "      <td>LKOH</td>\n",
       "      <td>D</td>\n",
       "      <td>2018-01-22</td>\n",
       "      <td>0</td>\n",
       "      <td>3833.50</td>\n",
       "      <td>610914.0</td>\n",
       "    </tr>\n",
       "    <tr>\n",
       "      <th>228</th>\n",
       "      <td>LKOH</td>\n",
       "      <td>D</td>\n",
       "      <td>2018-09-13</td>\n",
       "      <td>0</td>\n",
       "      <td>4613.25</td>\n",
       "      <td>586466.0</td>\n",
       "    </tr>\n",
       "    <tr>\n",
       "      <th>293</th>\n",
       "      <td>LKOH</td>\n",
       "      <td>D</td>\n",
       "      <td>2018-12-14</td>\n",
       "      <td>0</td>\n",
       "      <td>5115.75</td>\n",
       "      <td>733967.0</td>\n",
       "    </tr>\n",
       "    <tr>\n",
       "      <th>789</th>\n",
       "      <td>LKOH</td>\n",
       "      <td>D</td>\n",
       "      <td>2020-12-07</td>\n",
       "      <td>0</td>\n",
       "      <td>5058.00</td>\n",
       "      <td>1184748.0</td>\n",
       "    </tr>\n",
       "    <tr>\n",
       "      <th>889</th>\n",
       "      <td>LKOH</td>\n",
       "      <td>D</td>\n",
       "      <td>2021-04-30</td>\n",
       "      <td>0</td>\n",
       "      <td>5958.50</td>\n",
       "      <td>NaN</td>\n",
       "    </tr>\n",
       "  </tbody>\n",
       "</table>\n",
       "</div>"
      ],
      "text/plain": [
       "    <TICKER> <PER>     <DATE>  <TIME>  <CLOSE>      <VOL>\n",
       "20      LKOH     D 2017-11-17       0  3292.50   330965.0\n",
       "63      LKOH     D 2018-01-22       0  3833.50   610914.0\n",
       "228     LKOH     D 2018-09-13       0  4613.25   586466.0\n",
       "293     LKOH     D 2018-12-14       0  5115.75   733967.0\n",
       "789     LKOH     D 2020-12-07       0  5058.00  1184748.0\n",
       "889     LKOH     D 2021-04-30       0  5958.50        NaN"
      ]
     },
     "execution_count": 24,
     "metadata": {},
     "output_type": "execute_result"
    }
   ],
   "source": [
    "df_LKOH_1_4[df_LKOH_1_4.index.isin(change_list_close)]    # Выведем строки, где были пропуски, на экран"
   ]
  },
  {
   "cell_type": "markdown",
   "metadata": {},
   "source": [
    "Замена пропусков состоялась."
   ]
  },
  {
   "cell_type": "markdown",
   "metadata": {},
   "source": [
    "Аналогичным образом поступим с колонкой `'<VOL>'`."
   ]
  },
  {
   "cell_type": "code",
   "execution_count": 25,
   "metadata": {},
   "outputs": [
    {
     "data": {
      "text/plain": [
       "[122, 169, 313, 827, 889]"
      ]
     },
     "execution_count": 25,
     "metadata": {},
     "output_type": "execute_result"
    }
   ],
   "source": [
    "change_list_vol = df_LKOH_NA[df_LKOH_NA.isna()['<VOL>'].isin([True])].index.tolist()\n",
    "change_list_vol    # выведем список на экран"
   ]
  },
  {
   "cell_type": "code",
   "execution_count": 26,
   "metadata": {},
   "outputs": [],
   "source": [
    "for i in change_list_vol:\n",
    "    i_iloc = df_LKOH_1_4.index.get_loc(i)    # вычисляем порядковый номер по значению индекса\n",
    "    new_value = (df_LKOH_1_4.iloc[i_iloc-1]['<VOL>'] + df_LKOH_1_4.iloc[i_iloc+1]['<VOL>'])/2    # новое значение для NaN\n",
    "    df_LKOH_1_4.loc[i,'<VOL>'] = new_value    # присваиваем новое значение для элемента строки, где был пропуск Nan    "
   ]
  },
  {
   "cell_type": "markdown",
   "metadata": {},
   "source": [
    "Почему обрабатывали колонки по отдельности? Если сделать объединенный список, то будут строки, в которых в `'<CLOSE>'` пропуск (его надо исправлять), а в `'<VOL>'` его нет (значение надо оставить как есть). Проверку на такие ситуации нужно будет делать в цикле. Чтобы ее не делать, обработали колонки по отдельности и исключили такие ситуации."
   ]
  },
  {
   "cell_type": "code",
   "execution_count": 27,
   "metadata": {},
   "outputs": [
    {
     "data": {
      "text/html": [
       "<div>\n",
       "<style scoped>\n",
       "    .dataframe tbody tr th:only-of-type {\n",
       "        vertical-align: middle;\n",
       "    }\n",
       "\n",
       "    .dataframe tbody tr th {\n",
       "        vertical-align: top;\n",
       "    }\n",
       "\n",
       "    .dataframe thead th {\n",
       "        text-align: right;\n",
       "    }\n",
       "</style>\n",
       "<table border=\"1\" class=\"dataframe\">\n",
       "  <thead>\n",
       "    <tr style=\"text-align: right;\">\n",
       "      <th></th>\n",
       "      <th>&lt;TIME&gt;</th>\n",
       "      <th>&lt;CLOSE&gt;</th>\n",
       "      <th>&lt;VOL&gt;</th>\n",
       "    </tr>\n",
       "  </thead>\n",
       "  <tbody>\n",
       "    <tr>\n",
       "      <th>count</th>\n",
       "      <td>1011.0</td>\n",
       "      <td>1011.00</td>\n",
       "      <td>1011.00</td>\n",
       "    </tr>\n",
       "    <tr>\n",
       "      <th>mean</th>\n",
       "      <td>0.0</td>\n",
       "      <td>5177.47</td>\n",
       "      <td>1054942.44</td>\n",
       "    </tr>\n",
       "    <tr>\n",
       "      <th>std</th>\n",
       "      <td>0.0</td>\n",
       "      <td>921.03</td>\n",
       "      <td>734830.03</td>\n",
       "    </tr>\n",
       "    <tr>\n",
       "      <th>min</th>\n",
       "      <td>0.0</td>\n",
       "      <td>2985.00</td>\n",
       "      <td>53658.00</td>\n",
       "    </tr>\n",
       "    <tr>\n",
       "      <th>25%</th>\n",
       "      <td>0.0</td>\n",
       "      <td>4516.00</td>\n",
       "      <td>615884.50</td>\n",
       "    </tr>\n",
       "    <tr>\n",
       "      <th>50%</th>\n",
       "      <td>0.0</td>\n",
       "      <td>5204.50</td>\n",
       "      <td>839558.00</td>\n",
       "    </tr>\n",
       "    <tr>\n",
       "      <th>75%</th>\n",
       "      <td>0.0</td>\n",
       "      <td>5866.75</td>\n",
       "      <td>1282568.00</td>\n",
       "    </tr>\n",
       "    <tr>\n",
       "      <th>max</th>\n",
       "      <td>0.0</td>\n",
       "      <td>7346.50</td>\n",
       "      <td>7510762.00</td>\n",
       "    </tr>\n",
       "  </tbody>\n",
       "</table>\n",
       "</div>"
      ],
      "text/plain": [
       "       <TIME>  <CLOSE>       <VOL>\n",
       "count  1011.0  1011.00     1011.00\n",
       "mean      0.0  5177.47  1054942.44\n",
       "std       0.0   921.03   734830.03\n",
       "min       0.0  2985.00    53658.00\n",
       "25%       0.0  4516.00   615884.50\n",
       "50%       0.0  5204.50   839558.00\n",
       "75%       0.0  5866.75  1282568.00\n",
       "max       0.0  7346.50  7510762.00"
      ]
     },
     "execution_count": 27,
     "metadata": {},
     "output_type": "execute_result"
    }
   ],
   "source": [
    "df_LKOH_1_4.describe().round(decimals=2)    # выведем описательную статистику"
   ]
  },
  {
   "cell_type": "markdown",
   "metadata": {},
   "source": [
    "Количество элементов теперь как в исходном DataFrame - пропусков данных нет. Пропуски в случае временного ряда мы заполнили средними значениями по ближайшим соседям."
   ]
  },
  {
   "cell_type": "markdown",
   "metadata": {},
   "source": [
    "**Способ 2. Замена с помощью `pandas.fillna` на предыдущие непропущенные значения**"
   ]
  },
  {
   "cell_type": "code",
   "execution_count": 28,
   "metadata": {},
   "outputs": [],
   "source": [
    "# Сделаем копию, чтобы менять в ней\n",
    "df_LKOH_1_5 = df_LKOH_NA.copy()"
   ]
  },
  {
   "cell_type": "code",
   "execution_count": 29,
   "metadata": {},
   "outputs": [
    {
     "data": {
      "text/plain": [
       "[20, 63, 228, 293, 789, 889]"
      ]
     },
     "execution_count": 29,
     "metadata": {},
     "output_type": "execute_result"
    }
   ],
   "source": [
    "# Получим в виде списка индексы строк, в которых есть пропуски и которые надо заменить на средние\n",
    "change_list_close = df_LKOH_NA[df_LKOH_NA.isna()['<CLOSE>'].isin([True])].index.tolist()\n",
    "change_list_close    # выведем список на экран"
   ]
  },
  {
   "cell_type": "code",
   "execution_count": 30,
   "metadata": {},
   "outputs": [
    {
     "data": {
      "text/html": [
       "<div>\n",
       "<style scoped>\n",
       "    .dataframe tbody tr th:only-of-type {\n",
       "        vertical-align: middle;\n",
       "    }\n",
       "\n",
       "    .dataframe tbody tr th {\n",
       "        vertical-align: top;\n",
       "    }\n",
       "\n",
       "    .dataframe thead th {\n",
       "        text-align: right;\n",
       "    }\n",
       "</style>\n",
       "<table border=\"1\" class=\"dataframe\">\n",
       "  <thead>\n",
       "    <tr style=\"text-align: right;\">\n",
       "      <th></th>\n",
       "      <th>&lt;TICKER&gt;</th>\n",
       "      <th>&lt;PER&gt;</th>\n",
       "      <th>&lt;DATE&gt;</th>\n",
       "      <th>&lt;TIME&gt;</th>\n",
       "      <th>&lt;CLOSE&gt;</th>\n",
       "      <th>&lt;VOL&gt;</th>\n",
       "    </tr>\n",
       "  </thead>\n",
       "  <tbody>\n",
       "    <tr>\n",
       "      <th>20</th>\n",
       "      <td>LKOH</td>\n",
       "      <td>D</td>\n",
       "      <td>2017-11-17</td>\n",
       "      <td>0</td>\n",
       "      <td>NaN</td>\n",
       "      <td>330965.0</td>\n",
       "    </tr>\n",
       "    <tr>\n",
       "      <th>63</th>\n",
       "      <td>LKOH</td>\n",
       "      <td>D</td>\n",
       "      <td>2018-01-22</td>\n",
       "      <td>0</td>\n",
       "      <td>NaN</td>\n",
       "      <td>610914.0</td>\n",
       "    </tr>\n",
       "    <tr>\n",
       "      <th>228</th>\n",
       "      <td>LKOH</td>\n",
       "      <td>D</td>\n",
       "      <td>2018-09-13</td>\n",
       "      <td>0</td>\n",
       "      <td>NaN</td>\n",
       "      <td>586466.0</td>\n",
       "    </tr>\n",
       "    <tr>\n",
       "      <th>293</th>\n",
       "      <td>LKOH</td>\n",
       "      <td>D</td>\n",
       "      <td>2018-12-14</td>\n",
       "      <td>0</td>\n",
       "      <td>NaN</td>\n",
       "      <td>733967.0</td>\n",
       "    </tr>\n",
       "    <tr>\n",
       "      <th>789</th>\n",
       "      <td>LKOH</td>\n",
       "      <td>D</td>\n",
       "      <td>2020-12-07</td>\n",
       "      <td>0</td>\n",
       "      <td>NaN</td>\n",
       "      <td>1184748.0</td>\n",
       "    </tr>\n",
       "    <tr>\n",
       "      <th>889</th>\n",
       "      <td>LKOH</td>\n",
       "      <td>D</td>\n",
       "      <td>2021-04-30</td>\n",
       "      <td>0</td>\n",
       "      <td>NaN</td>\n",
       "      <td>NaN</td>\n",
       "    </tr>\n",
       "  </tbody>\n",
       "</table>\n",
       "</div>"
      ],
      "text/plain": [
       "    <TICKER> <PER>     <DATE>  <TIME>  <CLOSE>      <VOL>\n",
       "20      LKOH     D 2017-11-17       0      NaN   330965.0\n",
       "63      LKOH     D 2018-01-22       0      NaN   610914.0\n",
       "228     LKOH     D 2018-09-13       0      NaN   586466.0\n",
       "293     LKOH     D 2018-12-14       0      NaN   733967.0\n",
       "789     LKOH     D 2020-12-07       0      NaN  1184748.0\n",
       "889     LKOH     D 2021-04-30       0      NaN        NaN"
      ]
     },
     "execution_count": 30,
     "metadata": {},
     "output_type": "execute_result"
    }
   ],
   "source": [
    "df_LKOH_NA[df_LKOH_NA.index.isin(change_list_close)]    # Выведем строки с пропусками на экран"
   ]
  },
  {
   "cell_type": "code",
   "execution_count": 31,
   "metadata": {},
   "outputs": [
    {
     "data": {
      "text/html": [
       "<div>\n",
       "<style scoped>\n",
       "    .dataframe tbody tr th:only-of-type {\n",
       "        vertical-align: middle;\n",
       "    }\n",
       "\n",
       "    .dataframe tbody tr th {\n",
       "        vertical-align: top;\n",
       "    }\n",
       "\n",
       "    .dataframe thead th {\n",
       "        text-align: right;\n",
       "    }\n",
       "</style>\n",
       "<table border=\"1\" class=\"dataframe\">\n",
       "  <thead>\n",
       "    <tr style=\"text-align: right;\">\n",
       "      <th></th>\n",
       "      <th>&lt;TICKER&gt;</th>\n",
       "      <th>&lt;PER&gt;</th>\n",
       "      <th>&lt;DATE&gt;</th>\n",
       "      <th>&lt;TIME&gt;</th>\n",
       "      <th>&lt;CLOSE&gt;</th>\n",
       "      <th>&lt;VOL&gt;</th>\n",
       "    </tr>\n",
       "  </thead>\n",
       "  <tbody>\n",
       "    <tr>\n",
       "      <th>20</th>\n",
       "      <td>LKOH</td>\n",
       "      <td>D</td>\n",
       "      <td>2017-11-17</td>\n",
       "      <td>0</td>\n",
       "      <td>3304.0</td>\n",
       "      <td>330965.0</td>\n",
       "    </tr>\n",
       "    <tr>\n",
       "      <th>63</th>\n",
       "      <td>LKOH</td>\n",
       "      <td>D</td>\n",
       "      <td>2018-01-22</td>\n",
       "      <td>0</td>\n",
       "      <td>3825.5</td>\n",
       "      <td>610914.0</td>\n",
       "    </tr>\n",
       "    <tr>\n",
       "      <th>228</th>\n",
       "      <td>LKOH</td>\n",
       "      <td>D</td>\n",
       "      <td>2018-09-13</td>\n",
       "      <td>0</td>\n",
       "      <td>4622.5</td>\n",
       "      <td>586466.0</td>\n",
       "    </tr>\n",
       "    <tr>\n",
       "      <th>293</th>\n",
       "      <td>LKOH</td>\n",
       "      <td>D</td>\n",
       "      <td>2018-12-14</td>\n",
       "      <td>0</td>\n",
       "      <td>5131.5</td>\n",
       "      <td>733967.0</td>\n",
       "    </tr>\n",
       "    <tr>\n",
       "      <th>789</th>\n",
       "      <td>LKOH</td>\n",
       "      <td>D</td>\n",
       "      <td>2020-12-07</td>\n",
       "      <td>0</td>\n",
       "      <td>5122.0</td>\n",
       "      <td>1184748.0</td>\n",
       "    </tr>\n",
       "    <tr>\n",
       "      <th>889</th>\n",
       "      <td>LKOH</td>\n",
       "      <td>D</td>\n",
       "      <td>2021-04-30</td>\n",
       "      <td>0</td>\n",
       "      <td>5926.0</td>\n",
       "      <td>1022280.0</td>\n",
       "    </tr>\n",
       "  </tbody>\n",
       "</table>\n",
       "</div>"
      ],
      "text/plain": [
       "    <TICKER> <PER>     <DATE>  <TIME>  <CLOSE>      <VOL>\n",
       "20      LKOH     D 2017-11-17       0   3304.0   330965.0\n",
       "63      LKOH     D 2018-01-22       0   3825.5   610914.0\n",
       "228     LKOH     D 2018-09-13       0   4622.5   586466.0\n",
       "293     LKOH     D 2018-12-14       0   5131.5   733967.0\n",
       "789     LKOH     D 2020-12-07       0   5122.0  1184748.0\n",
       "889     LKOH     D 2021-04-30       0   5926.0  1022280.0"
      ]
     },
     "execution_count": 31,
     "metadata": {},
     "output_type": "execute_result"
    }
   ],
   "source": [
    "# Сделаем замену пропусков предыдущими непропущенными значениями с помощью метода fillna \n",
    "# Параметр method = 'ffill' - замена вперед\n",
    "df_LKOH_1_5 = df_LKOH_1_5.fillna(method = 'ffill')\n",
    "df_LKOH_1_5[df_LKOH_1_5.index.isin(change_list_close)]    # выведем на экран строки, где были пропуски"
   ]
  },
  {
   "cell_type": "code",
   "execution_count": 32,
   "metadata": {},
   "outputs": [
    {
     "data": {
      "text/html": [
       "<div>\n",
       "<style scoped>\n",
       "    .dataframe tbody tr th:only-of-type {\n",
       "        vertical-align: middle;\n",
       "    }\n",
       "\n",
       "    .dataframe tbody tr th {\n",
       "        vertical-align: top;\n",
       "    }\n",
       "\n",
       "    .dataframe thead th {\n",
       "        text-align: right;\n",
       "    }\n",
       "</style>\n",
       "<table border=\"1\" class=\"dataframe\">\n",
       "  <thead>\n",
       "    <tr style=\"text-align: right;\">\n",
       "      <th></th>\n",
       "      <th>&lt;TICKER&gt;</th>\n",
       "      <th>&lt;PER&gt;</th>\n",
       "      <th>&lt;DATE&gt;</th>\n",
       "      <th>&lt;TIME&gt;</th>\n",
       "      <th>&lt;CLOSE&gt;</th>\n",
       "      <th>&lt;VOL&gt;</th>\n",
       "    </tr>\n",
       "  </thead>\n",
       "  <tbody>\n",
       "    <tr>\n",
       "      <th>19</th>\n",
       "      <td>LKOH</td>\n",
       "      <td>D</td>\n",
       "      <td>2017-11-16</td>\n",
       "      <td>0</td>\n",
       "      <td>3304.0</td>\n",
       "      <td>580867.0</td>\n",
       "    </tr>\n",
       "    <tr>\n",
       "      <th>62</th>\n",
       "      <td>LKOH</td>\n",
       "      <td>D</td>\n",
       "      <td>2018-01-19</td>\n",
       "      <td>0</td>\n",
       "      <td>3825.5</td>\n",
       "      <td>662103.0</td>\n",
       "    </tr>\n",
       "    <tr>\n",
       "      <th>227</th>\n",
       "      <td>LKOH</td>\n",
       "      <td>D</td>\n",
       "      <td>2018-09-12</td>\n",
       "      <td>0</td>\n",
       "      <td>4622.5</td>\n",
       "      <td>586148.0</td>\n",
       "    </tr>\n",
       "    <tr>\n",
       "      <th>292</th>\n",
       "      <td>LKOH</td>\n",
       "      <td>D</td>\n",
       "      <td>2018-12-13</td>\n",
       "      <td>0</td>\n",
       "      <td>5131.5</td>\n",
       "      <td>901654.0</td>\n",
       "    </tr>\n",
       "    <tr>\n",
       "      <th>788</th>\n",
       "      <td>LKOH</td>\n",
       "      <td>D</td>\n",
       "      <td>2020-12-04</td>\n",
       "      <td>0</td>\n",
       "      <td>5122.0</td>\n",
       "      <td>1507715.0</td>\n",
       "    </tr>\n",
       "    <tr>\n",
       "      <th>888</th>\n",
       "      <td>LKOH</td>\n",
       "      <td>D</td>\n",
       "      <td>2021-04-29</td>\n",
       "      <td>0</td>\n",
       "      <td>5926.0</td>\n",
       "      <td>1022280.0</td>\n",
       "    </tr>\n",
       "  </tbody>\n",
       "</table>\n",
       "</div>"
      ],
      "text/plain": [
       "    <TICKER> <PER>     <DATE>  <TIME>  <CLOSE>      <VOL>\n",
       "19      LKOH     D 2017-11-16       0   3304.0   580867.0\n",
       "62      LKOH     D 2018-01-19       0   3825.5   662103.0\n",
       "227     LKOH     D 2018-09-12       0   4622.5   586148.0\n",
       "292     LKOH     D 2018-12-13       0   5131.5   901654.0\n",
       "788     LKOH     D 2020-12-04       0   5122.0  1507715.0\n",
       "888     LKOH     D 2021-04-29       0   5926.0  1022280.0"
      ]
     },
     "execution_count": 32,
     "metadata": {},
     "output_type": "execute_result"
    }
   ],
   "source": [
    "# Для проверки составим список предыдущих значений с использованием генератора списков\n",
    "change_list_close_backfill = [(i-1)for i in change_list_close]\n",
    "df_LKOH_1_5[df_LKOH_1_5.index.isin(change_list_close_backfill)]    # выведем на экран предыдущие значения"
   ]
  },
  {
   "cell_type": "markdown",
   "metadata": {},
   "source": [
    "На место пропусков встали предыдущие непропущенные значения. Если встроенные методы замены устраивают, то метод `fillna` хорош."
   ]
  },
  {
   "cell_type": "markdown",
   "metadata": {},
   "source": [
    "Для интерполяции есть свой метод `pandas.DataFrame.interpolate`. С ним можете познакомиться самостоятельно."
   ]
  },
  {
   "cell_type": "markdown",
   "metadata": {},
   "source": [
    "### Подведем итоги. На этом занятии мы научились:\n",
    "- Получать для таблицы pandas DataFrame описательную статистику.\n",
    "- Находить пропуски в данных и исправлять их."
   ]
  }
 ],
 "metadata": {
  "kernelspec": {
   "display_name": "Python 3",
   "language": "python",
   "name": "python3"
  },
  "language_info": {
   "codemirror_mode": {
    "name": "ipython",
    "version": 3
   },
   "file_extension": ".py",
   "mimetype": "text/x-python",
   "name": "python",
   "nbconvert_exporter": "python",
   "pygments_lexer": "ipython3",
   "version": "3.8.5"
  }
 },
 "nbformat": 4,
 "nbformat_minor": 2
}
