{
 "cells": [
  {
   "cell_type": "markdown",
   "metadata": {},
   "source": [
    "#### @author: Александр Владимирович Толмачев | axtolm@gmail.com\n",
    "<hr>"
   ]
  },
  {
   "cell_type": "markdown",
   "metadata": {},
   "source": [
    "## 3. Предобработка данных на Python"
   ]
  },
  {
   "cell_type": "markdown",
   "metadata": {},
   "source": [
    "## Часть 2. Работа с выбросами в данных"
   ]
  },
  {
   "cell_type": "markdown",
   "metadata": {},
   "source": [
    "### На этом занятии мы планируем научиться:\n",
    "- Находить выбросы в данных и исправлять их."
   ]
  },
  {
   "cell_type": "markdown",
   "metadata": {},
   "source": [
    "### 1. Вводная информация"
   ]
  },
  {
   "cell_type": "markdown",
   "metadata": {},
   "source": [
    "Выброс (outlier) — в статистике это элемент выборки, существенно отличающийся от остальных."
   ]
  },
  {
   "cell_type": "markdown",
   "metadata": {},
   "source": [
    "Статистический метод, способный действовать в условиях выбросов, называется робастным.<br>\n",
    "Медиана является робастной характеристикой, а среднее по выборке — нет. "
   ]
  },
  {
   "cell_type": "markdown",
   "metadata": {},
   "source": [
    "Причины появления выбросов:\n",
    "- ошибки измерений, \n",
    "- ошибки формирования выборки (попадание элементов из другой генеральной совокупности), \n",
    "- преднамеренное искажение или некорректная фиксация результатов анализа выборки, \n",
    "- ошибочные предположения о распределении данных или модели, \n",
    "- малое количество наблюдений и т.д."
   ]
  },
  {
   "cell_type": "markdown",
   "metadata": {},
   "source": [
    "**Необходимо уметь выявлять и исправлять выбросы.**<br>\n",
    "Анализ выбросов ведет к более полному пониманию изучаемых процессов и более глубокому анализу данных."
   ]
  },
  {
   "cell_type": "markdown",
   "metadata": {},
   "source": [
    "### 2. Загрузка данных из файла в csv формате в таблицу pandas DataFrame"
   ]
  },
  {
   "cell_type": "markdown",
   "metadata": {},
   "source": [
    "**Для примера возьмем датасет с открытыми экономическими данными для региона Свердловская область за 2015-2018 гг**<br>\n",
    "**Поля (столбцы) таблицы**<br>\n",
    "- \"date\" - дата, для которой приведены экономические показатели, в формате str,\n",
    "- \"avg_salary\" - средняя зарплата,\n",
    "- \"avg_pension\" - средняя пенсия,\n",
    "- \"avg_card_spend\" - средние расходы по картам. "
   ]
  },
  {
   "cell_type": "markdown",
   "metadata": {},
   "source": [
    "Для загрузки воспользуемся методом `pandas.read_csv`<br>\n",
    "https://pandas.pydata.org/pandas-docs/stable/reference/api/pandas.read_csv.html<br>"
   ]
  },
  {
   "cell_type": "code",
   "execution_count": 1,
   "metadata": {},
   "outputs": [],
   "source": [
    "# зададим имя файла с пропущенными данными (лежит в той же папке)\n",
    "in_file_name = 'dataset_2_outliers.csv'"
   ]
  },
  {
   "cell_type": "code",
   "execution_count": 2,
   "metadata": {},
   "outputs": [],
   "source": [
    "import pandas as pd    # импорт библиотеки"
   ]
  },
  {
   "cell_type": "markdown",
   "metadata": {},
   "source": [
    "Загрузим в DataFrame файл данных в формате csv `in_file_name`, имеющий выбросы. \n",
    "Т.к. файл лежит там же, где и `.ipynb`, то полный путь можно не указывать. "
   ]
  },
  {
   "cell_type": "code",
   "execution_count": 3,
   "metadata": {},
   "outputs": [],
   "source": [
    "df_in = pd.read_csv(in_file_name, sep = ';')"
   ]
  },
  {
   "cell_type": "code",
   "execution_count": 4,
   "metadata": {},
   "outputs": [
    {
     "data": {
      "text/html": [
       "<div>\n",
       "<style scoped>\n",
       "    .dataframe tbody tr th:only-of-type {\n",
       "        vertical-align: middle;\n",
       "    }\n",
       "\n",
       "    .dataframe tbody tr th {\n",
       "        vertical-align: top;\n",
       "    }\n",
       "\n",
       "    .dataframe thead th {\n",
       "        text-align: right;\n",
       "    }\n",
       "</style>\n",
       "<table border=\"1\" class=\"dataframe\">\n",
       "  <thead>\n",
       "    <tr style=\"text-align: right;\">\n",
       "      <th></th>\n",
       "      <th>date</th>\n",
       "      <th>avg_salary</th>\n",
       "      <th>avg_pension</th>\n",
       "      <th>avg_card_spend</th>\n",
       "    </tr>\n",
       "  </thead>\n",
       "  <tbody>\n",
       "    <tr>\n",
       "      <th>0</th>\n",
       "      <td>15.01.2015</td>\n",
       "      <td>19209</td>\n",
       "      <td>8831</td>\n",
       "      <td>7927</td>\n",
       "    </tr>\n",
       "    <tr>\n",
       "      <th>1</th>\n",
       "      <td>15.02.2015</td>\n",
       "      <td>25356</td>\n",
       "      <td>10451</td>\n",
       "      <td>7605</td>\n",
       "    </tr>\n",
       "    <tr>\n",
       "      <th>2</th>\n",
       "      <td>15.03.2015</td>\n",
       "      <td>24159</td>\n",
       "      <td>10284</td>\n",
       "      <td>8600</td>\n",
       "    </tr>\n",
       "  </tbody>\n",
       "</table>\n",
       "</div>"
      ],
      "text/plain": [
       "         date  avg_salary  avg_pension  avg_card_spend\n",
       "0  15.01.2015       19209         8831            7927\n",
       "1  15.02.2015       25356        10451            7605\n",
       "2  15.03.2015       24159        10284            8600"
      ]
     },
     "execution_count": 4,
     "metadata": {},
     "output_type": "execute_result"
    }
   ],
   "source": [
    "df_in.head(3)    # выведем данные на экран - первые три строки"
   ]
  },
  {
   "cell_type": "markdown",
   "metadata": {},
   "source": [
    "Преобразуем дату из числа во временной формат с помощью метода `pandas.to_datetime`(формат `%d.%m.%Y` укажем явно )<br>\n",
    "https://pandas.pydata.org/docs/reference/api/pandas.to_datetime.html<br>\n",
    "Иначе на графиках она будет отображаться некорректно, т.к. имеет формат `str`."
   ]
  },
  {
   "cell_type": "code",
   "execution_count": 5,
   "metadata": {},
   "outputs": [
    {
     "data": {
      "text/plain": [
       "str"
      ]
     },
     "execution_count": 5,
     "metadata": {},
     "output_type": "execute_result"
    }
   ],
   "source": [
    "type(df_in.date.iloc[0])     # тип до преобразования"
   ]
  },
  {
   "cell_type": "code",
   "execution_count": 6,
   "metadata": {},
   "outputs": [],
   "source": [
    "df_in.date = pd.to_datetime(df_in.date, format = '%d.%m.%Y')"
   ]
  },
  {
   "cell_type": "code",
   "execution_count": 7,
   "metadata": {},
   "outputs": [
    {
     "data": {
      "text/plain": [
       "pandas._libs.tslibs.timestamps.Timestamp"
      ]
     },
     "execution_count": 7,
     "metadata": {},
     "output_type": "execute_result"
    }
   ],
   "source": [
    "type(df_in.date.iloc[0])    # тип после преобразования"
   ]
  },
  {
   "cell_type": "markdown",
   "metadata": {},
   "source": [
    "### 3. Обнаружение выбросов"
   ]
  },
  {
   "cell_type": "markdown",
   "metadata": {},
   "source": [
    "Обнаружить выбросы, глядя на таблицу с данными сложно - строк может быть много, числа не визуальны. Нужны другие способы."
   ]
  },
  {
   "cell_type": "markdown",
   "metadata": {},
   "source": [
    "**Способ 1. Визуально по графику**"
   ]
  },
  {
   "cell_type": "markdown",
   "metadata": {},
   "source": [
    "Рассмотрим каждый столбец таблицы как временной ряд и визуализируем его с помощью метода `plot.scatter` библиотеки `pandas`.\n",
    "https://pandas.pydata.org/docs/reference/api/pandas.DataFrame.plot.scatter.html"
   ]
  },
  {
   "cell_type": "markdown",
   "metadata": {},
   "source": [
    "**График для `avg_salary` - средняя зарплата**"
   ]
  },
  {
   "cell_type": "code",
   "execution_count": 8,
   "metadata": {},
   "outputs": [
    {
     "data": {
      "text/plain": [
       "<AxesSubplot:xlabel='date', ylabel='avg_salary'>"
      ]
     },
     "execution_count": 8,
     "metadata": {},
     "output_type": "execute_result"
    },
    {
     "data": {
      "image/png": "[encoded data removed]",
      "text/plain": [
       "<Figure size 432x288 with 1 Axes>"
      ]
     },
     "metadata": {
      "needs_background": "light"
     },
     "output_type": "display_data"
    }
   ],
   "source": [
    "df_in.plot.scatter(x = 'date', y = 'avg_salary', c = 'DarkBlue') # график от времени "
   ]
  },
  {
   "cell_type": "markdown",
   "metadata": {},
   "source": [
    "Визуально на графике есть точки, подозрительные на выбросы - 4 верхние и 5 нижних точек.<br>\n",
    "С помощью фильтрации по значению выделим некоторые из них и выведем на экран.<br>\n",
    "Границы фильтрации `35000` и `23000` определим визуально по графику (субъективность тут имеет место)."
   ]
  },
  {
   "cell_type": "code",
   "execution_count": 9,
   "metadata": {},
   "outputs": [
    {
     "data": {
      "text/html": [
       "<div>\n",
       "<style scoped>\n",
       "    .dataframe tbody tr th:only-of-type {\n",
       "        vertical-align: middle;\n",
       "    }\n",
       "\n",
       "    .dataframe tbody tr th {\n",
       "        vertical-align: top;\n",
       "    }\n",
       "\n",
       "    .dataframe thead th {\n",
       "        text-align: right;\n",
       "    }\n",
       "</style>\n",
       "<table border=\"1\" class=\"dataframe\">\n",
       "  <thead>\n",
       "    <tr style=\"text-align: right;\">\n",
       "      <th></th>\n",
       "      <th>date</th>\n",
       "      <th>avg_salary</th>\n",
       "    </tr>\n",
       "  </thead>\n",
       "  <tbody>\n",
       "    <tr>\n",
       "      <th>0</th>\n",
       "      <td>2015-01-15</td>\n",
       "      <td>19209</td>\n",
       "    </tr>\n",
       "    <tr>\n",
       "      <th>11</th>\n",
       "      <td>2015-12-15</td>\n",
       "      <td>37467</td>\n",
       "    </tr>\n",
       "    <tr>\n",
       "      <th>12</th>\n",
       "      <td>2016-01-15</td>\n",
       "      <td>19760</td>\n",
       "    </tr>\n",
       "    <tr>\n",
       "      <th>23</th>\n",
       "      <td>2016-12-15</td>\n",
       "      <td>39630</td>\n",
       "    </tr>\n",
       "    <tr>\n",
       "      <th>24</th>\n",
       "      <td>2017-01-15</td>\n",
       "      <td>20626</td>\n",
       "    </tr>\n",
       "    <tr>\n",
       "      <th>35</th>\n",
       "      <td>2017-12-15</td>\n",
       "      <td>42513</td>\n",
       "    </tr>\n",
       "    <tr>\n",
       "      <th>47</th>\n",
       "      <td>2018-12-15</td>\n",
       "      <td>44268</td>\n",
       "    </tr>\n",
       "  </tbody>\n",
       "</table>\n",
       "</div>"
      ],
      "text/plain": [
       "         date  avg_salary\n",
       "0  2015-01-15       19209\n",
       "11 2015-12-15       37467\n",
       "12 2016-01-15       19760\n",
       "23 2016-12-15       39630\n",
       "24 2017-01-15       20626\n",
       "35 2017-12-15       42513\n",
       "47 2018-12-15       44268"
      ]
     },
     "execution_count": 9,
     "metadata": {},
     "output_type": "execute_result"
    }
   ],
   "source": [
    "df_in[((df_in.avg_salary > 35000) | (df_in.avg_salary < 23000))][['date','avg_salary']]"
   ]
  },
  {
   "cell_type": "markdown",
   "metadata": {},
   "source": [
    "Видим, что это зарплаты декабря (выброс вверх) и зарплаты января (выброс вниз).<br>\n",
    "Слушателям из России предлагается подумать и объяснить природу их возникновения."
   ]
  },
  {
   "cell_type": "markdown",
   "metadata": {},
   "source": [
    "**График для `avg_pension` - средняя пенсия**"
   ]
  },
  {
   "cell_type": "code",
   "execution_count": 10,
   "metadata": {},
   "outputs": [
    {
     "data": {
      "text/plain": [
       "<AxesSubplot:xlabel='date', ylabel='avg_pension'>"
      ]
     },
     "execution_count": 10,
     "metadata": {},
     "output_type": "execute_result"
    },
    {
     "data": {
      "image/png": "[encoded data removed]",
      "text/plain": [
       "<Figure size 432x288 with 1 Axes>"
      ]
     },
     "metadata": {
      "needs_background": "light"
     },
     "output_type": "display_data"
    }
   ],
   "source": [
    "df_in.plot.scatter(x='date', y='avg_pension', c='DarkBlue') # график от времени"
   ]
  },
  {
   "cell_type": "markdown",
   "metadata": {},
   "source": [
    "Визуально подозрительны на выбросы последние две точки временного ряда.<br>\n",
    "Выделим их с помощью фильтрации по времени (возьмем последние две точки, воспользуемся `iloc` и сделаем срез)"
   ]
  },
  {
   "cell_type": "code",
   "execution_count": 11,
   "metadata": {},
   "outputs": [
    {
     "data": {
      "text/html": [
       "<div>\n",
       "<style scoped>\n",
       "    .dataframe tbody tr th:only-of-type {\n",
       "        vertical-align: middle;\n",
       "    }\n",
       "\n",
       "    .dataframe tbody tr th {\n",
       "        vertical-align: top;\n",
       "    }\n",
       "\n",
       "    .dataframe thead th {\n",
       "        text-align: right;\n",
       "    }\n",
       "</style>\n",
       "<table border=\"1\" class=\"dataframe\">\n",
       "  <thead>\n",
       "    <tr style=\"text-align: right;\">\n",
       "      <th></th>\n",
       "      <th>date</th>\n",
       "      <th>avg_pension</th>\n",
       "    </tr>\n",
       "  </thead>\n",
       "  <tbody>\n",
       "    <tr>\n",
       "      <th>47</th>\n",
       "      <td>2018-12-15</td>\n",
       "      <td>25044</td>\n",
       "    </tr>\n",
       "    <tr>\n",
       "      <th>48</th>\n",
       "      <td>2019-01-15</td>\n",
       "      <td>12607</td>\n",
       "    </tr>\n",
       "  </tbody>\n",
       "</table>\n",
       "</div>"
      ],
      "text/plain": [
       "         date  avg_pension\n",
       "47 2018-12-15        25044\n",
       "48 2019-01-15        12607"
      ]
     },
     "execution_count": 11,
     "metadata": {},
     "output_type": "execute_result"
    }
   ],
   "source": [
    "df_in[['date','avg_pension']].iloc[-2:]"
   ]
  },
  {
   "cell_type": "markdown",
   "metadata": {},
   "source": [
    "**График для `avg_card_spend` - средние расходы по картам** "
   ]
  },
  {
   "cell_type": "code",
   "execution_count": 12,
   "metadata": {},
   "outputs": [
    {
     "data": {
      "text/plain": [
       "<AxesSubplot:xlabel='date', ylabel='avg_card_spend'>"
      ]
     },
     "execution_count": 12,
     "metadata": {},
     "output_type": "execute_result"
    },
    {
     "data": {
      "image/png": "[encoded data removed]",
      "text/plain": [
       "<Figure size 432x288 with 1 Axes>"
      ]
     },
     "metadata": {
      "needs_background": "light"
     },
     "output_type": "display_data"
    }
   ],
   "source": [
    "df_in.plot.scatter(x='date', y='avg_card_spend', c='DarkBlue') # график от времени"
   ]
  },
  {
   "cell_type": "markdown",
   "metadata": {},
   "source": [
    "Визуально тут нет точек, подозрительных как выбросы."
   ]
  },
  {
   "cell_type": "markdown",
   "metadata": {},
   "source": [
    "**Способ 2. С помощью диаграммы box plot (ящик с усами или диаграмма размаха)**"
   ]
  },
  {
   "cell_type": "markdown",
   "metadata": {},
   "source": [
    "Диаграмма часто используется в описательной статистике для компактного изображения одномерного распределения вероятностей."
   ]
  },
  {
   "attachments": {
    "boxplot.png": {
     "image/png": "[encoded data removed]"
    }
   },
   "cell_type": "markdown",
   "metadata": {},
   "source": [
    "![boxplot.png](attachment:boxplot.png)"
   ]
  },
  {
   "cell_type": "markdown",
   "metadata": {},
   "source": [
    "**IQR** (interquartile range) - межквартильный размах, разность третьего квартиля и первого квартиля.<br>\n",
    "Содержит 50% данных из выборки, разделенных медианой.<br><br>\n",
    "Для определения границ \"усов\" используют формулу $X_1 = Q_1 - k(Q_3 - Q1)$, $X_2 = Q_3 + k(Q_3 - Q1)$<br>\n",
    "$k$ обычно берут $1.5$. Такой boxplot в случае нормального распределения покрывает $2.7\\sigma$, что наиболее близко к $3\\sigma$ или $99.7%$ выборки.<br><br>\n",
    "**Все, что меньше $X_1$ и больше $X_2$, расценивается как выбросы**<br><br>\n",
    "Воспользуемся методом `boxplot` из библиотеки `pandas` для построения диаграммы<br>\n",
    "https://pandas.pydata.org/docs/reference/api/pandas.DataFrame.boxplot.html<br>\n",
    "Нужные колонки можно указать в явном виде.<br>\n",
    "Метод имеет параметр `return_type{‘axes’, ‘dict’, ‘both’}, default ‘axes’`, который определяет, что выдаст метод на выходе - только график, только данные, график и данные."
   ]
  },
  {
   "cell_type": "code",
   "execution_count": 13,
   "metadata": {},
   "outputs": [],
   "source": [
    "# импорт графических библиотек\n",
    "import seaborn as sns\n",
    "import matplotlib.pyplot as plt\n",
    "plt.style.use('seaborn')"
   ]
  },
  {
   "cell_type": "code",
   "execution_count": 14,
   "metadata": {},
   "outputs": [
    {
     "data": {
      "image/png": "[encoded data removed]",
      "text/plain": [
       "<Figure size 576x396 with 1 Axes>"
      ]
     },
     "metadata": {},
     "output_type": "display_data"
    }
   ],
   "source": [
    "_, bp_axes = df_in.boxplot(column=['avg_salary', 'avg_pension', 'avg_card_spend'], return_type='both')    # график и данные"
   ]
  },
  {
   "cell_type": "markdown",
   "metadata": {},
   "source": [
    "**Что видим?**<br>\n",
    "- \"avg_salary\" - обнаружены только 4 выброса вверх (визуально определили 4 вверх и 5 вниз),\n",
    "- \"avg_pension\" - обнаружены 2 выброса вниз и 1 вверх (визуально определили 1 вверх и 1 вниз),\n",
    "- \"avg_card_spend\" - выбросы не обнаружены (как и визуально)."
   ]
  },
  {
   "cell_type": "markdown",
   "metadata": {},
   "source": [
    "**Как получить численные значения выбросов?**"
   ]
  },
  {
   "cell_type": "code",
   "execution_count": 15,
   "metadata": {},
   "outputs": [
    {
     "name": "stdout",
     "output_type": "stream",
     "text": [
      "[array([37467, 39630, 42513, 44268], dtype=int64), array([ 8831,  9496, 25044], dtype=int64), array([], dtype=int64)]\n",
      "avg_pension outliers:  [8831, 9496, 25044]\n"
     ]
    }
   ],
   "source": [
    "outliers_list = [flier.get_ydata() for flier in bp_axes[\"fliers\"]]    # выбросы\n",
    "print(outliers_list)    # выведем все на экран\n",
    "print(\"avg_pension outliers: \",list(outliers_list[1]))    # выбросы конкретно по \"avg_pension\""
   ]
  },
  {
   "cell_type": "markdown",
   "metadata": {},
   "source": [
    "**Способ 3. Фильтр Хэмпеля (Hampel filter)**"
   ]
  },
  {
   "cell_type": "markdown",
   "metadata": {},
   "source": [
    "В предлагаемой реализации фильтр признает выбросами все значения из выборки, у которых разница с медианой, рассчитанной по всей выборке, больше, чем 3 медианных абсолютных отклонения. В общем случае задают размер \"окна\" для расчета медианы и количество медианных абсолютных отклонений (у нас взято 3)."
   ]
  },
  {
   "cell_type": "markdown",
   "metadata": {},
   "source": [
    "Напишем функцию, реализующую фильтр Хемпеля. <br>\n",
    "Вход - одномерный массив данных. <br>\n",
    "Выход - входной массив данных, в котором выбросы заменены на пропуски (NaN).<br>"
   ]
  },
  {
   "cell_type": "code",
   "execution_count": 16,
   "metadata": {},
   "outputs": [],
   "source": [
    "def hampel_filter(data_in):\n",
    "    import numpy as np    # импорт библиотеки\n",
    "    data_out = data_in.copy()    # сделаем копию исходных данных и из нее сделаем массив на выход\n",
    "    diff_array = np.abs(data_out.median() - data_out)   # массив разностей исходных данных с медианой\n",
    "    mad = diff_array.median()    # mad = median_abs_deviation - медиана по разностям с предыдущего шага\n",
    "    outliers_id = diff_array > 3*mad    # массив из True - если разность с медианой > 3 x mad и False, если меньше\n",
    "    data_out[outliers_id] = np.nan    # в выходном массиве проставим NaN там, где True\n",
    "    return(data_out)"
   ]
  },
  {
   "cell_type": "markdown",
   "metadata": {},
   "source": [
    "Испытаем фильтр на наших данных - добавим в исходный DataFrame три новые колонки, полученные с помощью фильтра Хемпеля. Выполним расчет для каждой колонки."
   ]
  },
  {
   "cell_type": "code",
   "execution_count": 17,
   "metadata": {},
   "outputs": [],
   "source": [
    "df_in['avg_salary_hampel'] = list(hampel_filter(df_in.avg_salary))\n",
    "df_in['avg_pension_hampel'] = list(hampel_filter(df_in.avg_pension))\n",
    "df_in['avg_card_spend_hampel'] = list(hampel_filter(df_in.avg_card_spend))"
   ]
  },
  {
   "cell_type": "markdown",
   "metadata": {},
   "source": [
    "Для удобства восприятия перегруппируем в выводе на экран колонки таблицы."
   ]
  },
  {
   "cell_type": "code",
   "execution_count": 18,
   "metadata": {},
   "outputs": [
    {
     "data": {
      "text/html": [
       "<div>\n",
       "<style scoped>\n",
       "    .dataframe tbody tr th:only-of-type {\n",
       "        vertical-align: middle;\n",
       "    }\n",
       "\n",
       "    .dataframe tbody tr th {\n",
       "        vertical-align: top;\n",
       "    }\n",
       "\n",
       "    .dataframe thead th {\n",
       "        text-align: right;\n",
       "    }\n",
       "</style>\n",
       "<table border=\"1\" class=\"dataframe\">\n",
       "  <thead>\n",
       "    <tr style=\"text-align: right;\">\n",
       "      <th></th>\n",
       "      <th>date</th>\n",
       "      <th>avg_salary</th>\n",
       "      <th>avg_salary_hampel</th>\n",
       "      <th>avg_pension</th>\n",
       "      <th>avg_pension_hampel</th>\n",
       "      <th>avg_card_spend</th>\n",
       "      <th>avg_card_spend_hampel</th>\n",
       "    </tr>\n",
       "  </thead>\n",
       "  <tbody>\n",
       "    <tr>\n",
       "      <th>0</th>\n",
       "      <td>2015-01-15</td>\n",
       "      <td>19209</td>\n",
       "      <td>NaN</td>\n",
       "      <td>8831</td>\n",
       "      <td>NaN</td>\n",
       "      <td>7927</td>\n",
       "      <td>7927</td>\n",
       "    </tr>\n",
       "    <tr>\n",
       "      <th>1</th>\n",
       "      <td>2015-02-15</td>\n",
       "      <td>25356</td>\n",
       "      <td>25356.0</td>\n",
       "      <td>10451</td>\n",
       "      <td>NaN</td>\n",
       "      <td>7605</td>\n",
       "      <td>7605</td>\n",
       "    </tr>\n",
       "    <tr>\n",
       "      <th>2</th>\n",
       "      <td>2015-03-15</td>\n",
       "      <td>24159</td>\n",
       "      <td>24159.0</td>\n",
       "      <td>10284</td>\n",
       "      <td>NaN</td>\n",
       "      <td>8600</td>\n",
       "      <td>8600</td>\n",
       "    </tr>\n",
       "    <tr>\n",
       "      <th>3</th>\n",
       "      <td>2015-04-15</td>\n",
       "      <td>27430</td>\n",
       "      <td>27430.0</td>\n",
       "      <td>11135</td>\n",
       "      <td>NaN</td>\n",
       "      <td>8085</td>\n",
       "      <td>8085</td>\n",
       "    </tr>\n",
       "    <tr>\n",
       "      <th>4</th>\n",
       "      <td>2015-05-15</td>\n",
       "      <td>24726</td>\n",
       "      <td>24726.0</td>\n",
       "      <td>9496</td>\n",
       "      <td>NaN</td>\n",
       "      <td>8413</td>\n",
       "      <td>8413</td>\n",
       "    </tr>\n",
       "    <tr>\n",
       "      <th>5</th>\n",
       "      <td>2015-06-15</td>\n",
       "      <td>27387</td>\n",
       "      <td>27387.0</td>\n",
       "      <td>10361</td>\n",
       "      <td>NaN</td>\n",
       "      <td>8748</td>\n",
       "      <td>8748</td>\n",
       "    </tr>\n",
       "    <tr>\n",
       "      <th>6</th>\n",
       "      <td>2015-07-15</td>\n",
       "      <td>27372</td>\n",
       "      <td>27372.0</td>\n",
       "      <td>11083</td>\n",
       "      <td>NaN</td>\n",
       "      <td>9353</td>\n",
       "      <td>9353</td>\n",
       "    </tr>\n",
       "    <tr>\n",
       "      <th>7</th>\n",
       "      <td>2015-08-15</td>\n",
       "      <td>24915</td>\n",
       "      <td>24915.0</td>\n",
       "      <td>10922</td>\n",
       "      <td>NaN</td>\n",
       "      <td>9504</td>\n",
       "      <td>9504</td>\n",
       "    </tr>\n",
       "    <tr>\n",
       "      <th>8</th>\n",
       "      <td>2015-09-15</td>\n",
       "      <td>23616</td>\n",
       "      <td>23616.0</td>\n",
       "      <td>10828</td>\n",
       "      <td>NaN</td>\n",
       "      <td>8925</td>\n",
       "      <td>8925</td>\n",
       "    </tr>\n",
       "    <tr>\n",
       "      <th>9</th>\n",
       "      <td>2015-10-15</td>\n",
       "      <td>24943</td>\n",
       "      <td>24943.0</td>\n",
       "      <td>10991</td>\n",
       "      <td>NaN</td>\n",
       "      <td>9417</td>\n",
       "      <td>9417</td>\n",
       "    </tr>\n",
       "    <tr>\n",
       "      <th>10</th>\n",
       "      <td>2015-11-15</td>\n",
       "      <td>25034</td>\n",
       "      <td>25034.0</td>\n",
       "      <td>11817</td>\n",
       "      <td>11817.0</td>\n",
       "      <td>9095</td>\n",
       "      <td>9095</td>\n",
       "    </tr>\n",
       "    <tr>\n",
       "      <th>11</th>\n",
       "      <td>2015-12-15</td>\n",
       "      <td>37467</td>\n",
       "      <td>NaN</td>\n",
       "      <td>14597</td>\n",
       "      <td>14597.0</td>\n",
       "      <td>10674</td>\n",
       "      <td>10674</td>\n",
       "    </tr>\n",
       "    <tr>\n",
       "      <th>12</th>\n",
       "      <td>2016-01-15</td>\n",
       "      <td>19760</td>\n",
       "      <td>NaN</td>\n",
       "      <td>12354</td>\n",
       "      <td>12354.0</td>\n",
       "      <td>9095</td>\n",
       "      <td>9095</td>\n",
       "    </tr>\n",
       "    <tr>\n",
       "      <th>13</th>\n",
       "      <td>2016-02-15</td>\n",
       "      <td>26279</td>\n",
       "      <td>26279.0</td>\n",
       "      <td>13750</td>\n",
       "      <td>13750.0</td>\n",
       "      <td>9265</td>\n",
       "      <td>9265</td>\n",
       "    </tr>\n",
       "    <tr>\n",
       "      <th>14</th>\n",
       "      <td>2016-03-15</td>\n",
       "      <td>25465</td>\n",
       "      <td>25465.0</td>\n",
       "      <td>13735</td>\n",
       "      <td>13735.0</td>\n",
       "      <td>9946</td>\n",
       "      <td>9946</td>\n",
       "    </tr>\n",
       "    <tr>\n",
       "      <th>15</th>\n",
       "      <td>2016-04-15</td>\n",
       "      <td>28096</td>\n",
       "      <td>28096.0</td>\n",
       "      <td>15393</td>\n",
       "      <td>15393.0</td>\n",
       "      <td>9981</td>\n",
       "      <td>9981</td>\n",
       "    </tr>\n",
       "    <tr>\n",
       "      <th>16</th>\n",
       "      <td>2016-05-15</td>\n",
       "      <td>25785</td>\n",
       "      <td>25785.0</td>\n",
       "      <td>13219</td>\n",
       "      <td>13219.0</td>\n",
       "      <td>10227</td>\n",
       "      <td>10227</td>\n",
       "    </tr>\n",
       "    <tr>\n",
       "      <th>17</th>\n",
       "      <td>2016-06-15</td>\n",
       "      <td>29226</td>\n",
       "      <td>29226.0</td>\n",
       "      <td>14207</td>\n",
       "      <td>14207.0</td>\n",
       "      <td>10539</td>\n",
       "      <td>10539</td>\n",
       "    </tr>\n",
       "    <tr>\n",
       "      <th>18</th>\n",
       "      <td>2016-07-15</td>\n",
       "      <td>27309</td>\n",
       "      <td>27309.0</td>\n",
       "      <td>13329</td>\n",
       "      <td>13329.0</td>\n",
       "      <td>10643</td>\n",
       "      <td>10643</td>\n",
       "    </tr>\n",
       "    <tr>\n",
       "      <th>19</th>\n",
       "      <td>2016-08-15</td>\n",
       "      <td>26138</td>\n",
       "      <td>26138.0</td>\n",
       "      <td>13794</td>\n",
       "      <td>13794.0</td>\n",
       "      <td>11399</td>\n",
       "      <td>11399</td>\n",
       "    </tr>\n",
       "    <tr>\n",
       "      <th>20</th>\n",
       "      <td>2016-09-15</td>\n",
       "      <td>25292</td>\n",
       "      <td>25292.0</td>\n",
       "      <td>14475</td>\n",
       "      <td>14475.0</td>\n",
       "      <td>10607</td>\n",
       "      <td>10607</td>\n",
       "    </tr>\n",
       "    <tr>\n",
       "      <th>21</th>\n",
       "      <td>2016-10-15</td>\n",
       "      <td>25034</td>\n",
       "      <td>25034.0</td>\n",
       "      <td>13378</td>\n",
       "      <td>13378.0</td>\n",
       "      <td>11316</td>\n",
       "      <td>11316</td>\n",
       "    </tr>\n",
       "    <tr>\n",
       "      <th>22</th>\n",
       "      <td>2016-11-15</td>\n",
       "      <td>26843</td>\n",
       "      <td>26843.0</td>\n",
       "      <td>13756</td>\n",
       "      <td>13756.0</td>\n",
       "      <td>10737</td>\n",
       "      <td>10737</td>\n",
       "    </tr>\n",
       "    <tr>\n",
       "      <th>23</th>\n",
       "      <td>2016-12-15</td>\n",
       "      <td>39630</td>\n",
       "      <td>NaN</td>\n",
       "      <td>15357</td>\n",
       "      <td>15357.0</td>\n",
       "      <td>12523</td>\n",
       "      <td>12523</td>\n",
       "    </tr>\n",
       "    <tr>\n",
       "      <th>24</th>\n",
       "      <td>2017-01-15</td>\n",
       "      <td>20626</td>\n",
       "      <td>NaN</td>\n",
       "      <td>17031</td>\n",
       "      <td>NaN</td>\n",
       "      <td>10813</td>\n",
       "      <td>10813</td>\n",
       "    </tr>\n",
       "    <tr>\n",
       "      <th>25</th>\n",
       "      <td>2017-02-15</td>\n",
       "      <td>27635</td>\n",
       "      <td>27635.0</td>\n",
       "      <td>14121</td>\n",
       "      <td>14121.0</td>\n",
       "      <td>10407</td>\n",
       "      <td>10407</td>\n",
       "    </tr>\n",
       "    <tr>\n",
       "      <th>26</th>\n",
       "      <td>2017-03-15</td>\n",
       "      <td>27086</td>\n",
       "      <td>27086.0</td>\n",
       "      <td>15096</td>\n",
       "      <td>15096.0</td>\n",
       "      <td>11680</td>\n",
       "      <td>11680</td>\n",
       "    </tr>\n",
       "    <tr>\n",
       "      <th>27</th>\n",
       "      <td>2017-04-15</td>\n",
       "      <td>27848</td>\n",
       "      <td>27848.0</td>\n",
       "      <td>14392</td>\n",
       "      <td>14392.0</td>\n",
       "      <td>11085</td>\n",
       "      <td>11085</td>\n",
       "    </tr>\n",
       "    <tr>\n",
       "      <th>28</th>\n",
       "      <td>2017-05-15</td>\n",
       "      <td>27844</td>\n",
       "      <td>27844.0</td>\n",
       "      <td>14211</td>\n",
       "      <td>14211.0</td>\n",
       "      <td>12327</td>\n",
       "      <td>12327</td>\n",
       "    </tr>\n",
       "    <tr>\n",
       "      <th>29</th>\n",
       "      <td>2017-06-15</td>\n",
       "      <td>31040</td>\n",
       "      <td>31040.0</td>\n",
       "      <td>14233</td>\n",
       "      <td>14233.0</td>\n",
       "      <td>12064</td>\n",
       "      <td>12064</td>\n",
       "    </tr>\n",
       "    <tr>\n",
       "      <th>30</th>\n",
       "      <td>2017-07-15</td>\n",
       "      <td>29119</td>\n",
       "      <td>29119.0</td>\n",
       "      <td>13822</td>\n",
       "      <td>13822.0</td>\n",
       "      <td>12842</td>\n",
       "      <td>12842</td>\n",
       "    </tr>\n",
       "    <tr>\n",
       "      <th>31</th>\n",
       "      <td>2017-08-15</td>\n",
       "      <td>27730</td>\n",
       "      <td>27730.0</td>\n",
       "      <td>14300</td>\n",
       "      <td>14300.0</td>\n",
       "      <td>12871</td>\n",
       "      <td>12871</td>\n",
       "    </tr>\n",
       "    <tr>\n",
       "      <th>32</th>\n",
       "      <td>2017-09-15</td>\n",
       "      <td>26935</td>\n",
       "      <td>26935.0</td>\n",
       "      <td>14284</td>\n",
       "      <td>14284.0</td>\n",
       "      <td>12388</td>\n",
       "      <td>12388</td>\n",
       "    </tr>\n",
       "    <tr>\n",
       "      <th>33</th>\n",
       "      <td>2017-10-15</td>\n",
       "      <td>27878</td>\n",
       "      <td>27878.0</td>\n",
       "      <td>14301</td>\n",
       "      <td>14301.0</td>\n",
       "      <td>13137</td>\n",
       "      <td>13137</td>\n",
       "    </tr>\n",
       "    <tr>\n",
       "      <th>34</th>\n",
       "      <td>2017-11-15</td>\n",
       "      <td>29497</td>\n",
       "      <td>29497.0</td>\n",
       "      <td>14336</td>\n",
       "      <td>14336.0</td>\n",
       "      <td>12580</td>\n",
       "      <td>12580</td>\n",
       "    </tr>\n",
       "    <tr>\n",
       "      <th>35</th>\n",
       "      <td>2017-12-15</td>\n",
       "      <td>42513</td>\n",
       "      <td>NaN</td>\n",
       "      <td>15829</td>\n",
       "      <td>15829.0</td>\n",
       "      <td>13980</td>\n",
       "      <td>13980</td>\n",
       "    </tr>\n",
       "    <tr>\n",
       "      <th>36</th>\n",
       "      <td>2018-01-15</td>\n",
       "      <td>23471</td>\n",
       "      <td>23471.0</td>\n",
       "      <td>13514</td>\n",
       "      <td>13514.0</td>\n",
       "      <td>12758</td>\n",
       "      <td>12758</td>\n",
       "    </tr>\n",
       "    <tr>\n",
       "      <th>37</th>\n",
       "      <td>2018-02-15</td>\n",
       "      <td>31087</td>\n",
       "      <td>31087.0</td>\n",
       "      <td>14697</td>\n",
       "      <td>14697.0</td>\n",
       "      <td>11625</td>\n",
       "      <td>11625</td>\n",
       "    </tr>\n",
       "    <tr>\n",
       "      <th>38</th>\n",
       "      <td>2018-03-15</td>\n",
       "      <td>29799</td>\n",
       "      <td>29799.0</td>\n",
       "      <td>15006</td>\n",
       "      <td>15006.0</td>\n",
       "      <td>12623</td>\n",
       "      <td>12623</td>\n",
       "    </tr>\n",
       "    <tr>\n",
       "      <th>39</th>\n",
       "      <td>2018-04-15</td>\n",
       "      <td>30914</td>\n",
       "      <td>30914.0</td>\n",
       "      <td>16360</td>\n",
       "      <td>16360.0</td>\n",
       "      <td>12394</td>\n",
       "      <td>12394</td>\n",
       "    </tr>\n",
       "    <tr>\n",
       "      <th>40</th>\n",
       "      <td>2018-05-15</td>\n",
       "      <td>26519</td>\n",
       "      <td>26519.0</td>\n",
       "      <td>14180</td>\n",
       "      <td>14180.0</td>\n",
       "      <td>13000</td>\n",
       "      <td>13000</td>\n",
       "    </tr>\n",
       "    <tr>\n",
       "      <th>41</th>\n",
       "      <td>2018-06-15</td>\n",
       "      <td>32646</td>\n",
       "      <td>32646.0</td>\n",
       "      <td>15512</td>\n",
       "      <td>15512.0</td>\n",
       "      <td>13018</td>\n",
       "      <td>13018</td>\n",
       "    </tr>\n",
       "    <tr>\n",
       "      <th>42</th>\n",
       "      <td>2018-07-15</td>\n",
       "      <td>31752</td>\n",
       "      <td>31752.0</td>\n",
       "      <td>14001</td>\n",
       "      <td>14001.0</td>\n",
       "      <td>13379</td>\n",
       "      <td>13379</td>\n",
       "    </tr>\n",
       "    <tr>\n",
       "      <th>43</th>\n",
       "      <td>2018-08-15</td>\n",
       "      <td>30510</td>\n",
       "      <td>30510.0</td>\n",
       "      <td>16394</td>\n",
       "      <td>16394.0</td>\n",
       "      <td>13591</td>\n",
       "      <td>13591</td>\n",
       "    </tr>\n",
       "    <tr>\n",
       "      <th>44</th>\n",
       "      <td>2018-09-15</td>\n",
       "      <td>28198</td>\n",
       "      <td>28198.0</td>\n",
       "      <td>13913</td>\n",
       "      <td>13913.0</td>\n",
       "      <td>12417</td>\n",
       "      <td>12417</td>\n",
       "    </tr>\n",
       "    <tr>\n",
       "      <th>45</th>\n",
       "      <td>2018-10-15</td>\n",
       "      <td>30497</td>\n",
       "      <td>30497.0</td>\n",
       "      <td>15621</td>\n",
       "      <td>15621.0</td>\n",
       "      <td>13659</td>\n",
       "      <td>13659</td>\n",
       "    </tr>\n",
       "    <tr>\n",
       "      <th>46</th>\n",
       "      <td>2018-11-15</td>\n",
       "      <td>31997</td>\n",
       "      <td>31997.0</td>\n",
       "      <td>14512</td>\n",
       "      <td>14512.0</td>\n",
       "      <td>13012</td>\n",
       "      <td>13012</td>\n",
       "    </tr>\n",
       "    <tr>\n",
       "      <th>47</th>\n",
       "      <td>2018-12-15</td>\n",
       "      <td>44268</td>\n",
       "      <td>NaN</td>\n",
       "      <td>25044</td>\n",
       "      <td>NaN</td>\n",
       "      <td>14747</td>\n",
       "      <td>14747</td>\n",
       "    </tr>\n",
       "    <tr>\n",
       "      <th>48</th>\n",
       "      <td>2019-01-15</td>\n",
       "      <td>25674</td>\n",
       "      <td>25674.0</td>\n",
       "      <td>12607</td>\n",
       "      <td>12607.0</td>\n",
       "      <td>12280</td>\n",
       "      <td>12280</td>\n",
       "    </tr>\n",
       "  </tbody>\n",
       "</table>\n",
       "</div>"
      ],
      "text/plain": [
       "         date  avg_salary  avg_salary_hampel  avg_pension  avg_pension_hampel  \\\n",
       "0  2015-01-15       19209                NaN         8831                 NaN   \n",
       "1  2015-02-15       25356            25356.0        10451                 NaN   \n",
       "2  2015-03-15       24159            24159.0        10284                 NaN   \n",
       "3  2015-04-15       27430            27430.0        11135                 NaN   \n",
       "4  2015-05-15       24726            24726.0         9496                 NaN   \n",
       "5  2015-06-15       27387            27387.0        10361                 NaN   \n",
       "6  2015-07-15       27372            27372.0        11083                 NaN   \n",
       "7  2015-08-15       24915            24915.0        10922                 NaN   \n",
       "8  2015-09-15       23616            23616.0        10828                 NaN   \n",
       "9  2015-10-15       24943            24943.0        10991                 NaN   \n",
       "10 2015-11-15       25034            25034.0        11817             11817.0   \n",
       "11 2015-12-15       37467                NaN        14597             14597.0   \n",
       "12 2016-01-15       19760                NaN        12354             12354.0   \n",
       "13 2016-02-15       26279            26279.0        13750             13750.0   \n",
       "14 2016-03-15       25465            25465.0        13735             13735.0   \n",
       "15 2016-04-15       28096            28096.0        15393             15393.0   \n",
       "16 2016-05-15       25785            25785.0        13219             13219.0   \n",
       "17 2016-06-15       29226            29226.0        14207             14207.0   \n",
       "18 2016-07-15       27309            27309.0        13329             13329.0   \n",
       "19 2016-08-15       26138            26138.0        13794             13794.0   \n",
       "20 2016-09-15       25292            25292.0        14475             14475.0   \n",
       "21 2016-10-15       25034            25034.0        13378             13378.0   \n",
       "22 2016-11-15       26843            26843.0        13756             13756.0   \n",
       "23 2016-12-15       39630                NaN        15357             15357.0   \n",
       "24 2017-01-15       20626                NaN        17031                 NaN   \n",
       "25 2017-02-15       27635            27635.0        14121             14121.0   \n",
       "26 2017-03-15       27086            27086.0        15096             15096.0   \n",
       "27 2017-04-15       27848            27848.0        14392             14392.0   \n",
       "28 2017-05-15       27844            27844.0        14211             14211.0   \n",
       "29 2017-06-15       31040            31040.0        14233             14233.0   \n",
       "30 2017-07-15       29119            29119.0        13822             13822.0   \n",
       "31 2017-08-15       27730            27730.0        14300             14300.0   \n",
       "32 2017-09-15       26935            26935.0        14284             14284.0   \n",
       "33 2017-10-15       27878            27878.0        14301             14301.0   \n",
       "34 2017-11-15       29497            29497.0        14336             14336.0   \n",
       "35 2017-12-15       42513                NaN        15829             15829.0   \n",
       "36 2018-01-15       23471            23471.0        13514             13514.0   \n",
       "37 2018-02-15       31087            31087.0        14697             14697.0   \n",
       "38 2018-03-15       29799            29799.0        15006             15006.0   \n",
       "39 2018-04-15       30914            30914.0        16360             16360.0   \n",
       "40 2018-05-15       26519            26519.0        14180             14180.0   \n",
       "41 2018-06-15       32646            32646.0        15512             15512.0   \n",
       "42 2018-07-15       31752            31752.0        14001             14001.0   \n",
       "43 2018-08-15       30510            30510.0        16394             16394.0   \n",
       "44 2018-09-15       28198            28198.0        13913             13913.0   \n",
       "45 2018-10-15       30497            30497.0        15621             15621.0   \n",
       "46 2018-11-15       31997            31997.0        14512             14512.0   \n",
       "47 2018-12-15       44268                NaN        25044                 NaN   \n",
       "48 2019-01-15       25674            25674.0        12607             12607.0   \n",
       "\n",
       "    avg_card_spend  avg_card_spend_hampel  \n",
       "0             7927                   7927  \n",
       "1             7605                   7605  \n",
       "2             8600                   8600  \n",
       "3             8085                   8085  \n",
       "4             8413                   8413  \n",
       "5             8748                   8748  \n",
       "6             9353                   9353  \n",
       "7             9504                   9504  \n",
       "8             8925                   8925  \n",
       "9             9417                   9417  \n",
       "10            9095                   9095  \n",
       "11           10674                  10674  \n",
       "12            9095                   9095  \n",
       "13            9265                   9265  \n",
       "14            9946                   9946  \n",
       "15            9981                   9981  \n",
       "16           10227                  10227  \n",
       "17           10539                  10539  \n",
       "18           10643                  10643  \n",
       "19           11399                  11399  \n",
       "20           10607                  10607  \n",
       "21           11316                  11316  \n",
       "22           10737                  10737  \n",
       "23           12523                  12523  \n",
       "24           10813                  10813  \n",
       "25           10407                  10407  \n",
       "26           11680                  11680  \n",
       "27           11085                  11085  \n",
       "28           12327                  12327  \n",
       "29           12064                  12064  \n",
       "30           12842                  12842  \n",
       "31           12871                  12871  \n",
       "32           12388                  12388  \n",
       "33           13137                  13137  \n",
       "34           12580                  12580  \n",
       "35           13980                  13980  \n",
       "36           12758                  12758  \n",
       "37           11625                  11625  \n",
       "38           12623                  12623  \n",
       "39           12394                  12394  \n",
       "40           13000                  13000  \n",
       "41           13018                  13018  \n",
       "42           13379                  13379  \n",
       "43           13591                  13591  \n",
       "44           12417                  12417  \n",
       "45           13659                  13659  \n",
       "46           13012                  13012  \n",
       "47           14747                  14747  \n",
       "48           12280                  12280  "
      ]
     },
     "execution_count": 18,
     "metadata": {},
     "output_type": "execute_result"
    }
   ],
   "source": [
    "df_in[['date','avg_salary','avg_salary_hampel','avg_pension','avg_pension_hampel','avg_card_spend','avg_card_spend_hampel']]"
   ]
  },
  {
   "cell_type": "markdown",
   "metadata": {},
   "source": [
    "Фильтр неплохо сработал на `avg_salary` - нашел выбросы вниз, на `avg_card_spend` - не нашел там выбросов.<br> \n",
    "Фильтр плохо сработал на `avg_pension` - определил как выбросы все начало ряда. "
   ]
  },
  {
   "cell_type": "markdown",
   "metadata": {},
   "source": [
    "**Что можно использовать для выявления выбросов еще?**"
   ]
  },
  {
   "cell_type": "markdown",
   "metadata": {},
   "source": [
    "- диаграмму рассеяния типа `avg_salary - avg_card_spend` (ранее мы рассматривали одномерные величины)"
   ]
  },
  {
   "cell_type": "code",
   "execution_count": 19,
   "metadata": {},
   "outputs": [
    {
     "data": {
      "text/plain": [
       "<AxesSubplot:xlabel='avg_salary', ylabel='avg_card_spend'>"
      ]
     },
     "execution_count": 19,
     "metadata": {},
     "output_type": "execute_result"
    },
    {
     "data": {
      "image/png": "[encoded data removed]",
      "text/plain": [
       "<Figure size 576x396 with 1 Axes>"
      ]
     },
     "metadata": {},
     "output_type": "display_data"
    }
   ],
   "source": [
    "df_in.plot.scatter(x='avg_salary', y='avg_card_spend', c='DarkBlue') # диаграмма рассеяния"
   ]
  },
  {
   "cell_type": "markdown",
   "metadata": {},
   "source": [
    "Здесь тоже видны выбросы.<br>\n",
    "Диаграммы рассеяния важны при исследовании взаимосвязи величин, например, с помощью регрессии, которая чувствительна к выбросам."
   ]
  },
  {
   "cell_type": "markdown",
   "metadata": {},
   "source": [
    "- модель, описывающую взаимосвязь величин, например, линейную регрессию - по ее остаткам можно выявлять выбросы.\n",
    "- другие количественные критерии типа Шовене, Граббса, Пирса."
   ]
  },
  {
   "cell_type": "markdown",
   "metadata": {},
   "source": [
    "### 4. Исправление выбросов"
   ]
  },
  {
   "cell_type": "markdown",
   "metadata": {},
   "source": [
    "**Как можно исправить выбросы?**"
   ]
  },
  {
   "cell_type": "markdown",
   "metadata": {},
   "source": [
    "**Способ 1.** Их можно удалить. Если таблица данных имеет несколько столбцов, то можно удалять выбросы:\n",
    "- В каждом столбце отдельно (в этом случае мы получим несколько столбцов разной длины). Такой вариант применим, если мы не планируем сопоставлять данные из разных столбцов.\n",
    "- Во всей таблице в целом (в этом случае данны останутся синхронизированными по строкам). Такой вариант годится, если мы планируем изучать взаимосвязь между данными в разных столбцах."
   ]
  },
  {
   "cell_type": "markdown",
   "metadata": {},
   "source": [
    "**Способ 2.** Их можно заменить на какие-либо приемлемые значения (например, взять среднее между предыдущим и последующим значениями).<br> "
   ]
  },
  {
   "cell_type": "markdown",
   "metadata": {},
   "source": [
    "Нетрудно заметить, что данные способы аналогичны исправлению пропусков.<br>\n",
    "Если заменить выбросы на NaN, то к ним можно будет применить методы удаления и замены, рассмотренные на занятии<br> `3. Предобработка данных на Python | Часть 1. Работа с пропусками в данных`"
   ]
  },
  {
   "cell_type": "markdown",
   "metadata": {},
   "source": [
    "### Подведем итоги. На этом занятии мы научились:\n",
    "- Находить выбросы в данных и исправлять их."
   ]
  },
  {
   "cell_type": "code",
   "execution_count": null,
   "metadata": {},
   "outputs": [],
   "source": []
  }
 ],
 "metadata": {
  "kernelspec": {
   "display_name": "Python 3",
   "language": "python",
   "name": "python3"
  },
  "language_info": {
   "codemirror_mode": {
    "name": "ipython",
    "version": 3
   },
   "file_extension": ".py",
   "mimetype": "text/x-python",
   "name": "python",
   "nbconvert_exporter": "python",
   "pygments_lexer": "ipython3",
   "version": "3.8.5"
  }
 },
 "nbformat": 4,
 "nbformat_minor": 2
}
