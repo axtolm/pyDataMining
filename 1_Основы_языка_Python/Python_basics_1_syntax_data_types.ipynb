{
 "cells": [
  {
   "cell_type": "markdown",
   "metadata": {},
   "source": [
    "#### @author: Александр Владимирович Толмачев | axtolm@gmail.com\n",
    "<hr>"
   ]
  },
  {
   "cell_type": "markdown",
   "metadata": {},
   "source": [
    "## Курс Python for Data Mining"
   ]
  },
  {
   "cell_type": "markdown",
   "metadata": {},
   "source": [
    "## Раздел 1. Основы языка Python"
   ]
  },
  {
   "cell_type": "markdown",
   "metadata": {},
   "source": [
    "## Часть 1. Синтаксис и типы данных"
   ]
  },
  {
   "cell_type": "markdown",
   "metadata": {},
   "source": [
    "### На этом занятии:\n",
    "- Введение в Python (интерпретация и компиляция, структурное и объектно-ориентированное программирование).\n",
    "- Синтаксис и типизация языка Python.\n",
    "- Основные встроенные типы данных (boolean, numeric, list, tuple, dict, set, str) и методы для работы с ними."
   ]
  },
  {
   "cell_type": "markdown",
   "metadata": {},
   "source": [
    "### 1. Введение в Python"
   ]
  },
  {
   "cell_type": "markdown",
   "metadata": {},
   "source": [
    "**Язык Python — интерпретатор компилирующего типа. Что это значит?**<br>\n",
    "  \n",
    "**Интерпретатор** - это специальная программа, которая преобразует инструкции пользователя (например, написанные на Python) в байт-код и выполняет их. Есть два типа интерпретаторов:\n",
    "- **Простые интерпретаторы** (берут одну инструкцию, транслируют ее и сразу выполняют, после чего переходят к следующей), \n",
    "- **Интерпретаторы компилирующего типа** (включают две подсистемы - компилятор, который преобразует исходный код программы в промежуточный байт-код, и собственно интерпретатор (виртуальная машина), который байт-код выполняет). Python относится к ним.\n",
    "\n",
    "Существуют также **компилируемые** языки, такие как C#. Компилятор анализирует весь исходный код целиком и преобразует его в машинный код, который затем может выполняться независимо от исходного кода.<br> \n",
    "\n",
    "Ошибки времени выполнения, такие как деление на ноль, в обоих случаях обнаруживаются во время выполнения программы.<br>\n",
    "По сравнению с компилируемыми языками, Python быстрее в разработке и медленнее в исполнении."
   ]
  },
  {
   "cell_type": "markdown",
   "metadata": {},
   "source": [
    "**Структурное и объектно-ориентированное программирование**. Python поддерживает обе парадигмы.<br>\n",
    "Для работы с данными будем использовать **структурное программирование**.<br>\n",
    "В основе структурного программирования лежит представление программы в виде иерархической структуры блоков.<br>Есть три базовых управляющих конструкции: последовательность, ветвление, цикл. Кроме того, есть функции.<br>Разработка программы ведётся пошагово, методом «сверху вниз»."
   ]
  },
  {
   "cell_type": "markdown",
   "metadata": {},
   "source": [
    "**Синтаксис языка программирования. Что это такое?**<br>\n",
    "**Синтаксис** — набор правил, описывающий комбинации символов алфавита, считающиеся правильно структурированной программой.<br> \n",
    "Знание синтаксиса языка программирования важно при написании кода."
   ]
  },
  {
   "cell_type": "markdown",
   "metadata": {},
   "source": [
    "### 2. Синтаксис Python\n",
    "1. Конец строки — конец инструкции.\n",
    "1. Вложенные инструкции всегда пишутся после основной и отделяются от неё двоеточием.\n",
    "1. Вложенные инструкции отделяются от основных отступами."
   ]
  },
  {
   "cell_type": "markdown",
   "metadata": {},
   "source": [
    "Как выглядит синтаксис Python на примере исполняемого кода:"
   ]
  },
  {
   "cell_type": "code",
   "execution_count": 1,
   "metadata": {},
   "outputs": [
    {
     "name": "stdout",
     "output_type": "stream",
     "text": [
      "start\n",
      "i= 1\n",
      "i= 2\n",
      "i= 3\n",
      "the end, m = 4\n"
     ]
    }
   ],
   "source": [
    "m = 4                    # присвоение переменной численного значения\n",
    "print(\"start\")           # вывод на экран слова start\n",
    "for i in range(1,m):     # оператор цикла, range(0,m) = 0,1,2,...,m-1, вывод на экран переменной цикла\n",
    "    print(\"i=\",i)        \n",
    "print(\"the end,\" + \" m = \" + str(m))"
   ]
  },
  {
   "cell_type": "markdown",
   "metadata": {},
   "source": [
    "`m = 4 ` - конец строки — конец инструкции или одна строка — одна инструкция"
   ]
  },
  {
   "cell_type": "markdown",
   "metadata": {},
   "source": [
    "Цикл `for` - пример основной и вложенной инструкций.<br>\n",
    "`for i in range(1,m):` - основная инструкция, идет с начала строки, в конце `:`<br>\n",
    "`print(\"i=\",i)` - вложенная инструкция, идет с отступом от начала строки"
   ]
  },
  {
   "cell_type": "markdown",
   "metadata": {},
   "source": [
    "**Исключения**  \n",
    "Если очень нужно сделать **несколько инструкций в одной строке**, то между ними надо ставить точку с запятой.  \n",
    "Такой формой записи лучше не увлекаться из-за ухудшения читабельности кода:"
   ]
  },
  {
   "cell_type": "code",
   "execution_count": 2,
   "metadata": {},
   "outputs": [
    {
     "name": "stdout",
     "output_type": "stream",
     "text": [
      "8\n"
     ]
    }
   ],
   "source": [
    "k1 = 2; k2 = 4; print(k1*k2)"
   ]
  },
  {
   "cell_type": "markdown",
   "metadata": {},
   "source": [
    "Можно записать **одну инструкцию в нескольких строках**. Для этого достаточно ее заключить в пару круглых, квадратных или фигурных скобок:"
   ]
  },
  {
   "cell_type": "code",
   "execution_count": 3,
   "metadata": {},
   "outputs": [
    {
     "name": "stdout",
     "output_type": "stream",
     "text": [
      "OK!\n"
     ]
    }
   ],
   "source": [
    "v1 = 1; v2 = 2; v3 = 3; v4 = 4\n",
    "if (v1 ==1 and v2 == 2 \n",
    "        and v3 == 3 and v4 == 4):\n",
    "    print(\"OK!\")"
   ]
  },
  {
   "cell_type": "markdown",
   "metadata": {},
   "source": [
    "**Тело вложенной инструкции** может располагаться **в той же строке, что и тело основной**, если тело вложенной инструкции не содержит больше вложенностей:"
   ]
  },
  {
   "cell_type": "code",
   "execution_count": 4,
   "metadata": {},
   "outputs": [
    {
     "name": "stdout",
     "output_type": "stream",
     "text": [
      "2\n"
     ]
    }
   ],
   "source": [
    "y1 = 5; y2 = 3\n",
    "if y1 > y2: print(y1-y2)"
   ]
  },
  {
   "cell_type": "markdown",
   "metadata": {},
   "source": [
    "Есть руководство **PEP 8 - Style Guide for Python Code** о том, как оформлять код на языке Python.   \n",
    "Для чего оно? **Код читается намного больше раз, чем пишется!** - стоит подумать о тех, кто будет работать с вашим кодом.</br>   "
   ]
  },
  {
   "cell_type": "markdown",
   "metadata": {},
   "source": [
    "О чем там речь - как оформлять **внешний вид кода**, как ставить **пробелы в выражениях и инструкциях**, как писать **комментарии**, каких придерживаться соглашений по **именованию** переменных."
   ]
  },
  {
   "cell_type": "markdown",
   "metadata": {},
   "source": [
    "Примеры рекомендаций PEP 8 в разделе **\"Внешний вид кода\"**\n",
    "1. **Отступы.** Используйте 4 пробела на каждый уровень отступа.   \n",
    "1. **Табуляция или пробелы?** Пробелы - предпочтительный метод отступов.\n",
    "1. **Максимальная длина строки.** Ограничьте длину строки максимум **79** символами. Для более длинных блоков текста с меньшими структурными ограничениями (строки документации или комментарии), длину строки следует ограничить **72** символами.\n",
    "1. **Пустые строки.** Используйте пустые строки в функциях, чтобы указать логические разделы.\n",
    "1. **Кодировка исходного файла.** Кодировка Python должна быть UTF-8.\n",
    "1. **Импорты.** Каждый импорт, как правило, должен быть на отдельной строке."
   ]
  },
  {
   "cell_type": "markdown",
   "metadata": {},
   "source": [
    "Ссылка https://www.python.org/dev/peps/pep-0008/   "
   ]
  },
  {
   "cell_type": "markdown",
   "metadata": {},
   "source": [
    "**Важно!** Python является регистрозависимым. То есть XY != xy"
   ]
  },
  {
   "cell_type": "markdown",
   "metadata": {},
   "source": [
    "### 3. Типизация в Python:  \n",
    "a) **неявная** - при объявлении переменной не обязательно указывать ее тип;  \n",
    "b) **динамическая** - тип переменной определяется во время выполнения программы;  \n",
    "c) **сильная** - нельзя выполнять операции с переменными разных типов, если не удается выполнить преобразование типов."
   ]
  },
  {
   "cell_type": "markdown",
   "metadata": {},
   "source": [
    "### 4. Ограничение на имена переменных  \n",
    "Имя не должно совпадать с **ключевыми словами** интерпретатора Python. Список ключевых слов можно получить в программе - для этого нужно подключить package keyword и воспользоваться командой `keyword.kwlist`."
   ]
  },
  {
   "cell_type": "code",
   "execution_count": 5,
   "metadata": {},
   "outputs": [
    {
     "name": "stdout",
     "output_type": "stream",
     "text": [
      "Python keywords:  ['False', 'None', 'True', '__peg_parser__', 'and', 'as', 'assert', 'async', 'await', 'break', 'class', 'continue', 'def', 'del', 'elif', 'else', 'except', 'finally', 'for', 'from', 'global', 'if', 'import', 'in', 'is', 'lambda', 'nonlocal', 'not', 'or', 'pass', 'raise', 'return', 'try', 'while', 'with', 'yield']\n"
     ]
    }
   ],
   "source": [
    "# так задается комментарий (с помощью символа \"#\")\n",
    "import keyword    # так подключается библиотека (package)\n",
    "print (\"Python keywords: \", keyword.kwlist)    # а так можно вывести данные на экран"
   ]
  },
  {
   "cell_type": "markdown",
   "metadata": {},
   "source": [
    "### 5. Основные встроенные типы данных  \n",
    "    5.1 Логические переменные - Boolean Type\n",
    "    5.2 Числовые переменные - Numeric Type (int, float, complex)\n",
    "    5.3 Cписки list\n",
    "    5.4 Кортежи tuple\n",
    "    5.5 Словари dict \n",
    "    5.6 Множества set\n",
    "    5.7 Строки str "
   ]
  },
  {
   "cell_type": "markdown",
   "metadata": {},
   "source": [
    "### 5.1. Логические переменные - Boolean Type  \n",
    "Могут принимать значения **True** (Истина) или **False** (Ложь)."
   ]
  },
  {
   "cell_type": "markdown",
   "metadata": {},
   "source": [
    "Пример - объявление логических переменных `a` и `b` и присвоение им значений `True` и `False`."
   ]
  },
  {
   "cell_type": "code",
   "execution_count": 6,
   "metadata": {},
   "outputs": [
    {
     "name": "stdout",
     "output_type": "stream",
     "text": [
      "a = True, b = False\n"
     ]
    }
   ],
   "source": [
    "a = True    \n",
    "b = False\n",
    "print(\"a = %s, b = %s\" % (a, b))    # вывод строки на экран с форматированием и заполнителями типа str (%s)"
   ]
  },
  {
   "cell_type": "markdown",
   "metadata": {},
   "source": [
    "Над логическими переменными можно выполнять логические операции типа `and`, `or`, `not`, `==`, `!=`."
   ]
  },
  {
   "cell_type": "code",
   "execution_count": 7,
   "metadata": {},
   "outputs": [
    {
     "name": "stdout",
     "output_type": "stream",
     "text": [
      "c = False, d = True, e = False, f = False, g = True\n"
     ]
    }
   ],
   "source": [
    "c = a and b    # логическое И (AND)\n",
    "d = a or b     # логическое ИЛИ (OR)\n",
    "e = not a      # отрицание НЕ (NOT)\n",
    "f = (a == b)   # логическое выражение a равно b\n",
    "g = a != b     # логиеское выражение a не равно b\n",
    "# вывод строки на экран с форматированием и заполнителями типа str (%s)\n",
    "print(\"c = %s, d = %s, e = %s, f = %s, g = %s\" % (c, d, e, f, g))"
   ]
  },
  {
   "cell_type": "markdown",
   "metadata": {},
   "source": [
    "### 5.2. Числовые переменные - Numeric Type  \n",
    "Могут быть **int** (целые числа), **float** (числа с плавающей точкой), **complex** (комплексные числа).<br>\n",
    "В курсе по анализу данных нам чаще всего будут нужны **int** и **float**.<br>\n",
    "Над **int** и **float** определены **элементарные арифметические операции**: "
   ]
  },
  {
   "cell_type": "markdown",
   "metadata": {},
   "source": [
    "|операция|символ|\n",
    "|--------|---|\n",
    "|сложение|+| \n",
    "|вычитание|-| \n",
    "|умножение|\\*| \n",
    "|деление|/|\n",
    "|целая часть от деления|//|\n",
    "|остаток от деления|%|\n",
    "|степень|\\*\\*| "
   ]
  },
  {
   "cell_type": "markdown",
   "metadata": {},
   "source": [
    "Определим два числа `x1` и `x2` для дальнейших операций с ними."
   ]
  },
  {
   "cell_type": "code",
   "execution_count": 8,
   "metadata": {},
   "outputs": [
    {
     "name": "stdout",
     "output_type": "stream",
     "text": [
      "23 <class 'int'>\n",
      "4.2 <class 'float'>\n"
     ]
    }
   ],
   "source": [
    "x1 = 23       # int\n",
    "x2 = 4.2      # float\n",
    "print(x1, type(x1))    # выведем на экран переменную x1 и ее тип (функция type() возвращает тип переменной)\n",
    "print(x2, type(x2))    # выведем на экран переменную x2 и ее тип"
   ]
  },
  {
   "cell_type": "markdown",
   "metadata": {},
   "source": [
    "Операция __сложение__ `+`"
   ]
  },
  {
   "cell_type": "code",
   "execution_count": 9,
   "metadata": {},
   "outputs": [
    {
     "name": "stdout",
     "output_type": "stream",
     "text": [
      "27.2 <class 'float'>\n"
     ]
    }
   ],
   "source": [
    "x_sum = x1+x2              # сумма x1 и x2\n",
    "print(x_sum, type(x_sum))    # выведем на экран сумму и ее тип "
   ]
  },
  {
   "cell_type": "markdown",
   "metadata": {},
   "source": [
    "При сложении `python` выполнил преобразование `int` -> `float` и результат сложения имеет тип `float`"
   ]
  },
  {
   "cell_type": "markdown",
   "metadata": {},
   "source": [
    "Операция __вычитание__ `-`"
   ]
  },
  {
   "cell_type": "code",
   "execution_count": 10,
   "metadata": {},
   "outputs": [
    {
     "name": "stdout",
     "output_type": "stream",
     "text": [
      "18.8 <class 'float'>\n"
     ]
    }
   ],
   "source": [
    "x_diff = x1-x2               # разность x1 и x2     \n",
    "print(x_diff, type(x_diff))    # выведем на экран разность и ее тип "
   ]
  },
  {
   "cell_type": "markdown",
   "metadata": {},
   "source": [
    "Операция __умножение__ `*`"
   ]
  },
  {
   "cell_type": "code",
   "execution_count": 11,
   "metadata": {},
   "outputs": [
    {
     "name": "stdout",
     "output_type": "stream",
     "text": [
      "96.60000000000001 <class 'float'>\n"
     ]
    }
   ],
   "source": [
    "x_mult = x1*x2         # произведение x1 и x2 \n",
    "print(x_mult, type(x_mult))    # выведем на экран произведение и его тип "
   ]
  },
  {
   "cell_type": "markdown",
   "metadata": {},
   "source": [
    "Операция __деление__ `/`"
   ]
  },
  {
   "cell_type": "code",
   "execution_count": 12,
   "metadata": {},
   "outputs": [
    {
     "name": "stdout",
     "output_type": "stream",
     "text": [
      "5.476190476190476 <class 'float'>\n"
     ]
    }
   ],
   "source": [
    "x_div = x1/x2                # деление x1 на x2\n",
    "print(x_div, type(x_div))    # выведем на экран результат деления и его тип "
   ]
  },
  {
   "cell_type": "markdown",
   "metadata": {},
   "source": [
    "Операция __целая часть от деления__ `//`<br>\n",
    "Просто отбрасывается дробная часть. Правила округления здесь не работают."
   ]
  },
  {
   "cell_type": "code",
   "execution_count": 13,
   "metadata": {},
   "outputs": [
    {
     "name": "stdout",
     "output_type": "stream",
     "text": [
      "3 <class 'int'>\n",
      "1.0 <class 'float'>\n"
     ]
    }
   ],
   "source": [
    "x3_1 = x1 // 7             \n",
    "x3_2 = x2 // 3             \n",
    "print(x3_1, type(x3_1))    # выведем на экран переменную x3_1 и ее тип \n",
    "print(x3_2, type(x3_2))    # выведем на экран переменную x3_2 и ее тип"
   ]
  },
  {
   "cell_type": "markdown",
   "metadata": {},
   "source": [
    "Операция __остаток от деления__ `%`<br>\n",
    "По сути считается так: `a % b = a - b*(a//b)`."
   ]
  },
  {
   "cell_type": "code",
   "execution_count": 14,
   "metadata": {},
   "outputs": [
    {
     "name": "stdout",
     "output_type": "stream",
     "text": [
      "0 <class 'int'>\n",
      "0.20000000000000018 <class 'float'>\n",
      "0.20000000000000018 <class 'float'>\n"
     ]
    }
   ],
   "source": [
    "x4_1 = x1 % 23    \n",
    "x4_2 = x2 % 2     \n",
    "x4_3 = x2 % 4     # внимание! x4_2 == x4_3\n",
    "print(x4_1, type(x4_1))    # выведем на экран переменную x4_1 и ее тип \n",
    "print(x4_2, type(x4_2))    # выведем на экран переменную x4_2 и ее тип\n",
    "print(x4_3, type(x4_3))    # выведем на экран переменную x4_3 и ее тип "
   ]
  },
  {
   "cell_type": "markdown",
   "metadata": {},
   "source": [
    "**Встроенные функции для работы с числами**   \n",
    "`int(х)` - преобразование к целому числу  \n",
    "`float(x)` - преобразование к числу с плавающей точкой  \n",
    "`abs(x)` - модуль числа x  \n",
    "`round(x\\[,n\\])` - округление х до n знаков после запятой (в Python 3 округление по банковским правилам, а не по арифметическим!!!)  "
   ]
  },
  {
   "cell_type": "code",
   "execution_count": 15,
   "metadata": {},
   "outputs": [
    {
     "name": "stdout",
     "output_type": "stream",
     "text": [
      "2.4 2.2\n"
     ]
    }
   ],
   "source": [
    "print(round(2.35,1), round(2.25,1))"
   ]
  },
  {
   "cell_type": "markdown",
   "metadata": {},
   "source": [
    "**Банковские правила округления**<br>\n",
    "Рассмотрим округление с точностью до 1 знака после запятой.<br>\n",
    "Если в первом знаке после запятой стоит **нечетное** число и после него идет **5**, то нечетное число округляется вверх: `2.35` -> `2.4`<br>\n",
    "Если в первом знаке после запятой стоит **четное** число и после него идет **5**, то четное число округляется вниз: `2.25` -> `2.2`<br>"
   ]
  },
  {
   "cell_type": "markdown",
   "metadata": {},
   "source": [
    "**Библиотека математических функций `math`**"
   ]
  },
  {
   "cell_type": "markdown",
   "metadata": {},
   "source": [
    "Большинство часто используемых математических функций содержит package **math**, который входит в стандартную поставку Python.  \n",
    "Полное описание функций в составе math тут: <a> https://docs.python.org/3/library/math.html </a>. "
   ]
  },
  {
   "cell_type": "markdown",
   "metadata": {},
   "source": [
    "**Константы**  \n",
    "*math.pi* (число пи), *math.e* (число е)  \n",
    "**Тригонометрические функции**  \n",
    "*math.cos(x)*, *math.sin(x)*, *math.tan(x)*  \n",
    "*math.acos(x)*, *math.asin(x)*, *math.atan(x)*    \n",
    "**Степенные и логарифмические функции**  \n",
    "*math.exp(x)* - экспонента e\\*\\*x    \n",
    "*math.log2(x)* - логарифм по основанию 2  \n",
    "*math.log10(x)* - логарифм по основанию 10  \n",
    "*math.log(x\\[, base\\])* - логарифм по произвольному основанию (по умолчанию e)  \n",
    "*math.pow(x, y)* -  значение x в степени y    \n",
    "*math.sqrt(x)* - квадратный корень из x  \n",
    "**Округление чисел и другие операции**  \n",
    "*math.ceil(х)* - ближайшее целое число >= x  \n",
    "*math.floor(х)* - ближайшее целое число <= x  \n",
    "*math.fabs(x)* - абсолютное значение числа x  \n",
    "*math.factorial(x)* - факториал x  "
   ]
  },
  {
   "cell_type": "code",
   "execution_count": 16,
   "metadata": {},
   "outputs": [
    {
     "name": "stdout",
     "output_type": "stream",
     "text": [
      "6 <class 'int'>\n",
      "5 <class 'int'>\n"
     ]
    }
   ],
   "source": [
    "import math as m    # сначала package надо импортировать (здесь импорт под псевдонимом \"m\")\n",
    "g = 5.1             # присвоим значение переменной g \n",
    "g1 = m.ceil(g)      # ближайшее целое число >= g\n",
    "g2 = m.floor(g)     # ближайшее целое число <= g\n",
    "print(g1,type(g1))  # выведем на экран результат и его тип\n",
    "print(g2,type(g2))  # выведем на экран результат и его тип"
   ]
  },
  {
   "cell_type": "markdown",
   "metadata": {},
   "source": [
    "Также в `math` есть константы типа $e$, $\\pi$"
   ]
  },
  {
   "cell_type": "code",
   "execution_count": 17,
   "metadata": {},
   "outputs": [
    {
     "name": "stdout",
     "output_type": "stream",
     "text": [
      "2.718281828459045 3.141592653589793\n"
     ]
    }
   ],
   "source": [
    "print(m.e, m.pi)    # выведем на экран"
   ]
  },
  {
   "cell_type": "markdown",
   "metadata": {},
   "source": [
    "**Complex** (комплексные числа) можно создать двумя путями: использовать функцию x = complex(a,b) или записать в явном виде x = a + bj. Можно извлечь действительную и мнимую части x.real, x.imag. "
   ]
  },
  {
   "cell_type": "code",
   "execution_count": 18,
   "metadata": {},
   "outputs": [
    {
     "name": "stdout",
     "output_type": "stream",
     "text": [
      "(5+4j) <class 'complex'>\n",
      "5.0 4.0\n",
      "(6+5j) <class 'complex'>\n"
     ]
    }
   ],
   "source": [
    "k = complex(5,4)        # присвоим переменной k комплексное число 5 + 4j\n",
    "l = 6 + 5j              # присвоим переменной l комплексное число 6 + 5j\n",
    "print(k, type(k))       # выведем на экран переменную k и ее тип\n",
    "print(k.real, k.imag)   # выведем на экран действительную и мнимую части переменной k\n",
    "print(l, type(l))       # выведем на экран переменную l и ее тип"
   ]
  },
  {
   "cell_type": "markdown",
   "metadata": {},
   "source": [
    "Числа **complex** можно складывать, вычитать, умножать, делить и возводить в степень.   \n",
    "В курсе для аналитиков нам они не пригодятся и мы их рассматривать не будем."
   ]
  },
  {
   "cell_type": "markdown",
   "metadata": {},
   "source": [
    "**Максимальные значения для int и float**"
   ]
  },
  {
   "cell_type": "code",
   "execution_count": 19,
   "metadata": {},
   "outputs": [
    {
     "name": "stdout",
     "output_type": "stream",
     "text": [
      "max float:  1.7976931348623157e+308\n",
      "max int:  9223372036854775807\n"
     ]
    }
   ],
   "source": [
    "import sys\n",
    "print('max float: ', sys.float_info.max)\n",
    "print('max int: ', sys.maxsize)"
   ]
  },
  {
   "cell_type": "markdown",
   "metadata": {},
   "source": [
    "### 5.3.Список list      \n",
    "`list` - тип данных для хранения объектов различных типов.<br>\n",
    "Список в чем-то похож на массивы из других языков.<br>\n",
    "Размер списка динамичен. Тип данных изменяемый.<br> "
   ]
  },
  {
   "cell_type": "markdown",
   "metadata": {},
   "source": [
    "Ссылки:     \n",
    "https://docs.python.org/3/tutorial/datastructures.html#more-on-lists     \n",
    "https://docs.python.org/3/library/stdtypes.html#sequence-types-list-tuple-range "
   ]
  },
  {
   "cell_type": "markdown",
   "metadata": {},
   "source": [
    "**Как создать (объявить) список**"
   ]
  },
  {
   "cell_type": "code",
   "execution_count": 20,
   "metadata": {
    "scrolled": true
   },
   "outputs": [
    {
     "name": "stdout",
     "output_type": "stream",
     "text": [
      "[] [1, 2, 3, 4, 5] [1, 2, 'a', 'd'] [0, 1, 4, 9, 16]\n",
      "<class 'list'>\n"
     ]
    }
   ],
   "source": [
    "l1 = []                           # пустой список\n",
    "l2 = [1,2,3,4,5]                  # явное объявление списка\n",
    "l3 = [1,2,'a','d']                # список из данных разных типов\n",
    "l4 = [i**2 for i in range(0,5)]   # с помощью генератора списка (!!!)\n",
    "print(l1,l2,l3,l4)                # выведем на экран все 4 списка\n",
    "print(type(l3))                   # выведем на экран тип переменной l3 "
   ]
  },
  {
   "cell_type": "markdown",
   "metadata": {},
   "source": [
    "**Обращение к элементам списка по индексу**<br>\n",
    "Нумерация индексов начинается с **0**.<br>"
   ]
  },
  {
   "cell_type": "code",
   "execution_count": 21,
   "metadata": {},
   "outputs": [
    {
     "name": "stdout",
     "output_type": "stream",
     "text": [
      "1 5\n"
     ]
    }
   ],
   "source": [
    "print(l2[0],l2[4])        # выведем на экран элементы списка l2 с индексами 0 и 4"
   ]
  },
  {
   "cell_type": "markdown",
   "metadata": {},
   "source": [
    "Индекс может быть **отрицательным**. В этом случае обращение идет с конца."
   ]
  },
  {
   "cell_type": "code",
   "execution_count": 22,
   "metadata": {},
   "outputs": [
    {
     "name": "stdout",
     "output_type": "stream",
     "text": [
      "5 1\n"
     ]
    }
   ],
   "source": [
    "print(l2[-1],l2[-5])     # выведем на экран элементы списка l2 с индексами -1 (это 5 с начала) и -5 (это 0 с начала)"
   ]
  },
  {
   "cell_type": "markdown",
   "metadata": {},
   "source": [
    "**Есть еще срезы (slices)**, которые позволяют выбрать часть списка по индексам.<br>\n",
    "Так `list[start:stop:step]` берёт срез от индекса `start` до индекса `stop`, не включая его, с шагом `step`.<br>\n",
    "По умолчанию `start = 0`, `stop` = длине объекта, `step = 1`. Какие-то (возможно все) параметры могут быть опущены.<br>"
   ]
  },
  {
   "cell_type": "code",
   "execution_count": 23,
   "metadata": {},
   "outputs": [
    {
     "name": "stdout",
     "output_type": "stream",
     "text": [
      "[1, 3, 5]\n",
      "[1, 2]\n",
      "[5, 6, 7, 8, 9]\n"
     ]
    }
   ],
   "source": [
    "l5 = [1,2,3,4,5,6,7,8,9]    # создадим список l5\n",
    "print(l5[0:6:2])            # срез от индекса 0 до индекса 5 включительно с шагом 2\n",
    "print(l5[:2])               # срез от начала списка до индекса 1 включительно с шагом 1\n",
    "print(l5[4:])               # срез от индекса 4 до конца списка с шагом 1"
   ]
  },
  {
   "cell_type": "markdown",
   "metadata": {},
   "source": [
    "**Важно! Операция присваивания не копирует список, а лишь создаёт ссылку на него.** "
   ]
  },
  {
   "cell_type": "code",
   "execution_count": 24,
   "metadata": {},
   "outputs": [
    {
     "name": "stdout",
     "output_type": "stream",
     "text": [
      "[25, 2, 3] [25, 2, 3] [1, 2, 3]\n"
     ]
    }
   ],
   "source": [
    "z1 = [1,2,3]    # создаем список\n",
    "z2 = z1         # присвоим z1 переменной z2 \n",
    "z3 = z1.copy()  # сделаем копию z1 и присвоим z3\n",
    "z1[0] = 25      # изменим элемент с индексом 0 в списке z1\n",
    "print(z1,z2,z3) # выведем все три списка на экран"
   ]
  },
  {
   "cell_type": "markdown",
   "metadata": {},
   "source": [
    "При изменении `z1`:<br>\n",
    "- `z2`, полученный из `z1` путем присваивания, **меняется**,\n",
    "- `z3`, полученный из `z1` путем копирования, **остается без изменений**."
   ]
  },
  {
   "cell_type": "markdown",
   "metadata": {},
   "source": [
    "**В случае с числами было бы иначе**"
   ]
  },
  {
   "cell_type": "code",
   "execution_count": 25,
   "metadata": {},
   "outputs": [
    {
     "name": "stdout",
     "output_type": "stream",
     "text": [
      "25 5\n"
     ]
    }
   ],
   "source": [
    "y1 = 5         # присвоим 5 переменной y1\n",
    "y2 = y1        # присвоим y1 переменной y2\n",
    "y1 = y1**2     # изменим y1\n",
    "print(y1,y2)   # выведем y1 и y2 на экран"
   ]
  },
  {
   "cell_type": "markdown",
   "metadata": {},
   "source": [
    "При изменении `y1`:<br>\n",
    "- `y2`, полученный из `y1` путем присваивания, **не меняется**."
   ]
  },
  {
   "cell_type": "markdown",
   "metadata": {},
   "source": [
    "**Встроенные функции python для работы со списками**"
   ]
  },
  {
   "cell_type": "markdown",
   "metadata": {},
   "source": [
    "Определим список `z4` для дальнейших операций. "
   ]
  },
  {
   "cell_type": "code",
   "execution_count": 26,
   "metadata": {},
   "outputs": [],
   "source": [
    "z4 = [1,2,3,9,5,6,7,8]    # список z4 из целых чисел"
   ]
  },
  {
   "cell_type": "markdown",
   "metadata": {},
   "source": [
    "Функция `len()` возвращает число элементов в списке."
   ]
  },
  {
   "cell_type": "code",
   "execution_count": 27,
   "metadata": {},
   "outputs": [
    {
     "name": "stdout",
     "output_type": "stream",
     "text": [
      "8\n"
     ]
    }
   ],
   "source": [
    "print(len(z4))    "
   ]
  },
  {
   "cell_type": "markdown",
   "metadata": {},
   "source": [
    "Функция `sorted(x)` возвращает копию отсортированного списка `x` (при этом исходный список не меняется).<br>\n",
    "`sorted(x,reverse=True)` вернет список, отсортированный по убыванию.<br>"
   ]
  },
  {
   "cell_type": "code",
   "execution_count": 28,
   "metadata": {},
   "outputs": [
    {
     "name": "stdout",
     "output_type": "stream",
     "text": [
      "[1, 2, 3, 5, 6, 7, 8, 9]\n",
      "[1, 2, 3, 9, 5, 6, 7, 8]\n"
     ]
    }
   ],
   "source": [
    "print(sorted(z4))   # отсортированный список\n",
    "print(z4)           # исходный список (он не меняется)"
   ]
  },
  {
   "cell_type": "markdown",
   "metadata": {},
   "source": [
    "Функции `min(x)`, `max(x)` возвращают минимальный и максимальный элементы списка, `sum(x)` - сумму элементов."
   ]
  },
  {
   "cell_type": "code",
   "execution_count": 29,
   "metadata": {},
   "outputs": [
    {
     "name": "stdout",
     "output_type": "stream",
     "text": [
      "1 9 41\n"
     ]
    }
   ],
   "source": [
    "print(min(z4),max(z4),sum(z4))  # выведем на экран min, max, sum для списка z4"
   ]
  },
  {
   "cell_type": "markdown",
   "metadata": {},
   "source": [
    "Функция сложения списков `+`"
   ]
  },
  {
   "cell_type": "code",
   "execution_count": 30,
   "metadata": {},
   "outputs": [
    {
     "name": "stdout",
     "output_type": "stream",
     "text": [
      "[1, 2, 3, 9, 5, 6, 7, 8] [9, 8, 7, 6, 5, 3, 2, 1]\n",
      "[1, 2, 3, 9, 5, 6, 7, 8, 9, 8, 7, 6, 5, 3, 2, 1]\n"
     ]
    }
   ],
   "source": [
    "z4_1 = sorted(z4, reverse = True)    # сделаем копию отсортированного по убыванию списка, чтобы было с чем складывать\n",
    "z4_2 = z4 + z4_1                     # выполним сложение списков\n",
    "print(z4, z4_1)                      # выведем исходные списки\n",
    "print(z4_2)                          # выведем результат сложения "
   ]
  },
  {
   "cell_type": "markdown",
   "metadata": {},
   "source": [
    "Если нужна поэлементная сумма, то придется написать свою функцию (как это делается рассматривается в части 3)."
   ]
  },
  {
   "cell_type": "code",
   "execution_count": 31,
   "metadata": {},
   "outputs": [],
   "source": [
    "def add_list(x, y):\n",
    "    return list(map(lambda a, b: a + b, x, y))"
   ]
  },
  {
   "cell_type": "markdown",
   "metadata": {},
   "source": [
    "Применим ее к нашим двум спискам `z4` и `z4_1` и выведем реузльтат на экран."
   ]
  },
  {
   "cell_type": "code",
   "execution_count": 32,
   "metadata": {},
   "outputs": [
    {
     "name": "stdout",
     "output_type": "stream",
     "text": [
      "[10, 10, 10, 15, 10, 9, 9, 9]\n"
     ]
    }
   ],
   "source": [
    "z4_3 = add_list(z4,z4_1)\n",
    "print(z4_3)"
   ]
  },
  {
   "cell_type": "markdown",
   "metadata": {},
   "source": [
    "**В Python `list` это класс (объект) и он имеет собственные методы для работы с данными списка**  \n",
    "Вызов функций и методов отличается.    \n",
    "Вызов функции был выше: **Имя_функции(аргументы)**, аргументом функции может быть объект, например, список.<br>\n",
    "Метод вызывается в виде: **Имя_объекта.Имя_метода(параметры)**.      \n",
    "</i>"
   ]
  },
  {
   "cell_type": "markdown",
   "metadata": {},
   "source": [
    "Метод `list.append(x)` добавляет элемент `x` в конец списка `list`."
   ]
  },
  {
   "cell_type": "code",
   "execution_count": 33,
   "metadata": {},
   "outputs": [
    {
     "name": "stdout",
     "output_type": "stream",
     "text": [
      "[1, 2, 3, 9, 5, 6, 7, 8, '9']\n"
     ]
    }
   ],
   "source": [
    "z4.append('9')     # добавим в список к числам символ\n",
    "print(z4)          # выведем результат"
   ]
  },
  {
   "cell_type": "markdown",
   "metadata": {},
   "source": [
    "Метод `list.insert(i, x)` вставляет на место `i-го` элемента значение `x`, сдвигая остальные."
   ]
  },
  {
   "cell_type": "code",
   "execution_count": 34,
   "metadata": {},
   "outputs": [
    {
     "name": "stdout",
     "output_type": "stream",
     "text": [
      "[1, 22, 2, 3, 9, 5, 6, 7, 8, '9']\n"
     ]
    }
   ],
   "source": [
    "z4.insert(1,22)    # вставим на место с индексом 1 число 22    \n",
    "print(z4)          # выведем результат"
   ]
  },
  {
   "cell_type": "markdown",
   "metadata": {},
   "source": [
    "Метод `list.extend(X)` расширяет список `list`, добавляя в конец все элементы списка `Х`"
   ]
  },
  {
   "cell_type": "code",
   "execution_count": 35,
   "metadata": {},
   "outputs": [
    {
     "name": "stdout",
     "output_type": "stream",
     "text": [
      "[1, 22, 2, 3, 9, 5, 6, 7, 8, '9', 31, 32, 31]\n"
     ]
    }
   ],
   "source": [
    "z5 = [31,32,31]    # создадим список z5\n",
    "z4.extend(z5)      # расширим список z4 элементами списка z5\n",
    "print(z4)          # выведем результат"
   ]
  },
  {
   "cell_type": "markdown",
   "metadata": {},
   "source": [
    "Если применить метод `list.append(x)`, то в качестве одного элемента будет добавлен список."
   ]
  },
  {
   "cell_type": "code",
   "execution_count": 36,
   "metadata": {},
   "outputs": [
    {
     "name": "stdout",
     "output_type": "stream",
     "text": [
      "[1, 22, 2, 3, 9, 5, 6, 7, 8, '9', 31, 32, 31, [31, 32, 31]]\n"
     ]
    }
   ],
   "source": [
    "z4.append(z5)      # добавим в конец z4 список z5\n",
    "print(z4)          # выведем результат"
   ]
  },
  {
   "cell_type": "markdown",
   "metadata": {},
   "source": [
    "Метод `list.remove(x)` удаляет первый элемент в списке, имеющий значение `x`<br>\n",
    "Если такого элемента в списке нет, то будет ошибка `ValueError` (запустите этот блок два раза)"
   ]
  },
  {
   "cell_type": "code",
   "execution_count": 37,
   "metadata": {},
   "outputs": [
    {
     "name": "stdout",
     "output_type": "stream",
     "text": [
      "[1, 2, 3, 9, 5, 6, 7, 8, '9', 31, 32, 31, [31, 32, 31]]\n"
     ]
    }
   ],
   "source": [
    "z4.remove(22)      # удалим число 22 из списка z4\n",
    "print(z4)          # выведем результат"
   ]
  },
  {
   "cell_type": "markdown",
   "metadata": {},
   "source": [
    "Метод `list.pop(i)` удаляет `i-ый` элемент и возвращает его значение.<br> \n",
    "Если индекс не указан, метод применяется к последнему элементу списка."
   ]
  },
  {
   "cell_type": "code",
   "execution_count": 38,
   "metadata": {},
   "outputs": [
    {
     "name": "stdout",
     "output_type": "stream",
     "text": [
      "2 [1, 3, 9, 5, 6, 7, 8, '9', 31, 32, 31, [31, 32, 31]]\n"
     ]
    }
   ],
   "source": [
    "z4_v1 = z4.pop(1)    # удалим элемент с индексом 1 и присвоим его переменной z4_v1. \n",
    "print(z4_v1, z4)     # выведем результат и список z4 с удаленным элементом"
   ]
  },
  {
   "cell_type": "markdown",
   "metadata": {},
   "source": [
    "Метод `list.count(x)` возвращает количество элементов списка `list`, имеющих значение `x`."
   ]
  },
  {
   "cell_type": "code",
   "execution_count": 39,
   "metadata": {},
   "outputs": [
    {
     "name": "stdout",
     "output_type": "stream",
     "text": [
      "2\n"
     ]
    }
   ],
   "source": [
    "z4_v2 = z4.count(31)   # найдем количество элементов 31 в списке z4\n",
    "print(z4_v2)           # выведем результат"
   ]
  },
  {
   "cell_type": "markdown",
   "metadata": {},
   "source": [
    "Метод `list.index(x,[start[,end]])` возвращает индекс первого элемента `== x` (поиск от `start` до `end`).<br>\n",
    "Если элемента в списке нет, то метод вернет ошибку `ValueError`!"
   ]
  },
  {
   "cell_type": "code",
   "execution_count": 40,
   "metadata": {},
   "outputs": [
    {
     "ename": "ValueError",
     "evalue": "310 is not in list",
     "output_type": "error",
     "traceback": [
      "\u001b[1;31m---------------------------------------------------------------------------\u001b[0m",
      "\u001b[1;31mValueError\u001b[0m                                Traceback (most recent call last)",
      "\u001b[1;32m~\\AppData\\Local\\Temp\\ipykernel_39972\\4256947321.py\u001b[0m in \u001b[0;36m<module>\u001b[1;34m\u001b[0m\n\u001b[1;32m----> 1\u001b[1;33m \u001b[0mz4_v3\u001b[0m \u001b[1;33m=\u001b[0m \u001b[0mz4\u001b[0m\u001b[1;33m.\u001b[0m\u001b[0mindex\u001b[0m\u001b[1;33m(\u001b[0m\u001b[1;36m310\u001b[0m\u001b[1;33m)\u001b[0m  \u001b[1;31m# найдем в списке z4 индекс элемента 310 (его в списке нет)\u001b[0m\u001b[1;33m\u001b[0m\u001b[1;33m\u001b[0m\u001b[0m\n\u001b[0m\u001b[0;32m      2\u001b[0m \u001b[0mprint\u001b[0m\u001b[1;33m(\u001b[0m\u001b[0mz4_v3\u001b[0m\u001b[1;33m)\u001b[0m           \u001b[1;31m# выведем результат\u001b[0m\u001b[1;33m\u001b[0m\u001b[1;33m\u001b[0m\u001b[0m\n",
      "\u001b[1;31mValueError\u001b[0m: 310 is not in list"
     ]
    }
   ],
   "source": [
    "z4_v3 = z4.index(310)  # найдем в списке z4 индекс элемента 310 (его в списке нет) \n",
    "print(z4_v3)           # выведем результат"
   ]
  },
  {
   "cell_type": "markdown",
   "metadata": {},
   "source": [
    "Удалим из списка `z4` для дальнейших действий нечисловые элементы."
   ]
  },
  {
   "cell_type": "code",
   "execution_count": 41,
   "metadata": {},
   "outputs": [
    {
     "name": "stdout",
     "output_type": "stream",
     "text": [
      "[1, 3, 9, 5, 6, 7, 8, 31, 32, 31]\n"
     ]
    }
   ],
   "source": [
    "z4.remove('9')             # удалим из списка элемент типа str   \n",
    "z4.remove([31, 32, 31])    # удалим из списка элемент типа list   \n",
    "print(z4)"
   ]
  },
  {
   "cell_type": "markdown",
   "metadata": {},
   "source": [
    "Метод `list.sort([key=функция])` сортирует список на основе функции.<br> \n",
    "Если бы не удалили элементы типа str и list, то при сортировке была бы ошибка.<br>\n",
    "Метод `sort` в отличие от функции сортировки изменяет исходный объект, не сохраняя исходных данных!"
   ]
  },
  {
   "cell_type": "code",
   "execution_count": 42,
   "metadata": {},
   "outputs": [
    {
     "name": "stdout",
     "output_type": "stream",
     "text": [
      "[32, 31, 31, 9, 8, 7, 6, 5, 3, 1]\n"
     ]
    }
   ],
   "source": [
    "z4.sort(reverse=True)   # сортировка по убыванию\n",
    "print(z4)               # выведем результат"
   ]
  },
  {
   "cell_type": "markdown",
   "metadata": {},
   "source": [
    "Метод `list.reverse()` разворачивает список."
   ]
  },
  {
   "cell_type": "code",
   "execution_count": 43,
   "metadata": {},
   "outputs": [
    {
     "name": "stdout",
     "output_type": "stream",
     "text": [
      "[1, 3, 5, 6, 7, 8, 9, 31, 31, 32]\n"
     ]
    }
   ],
   "source": [
    "z4.reverse()            # развернем список\n",
    "print(z4)               # выведем результат"
   ]
  },
  {
   "cell_type": "markdown",
   "metadata": {},
   "source": [
    "Метод `list.copy()` создает поверхностную копию списка."
   ]
  },
  {
   "cell_type": "code",
   "execution_count": 44,
   "metadata": {},
   "outputs": [
    {
     "name": "stdout",
     "output_type": "stream",
     "text": [
      "[1, 3, 5, 6, 7, 8, 9, 31, 31, 32] [1, 3, 5, 6, 7, 8, 9, 31, 31, 32]\n"
     ]
    }
   ],
   "source": [
    "z6 = z4.copy()    # сделаем копию списка z4 и сохраним ее в z6 \n",
    "print(z4, z6)"
   ]
  },
  {
   "cell_type": "markdown",
   "metadata": {},
   "source": [
    "Выведем идентификаторы объектов `Python` с помощью функции `id` - они разные!"
   ]
  },
  {
   "cell_type": "code",
   "execution_count": 45,
   "metadata": {},
   "outputs": [
    {
     "name": "stdout",
     "output_type": "stream",
     "text": [
      "2364555085376 2364555345984\n"
     ]
    }
   ],
   "source": [
    "print(id(z4), id(z6))    "
   ]
  },
  {
   "cell_type": "markdown",
   "metadata": {},
   "source": [
    "Метод `list.clear()` очищает список."
   ]
  },
  {
   "cell_type": "code",
   "execution_count": 46,
   "metadata": {},
   "outputs": [
    {
     "name": "stdout",
     "output_type": "stream",
     "text": [
      "[] [1, 3, 5, 6, 7, 8, 9, 31, 31, 32]\n",
      "2364555085376 2364555345984\n"
     ]
    }
   ],
   "source": [
    "z4.clear()                # очистим список z4\n",
    "print(z4, z6)             # выведем на экран списки z4 и z6\n",
    "print(id(z4),id(z6))      # выведем идентификаторы объектов"
   ]
  },
  {
   "cell_type": "markdown",
   "metadata": {},
   "source": [
    "### 5.4. Кортежи tuple  \n",
    "`tuple` - тип данных, похожий на `list`, только неизменяемый.<br>\n",
    "Зачем нужны кортежи, если есть списки? Защита данных: кортеж защищен от изменений, как намеренных, так и случайных.<br>\n",
    "Имеет чуть меньший размер. При анализе данных используются не часто. Методы и функции как для list, если они не изменяют элементы."
   ]
  },
  {
   "cell_type": "markdown",
   "metadata": {},
   "source": [
    "Ссылка: https://docs.python.org/3/tutorial/datastructures.html#tuples-and-sequences"
   ]
  },
  {
   "cell_type": "markdown",
   "metadata": {},
   "source": [
    "**Как создать (объявить) кортеж:**"
   ]
  },
  {
   "cell_type": "code",
   "execution_count": 47,
   "metadata": {},
   "outputs": [
    {
     "name": "stdout",
     "output_type": "stream",
     "text": [
      "() (1, 2, 3, 4, 5) (1, 2, 'a', 'd')\n",
      "<class 'tuple'>\n"
     ]
    }
   ],
   "source": [
    "t1 = ()                           # пустой кортеж\n",
    "t2 = (1,2,3,4,5)                  # явное объявление списка\n",
    "t3 = (1,2,'a','d')                # список из данных разных типов\n",
    "print(t1,t2,t3)                   # выведем на экран все 3 списка\n",
    "print(type(t3))                   # выведем на экран тип переменной t3 "
   ]
  },
  {
   "cell_type": "markdown",
   "metadata": {},
   "source": [
    "**Обращение к элементам кортежа по индексу аналогично `list`**<br>\n",
    "Нумерация индексов начинается с **0**.<br>"
   ]
  },
  {
   "cell_type": "code",
   "execution_count": 48,
   "metadata": {},
   "outputs": [
    {
     "name": "stdout",
     "output_type": "stream",
     "text": [
      "1 5\n"
     ]
    }
   ],
   "source": [
    "print(t2[0],t2[4])    # выведем на экран элементы списка l2 с индексами 0 и 4"
   ]
  },
  {
   "cell_type": "markdown",
   "metadata": {},
   "source": [
    "**Слайсы** тоже работают"
   ]
  },
  {
   "cell_type": "code",
   "execution_count": 49,
   "metadata": {},
   "outputs": [
    {
     "data": {
      "text/plain": [
       "(3, 4, 5)"
      ]
     },
     "execution_count": 49,
     "metadata": {},
     "output_type": "execute_result"
    }
   ],
   "source": [
    "t2[2:]"
   ]
  },
  {
   "cell_type": "markdown",
   "metadata": {},
   "source": [
    "Попробуем изменить элемент кортежа - это уже не получится, будет ошибка `TypeError`!"
   ]
  },
  {
   "cell_type": "code",
   "execution_count": 50,
   "metadata": {},
   "outputs": [
    {
     "ename": "TypeError",
     "evalue": "'tuple' object does not support item assignment",
     "output_type": "error",
     "traceback": [
      "\u001b[1;31m---------------------------------------------------------------------------\u001b[0m",
      "\u001b[1;31mTypeError\u001b[0m                                 Traceback (most recent call last)",
      "\u001b[1;32m~\\AppData\\Local\\Temp\\ipykernel_39972\\16111864.py\u001b[0m in \u001b[0;36m<module>\u001b[1;34m\u001b[0m\n\u001b[1;32m----> 1\u001b[1;33m \u001b[0mt2\u001b[0m\u001b[1;33m[\u001b[0m\u001b[1;36m1\u001b[0m\u001b[1;33m]\u001b[0m \u001b[1;33m=\u001b[0m \u001b[1;36m22\u001b[0m\u001b[1;33m\u001b[0m\u001b[1;33m\u001b[0m\u001b[0m\n\u001b[0m",
      "\u001b[1;31mTypeError\u001b[0m: 'tuple' object does not support item assignment"
     ]
    }
   ],
   "source": [
    "t2[1] = 22  "
   ]
  },
  {
   "cell_type": "markdown",
   "metadata": {},
   "source": [
    "### 5.5. Словари dict  \n",
    "`dict` - неупорядоченный набор произвольных объектов с доступом к ним по ключу (еще название - ассоциативный массив).  "
   ]
  },
  {
   "cell_type": "markdown",
   "metadata": {},
   "source": [
    "Ссылка: https://docs.python.org/3/tutorial/datastructures.html#dictionaries"
   ]
  },
  {
   "cell_type": "markdown",
   "metadata": {},
   "source": [
    "**Как создать (объявить) словарь**"
   ]
  },
  {
   "cell_type": "code",
   "execution_count": 51,
   "metadata": {},
   "outputs": [
    {
     "name": "stdout",
     "output_type": "stream",
     "text": [
      "{} {'Russia': 'Moscow', 'Germany': 'Berlin'} {'France': 'Paris', 'Germany': 'Berlin'}\n",
      "<class 'dict'>\n"
     ]
    }
   ],
   "source": [
    "d1 = {}                                                      # пустой словарь\n",
    "d2 = {\"Russia\":\"Moscow\",\"Germany\":\"Berlin\"}                  # явное объявление словаря\n",
    "d3 = dict(France=\"Paris\",Germany=\"Berlin\")                   # Ключ - значение\n",
    "print(d1,d2,d3)                                              # выведем на экран все 3 словаря\n",
    "print(type(d3))                                              # выведем на экран тип переменной d3 "
   ]
  },
  {
   "cell_type": "markdown",
   "metadata": {},
   "source": [
    "**Как добавить новую пару в словарь**"
   ]
  },
  {
   "cell_type": "code",
   "execution_count": 52,
   "metadata": {},
   "outputs": [
    {
     "name": "stdout",
     "output_type": "stream",
     "text": [
      "{'Russia': 'Moscow', 'Germany': 'Berlin', 'China': 'Beijing'}\n"
     ]
    }
   ],
   "source": [
    "d2[\"China\"] = \"Beijing\"        # добавим в словарь d2 пару \"China\" - \"Beijing\"\n",
    "print(d2)                      # выведем на экран словарь d2"
   ]
  },
  {
   "cell_type": "markdown",
   "metadata": {},
   "source": [
    "**Обращение к словарю происходит по ключу**"
   ]
  },
  {
   "cell_type": "code",
   "execution_count": 53,
   "metadata": {},
   "outputs": [
    {
     "name": "stdout",
     "output_type": "stream",
     "text": [
      "Moscow\n"
     ]
    }
   ],
   "source": [
    "print(d2[\"Russia\"])            # ключ \"Russia\" - значение \"Moscow\""
   ]
  },
  {
   "cell_type": "markdown",
   "metadata": {},
   "source": [
    "Метод `dict.update()` позволяет дополненять и обновлять словарь"
   ]
  },
  {
   "cell_type": "code",
   "execution_count": 54,
   "metadata": {},
   "outputs": [
    {
     "name": "stdout",
     "output_type": "stream",
     "text": [
      "{'Russia': 'Moscow', 'Germany': 'Berlin', 'China': 'Beijing', 'Страна': 'Столица'}\n",
      "{'Russia': 'Moscow', 'Germany': 'Berlin', 'China': 'Beijing', 'Страна': 'Новая столица'}\n"
     ]
    }
   ],
   "source": [
    "d2.update({'Страна':'Столица'})        # дополним словарь\n",
    "print(d2)                              # выведем на экран\n",
    "d2.update({'Страна':'Новая столица'})  # обновим словарь\n",
    "print(d2)                              # выведем на экран"
   ]
  },
  {
   "cell_type": "markdown",
   "metadata": {},
   "source": [
    "К работе со словарями применяются встроенные функции и методы класса `dict`, как в случае с `list`."
   ]
  },
  {
   "cell_type": "markdown",
   "metadata": {},
   "source": [
    "### 5.6. Множества  set и frozenset\n",
    "Множество - неупорядоченный набор **неповторяющихся** элементов.  \n",
    "`set` - изменяемый тип, `frozenset` - неизменяемый.   \n",
    "Ссылка: https://docs.python.org/3/tutorial/datastructures.html#sets"
   ]
  },
  {
   "cell_type": "markdown",
   "metadata": {},
   "source": [
    "**Как создать (объявить) множество:**"
   ]
  },
  {
   "cell_type": "code",
   "execution_count": 55,
   "metadata": {},
   "outputs": [
    {
     "name": "stdout",
     "output_type": "stream",
     "text": [
      "{1, 2, 3, 4, 5, 6, 7} <class 'set'>\n"
     ]
    }
   ],
   "source": [
    "a = set()               # пустое множество, но так a = {} нельзя - будет dict\n",
    "b = {1,2,3,4,5,6,7}     # не пустое множество можно\n",
    "print(b,type(b))        # выведем на экран множество b и его тип "
   ]
  },
  {
   "cell_type": "code",
   "execution_count": 56,
   "metadata": {},
   "outputs": [
    {
     "name": "stdout",
     "output_type": "stream",
     "text": [
      "[1, 2, 3, 4, 5, 5, 5, 6, 6, 7, 8, 9] {1, 2, 3, 4, 5, 6, 7, 8, 9}\n"
     ]
    }
   ],
   "source": [
    "c = [1,2,3,4,5,5,5,6,6,7,8,9]   # список с повторяющимися элементами\n",
    "d = set(c)                      # set можно использовать для очистки от повторов\n",
    "print(c,d)"
   ]
  },
  {
   "cell_type": "markdown",
   "metadata": {},
   "source": [
    "Есть встроенные функции и методы класса(объекта) `set` для работы с множествами, например:<br>\n",
    "`set.union(other, ...)` или `set | other | ...` - объединение нескольких множеств.<br>\n",
    "`set.intersection(other, ...)` или `set & other & ...` - пересечение.<br>\n",
    "`set.difference(other, ...)` или `set - other - ...` - разность - множество из всех элементов set, не принадлежащие ни одному из other."
   ]
  },
  {
   "cell_type": "markdown",
   "metadata": {},
   "source": [
    "Рассмотрим их на примере множеств `b` и `d`."
   ]
  },
  {
   "cell_type": "code",
   "execution_count": 57,
   "metadata": {},
   "outputs": [
    {
     "name": "stdout",
     "output_type": "stream",
     "text": [
      "{1, 2, 3, 4, 5, 6, 7} {1, 2, 3, 4, 5, 6, 7, 8, 9}\n"
     ]
    }
   ],
   "source": [
    "print(b,d)    # выведем исходные множества b и d"
   ]
  },
  {
   "cell_type": "code",
   "execution_count": 58,
   "metadata": {},
   "outputs": [
    {
     "name": "stdout",
     "output_type": "stream",
     "text": [
      "{1, 2, 3, 4, 5, 6, 7, 8, 9} {1, 2, 3, 4, 5, 6, 7} {8, 9} set()\n"
     ]
    }
   ],
   "source": [
    "e = b | d         # объединение b и d\n",
    "f = b & d         # пересечение b и d\n",
    "g = d - b         # разность d и b \n",
    "h = b - d         # разность b и d \n",
    "print(e,f,g,h)    # выведем результат"
   ]
  },
  {
   "cell_type": "markdown",
   "metadata": {},
   "source": [
    "### 5.7. Строки \n",
    "Строка - упорядоченная последовательность символов, используемая для хранения и представления текстовой информации. "
   ]
  },
  {
   "cell_type": "markdown",
   "metadata": {},
   "source": [
    "Ссылка: https://docs.python.org/3/library/stdtypes.html#text-sequence-type-str "
   ]
  },
  {
   "cell_type": "markdown",
   "metadata": {},
   "source": [
    "**Как задать строку:**<br>\n",
    "Используются символы `'` и `\"` (они эквивалентны) и `'''` для многострочных блоков."
   ]
  },
  {
   "cell_type": "code",
   "execution_count": 59,
   "metadata": {},
   "outputs": [
    {
     "name": "stdout",
     "output_type": "stream",
     "text": [
      "This is \" the first string. This is ' the second string. Многострочный вариант       \n",
      "текстового блока\n"
     ]
    }
   ],
   "source": [
    "s1 = 'This is \" the first string.'  \n",
    "s2 = \"This is ' the second string.\"\n",
    "s3 = '''Многострочный вариант       \n",
    "текстового блока'''\n",
    "print(s1,s2,s3)"
   ]
  },
  {
   "cell_type": "markdown",
   "metadata": {},
   "source": [
    "Экранированные последовательности - это служебные символы, которые не показываются при отображении строки.<br>\n",
    "Например, `\\n`\t- перевод строки, `\\t` - табуляция.<br>\n",
    "Если перед кавычкой стоит символ 'r' (в любом регистре), то механизм экранирования отключается."
   ]
  },
  {
   "cell_type": "code",
   "execution_count": 60,
   "metadata": {},
   "outputs": [
    {
     "name": "stdout",
     "output_type": "stream",
     "text": [
      "12345\n",
      "67890\t11\n",
      " 12345\\n67890\\t11\\n\n"
     ]
    }
   ],
   "source": [
    "s4 = \"12345\\n67890\\t11\\n\"     # строка с экранированными последовательностями\n",
    "s5 = r\"12345\\n67890\\t11\\n\"    # строка с отменой экранированных последовательностей\n",
    "print(s4,s5)                  # выведем результат"
   ]
  },
  {
   "cell_type": "markdown",
   "metadata": {},
   "source": [
    "**Встроенные функции и методы для работы со строками**"
   ]
  },
  {
   "cell_type": "markdown",
   "metadata": {},
   "source": [
    "Функция конкатенации (слияния) строк `+`"
   ]
  },
  {
   "cell_type": "code",
   "execution_count": 61,
   "metadata": {},
   "outputs": [
    {
     "name": "stdout",
     "output_type": "stream",
     "text": [
      "1string2string\n"
     ]
    }
   ],
   "source": [
    "ss1 = \"1string\"    # определим строку ss1\n",
    "ss2 = '2string'    # определим строку ss2\n",
    "ss3 = ss1 + ss2    # сложим строки\n",
    "print(ss3)         # выведем результат"
   ]
  },
  {
   "cell_type": "markdown",
   "metadata": {},
   "source": [
    "Функция `len(s)` возвращает длину строки `s`."
   ]
  },
  {
   "cell_type": "code",
   "execution_count": 62,
   "metadata": {},
   "outputs": [
    {
     "name": "stdout",
     "output_type": "stream",
     "text": [
      "14\n"
     ]
    }
   ],
   "source": [
    "print(len(ss3))"
   ]
  },
  {
   "cell_type": "markdown",
   "metadata": {},
   "source": [
    "Использование функции `*` дает тиражирование строки."
   ]
  },
  {
   "cell_type": "code",
   "execution_count": 63,
   "metadata": {},
   "outputs": [
    {
     "name": "stdout",
     "output_type": "stream",
     "text": [
      "1string1string1string1string\n"
     ]
    }
   ],
   "source": [
    "print(ss1*4)"
   ]
  },
  {
   "cell_type": "markdown",
   "metadata": {},
   "source": [
    "Доступ к символам строки происходит по индексу. Как в списках есть срезы. Вообще, строка - это список из символов."
   ]
  },
  {
   "cell_type": "code",
   "execution_count": 64,
   "metadata": {},
   "outputs": [
    {
     "name": "stdout",
     "output_type": "stream",
     "text": [
      "l r\n",
      "ett\n"
     ]
    }
   ],
   "source": [
    "ss4 = 'letter'             # определим строку ss4 \n",
    "print(ss4[0],ss4[-1])      # выведем символы строки с индексом 0 и -1\n",
    "print(ss4[1:4])            # выведем срез по индексам от 1 до 3"
   ]
  },
  {
   "cell_type": "markdown",
   "metadata": {},
   "source": [
    "Метод `S.find(str, [start],[end])` выполняет поиск подстроки в строке и возвращает номер **первого** вхождения или -1."
   ]
  },
  {
   "cell_type": "code",
   "execution_count": 65,
   "metadata": {},
   "outputs": [
    {
     "name": "stdout",
     "output_type": "stream",
     "text": [
      "9\n",
      "-1\n"
     ]
    }
   ],
   "source": [
    "ss5 = 'Oneletterwithsmile'    # определим строку ss5\n",
    "print(ss5.find('with'))       # найдем первое вхождение подстроки 'with'\n",
    "print(ss5.find('can'))        # найдем первое вхождение подстроки 'can', которой нет"
   ]
  },
  {
   "cell_type": "markdown",
   "metadata": {},
   "source": [
    "Метод `S.rfind(str, [start],[end])` выполняет поиск подстроки в строке и возвращает номер **последнего** вхождения или -1."
   ]
  },
  {
   "cell_type": "code",
   "execution_count": 66,
   "metadata": {},
   "outputs": [
    {
     "name": "stdout",
     "output_type": "stream",
     "text": [
      "16\n"
     ]
    }
   ],
   "source": [
    "ss5 = 'Oneletterwithsmile'    # определим строку ss5\n",
    "print(ss5.rfind('le'))        # найдем последнее вхождение подстроки 'le'"
   ]
  },
  {
   "cell_type": "markdown",
   "metadata": {},
   "source": [
    "Метод `S.index(str, [start],[end])` выполняет поиск подстроки в строке и возвращает номер **первого** вхождения или вызывает `ValueError`."
   ]
  },
  {
   "cell_type": "code",
   "execution_count": 67,
   "metadata": {},
   "outputs": [
    {
     "name": "stdout",
     "output_type": "stream",
     "text": [
      "9\n"
     ]
    }
   ],
   "source": [
    "print(ss5.index('with'))      # найдем первое вхождение подстроки 'with'"
   ]
  },
  {
   "cell_type": "markdown",
   "metadata": {},
   "source": [
    "Метод `S.rindex(str, [start],[end])` выполняет поиск подстроки в строке и возвращает номер **последнего** вхождения или вызывает `ValueError`."
   ]
  },
  {
   "cell_type": "code",
   "execution_count": 68,
   "metadata": {},
   "outputs": [
    {
     "ename": "ValueError",
     "evalue": "substring not found",
     "output_type": "error",
     "traceback": [
      "\u001b[1;31m---------------------------------------------------------------------------\u001b[0m",
      "\u001b[1;31mValueError\u001b[0m                                Traceback (most recent call last)",
      "\u001b[1;32m~\\AppData\\Local\\Temp\\ipykernel_39972\\1602089003.py\u001b[0m in \u001b[0;36m<module>\u001b[1;34m\u001b[0m\n\u001b[1;32m----> 1\u001b[1;33m \u001b[0mprint\u001b[0m\u001b[1;33m(\u001b[0m\u001b[0mss5\u001b[0m\u001b[1;33m.\u001b[0m\u001b[0mindex\u001b[0m\u001b[1;33m(\u001b[0m\u001b[1;34m'can'\u001b[0m\u001b[1;33m)\u001b[0m\u001b[1;33m)\u001b[0m       \u001b[1;31m# найдем последнее вхождение подстроки 'with', которой нет\u001b[0m\u001b[1;33m\u001b[0m\u001b[1;33m\u001b[0m\u001b[0m\n\u001b[0m",
      "\u001b[1;31mValueError\u001b[0m: substring not found"
     ]
    }
   ],
   "source": [
    "print(ss5.index('can'))       # найдем последнее вхождение подстроки 'with', которой нет"
   ]
  },
  {
   "cell_type": "markdown",
   "metadata": {},
   "source": [
    "Метод `S.replace(шаблон, замена_шаблона)` выполняет замену `шаблона` на `замену_шаблона`.<br>\n",
    "При этом возвращается копия. Исходная строка `S` не меняется."
   ]
  },
  {
   "cell_type": "code",
   "execution_count": 69,
   "metadata": {},
   "outputs": [
    {
     "name": "stdout",
     "output_type": "stream",
     "text": [
      "Oneletterwithsmile Oneletterwithoutsmile\n"
     ]
    }
   ],
   "source": [
    "ss6 = ss5.replace('with','without')     # найдем в строке ss5 все шаблоны 'with' и заменим их на 'without'\n",
    "print(ss5,ss6)                          # выведем на экран исходную строку ss5 и результат замены ss6"
   ]
  },
  {
   "cell_type": "markdown",
   "metadata": {},
   "source": [
    "Метод `S.split(символ)` выполняет разбиение строки `S` по разделителю `символ` и возвращает список."
   ]
  },
  {
   "cell_type": "code",
   "execution_count": 70,
   "metadata": {},
   "outputs": [
    {
     "name": "stdout",
     "output_type": "stream",
     "text": [
      "['On', 'l', 'tt', 'rwithsmil', ''] <class 'list'>\n"
     ]
    }
   ],
   "source": [
    "ss5 = 'Oneletterwithsmile'    # определим строку ss5\n",
    "ss7 = ss5.split('e')          # разобъем строку по символу 'e'\n",
    "print(ss7,type(ss7))          # выведем результат и его тип"
   ]
  },
  {
   "cell_type": "markdown",
   "metadata": {},
   "source": [
    "Метод `S.join(список)` выполняет сборку строки из `списка` с разделителем `S`"
   ]
  },
  {
   "cell_type": "code",
   "execution_count": 71,
   "metadata": {},
   "outputs": [
    {
     "name": "stdout",
     "output_type": "stream",
     "text": [
      "Oneletterwithsmile <class 'str'>\n"
     ]
    }
   ],
   "source": [
    "ss9 = 'e'.join(ss7)             # соберем из списка ss7 строку с разделителем 'e'\n",
    "print(ss9,type(ss9))                      # выведем результат и его тип"
   ]
  },
  {
   "cell_type": "markdown",
   "metadata": {},
   "source": [
    "Метод `S.count(str, [start],[end])` возвращает количество непересекающихся вхождений подстроки в диапазоне [start,end).<br>\n",
    "По умолчанию `start = 0` и `end = длина строки`."
   ]
  },
  {
   "cell_type": "code",
   "execution_count": 72,
   "metadata": {},
   "outputs": [
    {
     "name": "stdout",
     "output_type": "stream",
     "text": [
      "Oneletterwithsmile\n",
      "2\n"
     ]
    }
   ],
   "source": [
    "print(ss5)                     # выведем строку ss5\n",
    "print(ss5.count('le'))         # выведем количество вхождений 'le' в строку ss5"
   ]
  },
  {
   "cell_type": "markdown",
   "metadata": {},
   "source": [
    "Метод `S.isdigit()` возвращает `True`, если `S` состоит из цифр, иначе `False`."
   ]
  },
  {
   "cell_type": "code",
   "execution_count": 73,
   "metadata": {},
   "outputs": [
    {
     "name": "stdout",
     "output_type": "stream",
     "text": [
      ".isdigit()  False\n"
     ]
    }
   ],
   "source": [
    "ss5 = 'Oneletterwithsmile'           # определим строку ss5\n",
    "print('.isdigit() ',ss5.isdigit())   # выведем isdigit() на экран"
   ]
  },
  {
   "cell_type": "markdown",
   "metadata": {},
   "source": [
    "Метод `S.isalpha()` возвращает `True`, если `S` состоит из букв, иначе `False`."
   ]
  },
  {
   "cell_type": "code",
   "execution_count": 74,
   "metadata": {},
   "outputs": [
    {
     "name": "stdout",
     "output_type": "stream",
     "text": [
      ".isalpha()  True\n"
     ]
    }
   ],
   "source": [
    "ss5 = 'Oneletterwithsmile'           # определим строку ss5\n",
    "print('.isalpha() ',ss5.isalpha())   # выведем isalpha() на экран"
   ]
  },
  {
   "cell_type": "markdown",
   "metadata": {},
   "source": [
    "Метод `S.isalnum()` возвращает `True`, если `S` состоит из букв или цифр, иначе `False`."
   ]
  },
  {
   "cell_type": "code",
   "execution_count": 75,
   "metadata": {},
   "outputs": [
    {
     "name": "stdout",
     "output_type": "stream",
     "text": [
      ".isalnum()  True\n"
     ]
    }
   ],
   "source": [
    "ss5 = 'Oneletterwithsmile'           # определим строку ss5\n",
    "print('.isalnum() ',ss5.isalnum())   # выведем isalnum() на экран"
   ]
  },
  {
   "cell_type": "markdown",
   "metadata": {},
   "source": [
    "Метод `S.islower()` возвращает `True`, если `S` состоит из символов в нижнем регистре, иначе `False`."
   ]
  },
  {
   "cell_type": "code",
   "execution_count": 76,
   "metadata": {},
   "outputs": [
    {
     "name": "stdout",
     "output_type": "stream",
     "text": [
      ".islower()  False\n"
     ]
    }
   ],
   "source": [
    "ss5 = 'Oneletterwithsmile'           # определим строку ss5\n",
    "print('.islower() ',ss5.islower())   # выведем islower() на экран"
   ]
  },
  {
   "cell_type": "markdown",
   "metadata": {},
   "source": [
    "Метод `S.isupper()` возвращает `True`, если `S` состоит из символов в верхнем регистре, иначе `False`."
   ]
  },
  {
   "cell_type": "code",
   "execution_count": 77,
   "metadata": {},
   "outputs": [
    {
     "name": "stdout",
     "output_type": "stream",
     "text": [
      ".isupper()  False\n"
     ]
    }
   ],
   "source": [
    "ss5 = 'Oneletterwithsmile'           # определим строку ss5\n",
    "print('.isupper() ',ss5.isupper())   # выведем isupper() на экран"
   ]
  },
  {
   "cell_type": "markdown",
   "metadata": {},
   "source": [
    "Метод `S.isspace()` возвращает `True`, если `S` состоит из неотображаемых символов, иначе `False`.<br>\n",
    "Неотображаемые символы - пробел, символ перевода страницы `\\f`, новая строка `\\n`, перевод каретки `\\r`, горизонтальная табуляция `\\t`, вертикальная табуляция `\\v`."
   ]
  },
  {
   "cell_type": "code",
   "execution_count": 78,
   "metadata": {},
   "outputs": [
    {
     "name": "stdout",
     "output_type": "stream",
     "text": [
      ".isspace()  False\n"
     ]
    }
   ],
   "source": [
    "ss5 = 'Oneletterwithsmile'           # определим строку ss5\n",
    "print('.isspace() ',ss5.isspace())   # выведем isspace() на экран"
   ]
  },
  {
   "cell_type": "markdown",
   "metadata": {},
   "source": [
    "Метод `S.istitle()` возвращает `True`, если слова в строке `S` начинаются с заглавной буквы, иначе `False`."
   ]
  },
  {
   "cell_type": "code",
   "execution_count": 79,
   "metadata": {},
   "outputs": [
    {
     "name": "stdout",
     "output_type": "stream",
     "text": [
      ".istitle()  True\n"
     ]
    }
   ],
   "source": [
    "ss5 = 'Oneletterwithsmile'           # определим строку ss5\n",
    "print('.istitle() ',ss5.istitle())   # выведем istitle() на экран"
   ]
  },
  {
   "cell_type": "markdown",
   "metadata": {},
   "source": [
    "Метод `S.upper()` выполняет преобразование строки `S` к верхнему регистру."
   ]
  },
  {
   "cell_type": "code",
   "execution_count": 80,
   "metadata": {},
   "outputs": [
    {
     "name": "stdout",
     "output_type": "stream",
     "text": [
      ".upper()  ONELETTERWITHSMILE\n"
     ]
    }
   ],
   "source": [
    "ss5 = 'Oneletterwithsmile'           # определим строку ss5\n",
    "print('.upper() ',ss5.upper())       # выведем на экран ss5 в верхнем регистре"
   ]
  },
  {
   "cell_type": "markdown",
   "metadata": {},
   "source": [
    "Метод `S.lower()` выполняет преобразование строки `S` к нижнему регистру."
   ]
  },
  {
   "cell_type": "code",
   "execution_count": 81,
   "metadata": {},
   "outputs": [
    {
     "name": "stdout",
     "output_type": "stream",
     "text": [
      ".lower()  oneletterwithsmile\n"
     ]
    }
   ],
   "source": [
    "ss5 = 'Oneletterwithsmile'           # определим строку ss5\n",
    "print('.lower() ',ss5.lower())       # выведем на экран ss5 в нижнем регистре"
   ]
  },
  {
   "cell_type": "markdown",
   "metadata": {},
   "source": [
    "Метод `S.capitalize()` переводит 1-й символ строки `S` в верхний регистр, остальные - в нижний."
   ]
  },
  {
   "cell_type": "code",
   "execution_count": 82,
   "metadata": {},
   "outputs": [
    {
     "name": "stdout",
     "output_type": "stream",
     "text": [
      "ONELETTERWITHSMILE .capitalize()  Oneletterwithsmile\n"
     ]
    }
   ],
   "source": [
    "ss6 = 'Oneletterwithsmile'.upper()           # определим строку ss6 в верхнем регистре\n",
    "print(ss6, '.capitalize() ',ss6.capitalize())     # выведем на экран ss6 и ss6.capitalize()"
   ]
  },
  {
   "cell_type": "markdown",
   "metadata": {},
   "source": [
    "Метод `S.center(width, [fill])` возвращает отцентрованную строку длиной `width`, по краям которой стоит символ `fill` (по умолчанию - это пробел)."
   ]
  },
  {
   "cell_type": "code",
   "execution_count": 83,
   "metadata": {},
   "outputs": [
    {
     "name": "stdout",
     "output_type": "stream",
     "text": [
      "ONELETTERWITHSMILE .center(30,\"#\")  ######ONELETTERWITHSMILE######\n"
     ]
    }
   ],
   "source": [
    "ss6 = 'Oneletterwithsmile'.upper()                    # определим строку ss6 в верхнем регистре\n",
    "print(ss6, '.center(30,\"#\") ',ss6.center(30,\"#\"))     # выведем на экран ss6 и ss6.center(30,\"#\")"
   ]
  },
  {
   "cell_type": "markdown",
   "metadata": {},
   "source": [
    "Метод `S.lstrip([chars])` выполняет удаление символов [chars] в начале строки."
   ]
  },
  {
   "cell_type": "code",
   "execution_count": 84,
   "metadata": {},
   "outputs": [
    {
     "name": "stdout",
     "output_type": "stream",
     "text": [
      "######Oneletterwithsmile###### .lstrip(\"#\")  Oneletterwithsmile######\n"
     ]
    }
   ],
   "source": [
    "ss8 = 'Oneletterwithsmile'.center(30,\"#\")        # определим строку ss8 с символами '#' в начале и конце\n",
    "print(ss8, '.lstrip(\"#\") ',ss8.lstrip(\"#\"))      # удалим символы '#' в начале строки"
   ]
  },
  {
   "cell_type": "markdown",
   "metadata": {},
   "source": [
    "Метод `S.rstrip([chars])` выполняет удаление символов [chars] в конце строки."
   ]
  },
  {
   "cell_type": "code",
   "execution_count": 85,
   "metadata": {},
   "outputs": [
    {
     "name": "stdout",
     "output_type": "stream",
     "text": [
      "######Oneletterwithsmile###### .rstrip(\"#\")  ######Oneletterwithsmile\n"
     ]
    }
   ],
   "source": [
    "ss8 = 'Oneletterwithsmile'.center(30,\"#\")        # определим строку ss8 с символами '#' в начале и конце\n",
    "print(ss8, '.rstrip(\"#\") ',ss8.rstrip(\"#\"))      # удалим символы '#' в конце строки"
   ]
  },
  {
   "cell_type": "markdown",
   "metadata": {},
   "source": [
    "Метод `S.strip([chars])` выполняет удаление символов [chars] в начале и в конце строки."
   ]
  },
  {
   "cell_type": "code",
   "execution_count": 86,
   "metadata": {},
   "outputs": [
    {
     "name": "stdout",
     "output_type": "stream",
     "text": [
      "######Oneletterwithsmile###### .strip(\"#\")  Oneletterwithsmile\n"
     ]
    }
   ],
   "source": [
    "ss8 = 'Oneletterwithsmile'.center(30,\"#\")        # определим строку ss8 с символами '#' в начале и конце\n",
    "print(ss8, '.strip(\"#\") ',ss8.strip(\"#\"))      # удалим символы '#' в начале и конце строки"
   ]
  },
  {
   "cell_type": "markdown",
   "metadata": {},
   "source": [
    "**Форматирование строк с помощью метода format**<br>\n",
    "Часто нужно сделать строку, подставив в неё данные, полученные в процессе выполнения программы (ввод, результаты расчетов).<br>\n",
    "Подстановку данных можно сделать с помощью **форматирования строк**.<br>\n",
    "Форматирование можно сделать с помощью оператора **%**, либо с помощью метода **format**."
   ]
  },
  {
   "cell_type": "code",
   "execution_count": 87,
   "metadata": {},
   "outputs": [
    {
     "name": "stdout",
     "output_type": "stream",
     "text": [
      "Coordinates: 37.24N, -115.81W\n"
     ]
    }
   ],
   "source": [
    "lt = '37.24N'\n",
    "ln = '-115.81W'\n",
    "print('Coordinates: {latitude}, {longitude}'.format(latitude=lt, longitude=ln))"
   ]
  },
  {
   "cell_type": "code",
   "execution_count": 88,
   "metadata": {},
   "outputs": [
    {
     "name": "stdout",
     "output_type": "stream",
     "text": [
      "Result is 2.57 and this is exponential format 3.423564E+02\n",
      "Percentage is 0.75%\n"
     ]
    }
   ],
   "source": [
    "ll1 = 2.567765345\n",
    "ll2 = 342.3564222\n",
    "print('Result is {:.3} and this is exponential format {:E}'.format(ll1,ll2))\n",
    "print('Percentage is {:.2%}'.format(ll1/ll2))"
   ]
  },
  {
   "cell_type": "markdown",
   "metadata": {},
   "source": [
    "**Форматирование строк с помощью `%`**<br>\n"
   ]
  },
  {
   "cell_type": "code",
   "execution_count": 89,
   "metadata": {},
   "outputs": [
    {
     "name": "stdout",
     "output_type": "stream",
     "text": [
      "a = 2.54, b = True, c = S234\n"
     ]
    }
   ],
   "source": [
    "a = 2.54; b = True; c = 'S234'                  # зададим 3 переменные \n",
    "print(\"a = %s, b = %s, c = %s\" % (a, b, c))     # вывод строки на экран "
   ]
  },
  {
   "cell_type": "markdown",
   "metadata": {},
   "source": [
    "Важно понимать, что возможности форматирования намного шире здесь рассмотренных, но это не самая актуальная тема при анализе данных."
   ]
  },
  {
   "cell_type": "markdown",
   "metadata": {},
   "source": [
    "### Подведем итоги. На этом занятии мы:\n",
    "- Обсудили общую информацию о языке Python.\n",
    "- Рассмотрели синтаксис и типизацию языка Python.\n",
    "- Познакомились с основными встроенными типами данных (boolean, numeric, list, tuple, dict, set, str) и методами для работы с ними. "
   ]
  }
 ],
 "metadata": {
  "kernelspec": {
   "display_name": "Python 3 (ipykernel)",
   "language": "python",
   "name": "python3"
  },
  "language_info": {
   "codemirror_mode": {
    "name": "ipython",
    "version": 3
   },
   "file_extension": ".py",
   "mimetype": "text/x-python",
   "name": "python",
   "nbconvert_exporter": "python",
   "pygments_lexer": "ipython3",
   "version": "3.9.15"
  }
 },
 "nbformat": 4,
 "nbformat_minor": 2
}
