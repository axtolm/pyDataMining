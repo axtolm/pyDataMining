{
 "cells": [
  {
   "cell_type": "markdown",
   "metadata": {},
   "source": [
    "#### @author: Александр Владимирович Толмачев | axtolm@gmail.com\n",
    "<hr>"
   ]
  },
  {
   "cell_type": "markdown",
   "metadata": {},
   "source": [
    "## 1. Основы языка Python"
   ]
  },
  {
   "cell_type": "markdown",
   "metadata": {},
   "source": [
    "## Часть 3. Библиотека для работы с данными pandas"
   ]
  },
  {
   "cell_type": "markdown",
   "metadata": {},
   "source": [
    "### На этом занятии мы планируем:\n",
    "- Познакомиться с библиотекой `pandas` и типами данных `DataFrame` и `Series`, популярными у аналитиков."
   ]
  },
  {
   "cell_type": "markdown",
   "metadata": {},
   "source": [
    "### 1. Библиотека `pandas` - типы данных `pandas.Series` и `pandas.DataFrame`"
   ]
  },
  {
   "cell_type": "markdown",
   "metadata": {},
   "source": [
    "**pandas** - это высокоуровневая библиотека для анализа данных, которая содержит два класса объектов:"
   ]
  },
  {
   "cell_type": "markdown",
   "metadata": {},
   "source": [
    "**class** `pandas.Series`  \n",
    "Одномерный массив индексированных данных (временные ряды это тоже тут).  \n",
    "Подробности на сайте библиотеки:  \n",
    "https://pandas.pydata.org/pandas-docs/stable/reference/api/pandas.Series.html"
   ]
  },
  {
   "cell_type": "markdown",
   "metadata": {},
   "source": [
    "**class** `pandas.DataFrame`   \n",
    "Двумерный массив с гибкими индексами строк и гибкими именами столбцов.    \n",
    "Каждый столбец можно рассматривать как объект `pandas.Series`.    \n",
    "Подробности на сайте библиотеки:   \n",
    "https://pandas.pydata.org/pandas-docs/stable/reference/api/pandas.DataFrame.html"
   ]
  },
  {
   "cell_type": "markdown",
   "metadata": {},
   "source": [
    "Сначала импортируем библиотеку `pandas` под псевдонимом `pd`"
   ]
  },
  {
   "cell_type": "code",
   "execution_count": 2,
   "metadata": {},
   "outputs": [],
   "source": [
    "import pandas as pd    "
   ]
  },
  {
   "cell_type": "code",
   "execution_count": 3,
   "metadata": {},
   "outputs": [
    {
     "name": "stdout",
     "output_type": "stream",
     "text": [
      "<class 'pandas.core.frame.DataFrame'>\n"
     ]
    }
   ],
   "source": [
    "db_tab_tmp = pd.DataFrame()    # создадим пустой датафрейм\n",
    "print(type(db_tab_tmp))    # выведем тип"
   ]
  },
  {
   "cell_type": "markdown",
   "metadata": {},
   "source": [
    "В учебных целях заполним DataFrame вручную.<br>\n",
    "На практике обычно так не делается, т.к. данные мы откуда-то берем, а не придумываем сами.<br>\n",
    "Исключение - расчетные фрагменты (по ходу выполнения алгоритма что-то посчитали и присоединили к большому DataFrame).<br>"
   ]
  },
  {
   "cell_type": "markdown",
   "metadata": {},
   "source": [
    "Возьмем для примера случай из **учебной аналитики**. Определим константы для заполнения."
   ]
  },
  {
   "cell_type": "code",
   "execution_count": 4,
   "metadata": {},
   "outputs": [],
   "source": [
    "COURSE_ID = 'URFU_ENGM_F2019'  # id online курса\n",
    "CHECK_POINT_NAME = 'ravg'      # название контрольной точки\n",
    "N_STUDENTS = 10                # количество студентов"
   ]
  },
  {
   "cell_type": "markdown",
   "metadata": {},
   "source": [
    "Заполним столбцы DataFrame с помощью генератора списков и генератора случайных чисел:"
   ]
  },
  {
   "cell_type": "code",
   "execution_count": 5,
   "metadata": {},
   "outputs": [],
   "source": [
    "import random as rd     # импортируем библиотеку с генератором случайных чисел\n",
    "rd.seed(1222)           # инициализируем генератор, чтобы получать всегда один набор значений"
   ]
  },
  {
   "cell_type": "code",
   "execution_count": 6,
   "metadata": {},
   "outputs": [],
   "source": [
    "# заполним столбец идентификатора курса 'course_id' одним и тем же значением константы COURSE_ID\n",
    "db_tab_tmp['course_id'] = [COURSE_ID for i in range(N_STUDENTS)]  "
   ]
  },
  {
   "cell_type": "code",
   "execution_count": 7,
   "metadata": {},
   "outputs": [],
   "source": [
    "# заполним идентификаторы студентов 'student_id' случайными числами от 1000 до 9999)\n",
    "# используем метод из библиотеки random: random.randint(A, B), который выдает случайное целое число N, A ≤ N ≤ B.\n",
    "db_tab_tmp['student_id'] = [rd.randint(1000, 9999) for i in range(N_STUDENTS)] "
   ]
  },
  {
   "cell_type": "code",
   "execution_count": 8,
   "metadata": {},
   "outputs": [],
   "source": [
    "# заполним столбец названий контрольных точек 'check_point_name' значением константы CHECK_POINT_NAME\n",
    "db_tab_tmp['check_point_name'] = [CHECK_POINT_NAME for i in range(N_STUDENTS)] "
   ]
  },
  {
   "cell_type": "code",
   "execution_count": 9,
   "metadata": {},
   "outputs": [],
   "source": [
    "# заполним столбец оценок 'grade' случайными числами от 0.0 до 1.0 и округлим их до 2-х знаков после запятой\n",
    "db_tab_tmp['grade'] = [round(rd.random(),2) for i in range(N_STUDENTS)] "
   ]
  },
  {
   "cell_type": "code",
   "execution_count": 10,
   "metadata": {},
   "outputs": [
    {
     "data": {
      "text/html": [
       "<div>\n",
       "<style scoped>\n",
       "    .dataframe tbody tr th:only-of-type {\n",
       "        vertical-align: middle;\n",
       "    }\n",
       "\n",
       "    .dataframe tbody tr th {\n",
       "        vertical-align: top;\n",
       "    }\n",
       "\n",
       "    .dataframe thead th {\n",
       "        text-align: right;\n",
       "    }\n",
       "</style>\n",
       "<table border=\"1\" class=\"dataframe\">\n",
       "  <thead>\n",
       "    <tr style=\"text-align: right;\">\n",
       "      <th></th>\n",
       "      <th>course_id</th>\n",
       "      <th>student_id</th>\n",
       "      <th>check_point_name</th>\n",
       "      <th>grade</th>\n",
       "    </tr>\n",
       "  </thead>\n",
       "  <tbody>\n",
       "    <tr>\n",
       "      <th>0</th>\n",
       "      <td>URFU_ENGM_F2019</td>\n",
       "      <td>9043</td>\n",
       "      <td>ravg</td>\n",
       "      <td>0.24</td>\n",
       "    </tr>\n",
       "    <tr>\n",
       "      <th>1</th>\n",
       "      <td>URFU_ENGM_F2019</td>\n",
       "      <td>7717</td>\n",
       "      <td>ravg</td>\n",
       "      <td>0.19</td>\n",
       "    </tr>\n",
       "    <tr>\n",
       "      <th>2</th>\n",
       "      <td>URFU_ENGM_F2019</td>\n",
       "      <td>1194</td>\n",
       "      <td>ravg</td>\n",
       "      <td>0.12</td>\n",
       "    </tr>\n",
       "    <tr>\n",
       "      <th>3</th>\n",
       "      <td>URFU_ENGM_F2019</td>\n",
       "      <td>6158</td>\n",
       "      <td>ravg</td>\n",
       "      <td>0.55</td>\n",
       "    </tr>\n",
       "    <tr>\n",
       "      <th>4</th>\n",
       "      <td>URFU_ENGM_F2019</td>\n",
       "      <td>9037</td>\n",
       "      <td>ravg</td>\n",
       "      <td>0.90</td>\n",
       "    </tr>\n",
       "    <tr>\n",
       "      <th>5</th>\n",
       "      <td>URFU_ENGM_F2019</td>\n",
       "      <td>5662</td>\n",
       "      <td>ravg</td>\n",
       "      <td>0.87</td>\n",
       "    </tr>\n",
       "    <tr>\n",
       "      <th>6</th>\n",
       "      <td>URFU_ENGM_F2019</td>\n",
       "      <td>9742</td>\n",
       "      <td>ravg</td>\n",
       "      <td>0.72</td>\n",
       "    </tr>\n",
       "    <tr>\n",
       "      <th>7</th>\n",
       "      <td>URFU_ENGM_F2019</td>\n",
       "      <td>4891</td>\n",
       "      <td>ravg</td>\n",
       "      <td>0.88</td>\n",
       "    </tr>\n",
       "    <tr>\n",
       "      <th>8</th>\n",
       "      <td>URFU_ENGM_F2019</td>\n",
       "      <td>7401</td>\n",
       "      <td>ravg</td>\n",
       "      <td>0.07</td>\n",
       "    </tr>\n",
       "    <tr>\n",
       "      <th>9</th>\n",
       "      <td>URFU_ENGM_F2019</td>\n",
       "      <td>7348</td>\n",
       "      <td>ravg</td>\n",
       "      <td>0.88</td>\n",
       "    </tr>\n",
       "  </tbody>\n",
       "</table>\n",
       "</div>"
      ],
      "text/plain": [
       "         course_id  student_id check_point_name  grade\n",
       "0  URFU_ENGM_F2019        9043             ravg   0.24\n",
       "1  URFU_ENGM_F2019        7717             ravg   0.19\n",
       "2  URFU_ENGM_F2019        1194             ravg   0.12\n",
       "3  URFU_ENGM_F2019        6158             ravg   0.55\n",
       "4  URFU_ENGM_F2019        9037             ravg   0.90\n",
       "5  URFU_ENGM_F2019        5662             ravg   0.87\n",
       "6  URFU_ENGM_F2019        9742             ravg   0.72\n",
       "7  URFU_ENGM_F2019        4891             ravg   0.88\n",
       "8  URFU_ENGM_F2019        7401             ravg   0.07\n",
       "9  URFU_ENGM_F2019        7348             ravg   0.88"
      ]
     },
     "execution_count": 10,
     "metadata": {},
     "output_type": "execute_result"
    }
   ],
   "source": [
    "db_tab_tmp    # выведем DataFrame на экран"
   ]
  },
  {
   "cell_type": "code",
   "execution_count": 11,
   "metadata": {},
   "outputs": [
    {
     "data": {
      "text/plain": [
       "pandas.core.series.Series"
      ]
     },
     "execution_count": 11,
     "metadata": {},
     "output_type": "execute_result"
    }
   ],
   "source": [
    "type(db_tab_tmp['grade']) # выведем тип одной колонки"
   ]
  },
  {
   "cell_type": "markdown",
   "metadata": {},
   "source": [
    "**Обратим внимание на первую колонку с индексом DataFrame!** - значения по порядку от 0 и названия колонки нет<br>\n",
    "Можем задать своими руками на свое усмотрение, значения индекса и название индексной колонки"
   ]
  },
  {
   "cell_type": "code",
   "execution_count": 12,
   "metadata": {},
   "outputs": [
    {
     "data": {
      "text/html": [
       "<div>\n",
       "<style scoped>\n",
       "    .dataframe tbody tr th:only-of-type {\n",
       "        vertical-align: middle;\n",
       "    }\n",
       "\n",
       "    .dataframe tbody tr th {\n",
       "        vertical-align: top;\n",
       "    }\n",
       "\n",
       "    .dataframe thead th {\n",
       "        text-align: right;\n",
       "    }\n",
       "</style>\n",
       "<table border=\"1\" class=\"dataframe\">\n",
       "  <thead>\n",
       "    <tr style=\"text-align: right;\">\n",
       "      <th></th>\n",
       "      <th>course_id</th>\n",
       "      <th>student_id</th>\n",
       "      <th>check_point_name</th>\n",
       "      <th>grade</th>\n",
       "    </tr>\n",
       "    <tr>\n",
       "      <th>our_index</th>\n",
       "      <th></th>\n",
       "      <th></th>\n",
       "      <th></th>\n",
       "      <th></th>\n",
       "    </tr>\n",
       "  </thead>\n",
       "  <tbody>\n",
       "    <tr>\n",
       "      <th>100</th>\n",
       "      <td>URFU_ENGM_F2019</td>\n",
       "      <td>9043</td>\n",
       "      <td>ravg</td>\n",
       "      <td>0.24</td>\n",
       "    </tr>\n",
       "    <tr>\n",
       "      <th>101</th>\n",
       "      <td>URFU_ENGM_F2019</td>\n",
       "      <td>7717</td>\n",
       "      <td>ravg</td>\n",
       "      <td>0.19</td>\n",
       "    </tr>\n",
       "    <tr>\n",
       "      <th>102</th>\n",
       "      <td>URFU_ENGM_F2019</td>\n",
       "      <td>1194</td>\n",
       "      <td>ravg</td>\n",
       "      <td>0.12</td>\n",
       "    </tr>\n",
       "    <tr>\n",
       "      <th>103</th>\n",
       "      <td>URFU_ENGM_F2019</td>\n",
       "      <td>6158</td>\n",
       "      <td>ravg</td>\n",
       "      <td>0.55</td>\n",
       "    </tr>\n",
       "    <tr>\n",
       "      <th>104</th>\n",
       "      <td>URFU_ENGM_F2019</td>\n",
       "      <td>9037</td>\n",
       "      <td>ravg</td>\n",
       "      <td>0.90</td>\n",
       "    </tr>\n",
       "    <tr>\n",
       "      <th>105</th>\n",
       "      <td>URFU_ENGM_F2019</td>\n",
       "      <td>5662</td>\n",
       "      <td>ravg</td>\n",
       "      <td>0.87</td>\n",
       "    </tr>\n",
       "    <tr>\n",
       "      <th>106</th>\n",
       "      <td>URFU_ENGM_F2019</td>\n",
       "      <td>9742</td>\n",
       "      <td>ravg</td>\n",
       "      <td>0.72</td>\n",
       "    </tr>\n",
       "    <tr>\n",
       "      <th>107</th>\n",
       "      <td>URFU_ENGM_F2019</td>\n",
       "      <td>4891</td>\n",
       "      <td>ravg</td>\n",
       "      <td>0.88</td>\n",
       "    </tr>\n",
       "    <tr>\n",
       "      <th>108</th>\n",
       "      <td>URFU_ENGM_F2019</td>\n",
       "      <td>7401</td>\n",
       "      <td>ravg</td>\n",
       "      <td>0.07</td>\n",
       "    </tr>\n",
       "    <tr>\n",
       "      <th>109</th>\n",
       "      <td>URFU_ENGM_F2019</td>\n",
       "      <td>7348</td>\n",
       "      <td>ravg</td>\n",
       "      <td>0.88</td>\n",
       "    </tr>\n",
       "  </tbody>\n",
       "</table>\n",
       "</div>"
      ],
      "text/plain": [
       "                 course_id  student_id check_point_name  grade\n",
       "our_index                                                     \n",
       "100        URFU_ENGM_F2019        9043             ravg   0.24\n",
       "101        URFU_ENGM_F2019        7717             ravg   0.19\n",
       "102        URFU_ENGM_F2019        1194             ravg   0.12\n",
       "103        URFU_ENGM_F2019        6158             ravg   0.55\n",
       "104        URFU_ENGM_F2019        9037             ravg   0.90\n",
       "105        URFU_ENGM_F2019        5662             ravg   0.87\n",
       "106        URFU_ENGM_F2019        9742             ravg   0.72\n",
       "107        URFU_ENGM_F2019        4891             ravg   0.88\n",
       "108        URFU_ENGM_F2019        7401             ravg   0.07\n",
       "109        URFU_ENGM_F2019        7348             ravg   0.88"
      ]
     },
     "execution_count": 12,
     "metadata": {},
     "output_type": "execute_result"
    }
   ],
   "source": [
    "db_tab_tmp.index = [i for i in range(100,100+N_STUDENTS)]   # новые значения индексов 100, 101, ...\n",
    "db_tab_tmp.index.name = 'our_index'    # название колонки с индексами\n",
    "db_tab_tmp"
   ]
  },
  {
   "cell_type": "markdown",
   "metadata": {},
   "source": [
    "**Доступ к элементам DataFrame**"
   ]
  },
  {
   "cell_type": "markdown",
   "metadata": {},
   "source": [
    "**По имени колонки или индекса строки**<br>\n",
    "https://pandas.pydata.org/docs/reference/api/pandas.DataFrame.loc.html<br>\n",
    "https://pandas.pydata.org/docs/reference/api/pandas.DataFrame.iloc.html#pandas.DataFrame.iloc<br>\n",
    "https://pandas.pydata.org/docs/reference/api/pandas.DataFrame.at.html#pandas.DataFrame.at"
   ]
  },
  {
   "cell_type": "code",
   "execution_count": 13,
   "metadata": {},
   "outputs": [
    {
     "data": {
      "text/plain": [
       "course_id           URFU_ENGM_F2019\n",
       "student_id                     7717\n",
       "check_point_name               ravg\n",
       "grade                          0.19\n",
       "Name: 101, dtype: object"
      ]
     },
     "execution_count": 13,
     "metadata": {},
     "output_type": "execute_result"
    }
   ],
   "source": [
    "# доступ к строке целиком по имени индекса\n",
    "db_tab_tmp.loc[101]"
   ]
  },
  {
   "cell_type": "code",
   "execution_count": 14,
   "metadata": {},
   "outputs": [
    {
     "data": {
      "text/plain": [
       "course_id           URFU_ENGM_F2019\n",
       "student_id                     7717\n",
       "check_point_name               ravg\n",
       "grade                          0.19\n",
       "Name: 101, dtype: object"
      ]
     },
     "execution_count": 14,
     "metadata": {},
     "output_type": "execute_result"
    }
   ],
   "source": [
    "# доступ к строке целиком по порядковому номеру индекса\n",
    "db_tab_tmp.iloc[1]"
   ]
  },
  {
   "cell_type": "code",
   "execution_count": 15,
   "metadata": {},
   "outputs": [
    {
     "data": {
      "text/html": [
       "<div>\n",
       "<style scoped>\n",
       "    .dataframe tbody tr th:only-of-type {\n",
       "        vertical-align: middle;\n",
       "    }\n",
       "\n",
       "    .dataframe tbody tr th {\n",
       "        vertical-align: top;\n",
       "    }\n",
       "\n",
       "    .dataframe thead th {\n",
       "        text-align: right;\n",
       "    }\n",
       "</style>\n",
       "<table border=\"1\" class=\"dataframe\">\n",
       "  <thead>\n",
       "    <tr style=\"text-align: right;\">\n",
       "      <th></th>\n",
       "      <th>course_id</th>\n",
       "      <th>student_id</th>\n",
       "      <th>check_point_name</th>\n",
       "      <th>grade</th>\n",
       "    </tr>\n",
       "    <tr>\n",
       "      <th>our_index</th>\n",
       "      <th></th>\n",
       "      <th></th>\n",
       "      <th></th>\n",
       "      <th></th>\n",
       "    </tr>\n",
       "  </thead>\n",
       "  <tbody>\n",
       "    <tr>\n",
       "      <th>105</th>\n",
       "      <td>URFU_ENGM_F2019</td>\n",
       "      <td>5662</td>\n",
       "      <td>ravg</td>\n",
       "      <td>0.87</td>\n",
       "    </tr>\n",
       "    <tr>\n",
       "      <th>106</th>\n",
       "      <td>URFU_ENGM_F2019</td>\n",
       "      <td>9742</td>\n",
       "      <td>ravg</td>\n",
       "      <td>0.72</td>\n",
       "    </tr>\n",
       "  </tbody>\n",
       "</table>\n",
       "</div>"
      ],
      "text/plain": [
       "                 course_id  student_id check_point_name  grade\n",
       "our_index                                                     \n",
       "105        URFU_ENGM_F2019        5662             ravg   0.87\n",
       "106        URFU_ENGM_F2019        9742             ravg   0.72"
      ]
     },
     "execution_count": 15,
     "metadata": {},
     "output_type": "execute_result"
    }
   ],
   "source": [
    "# срезы (slices) по индексу тоже работают\n",
    "db_tab_tmp.iloc[5:7]"
   ]
  },
  {
   "cell_type": "code",
   "execution_count": 16,
   "metadata": {},
   "outputs": [
    {
     "data": {
      "text/plain": [
       "0.19"
      ]
     },
     "execution_count": 16,
     "metadata": {},
     "output_type": "execute_result"
    }
   ],
   "source": [
    "# доступ к конкретному элементу таблицы по имени индекса и имени колонки\n",
    "db_tab_tmp.loc[101]['grade']"
   ]
  },
  {
   "cell_type": "code",
   "execution_count": 17,
   "metadata": {},
   "outputs": [
    {
     "data": {
      "text/plain": [
       "0.19"
      ]
     },
     "execution_count": 17,
     "metadata": {},
     "output_type": "execute_result"
    }
   ],
   "source": [
    "# другой вариант записи - все в одних квадратных скобках через запятую\n",
    "db_tab_tmp.loc[101,'grade']"
   ]
  },
  {
   "cell_type": "markdown",
   "metadata": {},
   "source": [
    "Для доступа к одному конкретному элементу таблицы есть еще метод `at` (он быстрее, чем `loc`, если нужен только один элемент)"
   ]
  },
  {
   "cell_type": "code",
   "execution_count": 18,
   "metadata": {},
   "outputs": [
    {
     "data": {
      "text/plain": [
       "0.19"
      ]
     },
     "execution_count": 18,
     "metadata": {},
     "output_type": "execute_result"
    }
   ],
   "source": [
    "# доступ к элементу через at\n",
    "db_tab_tmp.at[101,'grade']"
   ]
  },
  {
   "cell_type": "markdown",
   "metadata": {},
   "source": [
    "`iloc` для доступа к элементам тоже работает, но надо указать номера индекса и колонки, начиная с 0"
   ]
  },
  {
   "cell_type": "code",
   "execution_count": 19,
   "metadata": {},
   "outputs": [
    {
     "data": {
      "text/plain": [
       "0.19"
      ]
     },
     "execution_count": 19,
     "metadata": {},
     "output_type": "execute_result"
    }
   ],
   "source": [
    "db_tab_tmp.iloc[1,3]"
   ]
  },
  {
   "cell_type": "markdown",
   "metadata": {},
   "source": [
    "**Фильтрация элементов DataFrame**"
   ]
  },
  {
   "cell_type": "markdown",
   "metadata": {},
   "source": [
    "Обращение к столбцам таблицы так `db_tab_tmp.grade` или так `db_tab_tmp['grade']`"
   ]
  },
  {
   "cell_type": "code",
   "execution_count": 20,
   "metadata": {},
   "outputs": [
    {
     "data": {
      "text/html": [
       "<div>\n",
       "<style scoped>\n",
       "    .dataframe tbody tr th:only-of-type {\n",
       "        vertical-align: middle;\n",
       "    }\n",
       "\n",
       "    .dataframe tbody tr th {\n",
       "        vertical-align: top;\n",
       "    }\n",
       "\n",
       "    .dataframe thead th {\n",
       "        text-align: right;\n",
       "    }\n",
       "</style>\n",
       "<table border=\"1\" class=\"dataframe\">\n",
       "  <thead>\n",
       "    <tr style=\"text-align: right;\">\n",
       "      <th></th>\n",
       "      <th>course_id</th>\n",
       "      <th>student_id</th>\n",
       "      <th>check_point_name</th>\n",
       "      <th>grade</th>\n",
       "    </tr>\n",
       "    <tr>\n",
       "      <th>our_index</th>\n",
       "      <th></th>\n",
       "      <th></th>\n",
       "      <th></th>\n",
       "      <th></th>\n",
       "    </tr>\n",
       "  </thead>\n",
       "  <tbody>\n",
       "    <tr>\n",
       "      <th>103</th>\n",
       "      <td>URFU_ENGM_F2019</td>\n",
       "      <td>6158</td>\n",
       "      <td>ravg</td>\n",
       "      <td>0.55</td>\n",
       "    </tr>\n",
       "    <tr>\n",
       "      <th>104</th>\n",
       "      <td>URFU_ENGM_F2019</td>\n",
       "      <td>9037</td>\n",
       "      <td>ravg</td>\n",
       "      <td>0.90</td>\n",
       "    </tr>\n",
       "    <tr>\n",
       "      <th>105</th>\n",
       "      <td>URFU_ENGM_F2019</td>\n",
       "      <td>5662</td>\n",
       "      <td>ravg</td>\n",
       "      <td>0.87</td>\n",
       "    </tr>\n",
       "    <tr>\n",
       "      <th>106</th>\n",
       "      <td>URFU_ENGM_F2019</td>\n",
       "      <td>9742</td>\n",
       "      <td>ravg</td>\n",
       "      <td>0.72</td>\n",
       "    </tr>\n",
       "    <tr>\n",
       "      <th>107</th>\n",
       "      <td>URFU_ENGM_F2019</td>\n",
       "      <td>4891</td>\n",
       "      <td>ravg</td>\n",
       "      <td>0.88</td>\n",
       "    </tr>\n",
       "    <tr>\n",
       "      <th>109</th>\n",
       "      <td>URFU_ENGM_F2019</td>\n",
       "      <td>7348</td>\n",
       "      <td>ravg</td>\n",
       "      <td>0.88</td>\n",
       "    </tr>\n",
       "  </tbody>\n",
       "</table>\n",
       "</div>"
      ],
      "text/plain": [
       "                 course_id  student_id check_point_name  grade\n",
       "our_index                                                     \n",
       "103        URFU_ENGM_F2019        6158             ravg   0.55\n",
       "104        URFU_ENGM_F2019        9037             ravg   0.90\n",
       "105        URFU_ENGM_F2019        5662             ravg   0.87\n",
       "106        URFU_ENGM_F2019        9742             ravg   0.72\n",
       "107        URFU_ENGM_F2019        4891             ravg   0.88\n",
       "109        URFU_ENGM_F2019        7348             ravg   0.88"
      ]
     },
     "execution_count": 20,
     "metadata": {},
     "output_type": "execute_result"
    }
   ],
   "source": [
    "# по значению элементов одного из столбцов (можно использовать >, <, ==, !=, >=, <=)\n",
    "db_tab_tmp[db_tab_tmp.grade>=0.4]"
   ]
  },
  {
   "cell_type": "markdown",
   "metadata": {},
   "source": [
    "Также для фильтрации есть хороший метод `pandas.DataFrame.isin`<br>\n",
    "https://pandas.pydata.org/docs/reference/api/pandas.DataFrame.isin.html"
   ]
  },
  {
   "cell_type": "code",
   "execution_count": 21,
   "metadata": {},
   "outputs": [
    {
     "data": {
      "text/html": [
       "<div>\n",
       "<style scoped>\n",
       "    .dataframe tbody tr th:only-of-type {\n",
       "        vertical-align: middle;\n",
       "    }\n",
       "\n",
       "    .dataframe tbody tr th {\n",
       "        vertical-align: top;\n",
       "    }\n",
       "\n",
       "    .dataframe thead th {\n",
       "        text-align: right;\n",
       "    }\n",
       "</style>\n",
       "<table border=\"1\" class=\"dataframe\">\n",
       "  <thead>\n",
       "    <tr style=\"text-align: right;\">\n",
       "      <th></th>\n",
       "      <th>course_id</th>\n",
       "      <th>student_id</th>\n",
       "      <th>check_point_name</th>\n",
       "      <th>grade</th>\n",
       "    </tr>\n",
       "    <tr>\n",
       "      <th>our_index</th>\n",
       "      <th></th>\n",
       "      <th></th>\n",
       "      <th></th>\n",
       "      <th></th>\n",
       "    </tr>\n",
       "  </thead>\n",
       "  <tbody>\n",
       "    <tr>\n",
       "      <th>104</th>\n",
       "      <td>URFU_ENGM_F2019</td>\n",
       "      <td>9037</td>\n",
       "      <td>ravg</td>\n",
       "      <td>0.90</td>\n",
       "    </tr>\n",
       "    <tr>\n",
       "      <th>109</th>\n",
       "      <td>URFU_ENGM_F2019</td>\n",
       "      <td>7348</td>\n",
       "      <td>ravg</td>\n",
       "      <td>0.88</td>\n",
       "    </tr>\n",
       "  </tbody>\n",
       "</table>\n",
       "</div>"
      ],
      "text/plain": [
       "                 course_id  student_id check_point_name  grade\n",
       "our_index                                                     \n",
       "104        URFU_ENGM_F2019        9037             ravg   0.90\n",
       "109        URFU_ENGM_F2019        7348             ravg   0.88"
      ]
     },
     "execution_count": 21,
     "metadata": {},
     "output_type": "execute_result"
    }
   ],
   "source": [
    "# фильтрация по конкретным id студентов\n",
    "need_students = [9037,7348]  # зададим руками список id интересующих нас студентов\n",
    "db_tab_tmp[db_tab_tmp['student_id'].isin(need_students)]"
   ]
  },
  {
   "cell_type": "code",
   "execution_count": 22,
   "metadata": {},
   "outputs": [
    {
     "data": {
      "text/plain": [
       "our_index\n",
       "100    False\n",
       "101    False\n",
       "102    False\n",
       "103    False\n",
       "104     True\n",
       "105    False\n",
       "106    False\n",
       "107    False\n",
       "108    False\n",
       "109     True\n",
       "Name: student_id, dtype: bool"
      ]
     },
     "execution_count": 22,
     "metadata": {},
     "output_type": "execute_result"
    }
   ],
   "source": [
    "# как работает то, что внутри []\n",
    "db_tab_tmp['student_id'].isin(need_students)"
   ]
  },
  {
   "cell_type": "markdown",
   "metadata": {},
   "source": [
    "**Объект DataFrame имеет очень широкий набор собственных методов для работы с данными**<br>\n",
    "**Подробности на сайте библиотеки:**"
   ]
  },
  {
   "cell_type": "markdown",
   "metadata": {},
   "source": [
    "https://pandas.pydata.org/pandas-docs/stable/reference/frame.html"
   ]
  },
  {
   "cell_type": "markdown",
   "metadata": {},
   "source": [
    "**Рассмотрим некоторые из методов**  "
   ]
  },
  {
   "cell_type": "markdown",
   "metadata": {},
   "source": [
    "**1) Добавление одного DataFrame к другому**"
   ]
  },
  {
   "cell_type": "code",
   "execution_count": 23,
   "metadata": {},
   "outputs": [
    {
     "data": {
      "text/html": [
       "<div>\n",
       "<style scoped>\n",
       "    .dataframe tbody tr th:only-of-type {\n",
       "        vertical-align: middle;\n",
       "    }\n",
       "\n",
       "    .dataframe tbody tr th {\n",
       "        vertical-align: top;\n",
       "    }\n",
       "\n",
       "    .dataframe thead th {\n",
       "        text-align: right;\n",
       "    }\n",
       "</style>\n",
       "<table border=\"1\" class=\"dataframe\">\n",
       "  <thead>\n",
       "    <tr style=\"text-align: right;\">\n",
       "      <th></th>\n",
       "      <th>course_id</th>\n",
       "      <th>student_id</th>\n",
       "      <th>check_point_name</th>\n",
       "      <th>grade</th>\n",
       "    </tr>\n",
       "    <tr>\n",
       "      <th>our_index</th>\n",
       "      <th></th>\n",
       "      <th></th>\n",
       "      <th></th>\n",
       "      <th></th>\n",
       "    </tr>\n",
       "  </thead>\n",
       "  <tbody>\n",
       "    <tr>\n",
       "      <th>104</th>\n",
       "      <td>URFU_ENGM_F2019</td>\n",
       "      <td>9037</td>\n",
       "      <td>tavg</td>\n",
       "      <td>0.90</td>\n",
       "    </tr>\n",
       "    <tr>\n",
       "      <th>105</th>\n",
       "      <td>URFU_ENGM_F2019</td>\n",
       "      <td>5662</td>\n",
       "      <td>tavg</td>\n",
       "      <td>0.87</td>\n",
       "    </tr>\n",
       "    <tr>\n",
       "      <th>106</th>\n",
       "      <td>URFU_ENGM_F2019</td>\n",
       "      <td>9742</td>\n",
       "      <td>tavg</td>\n",
       "      <td>0.72</td>\n",
       "    </tr>\n",
       "    <tr>\n",
       "      <th>107</th>\n",
       "      <td>URFU_ENGM_F2019</td>\n",
       "      <td>4891</td>\n",
       "      <td>tavg</td>\n",
       "      <td>0.88</td>\n",
       "    </tr>\n",
       "    <tr>\n",
       "      <th>109</th>\n",
       "      <td>URFU_ENGM_F2019</td>\n",
       "      <td>7348</td>\n",
       "      <td>tavg</td>\n",
       "      <td>0.88</td>\n",
       "    </tr>\n",
       "  </tbody>\n",
       "</table>\n",
       "</div>"
      ],
      "text/plain": [
       "                 course_id  student_id check_point_name  grade\n",
       "our_index                                                     \n",
       "104        URFU_ENGM_F2019        9037             tavg   0.90\n",
       "105        URFU_ENGM_F2019        5662             tavg   0.87\n",
       "106        URFU_ENGM_F2019        9742             tavg   0.72\n",
       "107        URFU_ENGM_F2019        4891             tavg   0.88\n",
       "109        URFU_ENGM_F2019        7348             tavg   0.88"
      ]
     },
     "execution_count": 23,
     "metadata": {},
     "output_type": "execute_result"
    }
   ],
   "source": [
    "# Сделаем еще один DataFrame, немного модифицируем и присоединим к исходному db_tab_tmp\n",
    "db_new = db_tab_tmp[db_tab_tmp.grade>0.7].copy()  # получим фильтрацией из исходного и делаем копию\n",
    "db_new.loc[:,'check_point_name'] = 'tavg'       # изменим значения в одной колонке\n",
    "db_new"
   ]
  },
  {
   "cell_type": "markdown",
   "metadata": {},
   "source": [
    "Используем метод `pandas.DataFrame.concat`<br>\n",
    "https://pandas.pydata.org/docs/reference/api/pandas.concat.html"
   ]
  },
  {
   "cell_type": "code",
   "execution_count": 24,
   "metadata": {},
   "outputs": [
    {
     "data": {
      "text/html": [
       "<div>\n",
       "<style scoped>\n",
       "    .dataframe tbody tr th:only-of-type {\n",
       "        vertical-align: middle;\n",
       "    }\n",
       "\n",
       "    .dataframe tbody tr th {\n",
       "        vertical-align: top;\n",
       "    }\n",
       "\n",
       "    .dataframe thead th {\n",
       "        text-align: right;\n",
       "    }\n",
       "</style>\n",
       "<table border=\"1\" class=\"dataframe\">\n",
       "  <thead>\n",
       "    <tr style=\"text-align: right;\">\n",
       "      <th></th>\n",
       "      <th>course_id</th>\n",
       "      <th>student_id</th>\n",
       "      <th>check_point_name</th>\n",
       "      <th>grade</th>\n",
       "    </tr>\n",
       "    <tr>\n",
       "      <th>our_index</th>\n",
       "      <th></th>\n",
       "      <th></th>\n",
       "      <th></th>\n",
       "      <th></th>\n",
       "    </tr>\n",
       "  </thead>\n",
       "  <tbody>\n",
       "    <tr>\n",
       "      <th>100</th>\n",
       "      <td>URFU_ENGM_F2019</td>\n",
       "      <td>9043</td>\n",
       "      <td>ravg</td>\n",
       "      <td>0.24</td>\n",
       "    </tr>\n",
       "    <tr>\n",
       "      <th>101</th>\n",
       "      <td>URFU_ENGM_F2019</td>\n",
       "      <td>7717</td>\n",
       "      <td>ravg</td>\n",
       "      <td>0.19</td>\n",
       "    </tr>\n",
       "    <tr>\n",
       "      <th>102</th>\n",
       "      <td>URFU_ENGM_F2019</td>\n",
       "      <td>1194</td>\n",
       "      <td>ravg</td>\n",
       "      <td>0.12</td>\n",
       "    </tr>\n",
       "    <tr>\n",
       "      <th>103</th>\n",
       "      <td>URFU_ENGM_F2019</td>\n",
       "      <td>6158</td>\n",
       "      <td>ravg</td>\n",
       "      <td>0.55</td>\n",
       "    </tr>\n",
       "    <tr>\n",
       "      <th>104</th>\n",
       "      <td>URFU_ENGM_F2019</td>\n",
       "      <td>9037</td>\n",
       "      <td>ravg</td>\n",
       "      <td>0.90</td>\n",
       "    </tr>\n",
       "    <tr>\n",
       "      <th>105</th>\n",
       "      <td>URFU_ENGM_F2019</td>\n",
       "      <td>5662</td>\n",
       "      <td>ravg</td>\n",
       "      <td>0.87</td>\n",
       "    </tr>\n",
       "    <tr>\n",
       "      <th>106</th>\n",
       "      <td>URFU_ENGM_F2019</td>\n",
       "      <td>9742</td>\n",
       "      <td>ravg</td>\n",
       "      <td>0.72</td>\n",
       "    </tr>\n",
       "    <tr>\n",
       "      <th>107</th>\n",
       "      <td>URFU_ENGM_F2019</td>\n",
       "      <td>4891</td>\n",
       "      <td>ravg</td>\n",
       "      <td>0.88</td>\n",
       "    </tr>\n",
       "    <tr>\n",
       "      <th>108</th>\n",
       "      <td>URFU_ENGM_F2019</td>\n",
       "      <td>7401</td>\n",
       "      <td>ravg</td>\n",
       "      <td>0.07</td>\n",
       "    </tr>\n",
       "    <tr>\n",
       "      <th>109</th>\n",
       "      <td>URFU_ENGM_F2019</td>\n",
       "      <td>7348</td>\n",
       "      <td>ravg</td>\n",
       "      <td>0.88</td>\n",
       "    </tr>\n",
       "    <tr>\n",
       "      <th>104</th>\n",
       "      <td>URFU_ENGM_F2019</td>\n",
       "      <td>9037</td>\n",
       "      <td>tavg</td>\n",
       "      <td>0.90</td>\n",
       "    </tr>\n",
       "    <tr>\n",
       "      <th>105</th>\n",
       "      <td>URFU_ENGM_F2019</td>\n",
       "      <td>5662</td>\n",
       "      <td>tavg</td>\n",
       "      <td>0.87</td>\n",
       "    </tr>\n",
       "    <tr>\n",
       "      <th>106</th>\n",
       "      <td>URFU_ENGM_F2019</td>\n",
       "      <td>9742</td>\n",
       "      <td>tavg</td>\n",
       "      <td>0.72</td>\n",
       "    </tr>\n",
       "    <tr>\n",
       "      <th>107</th>\n",
       "      <td>URFU_ENGM_F2019</td>\n",
       "      <td>4891</td>\n",
       "      <td>tavg</td>\n",
       "      <td>0.88</td>\n",
       "    </tr>\n",
       "    <tr>\n",
       "      <th>109</th>\n",
       "      <td>URFU_ENGM_F2019</td>\n",
       "      <td>7348</td>\n",
       "      <td>tavg</td>\n",
       "      <td>0.88</td>\n",
       "    </tr>\n",
       "  </tbody>\n",
       "</table>\n",
       "</div>"
      ],
      "text/plain": [
       "                 course_id  student_id check_point_name  grade\n",
       "our_index                                                     \n",
       "100        URFU_ENGM_F2019        9043             ravg   0.24\n",
       "101        URFU_ENGM_F2019        7717             ravg   0.19\n",
       "102        URFU_ENGM_F2019        1194             ravg   0.12\n",
       "103        URFU_ENGM_F2019        6158             ravg   0.55\n",
       "104        URFU_ENGM_F2019        9037             ravg   0.90\n",
       "105        URFU_ENGM_F2019        5662             ravg   0.87\n",
       "106        URFU_ENGM_F2019        9742             ravg   0.72\n",
       "107        URFU_ENGM_F2019        4891             ravg   0.88\n",
       "108        URFU_ENGM_F2019        7401             ravg   0.07\n",
       "109        URFU_ENGM_F2019        7348             ravg   0.88\n",
       "104        URFU_ENGM_F2019        9037             tavg   0.90\n",
       "105        URFU_ENGM_F2019        5662             tavg   0.87\n",
       "106        URFU_ENGM_F2019        9742             tavg   0.72\n",
       "107        URFU_ENGM_F2019        4891             tavg   0.88\n",
       "109        URFU_ENGM_F2019        7348             tavg   0.88"
      ]
     },
     "execution_count": 24,
     "metadata": {},
     "output_type": "execute_result"
    }
   ],
   "source": [
    "db_tab_tmp = pd.concat([db_tab_tmp, db_new])\n",
    "db_tab_tmp"
   ]
  },
  {
   "cell_type": "markdown",
   "metadata": {},
   "source": [
    "**2) Группировка по `check_point_name` и подсчет средних оценок по контрольным точкам** "
   ]
  },
  {
   "cell_type": "markdown",
   "metadata": {},
   "source": [
    "Используем метод pandas.DataFrame.groupby<br>\n",
    "https://pandas.pydata.org/docs/reference/api/pandas.DataFrame.groupby.html"
   ]
  },
  {
   "cell_type": "code",
   "execution_count": 25,
   "metadata": {},
   "outputs": [
    {
     "data": {
      "text/html": [
       "<div>\n",
       "<style scoped>\n",
       "    .dataframe tbody tr th:only-of-type {\n",
       "        vertical-align: middle;\n",
       "    }\n",
       "\n",
       "    .dataframe tbody tr th {\n",
       "        vertical-align: top;\n",
       "    }\n",
       "\n",
       "    .dataframe thead th {\n",
       "        text-align: right;\n",
       "    }\n",
       "</style>\n",
       "<table border=\"1\" class=\"dataframe\">\n",
       "  <thead>\n",
       "    <tr style=\"text-align: right;\">\n",
       "      <th></th>\n",
       "      <th>student_id</th>\n",
       "      <th>grade</th>\n",
       "    </tr>\n",
       "    <tr>\n",
       "      <th>check_point_name</th>\n",
       "      <th></th>\n",
       "      <th></th>\n",
       "    </tr>\n",
       "  </thead>\n",
       "  <tbody>\n",
       "    <tr>\n",
       "      <th>ravg</th>\n",
       "      <td>6819.3</td>\n",
       "      <td>0.542</td>\n",
       "    </tr>\n",
       "    <tr>\n",
       "      <th>tavg</th>\n",
       "      <td>7336.0</td>\n",
       "      <td>0.850</td>\n",
       "    </tr>\n",
       "  </tbody>\n",
       "</table>\n",
       "</div>"
      ],
      "text/plain": [
       "                  student_id  grade\n",
       "check_point_name                   \n",
       "ravg                  6819.3  0.542\n",
       "tavg                  7336.0  0.850"
      ]
     },
     "execution_count": 25,
     "metadata": {},
     "output_type": "execute_result"
    }
   ],
   "source": [
    "db_tab_tmp.groupby(['check_point_name']).mean()"
   ]
  },
  {
   "cell_type": "markdown",
   "metadata": {},
   "source": [
    "Усреднение по `student_id` смысла не имеет, а вот со средними по `grade` можно работать"
   ]
  },
  {
   "cell_type": "markdown",
   "metadata": {},
   "source": [
    "Результат `pandas.DataFrame.groupby` - это тоже `pandas.DataFrame` и доступ к данным как было выше для ячееек таблицы"
   ]
  },
  {
   "cell_type": "code",
   "execution_count": 26,
   "metadata": {},
   "outputs": [
    {
     "data": {
      "text/plain": [
       "0.542"
      ]
     },
     "execution_count": 26,
     "metadata": {},
     "output_type": "execute_result"
    }
   ],
   "source": [
    "# выберем среднее по grade для контрольной точки с check_point_name = 'ravg'\n",
    "db_group = db_tab_tmp.groupby(['check_point_name']).mean()\n",
    "db_group.loc['ravg','grade']"
   ]
  },
  {
   "cell_type": "code",
   "execution_count": 27,
   "metadata": {},
   "outputs": [
    {
     "data": {
      "text/plain": [
       "0.542"
      ]
     },
     "execution_count": 27,
     "metadata": {},
     "output_type": "execute_result"
    }
   ],
   "source": [
    "# это же можно записать в одну строчку \n",
    "db_tab_tmp.groupby(['check_point_name']).mean().loc['ravg','grade']"
   ]
  },
  {
   "cell_type": "markdown",
   "metadata": {},
   "source": [
    "**3) Группировка по 'check_point_name' и подсчет количества оценок по контрольным точкам** "
   ]
  },
  {
   "cell_type": "markdown",
   "metadata": {},
   "source": [
    "Используем метод `pandas.DataFrame.count`<br>\n",
    "https://pandas.pydata.org/docs/reference/api/pandas.DataFrame.count.html"
   ]
  },
  {
   "cell_type": "code",
   "execution_count": 28,
   "metadata": {},
   "outputs": [
    {
     "data": {
      "text/html": [
       "<div>\n",
       "<style scoped>\n",
       "    .dataframe tbody tr th:only-of-type {\n",
       "        vertical-align: middle;\n",
       "    }\n",
       "\n",
       "    .dataframe tbody tr th {\n",
       "        vertical-align: top;\n",
       "    }\n",
       "\n",
       "    .dataframe thead th {\n",
       "        text-align: right;\n",
       "    }\n",
       "</style>\n",
       "<table border=\"1\" class=\"dataframe\">\n",
       "  <thead>\n",
       "    <tr style=\"text-align: right;\">\n",
       "      <th></th>\n",
       "      <th>course_id</th>\n",
       "      <th>student_id</th>\n",
       "      <th>grade</th>\n",
       "    </tr>\n",
       "    <tr>\n",
       "      <th>check_point_name</th>\n",
       "      <th></th>\n",
       "      <th></th>\n",
       "      <th></th>\n",
       "    </tr>\n",
       "  </thead>\n",
       "  <tbody>\n",
       "    <tr>\n",
       "      <th>ravg</th>\n",
       "      <td>10</td>\n",
       "      <td>10</td>\n",
       "      <td>10</td>\n",
       "    </tr>\n",
       "    <tr>\n",
       "      <th>tavg</th>\n",
       "      <td>5</td>\n",
       "      <td>5</td>\n",
       "      <td>5</td>\n",
       "    </tr>\n",
       "  </tbody>\n",
       "</table>\n",
       "</div>"
      ],
      "text/plain": [
       "                  course_id  student_id  grade\n",
       "check_point_name                              \n",
       "ravg                     10          10     10\n",
       "tavg                      5           5      5"
      ]
     },
     "execution_count": 28,
     "metadata": {},
     "output_type": "execute_result"
    }
   ],
   "source": [
    "db_tab_tmp.groupby(['check_point_name']).count()"
   ]
  },
  {
   "cell_type": "code",
   "execution_count": 29,
   "metadata": {},
   "outputs": [
    {
     "data": {
      "text/plain": [
       "5"
      ]
     },
     "execution_count": 29,
     "metadata": {},
     "output_type": "execute_result"
    }
   ],
   "source": [
    "# получение одного нужного значения \n",
    "db_tab_tmp.groupby(['check_point_name']).count().loc['tavg','grade']"
   ]
  },
  {
   "cell_type": "markdown",
   "metadata": {},
   "source": [
    "**4) Построим гистограмму распределения по grade** "
   ]
  },
  {
   "cell_type": "markdown",
   "metadata": {},
   "source": [
    "Используем метод pandas.DataFrame.hist<br>\n",
    "https://pandas.pydata.org/docs/reference/api/pandas.DataFrame.hist.html"
   ]
  },
  {
   "cell_type": "code",
   "execution_count": 30,
   "metadata": {},
   "outputs": [
    {
     "data": {
      "image/png": "[encoded data removed]",
      "text/plain": [
       "<Figure size 640x480 with 1 Axes>"
      ]
     },
     "metadata": {},
     "output_type": "display_data"
    }
   ],
   "source": [
    "grade_hist = db_tab_tmp['grade'].hist(bins = 10)"
   ]
  },
  {
   "cell_type": "markdown",
   "metadata": {},
   "source": [
    "**5) Изменим тип всех элементов колонки 'grade'** "
   ]
  },
  {
   "cell_type": "markdown",
   "metadata": {},
   "source": [
    "Используем метод pandas.DataFrame.astype<br>\n",
    "https://pandas.pydata.org/docs/reference/api/pandas.DataFrame.astype.html"
   ]
  },
  {
   "cell_type": "code",
   "execution_count": 31,
   "metadata": {},
   "outputs": [],
   "source": [
    "db_tab_tmp['grade_str'] = db_tab_tmp['grade'].astype(str)    # преобразуем оценку в строку и сохраним в новой колонке"
   ]
  },
  {
   "cell_type": "code",
   "execution_count": 32,
   "metadata": {},
   "outputs": [
    {
     "name": "stdout",
     "output_type": "stream",
     "text": [
      "<class 'numpy.float64'> <class 'str'>\n"
     ]
    }
   ],
   "source": [
    "print(type(db_tab_tmp.iloc[0]['grade']),type(db_tab_tmp.iloc[0]['grade_str']))     # проверим типы данных"
   ]
  },
  {
   "cell_type": "markdown",
   "metadata": {},
   "source": [
    "**6) Подсчет суммы, среднего, стандартного отклонения, количества значений по колонке 'grade'** "
   ]
  },
  {
   "cell_type": "markdown",
   "metadata": {},
   "source": [
    "Используем методы: `pandas.DataFrame.sum`, `pandas.DataFrame.mean`, `pandas.DataFrame.std`, `pandas.DataFrame.count`<br>\n",
    "https://pandas.pydata.org/docs/reference/api/pandas.DataFrame.sum.html<br>\n",
    "Важно! метод и аналогичные ему (mean, std, count,...) игнорирует пропуски данных NaN"
   ]
  },
  {
   "cell_type": "code",
   "execution_count": 33,
   "metadata": {},
   "outputs": [
    {
     "data": {
      "text/plain": [
       "9.670000000000002"
      ]
     },
     "execution_count": 33,
     "metadata": {},
     "output_type": "execute_result"
    }
   ],
   "source": [
    "db_tab_tmp['grade'].sum()    # сумма"
   ]
  },
  {
   "cell_type": "code",
   "execution_count": 34,
   "metadata": {},
   "outputs": [
    {
     "data": {
      "text/plain": [
       "0.6446666666666668"
      ]
     },
     "execution_count": 34,
     "metadata": {},
     "output_type": "execute_result"
    }
   ],
   "source": [
    "db_tab_tmp['grade'].mean()     # среднее значение"
   ]
  },
  {
   "cell_type": "code",
   "execution_count": 35,
   "metadata": {},
   "outputs": [
    {
     "data": {
      "text/plain": [
       "0.321799997040457"
      ]
     },
     "execution_count": 35,
     "metadata": {},
     "output_type": "execute_result"
    }
   ],
   "source": [
    "db_tab_tmp['grade'].std()    # стандартное отклонение"
   ]
  },
  {
   "cell_type": "code",
   "execution_count": 36,
   "metadata": {},
   "outputs": [
    {
     "data": {
      "text/plain": [
       "15"
      ]
     },
     "execution_count": 36,
     "metadata": {},
     "output_type": "execute_result"
    }
   ],
   "source": [
    "db_tab_tmp['grade'].count()     # количество значений"
   ]
  },
  {
   "cell_type": "markdown",
   "metadata": {},
   "source": [
    "**7) Получение новой расчетной колонки путем применения лямбда функции к существующим**"
   ]
  },
  {
   "cell_type": "code",
   "execution_count": 39,
   "metadata": {},
   "outputs": [
    {
     "data": {
      "text/html": [
       "<div>\n",
       "<style scoped>\n",
       "    .dataframe tbody tr th:only-of-type {\n",
       "        vertical-align: middle;\n",
       "    }\n",
       "\n",
       "    .dataframe tbody tr th {\n",
       "        vertical-align: top;\n",
       "    }\n",
       "\n",
       "    .dataframe thead th {\n",
       "        text-align: right;\n",
       "    }\n",
       "</style>\n",
       "<table border=\"1\" class=\"dataframe\">\n",
       "  <thead>\n",
       "    <tr style=\"text-align: right;\">\n",
       "      <th></th>\n",
       "      <th>course_id</th>\n",
       "      <th>student_id</th>\n",
       "      <th>check_point_name</th>\n",
       "      <th>grade</th>\n",
       "      <th>grade_str</th>\n",
       "      <th>pass</th>\n",
       "    </tr>\n",
       "    <tr>\n",
       "      <th>our_index</th>\n",
       "      <th></th>\n",
       "      <th></th>\n",
       "      <th></th>\n",
       "      <th></th>\n",
       "      <th></th>\n",
       "      <th></th>\n",
       "    </tr>\n",
       "  </thead>\n",
       "  <tbody>\n",
       "    <tr>\n",
       "      <th>100</th>\n",
       "      <td>URFU_ENGM_F2019</td>\n",
       "      <td>9043</td>\n",
       "      <td>ravg</td>\n",
       "      <td>0.24</td>\n",
       "      <td>0.24</td>\n",
       "      <td>fail</td>\n",
       "    </tr>\n",
       "    <tr>\n",
       "      <th>101</th>\n",
       "      <td>URFU_ENGM_F2019</td>\n",
       "      <td>7717</td>\n",
       "      <td>ravg</td>\n",
       "      <td>0.19</td>\n",
       "      <td>0.19</td>\n",
       "      <td>fail</td>\n",
       "    </tr>\n",
       "    <tr>\n",
       "      <th>102</th>\n",
       "      <td>URFU_ENGM_F2019</td>\n",
       "      <td>1194</td>\n",
       "      <td>ravg</td>\n",
       "      <td>0.12</td>\n",
       "      <td>0.12</td>\n",
       "      <td>fail</td>\n",
       "    </tr>\n",
       "    <tr>\n",
       "      <th>103</th>\n",
       "      <td>URFU_ENGM_F2019</td>\n",
       "      <td>6158</td>\n",
       "      <td>ravg</td>\n",
       "      <td>0.55</td>\n",
       "      <td>0.55</td>\n",
       "      <td>pass</td>\n",
       "    </tr>\n",
       "    <tr>\n",
       "      <th>104</th>\n",
       "      <td>URFU_ENGM_F2019</td>\n",
       "      <td>9037</td>\n",
       "      <td>ravg</td>\n",
       "      <td>0.90</td>\n",
       "      <td>0.9</td>\n",
       "      <td>pass</td>\n",
       "    </tr>\n",
       "    <tr>\n",
       "      <th>105</th>\n",
       "      <td>URFU_ENGM_F2019</td>\n",
       "      <td>5662</td>\n",
       "      <td>ravg</td>\n",
       "      <td>0.87</td>\n",
       "      <td>0.87</td>\n",
       "      <td>pass</td>\n",
       "    </tr>\n",
       "    <tr>\n",
       "      <th>106</th>\n",
       "      <td>URFU_ENGM_F2019</td>\n",
       "      <td>9742</td>\n",
       "      <td>ravg</td>\n",
       "      <td>0.72</td>\n",
       "      <td>0.72</td>\n",
       "      <td>pass</td>\n",
       "    </tr>\n",
       "    <tr>\n",
       "      <th>107</th>\n",
       "      <td>URFU_ENGM_F2019</td>\n",
       "      <td>4891</td>\n",
       "      <td>ravg</td>\n",
       "      <td>0.88</td>\n",
       "      <td>0.88</td>\n",
       "      <td>pass</td>\n",
       "    </tr>\n",
       "    <tr>\n",
       "      <th>108</th>\n",
       "      <td>URFU_ENGM_F2019</td>\n",
       "      <td>7401</td>\n",
       "      <td>ravg</td>\n",
       "      <td>0.07</td>\n",
       "      <td>0.07</td>\n",
       "      <td>fail</td>\n",
       "    </tr>\n",
       "    <tr>\n",
       "      <th>109</th>\n",
       "      <td>URFU_ENGM_F2019</td>\n",
       "      <td>7348</td>\n",
       "      <td>ravg</td>\n",
       "      <td>0.88</td>\n",
       "      <td>0.88</td>\n",
       "      <td>pass</td>\n",
       "    </tr>\n",
       "    <tr>\n",
       "      <th>104</th>\n",
       "      <td>URFU_ENGM_F2019</td>\n",
       "      <td>9037</td>\n",
       "      <td>tavg</td>\n",
       "      <td>0.90</td>\n",
       "      <td>0.9</td>\n",
       "      <td>pass</td>\n",
       "    </tr>\n",
       "    <tr>\n",
       "      <th>105</th>\n",
       "      <td>URFU_ENGM_F2019</td>\n",
       "      <td>5662</td>\n",
       "      <td>tavg</td>\n",
       "      <td>0.87</td>\n",
       "      <td>0.87</td>\n",
       "      <td>pass</td>\n",
       "    </tr>\n",
       "    <tr>\n",
       "      <th>106</th>\n",
       "      <td>URFU_ENGM_F2019</td>\n",
       "      <td>9742</td>\n",
       "      <td>tavg</td>\n",
       "      <td>0.72</td>\n",
       "      <td>0.72</td>\n",
       "      <td>pass</td>\n",
       "    </tr>\n",
       "    <tr>\n",
       "      <th>107</th>\n",
       "      <td>URFU_ENGM_F2019</td>\n",
       "      <td>4891</td>\n",
       "      <td>tavg</td>\n",
       "      <td>0.88</td>\n",
       "      <td>0.88</td>\n",
       "      <td>pass</td>\n",
       "    </tr>\n",
       "    <tr>\n",
       "      <th>109</th>\n",
       "      <td>URFU_ENGM_F2019</td>\n",
       "      <td>7348</td>\n",
       "      <td>tavg</td>\n",
       "      <td>0.88</td>\n",
       "      <td>0.88</td>\n",
       "      <td>pass</td>\n",
       "    </tr>\n",
       "  </tbody>\n",
       "</table>\n",
       "</div>"
      ],
      "text/plain": [
       "                 course_id  student_id check_point_name  grade grade_str  pass\n",
       "our_index                                                                     \n",
       "100        URFU_ENGM_F2019        9043             ravg   0.24      0.24  fail\n",
       "101        URFU_ENGM_F2019        7717             ravg   0.19      0.19  fail\n",
       "102        URFU_ENGM_F2019        1194             ravg   0.12      0.12  fail\n",
       "103        URFU_ENGM_F2019        6158             ravg   0.55      0.55  pass\n",
       "104        URFU_ENGM_F2019        9037             ravg   0.90       0.9  pass\n",
       "105        URFU_ENGM_F2019        5662             ravg   0.87      0.87  pass\n",
       "106        URFU_ENGM_F2019        9742             ravg   0.72      0.72  pass\n",
       "107        URFU_ENGM_F2019        4891             ravg   0.88      0.88  pass\n",
       "108        URFU_ENGM_F2019        7401             ravg   0.07      0.07  fail\n",
       "109        URFU_ENGM_F2019        7348             ravg   0.88      0.88  pass\n",
       "104        URFU_ENGM_F2019        9037             tavg   0.90       0.9  pass\n",
       "105        URFU_ENGM_F2019        5662             tavg   0.87      0.87  pass\n",
       "106        URFU_ENGM_F2019        9742             tavg   0.72      0.72  pass\n",
       "107        URFU_ENGM_F2019        4891             tavg   0.88      0.88  pass\n",
       "109        URFU_ENGM_F2019        7348             tavg   0.88      0.88  pass"
      ]
     },
     "execution_count": 39,
     "metadata": {},
     "output_type": "execute_result"
    }
   ],
   "source": [
    "db_tab_tmp['pass'] = list(map(lambda g: 'pass' if g >= 0.4 else 'fail', db_tab_tmp['grade']))\n",
    "db_tab_tmp"
   ]
  },
  {
   "cell_type": "markdown",
   "metadata": {},
   "source": [
    "**8) Построение графика по таблице**"
   ]
  },
  {
   "cell_type": "markdown",
   "metadata": {},
   "source": [
    "Таблица с данными учебной аналитики не очень годится для демонстрации возможностей построения графиков встроенными методами `pandas.DataFrame`. Для примера создадим с помощью генератора списков таблицу со значениями функции $y(x) = sin(x)$"
   ]
  },
  {
   "cell_type": "code",
   "execution_count": 169,
   "metadata": {},
   "outputs": [],
   "source": [
    "import math as m    # импорт библиотеки math под псевдонимом m\n",
    "res = pd.DataFrame()    # создание пустой таблицы pandas.DataFrame\n",
    "x_start = -m.pi    # начальное значение\n",
    "x_step = 0.1       # шаг аргумента х\n",
    "n_points = 130     # количество точек\n",
    "res['x'] = [(x_start + x_step*i) for i in range(n_points)]    # заполним колонку с независимой переменной Х\n",
    "res['y'] = list(map(lambda x: m.sin(x), res['x']))      # заполним колонку со значением функции Y"
   ]
  },
  {
   "cell_type": "markdown",
   "metadata": {},
   "source": [
    "Выведем фрагмент (начало) таблицы c помощью метода `pandas.DataFrame.head`"
   ]
  },
  {
   "cell_type": "code",
   "execution_count": 170,
   "metadata": {},
   "outputs": [
    {
     "data": {
      "text/html": [
       "<div>\n",
       "<style scoped>\n",
       "    .dataframe tbody tr th:only-of-type {\n",
       "        vertical-align: middle;\n",
       "    }\n",
       "\n",
       "    .dataframe tbody tr th {\n",
       "        vertical-align: top;\n",
       "    }\n",
       "\n",
       "    .dataframe thead th {\n",
       "        text-align: right;\n",
       "    }\n",
       "</style>\n",
       "<table border=\"1\" class=\"dataframe\">\n",
       "  <thead>\n",
       "    <tr style=\"text-align: right;\">\n",
       "      <th></th>\n",
       "      <th>x</th>\n",
       "      <th>y</th>\n",
       "    </tr>\n",
       "  </thead>\n",
       "  <tbody>\n",
       "    <tr>\n",
       "      <th>0</th>\n",
       "      <td>-3.141593</td>\n",
       "      <td>-1.224647e-16</td>\n",
       "    </tr>\n",
       "    <tr>\n",
       "      <th>1</th>\n",
       "      <td>-3.041593</td>\n",
       "      <td>-9.983342e-02</td>\n",
       "    </tr>\n",
       "    <tr>\n",
       "      <th>2</th>\n",
       "      <td>-2.941593</td>\n",
       "      <td>-1.986693e-01</td>\n",
       "    </tr>\n",
       "  </tbody>\n",
       "</table>\n",
       "</div>"
      ],
      "text/plain": [
       "          x             y\n",
       "0 -3.141593 -1.224647e-16\n",
       "1 -3.041593 -9.983342e-02\n",
       "2 -2.941593 -1.986693e-01"
      ]
     },
     "execution_count": 170,
     "metadata": {},
     "output_type": "execute_result"
    }
   ],
   "source": [
    "res.head(3)"
   ]
  },
  {
   "cell_type": "markdown",
   "metadata": {},
   "source": [
    "Построим простой график $y(x)$ с помощью метода `pandas.DataFrame.plot` (по умолчанию использует библиотеку `matplotlib`)"
   ]
  },
  {
   "cell_type": "code",
   "execution_count": 171,
   "metadata": {},
   "outputs": [
    {
     "data": {
      "text/plain": [
       "<AxesSubplot: xlabel='x'>"
      ]
     },
     "execution_count": 171,
     "metadata": {},
     "output_type": "execute_result"
    },
    {
     "data": {
      "image/png": "[encoded data removed]",
      "text/plain": [
       "<Figure size 640x480 with 1 Axes>"
      ]
     },
     "metadata": {},
     "output_type": "display_data"
    }
   ],
   "source": [
    "res.plot(x='x', y='y')"
   ]
  },
  {
   "cell_type": "markdown",
   "metadata": {},
   "source": [
    "### Подведем итоги. На этом занятии мы:\n",
    "- Познакомились с библиотекой pandas и типами данных DataFrame и Series, а также с отдельными методами работы с данными."
   ]
  }
 ],
 "metadata": {
  "kernelspec": {
   "display_name": "Python 3 (ipykernel)",
   "language": "python",
   "name": "python3"
  },
  "language_info": {
   "codemirror_mode": {
    "name": "ipython",
    "version": 3
   },
   "file_extension": ".py",
   "mimetype": "text/x-python",
   "name": "python",
   "nbconvert_exporter": "python",
   "pygments_lexer": "ipython3",
   "version": "3.9.13"
  }
 },
 "nbformat": 4,
 "nbformat_minor": 2
}
