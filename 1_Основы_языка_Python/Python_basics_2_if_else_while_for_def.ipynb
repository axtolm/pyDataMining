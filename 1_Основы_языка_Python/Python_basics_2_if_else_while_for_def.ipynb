{
 "cells": [
  {
   "cell_type": "markdown",
   "metadata": {},
   "source": [
    "#### @author: Александр Владимирович Толмачев | axtolm@gmail.com\n",
    "<hr>"
   ]
  },
  {
   "cell_type": "markdown",
   "metadata": {},
   "source": [
    "## 1. Основы языка Python"
   ]
  },
  {
   "cell_type": "markdown",
   "metadata": {},
   "source": [
    "## Часть 2. Ветвление, циклы, функции, библиотеки"
   ]
  },
  {
   "cell_type": "markdown",
   "metadata": {},
   "source": [
    "### На этом занятии:\n",
    "- Условный оператор `if-elif-else`, `if-else`, `if`.\n",
    "- Циклы `while`.\n",
    "- Циклы `for`.\n",
    "- Пользовательские функции.\n",
    "- Подключение и использование библиотек."
   ]
  },
  {
   "cell_type": "markdown",
   "metadata": {},
   "source": [
    "### 1. Условный оператор if-elif-else, if-else, if\n",
    "Дает возможность **ветвления** хода выполнения программы.<br>\n",
    "Важен при структурном программировании, которое мы используем при анализе данных."
   ]
  },
  {
   "cell_type": "markdown",
   "metadata": {},
   "source": [
    "**Синтаксис** `if-elif-else`   \n",
    "```python\n",
    "if логическое_выражение_1:  \n",
    "    блок_инструкций_1  \n",
    "elif логическое_выражение_2:  \n",
    "    блок_инструкций_2  \n",
    "elif логическое_выражение_3:  \n",
    "    блок_инструкций_3  \n",
    "else:  \n",
    "    блок_инструкций_4  \n",
    "```"
   ]
  },
  {
   "cell_type": "markdown",
   "metadata": {},
   "source": [
    "**Как работает оператор if-elif-else**<br><br>\n",
    "Если `логическое_выражение_1` это `True` (истина), то выполняется `блок_инструкций_1` и на этом работа оператора заканчивается, т.е. до блоков `elif` и `else` мы просто не доходим.<br><br>\n",
    "В противном случае, когда `логическое_выражение_1` это `False` (ложь), выполнение переходит к первому блоку `elif` и проверяется `логическое_выражение_2`. Если оно `True` (истина), то выполняется `блок_инструкций_2` и работа оператора заканчивается. Если оно `False` (ложь), то выполнение переходит ко второму блоку `elif` и т.д.<br><br>\n",
    "Если блок `if` и блоки `elif` не сработали, то выполняется `блок_инструкций_4` после `else`.<br><br>\n",
    "Таким образом в случае __if-elif-else__ один из блоков инструкций сработает в любом случае."
   ]
  },
  {
   "cell_type": "markdown",
   "metadata": {},
   "source": [
    "Рассмотрим пример. Какой блок сработает?"
   ]
  },
  {
   "cell_type": "code",
   "execution_count": 1,
   "metadata": {},
   "outputs": [
    {
     "name": "stdout",
     "output_type": "stream",
     "text": [
      "block elif #1 blue\n"
     ]
    }
   ],
   "source": [
    "color = 'blue'\n",
    "if color == 'red':\n",
    "    print('block if', color)\n",
    "elif color == 'blue':\n",
    "    print('block elif #1', color)\n",
    "elif color == 'blue':\n",
    "    print('block elif #2', color)\n",
    "else:\n",
    "    print('block else - other color', color)"
   ]
  },
  {
   "cell_type": "markdown",
   "metadata": {},
   "source": [
    "Сработал первый блок `elif`, т.к. в блоке `if` логическое выражение `color == 'red'` имеет значение `False`, а `color == 'blue'` из первого блока `elif` - это `True`. Заметим, что второй блок `elif`, где также стоит `color == 'blue'`, не сработает никогда."
   ]
  },
  {
   "cell_type": "markdown",
   "metadata": {},
   "source": [
    "Попробуйте также взять `color = 'red'` и `color = 'black'` и посмотреть, какой блок сработает и почему."
   ]
  },
  {
   "cell_type": "markdown",
   "metadata": {},
   "source": [
    "**Синтаксис if-else**\n",
    "```python\n",
    "if логическое_выражение_1:  \n",
    "    блок_инструкций_1   \n",
    "else:  \n",
    "    блок_инструкций_4  \n",
    "```"
   ]
  },
  {
   "cell_type": "markdown",
   "metadata": {},
   "source": [
    "**Как работает оператор if-else**<br><br>\n",
    "Если `логическое_выражение_1` это `True` (истина), то выполняется `блок_инструкций_1` и на этом работа оператора заканчивается.<br><br>\n",
    "В противном случае, когда `логическое_выражение_1` это `False` (ложь), то выполняется `блок_инструкций_4` из блока `else` и работа оператора заканчивается.<br><br>\n",
    "Таким образом в случае __if-else__ всегда срабатывает какой-то один блок инструкций - либо после `if`, либо после `else`."
   ]
  },
  {
   "cell_type": "markdown",
   "metadata": {},
   "source": [
    "Какой блок сработает в примере?"
   ]
  },
  {
   "cell_type": "code",
   "execution_count": 2,
   "metadata": {},
   "outputs": [
    {
     "name": "stdout",
     "output_type": "stream",
     "text": [
      "block else - other color blue\n"
     ]
    }
   ],
   "source": [
    "color = 'blue'    # попробуйте также color = 'red' и color = 'black'\n",
    "if color == 'red':\n",
    "    print('block if', color)\n",
    "else:\n",
    "    print('block else - other color', color)"
   ]
  },
  {
   "cell_type": "markdown",
   "metadata": {},
   "source": [
    "Сработал блок `else`, т.к. в блоке `if` логическое выражение `color_1 == 'red'` имеет значение `False`."
   ]
  },
  {
   "cell_type": "markdown",
   "metadata": {},
   "source": [
    "Также конструкцию **if-else** можно записать в виде: **A = Y if X else Z**"
   ]
  },
  {
   "cell_type": "code",
   "execution_count": 3,
   "metadata": {},
   "outputs": [
    {
     "name": "stdout",
     "output_type": "stream",
     "text": [
      "True\n"
     ]
    }
   ],
   "source": [
    "U = 23.7\n",
    "A = True if U > 15 else False\n",
    "print(A)"
   ]
  },
  {
   "cell_type": "markdown",
   "metadata": {},
   "source": [
    "**Синтаксис if**\n",
    "```python\n",
    "if логическое_выражение_1:  \n",
    "    блок_инструкций_1    \n",
    "```"
   ]
  },
  {
   "cell_type": "markdown",
   "metadata": {},
   "source": [
    "**Как работает оператор if**<br><br>\n",
    "Если `логическое_выражение_1` это `True` (истина), то выполняется `блок_инструкций_1` и на этом работа оператора заканчивается.\n",
    "В противном случае, когда `логическое_выражение_1` это `False` (ложь), то не делается ничего. То есть блок инструкций после `if` либо срабатывает, либо нет."
   ]
  },
  {
   "cell_type": "markdown",
   "metadata": {},
   "source": [
    "Изменится ли в примере цвет `color_2`?"
   ]
  },
  {
   "cell_type": "code",
   "execution_count": 4,
   "metadata": {},
   "outputs": [
    {
     "name": "stdout",
     "output_type": "stream",
     "text": [
      "blue white\n"
     ]
    }
   ],
   "source": [
    "color_1 = 'blue'\n",
    "color_2 = 'red'\n",
    "if color_1 == 'blue':\n",
    "    color_2 = 'white'\n",
    "print(color_1,color_2)"
   ]
  },
  {
   "cell_type": "markdown",
   "metadata": {},
   "source": [
    "`color_2` изменился, т.к. в блоке `if` логическое выражение `color_1 == 'blue'` имеет значение `True`."
   ]
  },
  {
   "cell_type": "markdown",
   "metadata": {},
   "source": [
    "`color_1 == 'blue'` - простое логическое выражение<br>\n",
    "`((AA+4)==BB)&(AA<=BB)|(not(AA>BB))` - более сложная конструкция"
   ]
  },
  {
   "cell_type": "markdown",
   "metadata": {},
   "source": [
    "При построении логических выражений важно помнить основы логики:"
   ]
  },
  {
   "cell_type": "markdown",
   "metadata": {},
   "source": [
    "|Операция|Результат|Описание|\n",
    "|--------|---------|--------|\n",
    "|True and True | True|логическое И|  \n",
    "|True and False| False|  логическое И|  \n",
    "|True or True| True|логическое ИЛИ|    \n",
    "|True or False| True|логическое ИЛИ|  \n",
    "|True == False| False|равно|\n",
    "|False == False| True|равно|\n",
    "|True != False|True|не равно|\n",
    "|True != True|False|не равно|\n",
    "|not False|True|отрицание|\n",
    "|not True|False|отрицание|"
   ]
  },
  {
   "cell_type": "markdown",
   "metadata": {},
   "source": [
    "А также не лениться ставить скобки в логических выражениях для читабельности кода и однозначного понимания его работы:<br>"
   ]
  },
  {
   "cell_type": "code",
   "execution_count": 5,
   "metadata": {},
   "outputs": [
    {
     "data": {
      "text/plain": [
       "True"
      ]
     },
     "execution_count": 5,
     "metadata": {},
     "output_type": "execute_result"
    }
   ],
   "source": [
    "True | False & True & False # здесь надо знать, в каком порядке Python выполнит логические операции"
   ]
  },
  {
   "cell_type": "code",
   "execution_count": 6,
   "metadata": {},
   "outputs": [
    {
     "data": {
      "text/plain": [
       "False"
      ]
     },
     "execution_count": 6,
     "metadata": {},
     "output_type": "execute_result"
    }
   ],
   "source": [
    "(True | False) & (True & False) # а здесь не надо - порядок выполнения логических операций однозначно определяется скобками"
   ]
  },
  {
   "cell_type": "code",
   "execution_count": 7,
   "metadata": {},
   "outputs": [
    {
     "data": {
      "text/plain": [
       "True"
      ]
     },
     "execution_count": 7,
     "metadata": {},
     "output_type": "execute_result"
    }
   ],
   "source": [
    "True | (False & (True & False)) # и здесь не надо - скобки его определяют однозначно"
   ]
  },
  {
   "cell_type": "markdown",
   "metadata": {},
   "source": [
    "Более того, от расстановки скобок зависит результат - когда-то `False`, а когда-то `True`<br>\n",
    "На практике именно таких логических выражений, где явно стоят `False` и `True` не будет.<br>\n",
    "А будет что-то типа такого - сравнение реальных объектов, результатом чего будет `False` или `True`, и уже между ними будут логические операции:"
   ]
  },
  {
   "cell_type": "code",
   "execution_count": 8,
   "metadata": {},
   "outputs": [
    {
     "name": "stdout",
     "output_type": "stream",
     "text": [
      "True\n"
     ]
    }
   ],
   "source": [
    "AA = 28\n",
    "BB = 32\n",
    "CC = ((AA+4)==BB)&(AA<=BB)|(not(AA>BB))\n",
    "print(CC)"
   ]
  },
  {
   "cell_type": "markdown",
   "metadata": {},
   "source": [
    "### 2. Циклы while\n",
    "Оператор цикла **while** выполняет указанный набор инструкций до тех пор, пока условие цикла истинно.  \n",
    "Истинность условия определяется также как и в операторе if. Выполняемый набор инструкций - тело цикла."
   ]
  },
  {
   "cell_type": "markdown",
   "metadata": {},
   "source": [
    "Синтаксис оператора **while**:  \n",
    "```python\n",
    "while логическое_выражение:\n",
    "    инструкция_1\n",
    "    инструкция_2\n",
    "    ...\n",
    "    инструкция_n\n",
    "```"
   ]
  },
  {
   "cell_type": "markdown",
   "metadata": {},
   "source": [
    "Пример цикла `while`, который каждый раз увеличивает переменную `v` на 1 и выводит ее на экран"
   ]
  },
  {
   "cell_type": "code",
   "execution_count": 9,
   "metadata": {},
   "outputs": [
    {
     "name": "stdout",
     "output_type": "stream",
     "text": [
      "1\n",
      "2\n",
      "3\n",
      "4\n"
     ]
    }
   ],
   "source": [
    "v = 1\n",
    "while v <= 4:\n",
    "   print(v)\n",
    "   v = v + 1"
   ]
  },
  {
   "cell_type": "markdown",
   "metadata": {},
   "source": [
    "`v = v + 1` можно еще записать как `v += 1`"
   ]
  },
  {
   "cell_type": "markdown",
   "metadata": {},
   "source": [
    "#### В циклах **while** применимы операторы **break** и **continue**    \n",
    "Оператор `break` предназначен для досрочного прерывания работы цикла:"
   ]
  },
  {
   "cell_type": "markdown",
   "metadata": {},
   "source": [
    "Пример, в котором без `break` получился бы бесконечный цикл   "
   ]
  },
  {
   "cell_type": "code",
   "execution_count": 10,
   "metadata": {},
   "outputs": [
    {
     "name": "stdout",
     "output_type": "stream",
     "text": [
      "1\n",
      "2\n",
      "3\n",
      "4\n"
     ]
    }
   ],
   "source": [
    "v = 0\n",
    "while v >= 0:\n",
    "    if v == 4:  \n",
    "        break   \n",
    "    v += 1    \n",
    "    print(v)"
   ]
  },
  {
   "cell_type": "markdown",
   "metadata": {},
   "source": [
    "Оператор **continue** запускает цикл **while** сначала, при этом код после данного оператора не выполняется."
   ]
  },
  {
   "cell_type": "markdown",
   "metadata": {},
   "source": [
    "Пример, в котором из-за `continue` часть тела цикла не выполняется"
   ]
  },
  {
   "cell_type": "code",
   "execution_count": 11,
   "metadata": {},
   "outputs": [
    {
     "name": "stdout",
     "output_type": "stream",
     "text": [
      "-1\n",
      "0\n",
      "1\n",
      "2\n"
     ]
    }
   ],
   "source": [
    "v = -2\n",
    "while v < 8:\n",
    "    v = v + 1\n",
    "    if v >= 3:\n",
    "        continue\n",
    "    print(v)"
   ]
  },
  {
   "cell_type": "markdown",
   "metadata": {},
   "source": [
    "Из-за `continue` мы перестали выполнять `print` после того, как `v` стало больше `2`, но цикл при этом продолжал работать пока `v < 8`."
   ]
  },
  {
   "cell_type": "markdown",
   "metadata": {},
   "source": [
    "### 3. Циклы for\n",
    "Оператор `for` выполняет тело цикла заданное количество раз.<br><br>\n",
    "Для этого используется переменная цикла, которую обычно именуют буквами типа `k`,`i`,`j` и т.д.<br>\n",
    "В цикле `for` переменная цикла по очереди принимает значения из `список_возможных_значений`"
   ]
  },
  {
   "cell_type": "markdown",
   "metadata": {},
   "source": [
    "Синтаксис оператора `for`:  \n",
    "```python\n",
    "for переменная цикла in список_возможных_значений:\n",
    "    инструкция_1\n",
    "    инструкция_2\n",
    "    ...\n",
    "    инструкция_n\n",
    "```"
   ]
  },
  {
   "cell_type": "markdown",
   "metadata": {},
   "source": [
    "Чтобы задать список возможных значений в виде числового диапазона часто используется класс `range`.<br>\n",
    "Синтаксис: `range(start, stop[, step])` или просто `range(stop)`.<br>\n",
    "В полной версии задаются начало и конец диапазона, а также опционально шаг.<br>\n",
    "В краткой - только конец. По умолчанию начало = 0, шаг = 1.<br>\n",
    "Конец в диапазон не входит.<br>\n",
    "Как работает `range()`, рассмотрим на примерах."
   ]
  },
  {
   "cell_type": "code",
   "execution_count": 12,
   "metadata": {},
   "outputs": [
    {
     "name": "stdout",
     "output_type": "stream",
     "text": [
      "range(0, 4) <class 'range'> [0, 1, 2, 3]\n"
     ]
    }
   ],
   "source": [
    "s = range(4)    # задаем диапазон от 0 до 3 включительно  \n",
    "s1 = list(s)    # преобразуем в список\n",
    "print(s,type(s),s1)    # выводим range, его тип и список на экран"
   ]
  },
  {
   "cell_type": "markdown",
   "metadata": {},
   "source": [
    "`s1` это список из чисел от 0 до 3 включительно (верхняя граница 4 в список не входит) с шагом 1."
   ]
  },
  {
   "cell_type": "markdown",
   "metadata": {},
   "source": [
    "Как это выглядит в цикле"
   ]
  },
  {
   "cell_type": "code",
   "execution_count": 13,
   "metadata": {},
   "outputs": [
    {
     "name": "stdout",
     "output_type": "stream",
     "text": [
      "0\n",
      "1\n",
      "2\n",
      "3\n"
     ]
    }
   ],
   "source": [
    "for i in range(4):\n",
    "    print(i)"
   ]
  },
  {
   "cell_type": "markdown",
   "metadata": {},
   "source": [
    "`список_возможных_значений` может быть задан в явном виде как переменная типа `list`:"
   ]
  },
  {
   "cell_type": "code",
   "execution_count": 14,
   "metadata": {},
   "outputs": [
    {
     "name": "stdout",
     "output_type": "stream",
     "text": [
      "1\n",
      "12\n",
      "23\n",
      "14\n"
     ]
    }
   ],
   "source": [
    "s2 = [1,12,23,14]    # list как список возможных значений\n",
    "for i in s2:    # цикл for, где i принимает по очереди значения из s2 и выводит их на экран\n",
    "    print(i)"
   ]
  },
  {
   "cell_type": "markdown",
   "metadata": {},
   "source": [
    "Мы выполнили тело цикла 4 раза и перебрали все элементы списка `s2` в качестве переменной цикла."
   ]
  },
  {
   "cell_type": "markdown",
   "metadata": {},
   "source": [
    "В цикле `for` также применимы операторы `break` и `continue`  "
   ]
  },
  {
   "cell_type": "markdown",
   "metadata": {},
   "source": [
    "### 4. Пользовательские функции\n",
    "Функция - именованный фрагмент кода, к которому можно обратиться из другого места программы. Обращение может быть из разных мест и нужное количество раз.<br>\n",
    "Функция может принимать данные на входе - аргументы функции, и возвращать данные на выходе - результат работы функции."
   ]
  },
  {
   "cell_type": "markdown",
   "metadata": {},
   "source": [
    "Синтаксис определения функции:\n",
    "```python\n",
    "def имя_функции (аргумент_1, аргумент_2, ...):\n",
    "    инструкция_1\n",
    "    инструкция_2\n",
    "    ...\n",
    "    инструкция_n\n",
    "    return возвращаемое_значение\n",
    "```"
   ]
  },
  {
   "cell_type": "markdown",
   "metadata": {},
   "source": [
    "Пример - сложение двух чисел"
   ]
  },
  {
   "cell_type": "code",
   "execution_count": 15,
   "metadata": {},
   "outputs": [
    {
     "name": "stdout",
     "output_type": "stream",
     "text": [
      "27\n",
      "234\n"
     ]
    }
   ],
   "source": [
    "def add_num (a,b):      # определим функцию\n",
    "    res = a + b\n",
    "    return res \n",
    "print(add_num(23,4))    # обращение функции, когда аргументы - числа, результат - сумма \n",
    "print(add_num('23','4'))    # обращение функции, когда аргументы - строки, результат - конкатенация строк"
   ]
  },
  {
   "cell_type": "markdown",
   "metadata": {},
   "source": [
    "#### Глобальные и локальные переменные в функциях\n",
    "Аргументы функции и переменные, которые определяются внутри функции - это **локальные переменные**.<br>\n",
    "Локальные переменные \"живут\", пока выполняется функция.<br><br>\n",
    "Переменные, которые опреляются в теле основной программы - это **глобальные переменные**.<br>\n",
    "Они \"живут\", пока выполняется основная программа.<br>\n",
    "Прямое использование глобальных переменных в теле функции нежелательно."
   ]
  },
  {
   "cell_type": "markdown",
   "metadata": {},
   "source": [
    "Для примера определим функцию - умножение вектора `a` на число `b`"
   ]
  },
  {
   "cell_type": "code",
   "execution_count": 16,
   "metadata": {},
   "outputs": [],
   "source": [
    "def our_test(a,b):    \n",
    "    # a и b внутри функции - локальные переменные\n",
    "    # вектор a - переменная типа list\n",
    "    for i in range(len(a)):\n",
    "        a[i] = a[i]*b    # меняем локальную a\n",
    "    b = b*2              # меняем локальную b    \n",
    "    return a, b"
   ]
  },
  {
   "cell_type": "code",
   "execution_count": 17,
   "metadata": {},
   "outputs": [
    {
     "name": "stdout",
     "output_type": "stream",
     "text": [
      "[2, 4, 6, 8, 10, 12] 2 [2, 4, 6, 8, 10, 12] 4\n"
     ]
    }
   ],
   "source": [
    "# в теле основной программы a и b - это глобальные переменные    \n",
    "a = [1,2,3,4,5,6]    # вектор a\n",
    "b = 2     # число b \n",
    "c, d = our_test(a,b)    # вызов функции с сохранением результата в переменные c и d \n",
    "print(a,b,c,d)   # вывод на экран a и b, c и d "
   ]
  },
  {
   "cell_type": "markdown",
   "metadata": {},
   "source": [
    "Проанализируем результат - что изменилось, а что нет.<br>\n",
    "Мы не меняли явно глобальную переменную `b` и она осталась равной `2`. Хотя мы с ней работали на уровне локальной переменной в функции и измененное значение сохранили в `d`.<br>\n",
    "Мы не меняли явно глобальный список `a`, но его элементы изменились. Мы с ним также работали на уровне локальной переменной в функции и результат сохранили в `c`. Почему изменились элементы исходного списка `a`? Вспомним, что список при присвоении не копируется, а происходит лишь передача ссылки."
   ]
  },
  {
   "cell_type": "markdown",
   "metadata": {},
   "source": [
    "### 5. Подключение и использование библиотек\n",
    "Свои или чужие наработки в виде упакованных в библиотеку **классов, функций, констант** можно загрузить и использовать в своей программе.<br>Это существенно облегчает жизнь и ускоряет получение конечного результата - не надо писать самому то, что уже написано.<br><br>  \n",
    "Как загрузить библиотеку в свою программу и вызвать функцию из нее:  \n",
    "```python\n",
    "import имя_библиотеки    # импорт библиотеки   \n",
    "имя_библиотеки.имя_функции([параметры])    # вызов функции \n",
    "```"
   ]
  },
  {
   "cell_type": "markdown",
   "metadata": {},
   "source": [
    "Примеры оформления кода импорта библиотеки `math`"
   ]
  },
  {
   "cell_type": "markdown",
   "metadata": {},
   "source": [
    "```python\n",
    "# импорт библиотеки math с математическими функциями\n",
    "import math        \n",
    "# импорт нескольких библиотек можно делать через запятую, но правильнее по PEP8 импортировать каждую бтблиотеку по отдельности\n",
    "import math, datetime \n",
    "# импорт библиотеки под псевдонимом для краткости \n",
    "import math as m  \n",
    "# импорт конкретной функции из библиотеки\n",
    "from math import sin  \n",
    "# импорт одной функции из библиотеки под псевдонимом\n",
    "from math import sin as ss \n",
    "```"
   ]
  },
  {
   "cell_type": "markdown",
   "metadata": {},
   "source": [
    "Примеры исполняемого кода импорта библиотеки `math`"
   ]
  },
  {
   "cell_type": "code",
   "execution_count": 18,
   "metadata": {},
   "outputs": [
    {
     "name": "stdout",
     "output_type": "stream",
     "text": [
      "3.141592653589793\n",
      "0.7071067811865476\n"
     ]
    }
   ],
   "source": [
    "import math as m\n",
    "print(m.pi)\n",
    "print(m.sin(m.pi/4))"
   ]
  },
  {
   "cell_type": "code",
   "execution_count": 19,
   "metadata": {},
   "outputs": [
    {
     "name": "stdout",
     "output_type": "stream",
     "text": [
      "3.141592653589793\n",
      "0.7071067811865476\n"
     ]
    }
   ],
   "source": [
    "from math import sin\n",
    "from math import pi as pp\n",
    "print(pp)\n",
    "print(sin(pp/4))"
   ]
  },
  {
   "cell_type": "markdown",
   "metadata": {},
   "source": [
    "#### Мини-кейс. Использование своей библиотеки на практике при анализе данных.\n",
    "Использование своей подключаемой библиотеки может быть полезно, если нужно сделать отчет в `Jupiter Notebook`.<br>\n",
    "Для отчета требуется вспомогательный код, выполняющий расчеты, но его не нужно показывать в отчете.<br>\n",
    "Например, руководителю нужны результаты, а сам код обычно не интересен.<br><br>\n",
    "В этом случае весь вспомогательный код оформляем в виде функций. Редактировать и отлаживать их можно в `Spyder`.<br>\n",
    "Функции выносим в файл с кодом Python - он будет подключаемой библиотекой `имя_библиотеки.py`.<br>\n",
    "Библиотеку подключаем в `Jupiter Notebook` путем ``import имя_библиотеки``.<br>\n",
    "Вызываем нужную функцию в `Jupiter Notebook` ``имя_библиотеки.имя_функции()``.<br>\n",
    "Потребитель отчета будет видеть только результат и не будет отвелекаться на код, с помощью которого он получен.<br>\n",
    "Размер документа в `Jupiter Notebook` (в строках) получится весьма компактным."
   ]
  },
  {
   "cell_type": "markdown",
   "metadata": {},
   "source": [
    "### Подведем итоги. На этом занятии мы:\n",
    "- Научились использовать условный оператор if, циклы while и for.\n",
    "- Освоили написание собственных функций.\n",
    "- Научились подключать библиотеки."
   ]
  }
 ],
 "metadata": {
  "kernelspec": {
   "display_name": "Python 3 (ipykernel)",
   "language": "python",
   "name": "python3"
  },
  "language_info": {
   "codemirror_mode": {
    "name": "ipython",
    "version": 3
   },
   "file_extension": ".py",
   "mimetype": "text/x-python",
   "name": "python",
   "nbconvert_exporter": "python",
   "pygments_lexer": "ipython3",
   "version": "3.9.15"
  }
 },
 "nbformat": 4,
 "nbformat_minor": 2
}
